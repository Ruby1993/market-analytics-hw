{
 "cells": [
  {
   "cell_type": "markdown",
   "metadata": {
    "colab_type": "text",
    "id": "6gh6mzRLDv4s"
   },
   "source": [
    "## Market Performance - Walk Score Analytics"
   ]
  },
  {
   "cell_type": "markdown",
   "metadata": {},
   "source": [
    "### Project Overview"
   ]
  },
  {
   "cell_type": "markdown",
   "metadata": {
    "colab": {
     "autoexec": {
      "startup": false,
      "wait_interval": 0
     }
    },
    "colab_type": "code",
    "collapsed": true,
    "id": "6279M3JADv4v"
   },
   "source": [
    "The project is focused on the exploration of walk score with real estate performance metrics of WeWork building. The scope is to see how we can incorporate walk score to understand our market performance as well as to uncover how it relates to our current performance metrics."
   ]
  },
  {
   "cell_type": "code",
   "execution_count": 57,
   "metadata": {
    "collapsed": true
   },
   "outputs": [],
   "source": [
    "import pandas as pd\n",
    "import json\n",
    "from pprint import pprint\n",
    "import Module_Process as mp  \n",
    "from fuzzywuzzy import fuzz\n",
    "from fuzzywuzzy import process\n",
    "import seaborn as sns\n",
    "%matplotlib inline\n",
    "import folium\n",
    "import matplotlib.pyplot as plt"
   ]
  },
  {
   "cell_type": "markdown",
   "metadata": {},
   "source": [
    "### Table of Contents\n",
    "* [Part 1. Market Data Enrichment](#Part-1.-Market-Data-Enrichment)\n",
    "    * [1.1 Data Loading](#1.1-Data-Loading)\n",
    "    * [1.2 Dataset Transformation and Data Type Conversion](#1.2-Dataset-Transformation-and-Data-Type-Conversion)\n",
    "    * [1.3 Dataset Integration](#1.3-Dataset-Integration)\n",
    "    * [1.4 Nan Value Processing](#1.4-Nan-Value-Processing)\n",
    "    * [1.5 Dataset Export](#1.5-Dataset-Export)\n",
    "\n",
    "\n",
    "* [Part 2. Geospatial Visualization](#Part-2.-Geospatial-Visualization)\n",
    "    * [2.1 Feature Exploration](#2.1-Feature-Exploration)\n",
    "    * [2.2 Visualization](#2.1-Visualization)\n",
    "        * [2.2.1 Python Visualization](#2.2.1-Python-Visualization)\n",
    "        * [2.2.2 QGIS Visualization](#2.2.2-QGIS-Visualization)\n",
    "        * [2.2.3 WebGIS Portal Visualization](#2.2.3-WebGIS-Portal-Visualization)\n",
    "   \n",
    "   \n",
    "* [Part 3. Variable Relationships Exploration](#Part-3.-Variable-Relationships-Exploration)\n",
    "    * [3.1 Features Overview](#3.1-Features-Overview)\n",
    "    * [3.2 Correlation Exploration](#3.2-Correlation-Exploration)\n",
    "    * [3.3 Multivariants Plot](#3.3-Multivariants-Plot)\n",
    "    * [3.4 Summary](#3.4-Summary)\n",
    "    "
   ]
  },
  {
   "cell_type": "markdown",
   "metadata": {},
   "source": [
    "### Part 1. Market Data Enrichment"
   ]
  },
  {
   "cell_type": "markdown",
   "metadata": {},
   "source": [
    "### 1.1 Data Loading\n",
    "#### 1.1.1 Wework Market Data - CSV "
   ]
  },
  {
   "cell_type": "code",
   "execution_count": 58,
   "metadata": {
    "colab": {
     "autoexec": {
      "startup": false,
      "wait_interval": 0
     }
    },
    "colab_type": "code",
    "collapsed": true,
    "id": "Vsrx8rTIDv4z"
   },
   "outputs": [],
   "source": [
    "#import pandas as pd\n",
    "#import json\n",
    "#from pprint import pprint"
   ]
  },
  {
   "cell_type": "code",
   "execution_count": 59,
   "metadata": {
    "colab": {
     "autoexec": {
      "startup": false,
      "wait_interval": 0
     },
     "base_uri": "https://localhost:8080/",
     "height": 837
    },
    "colab_type": "code",
    "executionInfo": {
     "elapsed": 627,
     "status": "error",
     "timestamp": 1531761742568,
     "user": {
      "displayName": "Rui Zhang",
      "photoUrl": "//lh6.googleusercontent.com/-TLTzgWgn6xo/AAAAAAAAAAI/AAAAAAAAAMo/kLtp8wBwXsE/s50-c-k-no/photo.jpg",
      "userId": "111194499100953101189"
     },
     "user_tz": 240
    },
    "id": "23t2RKU_Dv42",
    "outputId": "51741ba4-0488-457f-eb06-7d29d3fc161b"
   },
   "outputs": [
    {
     "name": "stdout",
     "output_type": "stream",
     "text": [
      "41\n"
     ]
    }
   ],
   "source": [
    "market=pd.read_csv('market_data.csv')\n",
    "print (len(market))"
   ]
  },
  {
   "cell_type": "code",
   "execution_count": 60,
   "metadata": {
    "colab": {
     "autoexec": {
      "startup": false,
      "wait_interval": 0
     }
    },
    "colab_type": "code",
    "id": "AOKXVGqnDv4-",
    "outputId": "acf66831-051f-4753-a96d-1ad1b85cb740"
   },
   "outputs": [
    {
     "data": {
      "text/plain": [
       "MARKET NAME             object\n",
       "Total Inventory (SF)    object\n",
       "Vacancy                 object\n",
       "Asking Rent (USD/SF)    object\n",
       "dtype: object"
      ]
     },
     "execution_count": 60,
     "metadata": {},
     "output_type": "execute_result"
    }
   ],
   "source": [
    "market.dtypes"
   ]
  },
  {
   "cell_type": "code",
   "execution_count": 61,
   "metadata": {
    "colab": {
     "autoexec": {
      "startup": false,
      "wait_interval": 0
     }
    },
    "colab_type": "code",
    "id": "VsXLXk6uDv5B",
    "outputId": "98c36da6-8397-42a0-eef4-3d7babc60bfa"
   },
   "outputs": [
    {
     "name": "stdout",
     "output_type": "stream",
     "text": [
      "       MARKET NAME Total Inventory (SF) Vacancy Asking Rent (USD/SF)\n",
      "0     Philadelphia          135,570,108  12.70%              $26.43 \n",
      "1  Washington D.C.          332,015,221  16.20%              $41.34 \n",
      "2          Chicago          245,753,058  16.40%              $33.94 \n",
      "3          Detroit           67,520,823  18.90%              $19.16 \n",
      "4      Minneapolis           72,718,254  16.60%              $26.33 \n"
     ]
    }
   ],
   "source": [
    "print (market.head())"
   ]
  },
  {
   "cell_type": "markdown",
   "metadata": {},
   "source": [
    "#### 1.1.2 Walkscore Dataset - JSON file"
   ]
  },
  {
   "cell_type": "code",
   "execution_count": 62,
   "metadata": {
    "colab": {
     "autoexec": {
      "startup": false,
      "wait_interval": 0
     }
    },
    "colab_type": "code",
    "id": "9xf7W2gEDv5S",
    "outputId": "1d61ff0e-429d-41f3-ef1c-bcda5561d1c5"
   },
   "outputs": [
    {
     "name": "stdout",
     "output_type": "stream",
     "text": [
      "{'date': 1528395746,\n",
      " 'key': '910f0582fb65de286b0311fcded31d37',\n",
      " 'lat': 38.9048,\n",
      " 'lng': -77.0163,\n",
      " 'page': 'c',\n",
      " 'path': '/DC/Washington_D.C.',\n",
      " 'price_range': [None, None],\n",
      " 'slug': 'DC/Washington_D.C.',\n",
      " 'sort_date': 1528395746,\n",
      " 'thumb': 'https://pp2.walk.sc/s225/p/0/000000.jpg',\n",
      " 'title': '1239-1259 16th Street Northwest',\n",
      " 'walkscore': 91}\n"
     ]
    }
   ],
   "source": [
    "with open('ws_data.json') as f:\n",
    "    walk_score = json.load(f)\n",
    "\n",
    "pprint(walk_score['Washington'])"
   ]
  },
  {
   "cell_type": "markdown",
   "metadata": {},
   "source": [
    "### 1.2 Dataset Transformation and Data Type Conversion\n",
    "#### 1.2.1 Wework Market Dataset - Data Type Conversion"
   ]
  },
  {
   "cell_type": "code",
   "execution_count": 63,
   "metadata": {
    "colab": {
     "autoexec": {
      "startup": false,
      "wait_interval": 0
     }
    },
    "colab_type": "code",
    "collapsed": true,
    "id": "BuicwE5VDv5F"
   },
   "outputs": [],
   "source": [
    "#String processing\n",
    "market['Total Inventory (SF)']=market['Total Inventory (SF)'].str.replace(',','')\n",
    "#Type conversion\n",
    "market[['Total Inventory (SF)']]=market[['Total Inventory (SF)']].astype(float)\n",
    "\n",
    "#String processing\n",
    "market['Vacancy']=market['Vacancy'].str.replace('%','')\n",
    "#Type conversion\n",
    "market[['Vacancy']]=market[['Vacancy']].astype(float)\n",
    "\n",
    "\n",
    "#String processing\n",
    "market['Asking Rent (USD/SF)']=market['Asking Rent (USD/SF)'].str.replace('$','')\n",
    "#Type conversion\n",
    "market[['Asking Rent (USD/SF)']]=market[['Asking Rent (USD/SF)']].astype(float)"
   ]
  },
  {
   "cell_type": "code",
   "execution_count": 64,
   "metadata": {
    "colab": {
     "autoexec": {
      "startup": false,
      "wait_interval": 0
     }
    },
    "colab_type": "code",
    "collapsed": true,
    "id": "vKQEAugjDv5G"
   },
   "outputs": [],
   "source": [
    "## Columns name update\n",
    "market.columns=['MARKET NAME','Total Inventory (SF)','Vacancy%','Asking Rent (USD/SF)' ]"
   ]
  },
  {
   "cell_type": "code",
   "execution_count": 65,
   "metadata": {
    "colab": {
     "autoexec": {
      "startup": false,
      "wait_interval": 0
     }
    },
    "colab_type": "code",
    "id": "RGx-ZqJADv5M"
   },
   "outputs": [
    {
     "data": {
      "text/html": [
       "<div>\n",
       "<style>\n",
       "    .dataframe thead tr:only-child th {\n",
       "        text-align: right;\n",
       "    }\n",
       "\n",
       "    .dataframe thead th {\n",
       "        text-align: left;\n",
       "    }\n",
       "\n",
       "    .dataframe tbody tr th {\n",
       "        vertical-align: top;\n",
       "    }\n",
       "</style>\n",
       "<table border=\"1\" class=\"dataframe\">\n",
       "  <thead>\n",
       "    <tr style=\"text-align: right;\">\n",
       "      <th></th>\n",
       "      <th>MARKET NAME</th>\n",
       "      <th>Total Inventory (SF)</th>\n",
       "      <th>Vacancy%</th>\n",
       "      <th>Asking Rent (USD/SF)</th>\n",
       "    </tr>\n",
       "  </thead>\n",
       "  <tbody>\n",
       "    <tr>\n",
       "      <th>0</th>\n",
       "      <td>Philadelphia</td>\n",
       "      <td>135570108.0</td>\n",
       "      <td>12.7</td>\n",
       "      <td>26.43</td>\n",
       "    </tr>\n",
       "    <tr>\n",
       "      <th>1</th>\n",
       "      <td>Washington D.C.</td>\n",
       "      <td>332015221.0</td>\n",
       "      <td>16.2</td>\n",
       "      <td>41.34</td>\n",
       "    </tr>\n",
       "    <tr>\n",
       "      <th>2</th>\n",
       "      <td>Chicago</td>\n",
       "      <td>245753058.0</td>\n",
       "      <td>16.4</td>\n",
       "      <td>33.94</td>\n",
       "    </tr>\n",
       "    <tr>\n",
       "      <th>3</th>\n",
       "      <td>Detroit</td>\n",
       "      <td>67520823.0</td>\n",
       "      <td>18.9</td>\n",
       "      <td>19.16</td>\n",
       "    </tr>\n",
       "    <tr>\n",
       "      <th>4</th>\n",
       "      <td>Minneapolis</td>\n",
       "      <td>72718254.0</td>\n",
       "      <td>16.6</td>\n",
       "      <td>26.33</td>\n",
       "    </tr>\n",
       "  </tbody>\n",
       "</table>\n",
       "</div>"
      ],
      "text/plain": [
       "       MARKET NAME  Total Inventory (SF)  Vacancy%  Asking Rent (USD/SF)\n",
       "0     Philadelphia           135570108.0      12.7                 26.43\n",
       "1  Washington D.C.           332015221.0      16.2                 41.34\n",
       "2          Chicago           245753058.0      16.4                 33.94\n",
       "3          Detroit            67520823.0      18.9                 19.16\n",
       "4      Minneapolis            72718254.0      16.6                 26.33"
      ]
     },
     "execution_count": 65,
     "metadata": {},
     "output_type": "execute_result"
    }
   ],
   "source": [
    "market.head()"
   ]
  },
  {
   "cell_type": "markdown",
   "metadata": {},
   "source": [
    "#### 1.2.2 Walkscore Dataset - JSON file transformation and special character exclusion"
   ]
  },
  {
   "cell_type": "code",
   "execution_count": 66,
   "metadata": {
    "colab": {
     "autoexec": {
      "startup": false,
      "wait_interval": 0
     }
    },
    "colab_type": "code",
    "collapsed": true,
    "id": "dTFNLvnlDv5p"
   },
   "outputs": [],
   "source": [
    "score_csv=pd.DataFrame()\n",
    "for key,item in walk_score.items():\n",
    "    #print (key)\n",
    "    score_csv=score_csv.append({'city':key,'lat':item['lat'],'lng':item['lng'],'walkscore':item['walkscore'],'path_state':item['path'].split('/')[1],'path_city':item['path'].split('/')[2].replace('_',' ')},ignore_index=True)\n",
    "\n",
    "score_csv_copy= score_csv  # Used for the fuzzy string matche"
   ]
  },
  {
   "cell_type": "code",
   "execution_count": 67,
   "metadata": {
    "colab": {
     "autoexec": {
      "startup": false,
      "wait_interval": 0
     }
    },
    "colab_type": "code",
    "id": "GR8r42jGDv5s",
    "outputId": "f8e6f60b-f46a-4a52-aaef-03b08aaa4a93"
   },
   "outputs": [
    {
     "name": "stdout",
     "output_type": "stream",
     "text": [
      "99\n"
     ]
    }
   ],
   "source": [
    "print (len(score_csv))"
   ]
  },
  {
   "cell_type": "code",
   "execution_count": 68,
   "metadata": {
    "colab": {
     "autoexec": {
      "startup": false,
      "wait_interval": 0
     }
    },
    "colab_type": "code",
    "id": "BHAwwQn9Dv5v",
    "outputId": "1ab0ccd6-07aa-45ad-ab42-9ff44bb9bc09"
   },
   "outputs": [
    {
     "data": {
      "text/plain": [
       "city           object\n",
       "lat           float64\n",
       "lng           float64\n",
       "path_city      object\n",
       "path_state     object\n",
       "walkscore     float64\n",
       "dtype: object"
      ]
     },
     "execution_count": 68,
     "metadata": {},
     "output_type": "execute_result"
    }
   ],
   "source": [
    "score_csv.dtypes"
   ]
  },
  {
   "cell_type": "code",
   "execution_count": 69,
   "metadata": {
    "colab": {
     "autoexec": {
      "startup": false,
      "wait_interval": 0
     }
    },
    "colab_type": "code",
    "id": "DWf6c1PrDv53",
    "outputId": "2c5904ca-fdb8-41a7-df94-61e84086b594"
   },
   "outputs": [
    {
     "data": {
      "text/html": [
       "<div>\n",
       "<style>\n",
       "    .dataframe thead tr:only-child th {\n",
       "        text-align: right;\n",
       "    }\n",
       "\n",
       "    .dataframe thead th {\n",
       "        text-align: left;\n",
       "    }\n",
       "\n",
       "    .dataframe tbody tr th {\n",
       "        vertical-align: top;\n",
       "    }\n",
       "</style>\n",
       "<table border=\"1\" class=\"dataframe\">\n",
       "  <thead>\n",
       "    <tr style=\"text-align: right;\">\n",
       "      <th></th>\n",
       "      <th>city</th>\n",
       "      <th>lat</th>\n",
       "      <th>lng</th>\n",
       "      <th>path_city</th>\n",
       "      <th>path_state</th>\n",
       "      <th>walkscore</th>\n",
       "    </tr>\n",
       "  </thead>\n",
       "  <tbody>\n",
       "    <tr>\n",
       "      <th>0</th>\n",
       "      <td>New York</td>\n",
       "      <td>40.7238</td>\n",
       "      <td>-73.9764</td>\n",
       "      <td>New York</td>\n",
       "      <td>NY</td>\n",
       "      <td>96.0</td>\n",
       "    </tr>\n",
       "    <tr>\n",
       "      <th>1</th>\n",
       "      <td>Los Angeles</td>\n",
       "      <td>34.1070</td>\n",
       "      <td>-118.4120</td>\n",
       "      <td>Los Angeles</td>\n",
       "      <td>CA</td>\n",
       "      <td>5.0</td>\n",
       "    </tr>\n",
       "    <tr>\n",
       "      <th>2</th>\n",
       "      <td>Chicago</td>\n",
       "      <td>41.8369</td>\n",
       "      <td>-87.6848</td>\n",
       "      <td>Chicago</td>\n",
       "      <td>IL</td>\n",
       "      <td>41.0</td>\n",
       "    </tr>\n",
       "    <tr>\n",
       "      <th>3</th>\n",
       "      <td>Houston</td>\n",
       "      <td>29.7807</td>\n",
       "      <td>-95.3860</td>\n",
       "      <td>Houston</td>\n",
       "      <td>TX</td>\n",
       "      <td>72.0</td>\n",
       "    </tr>\n",
       "    <tr>\n",
       "      <th>4</th>\n",
       "      <td>Philadelphia</td>\n",
       "      <td>40.0076</td>\n",
       "      <td>-75.1340</td>\n",
       "      <td>Philadelphia</td>\n",
       "      <td>PA</td>\n",
       "      <td>75.0</td>\n",
       "    </tr>\n",
       "  </tbody>\n",
       "</table>\n",
       "</div>"
      ],
      "text/plain": [
       "           city      lat       lng     path_city path_state  walkscore\n",
       "0      New York  40.7238  -73.9764      New York         NY       96.0\n",
       "1   Los Angeles  34.1070 -118.4120   Los Angeles         CA        5.0\n",
       "2       Chicago  41.8369  -87.6848       Chicago         IL       41.0\n",
       "3       Houston  29.7807  -95.3860       Houston         TX       72.0\n",
       "4  Philadelphia  40.0076  -75.1340  Philadelphia         PA       75.0"
      ]
     },
     "execution_count": 69,
     "metadata": {},
     "output_type": "execute_result"
    }
   ],
   "source": [
    "score_csv.head()"
   ]
  },
  {
   "cell_type": "markdown",
   "metadata": {},
   "source": [
    "##### Addtional Part - ** import module to process the json data [It is the replacement of 1.2.2]**\n",
    "\n",
    "Here I wrote the transform function in the module which is a python file named Module_Process.\n",
    "It could be reused in json transformation for other files. The output is the dataframe."
   ]
  },
  {
   "cell_type": "code",
   "execution_count": 70,
   "metadata": {
    "colab": {
     "autoexec": {
      "startup": false,
      "wait_interval": 0
     }
    },
    "colab_type": "code",
    "collapsed": true,
    "id": "MIZwmrLLDv5d"
   },
   "outputs": [],
   "source": [
    "#import Module_Process as mp\n",
    "test=mp.json_csv('ws_data.json','city','lat','lng','walkscore')\n",
    "#pprint(test)"
   ]
  },
  {
   "cell_type": "code",
   "execution_count": 71,
   "metadata": {
    "colab": {
     "autoexec": {
      "startup": false,
      "wait_interval": 0
     }
    },
    "colab_type": "code",
    "collapsed": true,
    "id": "Q_iWw_yfDv57",
    "outputId": "43644886-b985-4103-87f9-33c07e7acf17"
   },
   "outputs": [],
   "source": [
    "# how many distinct states in the walkability score dataset (in US, we have 50 statues in total)\n",
    "#score_csv['path_state'].nunique()  # 34 States\n",
    "#score_csv['path_state'].unique()"
   ]
  },
  {
   "cell_type": "markdown",
   "metadata": {},
   "source": [
    "### 1.3 Dataset Integration\n",
    "\n",
    "The two datasets is merged based on the market name and the city name in the two dataset. \n",
    "\n",
    "As the business concept and text varies in the market name and city name, in order to make full use the walk score dataset, I'm gonna using left join based on the market name provided in the wework market dataset to make sure we could capture all the info from the walk score dataset."
   ]
  },
  {
   "cell_type": "code",
   "execution_count": 72,
   "metadata": {
    "colab": {
     "autoexec": {
      "startup": false,
      "wait_interval": 0
     }
    },
    "colab_type": "code",
    "collapsed": true,
    "id": "cYz_J5JGDv6A"
   },
   "outputs": [],
   "source": [
    "market_full=pd.merge(market,score_csv,left_on='MARKET NAME',right_on='city',how='left')\n",
    "market_full_copy=market_full # Used for the fuzzy string matches"
   ]
  },
  {
   "cell_type": "code",
   "execution_count": 73,
   "metadata": {
    "colab": {
     "autoexec": {
      "startup": false,
      "wait_interval": 0
     }
    },
    "colab_type": "code",
    "id": "F_HsVvakDv6C",
    "outputId": "40ec07c1-2747-4c43-bc5e-e408463a0846",
    "scrolled": true
   },
   "outputs": [
    {
     "data": {
      "text/html": [
       "<div>\n",
       "<style>\n",
       "    .dataframe thead tr:only-child th {\n",
       "        text-align: right;\n",
       "    }\n",
       "\n",
       "    .dataframe thead th {\n",
       "        text-align: left;\n",
       "    }\n",
       "\n",
       "    .dataframe tbody tr th {\n",
       "        vertical-align: top;\n",
       "    }\n",
       "</style>\n",
       "<table border=\"1\" class=\"dataframe\">\n",
       "  <thead>\n",
       "    <tr style=\"text-align: right;\">\n",
       "      <th></th>\n",
       "      <th>MARKET NAME</th>\n",
       "      <th>Total Inventory (SF)</th>\n",
       "      <th>Vacancy%</th>\n",
       "      <th>Asking Rent (USD/SF)</th>\n",
       "      <th>city</th>\n",
       "      <th>lat</th>\n",
       "      <th>lng</th>\n",
       "      <th>path_city</th>\n",
       "      <th>path_state</th>\n",
       "      <th>walkscore</th>\n",
       "    </tr>\n",
       "  </thead>\n",
       "  <tbody>\n",
       "    <tr>\n",
       "      <th>0</th>\n",
       "      <td>Philadelphia</td>\n",
       "      <td>135570108.0</td>\n",
       "      <td>12.7</td>\n",
       "      <td>26.43</td>\n",
       "      <td>Philadelphia</td>\n",
       "      <td>40.0076</td>\n",
       "      <td>-75.1340</td>\n",
       "      <td>Philadelphia</td>\n",
       "      <td>PA</td>\n",
       "      <td>75.0</td>\n",
       "    </tr>\n",
       "    <tr>\n",
       "      <th>1</th>\n",
       "      <td>Washington D.C.</td>\n",
       "      <td>332015221.0</td>\n",
       "      <td>16.2</td>\n",
       "      <td>41.34</td>\n",
       "      <td>NaN</td>\n",
       "      <td>NaN</td>\n",
       "      <td>NaN</td>\n",
       "      <td>NaN</td>\n",
       "      <td>NaN</td>\n",
       "      <td>NaN</td>\n",
       "    </tr>\n",
       "    <tr>\n",
       "      <th>2</th>\n",
       "      <td>Chicago</td>\n",
       "      <td>245753058.0</td>\n",
       "      <td>16.4</td>\n",
       "      <td>33.94</td>\n",
       "      <td>Chicago</td>\n",
       "      <td>41.8369</td>\n",
       "      <td>-87.6848</td>\n",
       "      <td>Chicago</td>\n",
       "      <td>IL</td>\n",
       "      <td>41.0</td>\n",
       "    </tr>\n",
       "    <tr>\n",
       "      <th>3</th>\n",
       "      <td>Detroit</td>\n",
       "      <td>67520823.0</td>\n",
       "      <td>18.9</td>\n",
       "      <td>19.16</td>\n",
       "      <td>Detroit</td>\n",
       "      <td>42.3834</td>\n",
       "      <td>-83.1024</td>\n",
       "      <td>Detroit</td>\n",
       "      <td>MI</td>\n",
       "      <td>37.0</td>\n",
       "    </tr>\n",
       "    <tr>\n",
       "      <th>4</th>\n",
       "      <td>Minneapolis</td>\n",
       "      <td>72718254.0</td>\n",
       "      <td>16.6</td>\n",
       "      <td>26.33</td>\n",
       "      <td>Minneapolis</td>\n",
       "      <td>44.9635</td>\n",
       "      <td>-93.2678</td>\n",
       "      <td>Minneapolis</td>\n",
       "      <td>MN</td>\n",
       "      <td>80.0</td>\n",
       "    </tr>\n",
       "  </tbody>\n",
       "</table>\n",
       "</div>"
      ],
      "text/plain": [
       "       MARKET NAME  Total Inventory (SF)  Vacancy%  Asking Rent (USD/SF)  \\\n",
       "0     Philadelphia           135570108.0      12.7                 26.43   \n",
       "1  Washington D.C.           332015221.0      16.2                 41.34   \n",
       "2          Chicago           245753058.0      16.4                 33.94   \n",
       "3          Detroit            67520823.0      18.9                 19.16   \n",
       "4      Minneapolis            72718254.0      16.6                 26.33   \n",
       "\n",
       "           city      lat      lng     path_city path_state  walkscore  \n",
       "0  Philadelphia  40.0076 -75.1340  Philadelphia         PA       75.0  \n",
       "1           NaN      NaN      NaN           NaN        NaN        NaN  \n",
       "2       Chicago  41.8369 -87.6848       Chicago         IL       41.0  \n",
       "3       Detroit  42.3834 -83.1024       Detroit         MI       37.0  \n",
       "4   Minneapolis  44.9635 -93.2678   Minneapolis         MN       80.0  "
      ]
     },
     "execution_count": 73,
     "metadata": {},
     "output_type": "execute_result"
    }
   ],
   "source": [
    "market_full.head()"
   ]
  },
  {
   "cell_type": "markdown",
   "metadata": {},
   "source": [
    "As what we see, there are some markets which didn't get the info from the walk score dataset, which I will deal with below in details. "
   ]
  },
  {
   "cell_type": "code",
   "execution_count": 74,
   "metadata": {
    "colab": {
     "autoexec": {
      "startup": false,
      "wait_interval": 0
     }
    },
    "colab_type": "code",
    "id": "0t6GMAMrDv6F",
    "outputId": "c7f258eb-766c-433a-cf70-c97df9ba22a6"
   },
   "outputs": [
    {
     "data": {
      "text/html": [
       "<div>\n",
       "<style>\n",
       "    .dataframe thead tr:only-child th {\n",
       "        text-align: right;\n",
       "    }\n",
       "\n",
       "    .dataframe thead th {\n",
       "        text-align: left;\n",
       "    }\n",
       "\n",
       "    .dataframe tbody tr th {\n",
       "        vertical-align: top;\n",
       "    }\n",
       "</style>\n",
       "<table border=\"1\" class=\"dataframe\">\n",
       "  <thead>\n",
       "    <tr style=\"text-align: right;\">\n",
       "      <th></th>\n",
       "      <th>MARKET NAME</th>\n",
       "      <th>Total Inventory (SF)</th>\n",
       "      <th>Vacancy%</th>\n",
       "      <th>Asking Rent (USD/SF)</th>\n",
       "      <th>city</th>\n",
       "      <th>lat</th>\n",
       "      <th>lng</th>\n",
       "      <th>path_city</th>\n",
       "      <th>path_state</th>\n",
       "      <th>walkscore</th>\n",
       "    </tr>\n",
       "  </thead>\n",
       "  <tbody>\n",
       "    <tr>\n",
       "      <th>1</th>\n",
       "      <td>Washington D.C.</td>\n",
       "      <td>332015221.0</td>\n",
       "      <td>16.2</td>\n",
       "      <td>41.34</td>\n",
       "      <td>NaN</td>\n",
       "      <td>NaN</td>\n",
       "      <td>NaN</td>\n",
       "      <td>NaN</td>\n",
       "      <td>NaN</td>\n",
       "      <td>NaN</td>\n",
       "    </tr>\n",
       "    <tr>\n",
       "      <th>10</th>\n",
       "      <td>Nashville</td>\n",
       "      <td>36281816.0</td>\n",
       "      <td>11.2</td>\n",
       "      <td>27.27</td>\n",
       "      <td>NaN</td>\n",
       "      <td>NaN</td>\n",
       "      <td>NaN</td>\n",
       "      <td>NaN</td>\n",
       "      <td>NaN</td>\n",
       "      <td>NaN</td>\n",
       "    </tr>\n",
       "    <tr>\n",
       "      <th>11</th>\n",
       "      <td>Raleigh-Durham</td>\n",
       "      <td>48150905.0</td>\n",
       "      <td>10.6</td>\n",
       "      <td>24.61</td>\n",
       "      <td>NaN</td>\n",
       "      <td>NaN</td>\n",
       "      <td>NaN</td>\n",
       "      <td>NaN</td>\n",
       "      <td>NaN</td>\n",
       "      <td>NaN</td>\n",
       "    </tr>\n",
       "    <tr>\n",
       "      <th>12</th>\n",
       "      <td>Brooklyn</td>\n",
       "      <td>47609232.0</td>\n",
       "      <td>20.0</td>\n",
       "      <td>46.92</td>\n",
       "      <td>NaN</td>\n",
       "      <td>NaN</td>\n",
       "      <td>NaN</td>\n",
       "      <td>NaN</td>\n",
       "      <td>NaN</td>\n",
       "      <td>NaN</td>\n",
       "    </tr>\n",
       "    <tr>\n",
       "      <th>13</th>\n",
       "      <td>Manhattan</td>\n",
       "      <td>23847963.0</td>\n",
       "      <td>8.5</td>\n",
       "      <td>72.48</td>\n",
       "      <td>NaN</td>\n",
       "      <td>NaN</td>\n",
       "      <td>NaN</td>\n",
       "      <td>NaN</td>\n",
       "      <td>NaN</td>\n",
       "      <td>NaN</td>\n",
       "    </tr>\n",
       "    <tr>\n",
       "      <th>18</th>\n",
       "      <td>Silicon Valley</td>\n",
       "      <td>70622781.0</td>\n",
       "      <td>19.4</td>\n",
       "      <td>49.92</td>\n",
       "      <td>NaN</td>\n",
       "      <td>NaN</td>\n",
       "      <td>NaN</td>\n",
       "      <td>NaN</td>\n",
       "      <td>NaN</td>\n",
       "      <td>NaN</td>\n",
       "    </tr>\n",
       "    <tr>\n",
       "      <th>20</th>\n",
       "      <td>Orange County</td>\n",
       "      <td>97702972.0</td>\n",
       "      <td>12.8</td>\n",
       "      <td>35.16</td>\n",
       "      <td>NaN</td>\n",
       "      <td>NaN</td>\n",
       "      <td>NaN</td>\n",
       "      <td>NaN</td>\n",
       "      <td>NaN</td>\n",
       "      <td>NaN</td>\n",
       "    </tr>\n",
       "    <tr>\n",
       "      <th>26</th>\n",
       "      <td>Salt Lake City</td>\n",
       "      <td>57606204.0</td>\n",
       "      <td>9.0</td>\n",
       "      <td>23.24</td>\n",
       "      <td>NaN</td>\n",
       "      <td>NaN</td>\n",
       "      <td>NaN</td>\n",
       "      <td>NaN</td>\n",
       "      <td>NaN</td>\n",
       "      <td>NaN</td>\n",
       "    </tr>\n",
       "    <tr>\n",
       "      <th>31</th>\n",
       "      <td>Tampa Bay</td>\n",
       "      <td>34893619.0</td>\n",
       "      <td>11.4</td>\n",
       "      <td>25.28</td>\n",
       "      <td>NaN</td>\n",
       "      <td>NaN</td>\n",
       "      <td>NaN</td>\n",
       "      <td>NaN</td>\n",
       "      <td>NaN</td>\n",
       "      <td>NaN</td>\n",
       "    </tr>\n",
       "  </tbody>\n",
       "</table>\n",
       "</div>"
      ],
      "text/plain": [
       "        MARKET NAME  Total Inventory (SF)  Vacancy%  Asking Rent (USD/SF)  \\\n",
       "1   Washington D.C.           332015221.0      16.2                 41.34   \n",
       "10        Nashville            36281816.0      11.2                 27.27   \n",
       "11   Raleigh-Durham            48150905.0      10.6                 24.61   \n",
       "12         Brooklyn            47609232.0      20.0                 46.92   \n",
       "13        Manhattan            23847963.0       8.5                 72.48   \n",
       "18   Silicon Valley            70622781.0      19.4                 49.92   \n",
       "20    Orange County            97702972.0      12.8                 35.16   \n",
       "26   Salt Lake City            57606204.0       9.0                 23.24   \n",
       "31        Tampa Bay            34893619.0      11.4                 25.28   \n",
       "\n",
       "   city  lat  lng path_city path_state  walkscore  \n",
       "1   NaN  NaN  NaN       NaN        NaN        NaN  \n",
       "10  NaN  NaN  NaN       NaN        NaN        NaN  \n",
       "11  NaN  NaN  NaN       NaN        NaN        NaN  \n",
       "12  NaN  NaN  NaN       NaN        NaN        NaN  \n",
       "13  NaN  NaN  NaN       NaN        NaN        NaN  \n",
       "18  NaN  NaN  NaN       NaN        NaN        NaN  \n",
       "20  NaN  NaN  NaN       NaN        NaN        NaN  \n",
       "26  NaN  NaN  NaN       NaN        NaN        NaN  \n",
       "31  NaN  NaN  NaN       NaN        NaN        NaN  "
      ]
     },
     "execution_count": 74,
     "metadata": {},
     "output_type": "execute_result"
    }
   ],
   "source": [
    "##  The 9 null records\n",
    "null_checks=market_full.loc[market_full['city'].isnull()]\n",
    "null_checks"
   ]
  },
  {
   "cell_type": "markdown",
   "metadata": {},
   "source": [
    "### 1.4 Nan Value Processing\n",
    "\n",
    "Basically, there are three different situations related to the Nan value.\n",
    "\n",
    "** 1). City names are slightly different from the market names.**\n",
    "\n",
    "For this case, it is necessary to make it consistent in order to bring the walk score into the market dataset.\n",
    "\n",
    "** 2). The market names didn't show up in the walk score json file. In this case, there are three different situations,**\n",
    "\n",
    "- a. If the market name is based on the city level but still cannot bring in the walk score info, then the market is missing in the walk score dataset;\n",
    "\n",
    "Here I tried to search that city in the walk score website. If it exists, we could manually bring the walk score info in. Otherwise, we will leave the walk score info as null.\n",
    "\n",
    "- b. If the market is based on the region level that includes more than one cities, then the market info is missing in the walk score dataset;\n",
    "  \n",
    "I tried to use the average estimation based on relevant cities info in the extra section.But it is just the estimation, and won't be included in the visualization and analysis part later. \n",
    "\n",
    "- c. If the market is within city, then we might could get the estimation based on the all the relevant cities walk score info.\n",
    "\n",
    "As the dataset doesn't contain that detailed info, I tried to use that city data to fill in the all the markets within that city. But it is just the estimation, and won't be considered in the visualization and analysis part."
   ]
  },
  {
   "cell_type": "markdown",
   "metadata": {},
   "source": [
    "#### 1.4.1 Deal with the Nans on similar market and city names [Situation 1]"
   ]
  },
  {
   "cell_type": "code",
   "execution_count": 75,
   "metadata": {
    "colab": {
     "autoexec": {
      "startup": false,
      "wait_interval": 0
     }
    },
    "colab_type": "code",
    "collapsed": true,
    "id": "Damzipc9Dv6I"
   },
   "outputs": [],
   "source": [
    "## 1. City name are slightly different from the market name\n",
    "#Washington -- Washington D.C.\n",
    "score_csv.loc[score_csv['city']=='Washington','city']='Washington D.C.'\n",
    "#Nashville-Davidson  --  Nashville\n",
    "score_csv.loc[score_csv['city']=='Nashville-Davidson','city']='Nashville'\n",
    "#Tampa --  Tampa Bay   as Tampa Bay is the part of the Tampa\n",
    "score_csv.loc[score_csv['city']=='Tampa','city']='Tampa Bay'\n",
    "\n",
    "# Brooklyn/Manhattan/Silicon Valley/Orange County/Salt Lake City"
   ]
  },
  {
   "cell_type": "markdown",
   "metadata": {},
   "source": [
    "##### Advanced Part -Match data based on text similarity [Replacement of Part 1.4.1]\n",
    "\n",
    "Since the flexibility is rooted in the text or string itself, in order to manually find the matched one, we could use fuzzy string matched method.\n",
    "\n",
    "Here I am gonna using this method to help identify the potential matched city info with walk score for that null 9 records. The result is the same as the output went through the Part 1.4.1."
   ]
  },
  {
   "cell_type": "code",
   "execution_count": 76,
   "metadata": {},
   "outputs": [],
   "source": [
    "#from fuzzywuzzy import fuzz\n",
    "#from fuzzywuzzy import process"
   ]
  },
  {
   "cell_type": "code",
   "execution_count": 77,
   "metadata": {},
   "outputs": [
    {
     "data": {
      "text/plain": [
       "{'Brooklyn': ('Boston', 57, 23),\n",
       " 'Manhattan': ('Omaha', 72, 40),\n",
       " 'Nashville': ('Nashville', 100, 24),\n",
       " 'Orange County': ('Orlando', 53, 75),\n",
       " 'Raleigh-Durham': ('Raleigh', 90, 41),\n",
       " 'Salt Lake City': ('Mesa', 64, 36),\n",
       " 'Silicon Valley': ('Lincoln', 64, 70),\n",
       " 'Tampa Bay': ('Tampa Bay', 100, 51),\n",
       " 'Washington D.C.': ('Washington D.C.', 100, 22)}"
      ]
     },
     "execution_count": 77,
     "metadata": {},
     "output_type": "execute_result"
    }
   ],
   "source": [
    "market_name=null_checks['MARKET NAME']\n",
    "city_name=score_csv_copy['city']\n",
    "output={}\n",
    "score=[]\n",
    "for i in market_name:\n",
    "    output[i]=process.extractOne(i, city_name) # return the top matched string in the city_name list\n",
    "output"
   ]
  },
  {
   "cell_type": "code",
   "execution_count": 78,
   "metadata": {
    "collapsed": true
   },
   "outputs": [],
   "source": [
    "for key, item in output.items():\n",
    "    if item[1]>=90:\n",
    "        #print (item)\n",
    "        market_full_copy.loc[market_full_copy['MARKET NAME']==key,'walkscore']=score_csv_copy.loc[score_csv_copy['city']==item[0],'walkscore'].values[0]\n",
    "        market_full_copy.loc[market_full_copy['MARKET NAME']==key,'city']=item[0]\n",
    "        market_full_copy.loc[market_full_copy['MARKET NAME']==key,'lat']=score_csv_copy.loc[score_csv_copy['city']==item[0],'lat'].values[0]\n",
    "        market_full_copy.loc[market_full_copy['MARKET NAME']==key,'lng']=score_csv_copy.loc[score_csv_copy['city']==item[0],'lng'].values[0]\n",
    "        market_full_copy.loc[market_full_copy['MARKET NAME']==key,'path_city']=score_csv_copy.loc[score_csv_copy['city']==item[0],'path_city'].values[0]\n",
    "        market_full_copy.loc[market_full_copy['MARKET NAME']==key,'path_state']=score_csv_copy.loc[score_csv_copy['city']==item[0],'path_state'].values[0]\n",
    "       "
   ]
  },
  {
   "cell_type": "code",
   "execution_count": 79,
   "metadata": {},
   "outputs": [
    {
     "data": {
      "text/html": [
       "<div>\n",
       "<style>\n",
       "    .dataframe thead tr:only-child th {\n",
       "        text-align: right;\n",
       "    }\n",
       "\n",
       "    .dataframe thead th {\n",
       "        text-align: left;\n",
       "    }\n",
       "\n",
       "    .dataframe tbody tr th {\n",
       "        vertical-align: top;\n",
       "    }\n",
       "</style>\n",
       "<table border=\"1\" class=\"dataframe\">\n",
       "  <thead>\n",
       "    <tr style=\"text-align: right;\">\n",
       "      <th></th>\n",
       "      <th>MARKET NAME</th>\n",
       "      <th>Total Inventory (SF)</th>\n",
       "      <th>Vacancy%</th>\n",
       "      <th>Asking Rent (USD/SF)</th>\n",
       "      <th>city</th>\n",
       "      <th>lat</th>\n",
       "      <th>lng</th>\n",
       "      <th>path_city</th>\n",
       "      <th>path_state</th>\n",
       "      <th>walkscore</th>\n",
       "    </tr>\n",
       "  </thead>\n",
       "  <tbody>\n",
       "    <tr>\n",
       "      <th>12</th>\n",
       "      <td>Brooklyn</td>\n",
       "      <td>47609232.0</td>\n",
       "      <td>20.0</td>\n",
       "      <td>46.92</td>\n",
       "      <td>NaN</td>\n",
       "      <td>NaN</td>\n",
       "      <td>NaN</td>\n",
       "      <td>NaN</td>\n",
       "      <td>NaN</td>\n",
       "      <td>NaN</td>\n",
       "    </tr>\n",
       "    <tr>\n",
       "      <th>13</th>\n",
       "      <td>Manhattan</td>\n",
       "      <td>23847963.0</td>\n",
       "      <td>8.5</td>\n",
       "      <td>72.48</td>\n",
       "      <td>NaN</td>\n",
       "      <td>NaN</td>\n",
       "      <td>NaN</td>\n",
       "      <td>NaN</td>\n",
       "      <td>NaN</td>\n",
       "      <td>NaN</td>\n",
       "    </tr>\n",
       "    <tr>\n",
       "      <th>18</th>\n",
       "      <td>Silicon Valley</td>\n",
       "      <td>70622781.0</td>\n",
       "      <td>19.4</td>\n",
       "      <td>49.92</td>\n",
       "      <td>NaN</td>\n",
       "      <td>NaN</td>\n",
       "      <td>NaN</td>\n",
       "      <td>NaN</td>\n",
       "      <td>NaN</td>\n",
       "      <td>NaN</td>\n",
       "    </tr>\n",
       "    <tr>\n",
       "      <th>20</th>\n",
       "      <td>Orange County</td>\n",
       "      <td>97702972.0</td>\n",
       "      <td>12.8</td>\n",
       "      <td>35.16</td>\n",
       "      <td>NaN</td>\n",
       "      <td>NaN</td>\n",
       "      <td>NaN</td>\n",
       "      <td>NaN</td>\n",
       "      <td>NaN</td>\n",
       "      <td>NaN</td>\n",
       "    </tr>\n",
       "    <tr>\n",
       "      <th>26</th>\n",
       "      <td>Salt Lake City</td>\n",
       "      <td>57606204.0</td>\n",
       "      <td>9.0</td>\n",
       "      <td>23.24</td>\n",
       "      <td>NaN</td>\n",
       "      <td>NaN</td>\n",
       "      <td>NaN</td>\n",
       "      <td>NaN</td>\n",
       "      <td>NaN</td>\n",
       "      <td>NaN</td>\n",
       "    </tr>\n",
       "  </tbody>\n",
       "</table>\n",
       "</div>"
      ],
      "text/plain": [
       "       MARKET NAME  Total Inventory (SF)  Vacancy%  Asking Rent (USD/SF) city  \\\n",
       "12        Brooklyn            47609232.0      20.0                 46.92  NaN   \n",
       "13       Manhattan            23847963.0       8.5                 72.48  NaN   \n",
       "18  Silicon Valley            70622781.0      19.4                 49.92  NaN   \n",
       "20   Orange County            97702972.0      12.8                 35.16  NaN   \n",
       "26  Salt Lake City            57606204.0       9.0                 23.24  NaN   \n",
       "\n",
       "    lat  lng path_city path_state  walkscore  \n",
       "12  NaN  NaN       NaN        NaN        NaN  \n",
       "13  NaN  NaN       NaN        NaN        NaN  \n",
       "18  NaN  NaN       NaN        NaN        NaN  \n",
       "20  NaN  NaN       NaN        NaN        NaN  \n",
       "26  NaN  NaN       NaN        NaN        NaN  "
      ]
     },
     "execution_count": 79,
     "metadata": {},
     "output_type": "execute_result"
    }
   ],
   "source": [
    "market_full_copy.loc[market_full_copy['city'].isnull()]"
   ]
  },
  {
   "cell_type": "markdown",
   "metadata": {},
   "source": [
    "As we could see, some of the Nan records are fixed based on the similarity between the market name and the city name. \n",
    "All the other Nan records are within the second situation, which require manual work to fix."
   ]
  },
  {
   "cell_type": "markdown",
   "metadata": {},
   "source": [
    "#### 1.4.2 Deal with the Nans on various market and city names [Situation 2]\n",
    "##### Situation 2.a The market name is missing in the json file"
   ]
  },
  {
   "cell_type": "code",
   "execution_count": 80,
   "metadata": {
    "colab": {
     "autoexec": {
      "startup": false,
      "wait_interval": 0
     }
    },
    "colab_type": "code",
    "collapsed": true,
    "id": "eQ0OblBHDv6K"
   },
   "outputs": [],
   "source": [
    "# 2.a The city is missing in the json file\n",
    "# Salt Lake City is not in the json file, so I did the manual search in the walk score website\n",
    "\n",
    "#new_row=['Salt Lake City','40.7608','-111.8910','Salt Lake City','UT','57']\n",
    "score_csv=score_csv.append({'city':'Salt Lake City','lat':40.7608,'lng':-111.8910,'walkscore':57,'path_state':'UT','path_city':'Salt Lake City'},ignore_index=True)\n"
   ]
  },
  {
   "cell_type": "markdown",
   "metadata": {},
   "source": [
    "##### Situation 2.b The market is on the region level\n",
    "\n",
    "As we could see, Silicon valley, Orange County, and Raleigh-Durham include more than one city in its market scope.\n",
    "For Raleigh-Durham, I will simply estimate the walk score based on the average value of the two cities. For the other two, it is hard to get all the involved cities info, so I will not deal with it for now."
   ]
  },
  {
   "cell_type": "code",
   "execution_count": 81,
   "metadata": {
    "colab": {
     "autoexec": {
      "startup": false,
      "wait_interval": 0
     }
    },
    "colab_type": "code",
    "collapsed": true,
    "id": "e8-Ja2YYDv6M"
   },
   "outputs": [],
   "source": [
    "# Some markets are not in the city level, which can't bring the exact walk score info\n",
    "\n",
    "# Raleigh-Durham -- in walk score dataset, Raleigh and Durham are two cities appeared seperately\n",
    "#In order to bring the info based on the market Raleigh-Durham, I will bring average value of that two cities\n",
    "\n",
    "Raleigh_walkscore=score_csv.loc[score_csv['city']=='Raleigh']['walkscore'].values[0]\n",
    "Durham_walkscore=score_csv.loc[score_csv['city']=='Durham']['walkscore'].values[0]\n",
    "Raleigh_lat=score_csv.loc[score_csv['city']=='Raleigh']['lat'].values[0]\n",
    "Durham_lat=score_csv.loc[score_csv['city']=='Durham']['lat'].values[0]\n",
    "Raleigh_lng=score_csv.loc[score_csv['city']=='Raleigh']['lng'].values[0]\n",
    "Durham_lng=score_csv.loc[score_csv['city']=='Durham']['lng'].values[0]\n",
    "\n",
    "score_csv=score_csv.append({'city':'Raleigh-Durham','lat':(Raleigh_lat+Durham_lat)/2,'lng':(Raleigh_lng+Durham_lng)/2,'walkscore':(Raleigh_walkscore+Durham_walkscore)/2,'path_state':'NC','path_city':'Raleigh-Durham'},ignore_index=True)\n",
    "\n",
    "# Brooklyn/Manhattan/Silicon Valley/Orange County/Raleigh-Durham\n"
   ]
  },
  {
   "cell_type": "code",
   "execution_count": 82,
   "metadata": {
    "colab": {
     "autoexec": {
      "startup": false,
      "wait_interval": 0
     }
    },
    "colab_type": "code",
    "collapsed": true,
    "id": "rVBC7R6CDv6O"
   },
   "outputs": [],
   "source": [
    "market_full=pd.merge(market,score_csv,left_on='MARKET NAME',right_on='city',how='inner')"
   ]
  },
  {
   "cell_type": "markdown",
   "metadata": {
    "colab_type": "text",
    "id": "rlds4xs0Dv6b"
   },
   "source": [
    "##### Try out - Other special cases on the Nan value\n",
    "\n",
    "I tried to deal with some left cases in the nan value section here. But the output won't be used for the analysis later as the estimated walkscore need to be cross checked ."
   ]
  },
  {
   "cell_type": "code",
   "execution_count": 83,
   "metadata": {
    "colab": {
     "autoexec": {
      "startup": false,
      "wait_interval": 0
     }
    },
    "colab_type": "code",
    "collapsed": true,
    "id": "QCkCuxn9Dv6S"
   },
   "outputs": [],
   "source": [
    "market_full2=pd.merge(market,score_csv,left_on='MARKET NAME',right_on='city',how='left')"
   ]
  },
  {
   "cell_type": "code",
   "execution_count": 84,
   "metadata": {
    "colab": {
     "autoexec": {
      "startup": false,
      "wait_interval": 0
     }
    },
    "colab_type": "code",
    "collapsed": true,
    "id": "oMcc2ZDXDv6c"
   },
   "outputs": [],
   "source": [
    "## Special Case\n",
    "# There is no detailed walk score for boroughs in New York, so using new york overall score to fill in instead of the null value.\n",
    "#score_csv.loc[score_csv['city']=='New York']\n",
    "market_full2.loc[market_full2['MARKET NAME']=='Brooklyn','city']='Brooklyn'\n",
    "market_full2.loc[market_full2['MARKET NAME']=='Brooklyn','lat']=40.6782\n",
    "market_full2.loc[market_full2['MARKET NAME']=='Brooklyn','lng']=-73.9442\n",
    "market_full2.loc[market_full2['MARKET NAME']=='Brooklyn','path_city']='New York'\n",
    "market_full2.loc[market_full2['MARKET NAME']=='Brooklyn','path_state']='NY'\n",
    "market_full2.loc[market_full2['MARKET NAME']=='Brooklyn','walkscore']=score_csv.loc[score_csv['city']=='New York']['walkscore'].values[0]\n",
    "\n",
    "market_full2.loc[market_full2['MARKET NAME']=='Manhattan','city']='Manhattan'\n",
    "market_full2.loc[market_full2['MARKET NAME']=='Manhattan','lat']=40.7831\n",
    "market_full2.loc[market_full2['MARKET NAME']=='Manhattan','lng']=-73.9712\n",
    "market_full2.loc[market_full2['MARKET NAME']=='Manhattan','path_city']='New York'\n",
    "market_full2.loc[market_full2['MARKET NAME']=='Manhattan','path_state']='NY'\n",
    "market_full2.loc[market_full2['MARKET NAME']=='Manhattan','walkscore']=score_csv.loc[score_csv['city']=='New York']['walkscore'].values[0]\n"
   ]
  },
  {
   "cell_type": "code",
   "execution_count": 85,
   "metadata": {
    "colab": {
     "autoexec": {
      "startup": false,
      "wait_interval": 0
     }
    },
    "colab_type": "code",
    "collapsed": true,
    "id": "jiELc-6vDv6e"
   },
   "outputs": [],
   "source": [
    "#Silicon Valley lies in the South Bay and the southern Peninsula of the San Francisco Bay Area, \n",
    "#which I will use the San Francisco info to fill in as the estimation.\n",
    "\n",
    "market_full2.loc[market_full2['MARKET NAME']=='Silicon Valley','city']='San Francisco'\n",
    "market_full2.loc[market_full2['MARKET NAME']=='Silicon Valley','lat']=37.3875\n",
    "market_full2.loc[market_full2['MARKET NAME']=='Silicon Valley','lng']=-122.0575\n",
    "market_full2.loc[market_full2['MARKET NAME']=='Silicon Valley','path_city']='San Francisco'\n",
    "market_full2.loc[market_full2['MARKET NAME']=='Silicon Valley','path_state']='CA'\n",
    "market_full2.loc[market_full2['MARKET NAME']=='Silicon Valley','walkscore']=score_csv.loc[score_csv['city']=='San Francisco']['walkscore'].values[0]\n",
    "\n",
    "#Orange County market includes multiple cities, which I used the orange city in to fill in as the estimation.\n",
    "\n",
    "market_full2.loc[market_full2['MARKET NAME']=='Orange County','city']='Orange'\n",
    "market_full2.loc[market_full2['MARKET NAME']=='Orange County','lat']=33.7175\n",
    "market_full2.loc[market_full2['MARKET NAME']=='Orange County','lng']=-117.8311\n",
    "market_full2.loc[market_full2['MARKET NAME']=='Orange County','path_city']='Orange'\n",
    "market_full2.loc[market_full2['MARKET NAME']=='Orange County','path_state']='CA'\n",
    "market_full2.loc[market_full2['MARKET NAME']=='Orange County','walkscore']=51\n"
   ]
  },
  {
   "cell_type": "markdown",
   "metadata": {},
   "source": [
    "### 1.5 Dataset Export"
   ]
  },
  {
   "cell_type": "code",
   "execution_count": 86,
   "metadata": {
    "colab": {
     "autoexec": {
      "startup": false,
      "wait_interval": 0
     }
    },
    "colab_type": "code",
    "id": "y52g9OBEDv6f",
    "outputId": "755be0bd-0490-41ad-deb2-851d71e2b069"
   },
   "outputs": [
    {
     "name": "stdout",
     "output_type": "stream",
     "text": [
      "<class 'pandas.core.frame.DataFrame'>\n",
      "Int64Index: 37 entries, 0 to 36\n",
      "Data columns (total 10 columns):\n",
      "MARKET NAME             37 non-null object\n",
      "Total Inventory (SF)    37 non-null float64\n",
      "Vacancy%                37 non-null float64\n",
      "Asking Rent (USD/SF)    37 non-null float64\n",
      "city                    37 non-null object\n",
      "lat                     37 non-null float64\n",
      "lng                     37 non-null float64\n",
      "path_city               37 non-null object\n",
      "path_state              37 non-null object\n",
      "walkscore               37 non-null float64\n",
      "dtypes: float64(6), object(4)\n",
      "memory usage: 3.2+ KB\n"
     ]
    }
   ],
   "source": [
    "market_full.info()"
   ]
  },
  {
   "cell_type": "code",
   "execution_count": 87,
   "metadata": {
    "colab": {
     "autoexec": {
      "startup": false,
      "wait_interval": 0
     }
    },
    "colab_type": "code",
    "id": "TYI4ZLLdDv6k",
    "outputId": "98a4fe9a-46ab-44b4-9a2f-aa8ae4bc97f2"
   },
   "outputs": [
    {
     "name": "stdout",
     "output_type": "stream",
     "text": [
      "<class 'pandas.core.frame.DataFrame'>\n",
      "Int64Index: 41 entries, 0 to 40\n",
      "Data columns (total 10 columns):\n",
      "MARKET NAME             41 non-null object\n",
      "Total Inventory (SF)    41 non-null float64\n",
      "Vacancy%                41 non-null float64\n",
      "Asking Rent (USD/SF)    41 non-null float64\n",
      "city                    41 non-null object\n",
      "lat                     41 non-null float64\n",
      "lng                     41 non-null float64\n",
      "path_city               41 non-null object\n",
      "path_state              41 non-null object\n",
      "walkscore               41 non-null float64\n",
      "dtypes: float64(6), object(4)\n",
      "memory usage: 3.5+ KB\n"
     ]
    }
   ],
   "source": [
    "market_full2.info()"
   ]
  },
  {
   "cell_type": "code",
   "execution_count": 88,
   "metadata": {
    "colab": {
     "autoexec": {
      "startup": false,
      "wait_interval": 0
     }
    },
    "colab_type": "code",
    "collapsed": true,
    "id": "d38PHLkFDv6o"
   },
   "outputs": [],
   "source": [
    "# Only including the matched records (It will be used for the visualization and analysis)\n",
    "market_full.to_csv('Market_Info_CityOnly.csv',sep=',',index = False,encoding='utf-8')\n",
    "# Including the matched records as well as the estimation records\n",
    "#market_full2.to_csv('Market_Info_full.csv',sep=',',index = False,encoding='utf-8')"
   ]
  },
  {
   "cell_type": "markdown",
   "metadata": {
    "colab_type": "text",
    "id": "1X4nL_rFDv6-"
   },
   "source": [
    "### Part 2. Geospatial Visualization"
   ]
  },
  {
   "cell_type": "markdown",
   "metadata": {
    "colab_type": "text",
    "id": "tSklim-DDv6_"
   },
   "source": [
    "For the geospatial visualization, I plan to use three different ways to visualize the market with the walkscore and vacancy info seperately.\n",
    "\n",
    "** Dimension: ** a. Walkscore b. Vacancy%\n",
    "\n",
    "** Visualization Method**\n",
    "\n",
    "- Python \n",
    "- GIS software (PostgreSQL+QGIS)\n",
    "- Web Map Portal (CartoDB)"
   ]
  },
  {
   "cell_type": "markdown",
   "metadata": {
    "colab_type": "text",
    "id": "zEmtPSBsDv6r"
   },
   "source": [
    "### 2.1 Feature Exploration"
   ]
  },
  {
   "cell_type": "markdown",
   "metadata": {},
   "source": [
    "Before visualizing walkscore or vacancy info,feature exploration would help us to set the class range on the map."
   ]
  },
  {
   "cell_type": "code",
   "execution_count": 89,
   "metadata": {
    "collapsed": true
   },
   "outputs": [],
   "source": [
    "#import seaborn as sns\n",
    "#%matplotlib inline"
   ]
  },
  {
   "cell_type": "code",
   "execution_count": 90,
   "metadata": {
    "scrolled": true
   },
   "outputs": [
    {
     "data": {
      "image/png": "[encoded data removed]",
      "text/plain": [
       "<matplotlib.figure.Figure at 0x1180e9240>"
      ]
     },
     "metadata": {},
     "output_type": "display_data"
    }
   ],
   "source": [
    "sns.set(color_codes=True)\n",
    "sns.set_palette(sns.color_palette(\"muted\"))\n",
    "sns.distplot(market_full[\"walkscore\"].dropna()/5);"
   ]
  },
  {
   "cell_type": "code",
   "execution_count": 91,
   "metadata": {
    "scrolled": true
   },
   "outputs": [
    {
     "data": {
      "image/png": "[encoded data removed]",
      "text/plain": [
       "<matplotlib.figure.Figure at 0x11b100f98>"
      ]
     },
     "metadata": {},
     "output_type": "display_data"
    }
   ],
   "source": [
    "sns.set(color_codes=True)\n",
    "sns.set_palette(sns.color_palette(\"muted\"))\n",
    "sns.distplot(market_full[\"Vacancy%\"]);"
   ]
  },
  {
   "cell_type": "markdown",
   "metadata": {},
   "source": [
    "### 2.2 Visualization"
   ]
  },
  {
   "cell_type": "markdown",
   "metadata": {},
   "source": [
    "As the markets are based on the specific longitude and latitude, I plan to use the dot map with color-coded or the bubble map with size-coded.\n",
    "\n",
    "Actually the bubble map could incorporate two dimensions of the dataset, but in order to show it more clearly,I plotted seperately in two layers using dot map and bubble map."
   ]
  },
  {
   "cell_type": "markdown",
   "metadata": {},
   "source": [
    "#### 2.2.1 Python Visualization"
   ]
  },
  {
   "cell_type": "code",
   "execution_count": 92,
   "metadata": {
    "colab": {
     "autoexec": {
      "startup": false,
      "wait_interval": 0
     }
    },
    "colab_type": "code",
    "collapsed": true,
    "id": "3ty8V3RODv7B"
   },
   "outputs": [],
   "source": [
    "#import folium\n",
    "#from folium.plugins import MarkerCluster"
   ]
  },
  {
   "cell_type": "code",
   "execution_count": 93,
   "metadata": {
    "colab": {
     "autoexec": {
      "startup": false,
      "wait_interval": 0
     }
    },
    "colab_type": "code",
    "collapsed": true,
    "id": "0OPsE-7xDv7D"
   },
   "outputs": [],
   "source": [
    "folium_map = folium.Map(location=[37.0902, -95.7129],\n",
    "                        zoom_start=4)"
   ]
  },
  {
   "cell_type": "code",
   "execution_count": 94,
   "metadata": {
    "colab": {
     "autoexec": {
      "startup": false,
      "wait_interval": 0
     }
    },
    "colab_type": "code",
    "collapsed": true,
    "id": "98oXFWxRDv7L"
   },
   "outputs": [],
   "source": [
    "for index, row in market_full.iterrows():\n",
    "    #print (row['walkscore'])\n",
    "    value = row['Vacancy%']\n",
    "    radius = row['walkscore']/4\n",
    "    \n",
    "    if value<=12:\n",
    "        color=\"#DAF7A6\"\n",
    "    elif value>12 and value<=14 :\n",
    "        color=\"#FFC300\" \n",
    "    elif value>14 and value<=16 :\n",
    "        color=\"#F99002\" \n",
    "    elif value>16 and value<=18 :\n",
    "        color=\"#F95C02\" \n",
    "    else:\n",
    "        color=\"#F90202\" \n",
    "    \n",
    "    ## add marker\n",
    "    popup_text = \"Market Name: {}<br> Walk Score: {}<br> Vacancy%: {}\"\n",
    "    popup_text = popup_text.format(row[\"MARKET NAME\"],\n",
    "                               row[\"walkscore\"],\n",
    "                                  row['Vacancy%'])\n",
    "    \n",
    "    folium.CircleMarker(location=(row[\"lat\"],\n",
    "                                  row[\"lng\"]),\n",
    "                        radius=radius,\n",
    "                        fill=True,\n",
    "                       popup=popup_text).add_to(folium_map)\n",
    "    \n",
    "    folium.CircleMarker(location=(row[\"lat\"],\n",
    "                                  row[\"lng\"]),\n",
    "                        radius=1,\n",
    "                        color=color,\n",
    "                        fill=True,\n",
    "                       popup=popup_text).add_to(folium_map)\n",
    "    "
   ]
  },
  {
   "cell_type": "code",
   "execution_count": 95,
   "metadata": {
    "colab": {
     "autoexec": {
      "startup": false,
      "wait_interval": 0
     }
    },
    "colab_type": "code",
    "id": "OhXvOHTyDv7M",
    "outputId": "fdb13123-14be-4e34-e88e-7e467ea1e9c0",
    "scrolled": true
   },
   "outputs": [
    {
     "data": {
      "text/html": [
       "<div style=\"width:100%;\"><div style=\"position:relative;width:100%;height:0;padding-bottom:60%;\"><iframe src=\"data:text/html;charset=utf-8;base64,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\" style=\"position:absolute;width:100%;height:100%;left:0;top:0;border:none !important;\" allowfullscreen webkitallowfullscreen mozallowfullscreen></iframe></div></div>"
      ],
      "text/plain": [
       "<folium.folium.Map at 0x1211dfe10>"
      ]
     },
     "execution_count": 95,
     "metadata": {},
     "output_type": "execute_result"
    }
   ],
   "source": [
    "folium_map"
   ]
  },
  {
   "cell_type": "markdown",
   "metadata": {
    "colab": {
     "autoexec": {
      "startup": false,
      "wait_interval": 0
     }
    },
    "colab_type": "code",
    "collapsed": true,
    "id": "0SBAUWm1Dv7P"
   },
   "source": [
    "#### 2.2.2 QGIS Visualization\n",
    "\n",
    "The visualization is done through PostgreSQL and QGIS. The detailed process is below,\n",
    "- Import the csv data into the postgreSQL.\n",
    "- Import the dataset into QGIS based on the connection with postgreSQL.\n",
    "- Define coordinate system using EPSG:4326 - WGS 84.\n",
    "- Define symbology and display and design the thematic map."
   ]
  },
  {
   "cell_type": "markdown",
   "metadata": {
    "colab": {
     "autoexec": {
      "startup": false,
      "wait_interval": 0
     }
    },
    "colab_type": "code",
    "collapsed": true,
    "id": "rYEW-A8fDv7Q"
   },
   "source": [
    "Below is the QGIS Visualization.\n",
    "\n",
    "![alt text](Output\\Part2_Graph2.png \"Geospatial Visualization\")"
   ]
  },
  {
   "cell_type": "markdown",
   "metadata": {},
   "source": [
    "#### 2.2.3 WebGIS Portal Visualization\n",
    "\n",
    "Here I choose the CartoDB to directly visualize it. The process is straight forward and visualization is very dynamic.\n",
    "\n",
    "You could check the online visualization [here][].\n",
    "\n",
    "[here]: https://rz992.carto.com/builder/26302c14-ceda-494c-ac11-2028dfbd7ae0/embed \"WebGIS Visualization\"\n"
   ]
  },
  {
   "cell_type": "markdown",
   "metadata": {},
   "source": [
    "Below is the screenshot.\n",
    "\n",
    "![visual3](Output\\Part2_Graph3.png \"Geospatial Visualization3\")"
   ]
  },
  {
   "cell_type": "markdown",
   "metadata": {
    "colab": {
     "autoexec": {
      "startup": false,
      "wait_interval": 0
     }
    },
    "colab_type": "code",
    "collapsed": true,
    "id": "Rv2Srcw1Dv7T"
   },
   "source": [
    "#### 2.2.4 Observation"
   ]
  },
  {
   "cell_type": "markdown",
   "metadata": {},
   "source": [
    "Based on the Geo visualization, \n",
    "\n",
    "- The market vacancy spread within 0-24%, and usually the markets along the sea (especially big cities at eastern and western coast) have the lower rate than the markets inland. The Great Lakes Region is the cluster of the markets with high vacancy.\n",
    "\n",
    "- The walk score in general is relatively lower in inland market than its in coastal area. The markets which are clustered or nearby have the higher walk score compared to the independent market.\n",
    "\n",
    "- Usually the markets clustered have the similarity in the vacancy dimension. One exception I identified is Austin-San Antonio-Huston which might be the potential to dive deep into for the market investment.\n",
    "\n",
    "- Usually the market with higher walk score will have the lower market vacancy.\n",
    "\n"
   ]
  },
  {
   "cell_type": "markdown",
   "metadata": {},
   "source": [
    "#### Extra Visualizaiton"
   ]
  },
  {
   "cell_type": "markdown",
   "metadata": {},
   "source": [
    "Based on the three dimensions - Vacancy%, Total Inventory (SF), Asking Rent (USD/SF), we could estimate the potential supply and potential revenue in each market, which could help the company to identify and target the potentially beneficial market.\n",
    "\n",
    "                    Potential Revenue = Vacancy%*Total Inventory (SF)*Asking Rent (USD/SF)\n",
    "\n",
    "Below is the visualization for the potential revenue in each market. As what we could identify, the potential revenue is color coded and the vacancy is size coded. \n",
    "\n",
    "In order to understand our current markets, we could seperate the markets into three groups,\n",
    "- High potential Revenue with high vacancy, such as Austin, Atlanta, and Dallas\n",
    "- High potential Revenue with low vacancy, such as San Diego, Los Angeles,Boston\n",
    "- Low potential Revenue, such as Columbus,St. Louis,Milwaukee\n",
    "\n",
    "For the markets with high potential revenue and low vacancy, they are the markets that we built up and put efforts in  the past. They still could bring the potential revenue to us as the rent is relatively high, and we need to re-evaluate the market demand and consider to expand the capacity or not.\n",
    "\n",
    "For the markets with high potential revenue and high vacancy, they are the second tier or the markets we should target and put more efforts on. We should do more campaigns in those cities in order to get more revenue as well as try to reduce the cost based on the vacancy.\n"
   ]
  },
  {
   "cell_type": "markdown",
   "metadata": {},
   "source": [
    "![visual4](Output\\Part2_Graph4.png \"Geospatial Visualization4\")"
   ]
  },
  {
   "cell_type": "markdown",
   "metadata": {},
   "source": [
    "### Part 3. Variable Relationships Exploration"
   ]
  },
  {
   "cell_type": "markdown",
   "metadata": {},
   "source": [
    "Plot the relationship between walk score and three real estate variables: inventory, vacancy, and asking rent (again using the tool of your choice). Discuss what patterns you see, if any, and briefly explain further steps you might take to explore this data."
   ]
  },
  {
   "cell_type": "markdown",
   "metadata": {},
   "source": [
    "### 3.1 Features Overview"
   ]
  },
  {
   "cell_type": "code",
   "execution_count": 96,
   "metadata": {},
   "outputs": [
    {
     "data": {
      "text/html": [
       "<div>\n",
       "<style>\n",
       "    .dataframe thead tr:only-child th {\n",
       "        text-align: right;\n",
       "    }\n",
       "\n",
       "    .dataframe thead th {\n",
       "        text-align: left;\n",
       "    }\n",
       "\n",
       "    .dataframe tbody tr th {\n",
       "        vertical-align: top;\n",
       "    }\n",
       "</style>\n",
       "<table border=\"1\" class=\"dataframe\">\n",
       "  <thead>\n",
       "    <tr style=\"text-align: right;\">\n",
       "      <th></th>\n",
       "      <th>MARKET NAME</th>\n",
       "      <th>Total Inventory (SF)</th>\n",
       "      <th>Vacancy%</th>\n",
       "      <th>Asking Rent (USD/SF)</th>\n",
       "      <th>city</th>\n",
       "      <th>lat</th>\n",
       "      <th>lng</th>\n",
       "      <th>path_city</th>\n",
       "      <th>path_state</th>\n",
       "      <th>walkscore</th>\n",
       "    </tr>\n",
       "  </thead>\n",
       "  <tbody>\n",
       "    <tr>\n",
       "      <th>0</th>\n",
       "      <td>Philadelphia</td>\n",
       "      <td>135570108.0</td>\n",
       "      <td>12.7</td>\n",
       "      <td>26.43</td>\n",
       "      <td>Philadelphia</td>\n",
       "      <td>40.0076</td>\n",
       "      <td>-75.1340</td>\n",
       "      <td>Philadelphia</td>\n",
       "      <td>PA</td>\n",
       "      <td>75.0</td>\n",
       "    </tr>\n",
       "    <tr>\n",
       "      <th>1</th>\n",
       "      <td>Washington D.C.</td>\n",
       "      <td>332015221.0</td>\n",
       "      <td>16.2</td>\n",
       "      <td>41.34</td>\n",
       "      <td>Washington D.C.</td>\n",
       "      <td>38.9048</td>\n",
       "      <td>-77.0163</td>\n",
       "      <td>Washington D.C.</td>\n",
       "      <td>DC</td>\n",
       "      <td>91.0</td>\n",
       "    </tr>\n",
       "    <tr>\n",
       "      <th>2</th>\n",
       "      <td>Chicago</td>\n",
       "      <td>245753058.0</td>\n",
       "      <td>16.4</td>\n",
       "      <td>33.94</td>\n",
       "      <td>Chicago</td>\n",
       "      <td>41.8369</td>\n",
       "      <td>-87.6848</td>\n",
       "      <td>Chicago</td>\n",
       "      <td>IL</td>\n",
       "      <td>41.0</td>\n",
       "    </tr>\n",
       "    <tr>\n",
       "      <th>3</th>\n",
       "      <td>Detroit</td>\n",
       "      <td>67520823.0</td>\n",
       "      <td>18.9</td>\n",
       "      <td>19.16</td>\n",
       "      <td>Detroit</td>\n",
       "      <td>42.3834</td>\n",
       "      <td>-83.1024</td>\n",
       "      <td>Detroit</td>\n",
       "      <td>MI</td>\n",
       "      <td>37.0</td>\n",
       "    </tr>\n",
       "    <tr>\n",
       "      <th>4</th>\n",
       "      <td>Minneapolis</td>\n",
       "      <td>72718254.0</td>\n",
       "      <td>16.6</td>\n",
       "      <td>26.33</td>\n",
       "      <td>Minneapolis</td>\n",
       "      <td>44.9635</td>\n",
       "      <td>-93.2678</td>\n",
       "      <td>Minneapolis</td>\n",
       "      <td>MN</td>\n",
       "      <td>80.0</td>\n",
       "    </tr>\n",
       "  </tbody>\n",
       "</table>\n",
       "</div>"
      ],
      "text/plain": [
       "       MARKET NAME  Total Inventory (SF)  Vacancy%  Asking Rent (USD/SF)  \\\n",
       "0     Philadelphia           135570108.0      12.7                 26.43   \n",
       "1  Washington D.C.           332015221.0      16.2                 41.34   \n",
       "2          Chicago           245753058.0      16.4                 33.94   \n",
       "3          Detroit            67520823.0      18.9                 19.16   \n",
       "4      Minneapolis            72718254.0      16.6                 26.33   \n",
       "\n",
       "              city      lat      lng        path_city path_state  walkscore  \n",
       "0     Philadelphia  40.0076 -75.1340     Philadelphia         PA       75.0  \n",
       "1  Washington D.C.  38.9048 -77.0163  Washington D.C.         DC       91.0  \n",
       "2          Chicago  41.8369 -87.6848          Chicago         IL       41.0  \n",
       "3          Detroit  42.3834 -83.1024          Detroit         MI       37.0  \n",
       "4      Minneapolis  44.9635 -93.2678      Minneapolis         MN       80.0  "
      ]
     },
     "execution_count": 96,
     "metadata": {},
     "output_type": "execute_result"
    }
   ],
   "source": [
    "market_full.head()"
   ]
  },
  {
   "cell_type": "code",
   "execution_count": 97,
   "metadata": {},
   "outputs": [
    {
     "data": {
      "text/html": [
       "<div>\n",
       "<style>\n",
       "    .dataframe thead tr:only-child th {\n",
       "        text-align: right;\n",
       "    }\n",
       "\n",
       "    .dataframe thead th {\n",
       "        text-align: left;\n",
       "    }\n",
       "\n",
       "    .dataframe tbody tr th {\n",
       "        vertical-align: top;\n",
       "    }\n",
       "</style>\n",
       "<table border=\"1\" class=\"dataframe\">\n",
       "  <thead>\n",
       "    <tr style=\"text-align: right;\">\n",
       "      <th></th>\n",
       "      <th>Total Inventory (SF)</th>\n",
       "      <th>Vacancy%</th>\n",
       "      <th>Asking Rent (USD/SF)</th>\n",
       "      <th>lat</th>\n",
       "      <th>lng</th>\n",
       "      <th>walkscore</th>\n",
       "    </tr>\n",
       "  </thead>\n",
       "  <tbody>\n",
       "    <tr>\n",
       "      <th>count</th>\n",
       "      <td>3.700000e+01</td>\n",
       "      <td>37.000000</td>\n",
       "      <td>37.000000</td>\n",
       "      <td>37.000000</td>\n",
       "      <td>37.000000</td>\n",
       "      <td>37.000000</td>\n",
       "    </tr>\n",
       "    <tr>\n",
       "      <th>mean</th>\n",
       "      <td>8.126841e+07</td>\n",
       "      <td>14.629730</td>\n",
       "      <td>27.897568</td>\n",
       "      <td>37.212412</td>\n",
       "      <td>-92.875499</td>\n",
       "      <td>62.797297</td>\n",
       "    </tr>\n",
       "    <tr>\n",
       "      <th>std</th>\n",
       "      <td>7.301468e+07</td>\n",
       "      <td>3.813927</td>\n",
       "      <td>10.345803</td>\n",
       "      <td>5.255447</td>\n",
       "      <td>15.544845</td>\n",
       "      <td>25.256864</td>\n",
       "    </tr>\n",
       "    <tr>\n",
       "      <th>min</th>\n",
       "      <td>1.520419e+07</td>\n",
       "      <td>9.000000</td>\n",
       "      <td>18.990000</td>\n",
       "      <td>25.775300</td>\n",
       "      <td>-122.650000</td>\n",
       "      <td>1.000000</td>\n",
       "    </tr>\n",
       "    <tr>\n",
       "      <th>25%</th>\n",
       "      <td>3.288863e+07</td>\n",
       "      <td>11.400000</td>\n",
       "      <td>20.110000</td>\n",
       "      <td>33.572400</td>\n",
       "      <td>-98.524700</td>\n",
       "      <td>47.000000</td>\n",
       "    </tr>\n",
       "    <tr>\n",
       "      <th>50%</th>\n",
       "      <td>5.186842e+07</td>\n",
       "      <td>14.200000</td>\n",
       "      <td>25.280000</td>\n",
       "      <td>38.635800</td>\n",
       "      <td>-87.684800</td>\n",
       "      <td>68.000000</td>\n",
       "    </tr>\n",
       "    <tr>\n",
       "      <th>75%</th>\n",
       "      <td>9.883481e+07</td>\n",
       "      <td>17.600000</td>\n",
       "      <td>30.800000</td>\n",
       "      <td>40.439600</td>\n",
       "      <td>-81.660200</td>\n",
       "      <td>86.000000</td>\n",
       "    </tr>\n",
       "    <tr>\n",
       "      <th>max</th>\n",
       "      <td>3.320152e+08</td>\n",
       "      <td>23.800000</td>\n",
       "      <td>74.640000</td>\n",
       "      <td>47.620200</td>\n",
       "      <td>-71.081500</td>\n",
       "      <td>95.000000</td>\n",
       "    </tr>\n",
       "  </tbody>\n",
       "</table>\n",
       "</div>"
      ],
      "text/plain": [
       "       Total Inventory (SF)   Vacancy%  Asking Rent (USD/SF)        lat  \\\n",
       "count          3.700000e+01  37.000000             37.000000  37.000000   \n",
       "mean           8.126841e+07  14.629730             27.897568  37.212412   \n",
       "std            7.301468e+07   3.813927             10.345803   5.255447   \n",
       "min            1.520419e+07   9.000000             18.990000  25.775300   \n",
       "25%            3.288863e+07  11.400000             20.110000  33.572400   \n",
       "50%            5.186842e+07  14.200000             25.280000  38.635800   \n",
       "75%            9.883481e+07  17.600000             30.800000  40.439600   \n",
       "max            3.320152e+08  23.800000             74.640000  47.620200   \n",
       "\n",
       "              lng  walkscore  \n",
       "count   37.000000  37.000000  \n",
       "mean   -92.875499  62.797297  \n",
       "std     15.544845  25.256864  \n",
       "min   -122.650000   1.000000  \n",
       "25%    -98.524700  47.000000  \n",
       "50%    -87.684800  68.000000  \n",
       "75%    -81.660200  86.000000  \n",
       "max    -71.081500  95.000000  "
      ]
     },
     "execution_count": 97,
     "metadata": {},
     "output_type": "execute_result"
    }
   ],
   "source": [
    "market_full.describe()"
   ]
  },
  {
   "cell_type": "code",
   "execution_count": 98,
   "metadata": {},
   "outputs": [
    {
     "data": {
      "image/png": "[encoded data removed]",
      "text/plain": [
       "<matplotlib.figure.Figure at 0x121f87f98>"
      ]
     },
     "metadata": {},
     "output_type": "display_data"
    }
   ],
   "source": [
    "fig=market_full.hist(figsize=(50, 40))\n",
    "draw=[x.title.set_size(36)for x in fig.ravel()]"
   ]
  },
  {
   "cell_type": "markdown",
   "metadata": {},
   "source": [
    "__Observation:__\n",
    "From the distribution on each varaible, we could see the total inventory and asking rent are right-skewed distributed and the walkscore is more left-skewed distributed. \n",
    "\n",
    "Instead of showing each distribution seperately, I brought our targeted variables into the same histgram below, which provide the feeling on how they potentially impact each other."
   ]
  },
  {
   "cell_type": "code",
   "execution_count": 99,
   "metadata": {},
   "outputs": [
    {
     "data": {
      "image/png": "[encoded data removed]",
      "text/plain": [
       "<matplotlib.figure.Figure at 0x11811fda0>"
      ]
     },
     "metadata": {},
     "output_type": "display_data"
    }
   ],
   "source": [
    "plt.hist(market_full['Total Inventory (SF)']/5000000, alpha=0.4, label='Total Inventory (5*10^6 SF)')\n",
    "plt.hist(market_full['Vacancy%'], alpha=0.4, label='Vacancy%')\n",
    "plt.hist(market_full['walkscore'], alpha=0.4, label='walkscore')\n",
    "plt.hist(market_full['Asking Rent (USD/SF)'], alpha=0.4, label='Asking Rent (USD/SF)')\n",
    "plt.legend(loc='upper right')\n",
    "plt.title('Histogram of the Market Attributes')\n",
    "plt.show()"
   ]
  },
  {
   "cell_type": "markdown",
   "metadata": {},
   "source": [
    "### 3.2 Correlation Exploration"
   ]
  },
  {
   "cell_type": "code",
   "execution_count": 100,
   "metadata": {
    "scrolled": true
   },
   "outputs": [
    {
     "data": {
      "text/plain": [
       "<seaborn.axisgrid.PairGrid at 0x1180c7c88>"
      ]
     },
     "execution_count": 100,
     "metadata": {},
     "output_type": "execute_result"
    },
    {
     "data": {
      "image/png": "[encoded data removed]",
      "text/plain": [
       "<matplotlib.figure.Figure at 0x1180c7ba8>"
      ]
     },
     "metadata": {},
     "output_type": "display_data"
    }
   ],
   "source": [
    "sns.set(color_codes=True)\n",
    "sns.pairplot(market_full,size=2)"
   ]
  },
  {
   "cell_type": "markdown",
   "metadata": {},
   "source": [
    "From the dot charts above with the walkscore, there is not a clear trend bewteen walkscore and any other variables. But in general, there are more markets within 50-100 in walkscore. \n",
    "\n",
    "So, I will check out the correlation between variables and bring the heatmap in."
   ]
  },
  {
   "cell_type": "code",
   "execution_count": 101,
   "metadata": {},
   "outputs": [
    {
     "data": {
      "text/html": [
       "<div>\n",
       "<style>\n",
       "    .dataframe thead tr:only-child th {\n",
       "        text-align: right;\n",
       "    }\n",
       "\n",
       "    .dataframe thead th {\n",
       "        text-align: left;\n",
       "    }\n",
       "\n",
       "    .dataframe tbody tr th {\n",
       "        vertical-align: top;\n",
       "    }\n",
       "</style>\n",
       "<table border=\"1\" class=\"dataframe\">\n",
       "  <thead>\n",
       "    <tr style=\"text-align: right;\">\n",
       "      <th></th>\n",
       "      <th>Total Inventory (SF)</th>\n",
       "      <th>Vacancy%</th>\n",
       "      <th>Asking Rent (USD/SF)</th>\n",
       "      <th>lat</th>\n",
       "      <th>lng</th>\n",
       "      <th>walkscore</th>\n",
       "    </tr>\n",
       "  </thead>\n",
       "  <tbody>\n",
       "    <tr>\n",
       "      <th>Total Inventory (SF)</th>\n",
       "      <td>1.000000</td>\n",
       "      <td>0.185507</td>\n",
       "      <td>0.404653</td>\n",
       "      <td>0.097935</td>\n",
       "      <td>0.026946</td>\n",
       "      <td>0.031136</td>\n",
       "    </tr>\n",
       "    <tr>\n",
       "      <th>Vacancy%</th>\n",
       "      <td>0.185507</td>\n",
       "      <td>1.000000</td>\n",
       "      <td>-0.295993</td>\n",
       "      <td>0.002146</td>\n",
       "      <td>0.211827</td>\n",
       "      <td>-0.159287</td>\n",
       "    </tr>\n",
       "    <tr>\n",
       "      <th>Asking Rent (USD/SF)</th>\n",
       "      <td>0.404653</td>\n",
       "      <td>-0.295993</td>\n",
       "      <td>1.000000</td>\n",
       "      <td>-0.064046</td>\n",
       "      <td>-0.392661</td>\n",
       "      <td>0.244557</td>\n",
       "    </tr>\n",
       "    <tr>\n",
       "      <th>lat</th>\n",
       "      <td>0.097935</td>\n",
       "      <td>0.002146</td>\n",
       "      <td>-0.064046</td>\n",
       "      <td>1.000000</td>\n",
       "      <td>-0.094325</td>\n",
       "      <td>0.075193</td>\n",
       "    </tr>\n",
       "    <tr>\n",
       "      <th>lng</th>\n",
       "      <td>0.026946</td>\n",
       "      <td>0.211827</td>\n",
       "      <td>-0.392661</td>\n",
       "      <td>-0.094325</td>\n",
       "      <td>1.000000</td>\n",
       "      <td>0.000185</td>\n",
       "    </tr>\n",
       "    <tr>\n",
       "      <th>walkscore</th>\n",
       "      <td>0.031136</td>\n",
       "      <td>-0.159287</td>\n",
       "      <td>0.244557</td>\n",
       "      <td>0.075193</td>\n",
       "      <td>0.000185</td>\n",
       "      <td>1.000000</td>\n",
       "    </tr>\n",
       "  </tbody>\n",
       "</table>\n",
       "</div>"
      ],
      "text/plain": [
       "                      Total Inventory (SF)  Vacancy%  Asking Rent (USD/SF)  \\\n",
       "Total Inventory (SF)              1.000000  0.185507              0.404653   \n",
       "Vacancy%                          0.185507  1.000000             -0.295993   \n",
       "Asking Rent (USD/SF)              0.404653 -0.295993              1.000000   \n",
       "lat                               0.097935  0.002146             -0.064046   \n",
       "lng                               0.026946  0.211827             -0.392661   \n",
       "walkscore                         0.031136 -0.159287              0.244557   \n",
       "\n",
       "                           lat       lng  walkscore  \n",
       "Total Inventory (SF)  0.097935  0.026946   0.031136  \n",
       "Vacancy%              0.002146  0.211827  -0.159287  \n",
       "Asking Rent (USD/SF) -0.064046 -0.392661   0.244557  \n",
       "lat                   1.000000 -0.094325   0.075193  \n",
       "lng                  -0.094325  1.000000   0.000185  \n",
       "walkscore             0.075193  0.000185   1.000000  "
      ]
     },
     "execution_count": 101,
     "metadata": {},
     "output_type": "execute_result"
    }
   ],
   "source": [
    "corr=market_full.corr()\n",
    "corr"
   ]
  },
  {
   "cell_type": "code",
   "execution_count": 102,
   "metadata": {},
   "outputs": [
    {
     "data": {
      "text/plain": [
       "<matplotlib.axes._subplots.AxesSubplot at 0x124b174e0>"
      ]
     },
     "execution_count": 102,
     "metadata": {},
     "output_type": "execute_result"
    },
    {
     "data": {
      "image/png": "[encoded data removed]",
      "text/plain": [
       "<matplotlib.figure.Figure at 0x1180e9dd8>"
      ]
     },
     "metadata": {},
     "output_type": "display_data"
    }
   ],
   "source": [
    "sns.heatmap(corr)"
   ]
  },
  {
   "cell_type": "markdown",
   "metadata": {},
   "source": [
    "__Observation:__\n",
    "As the heatmap represents, the pattern beween walkscore and other variables are more obvious. The walkscore is positively correlated with the asking rent, which means the rent is higher, the walkscore is higher. On the other hand, Vacancy is slightly and negatively related to the walkscore, which means that if the vacancy is higher, the walkscore will be lower. The total inventory here is not that relevant to the walkscore."
   ]
  },
  {
   "cell_type": "markdown",
   "metadata": {},
   "source": [
    "In order to represent and justify it visually, I tried the linear regression model below to visualize how each variable correlated with walkscore."
   ]
  },
  {
   "cell_type": "code",
   "execution_count": 103,
   "metadata": {},
   "outputs": [
    {
     "data": {
      "text/plain": [
       "<matplotlib.axes._subplots.AxesSubplot at 0x125114eb8>"
      ]
     },
     "execution_count": 103,
     "metadata": {},
     "output_type": "execute_result"
    },
    {
     "data": {
      "image/png": "[encoded data removed]",
      "text/plain": [
       "<matplotlib.figure.Figure at 0x1250fa1d0>"
      ]
     },
     "metadata": {},
     "output_type": "display_data"
    }
   ],
   "source": [
    "sns.set_style('whitegrid')\n",
    "sns.regplot(x='walkscore',y='Asking Rent (USD/SF)',data=market_full,ci =95,robust=True)"
   ]
  },
  {
   "cell_type": "code",
   "execution_count": 104,
   "metadata": {},
   "outputs": [
    {
     "data": {
      "text/plain": [
       "<matplotlib.axes._subplots.AxesSubplot at 0x124bc1470>"
      ]
     },
     "execution_count": 104,
     "metadata": {},
     "output_type": "execute_result"
    },
    {
     "data": {
      "image/png": "[encoded data removed]",
      "text/plain": [
       "<matplotlib.figure.Figure at 0x1220e15f8>"
      ]
     },
     "metadata": {},
     "output_type": "display_data"
    }
   ],
   "source": [
    "sns.set_style('whitegrid')\n",
    "sns.regplot(x='walkscore',y='Vacancy%',data=market_full)"
   ]
  },
  {
   "cell_type": "code",
   "execution_count": 105,
   "metadata": {},
   "outputs": [
    {
     "data": {
      "text/plain": [
       "<matplotlib.axes._subplots.AxesSubplot at 0x1252ef438>"
      ]
     },
     "execution_count": 105,
     "metadata": {},
     "output_type": "execute_result"
    },
    {
     "data": {
      "image/png": "[encoded data removed]",
      "text/plain": [
       "<matplotlib.figure.Figure at 0x1254772b0>"
      ]
     },
     "metadata": {},
     "output_type": "display_data"
    }
   ],
   "source": [
    "sns.set_style('whitegrid')\n",
    "sns.regplot(x='walkscore',y='Total Inventory (SF)',data=market_full)"
   ]
  },
  {
   "cell_type": "markdown",
   "metadata": {},
   "source": [
    "### 3.3 Multivariants Plot"
   ]
  },
  {
   "cell_type": "markdown",
   "metadata": {},
   "source": [
    "Below instead of looking at two vairables, I plan to check out the multivariables charts in order to identify more patterns. \n",
    "\n",
    "[Tableau]\n",
    "![visual5](Output\\Part3_Chart1.png \"Exploreation Visualization\")\n"
   ]
  },
  {
   "cell_type": "markdown",
   "metadata": {},
   "source": [
    "At the same time, rather than showing the walk score as one continuous measurement in tableau, I break the walk score into 5 groups based on the reference in order to clarify any potential pattern. \n",
    "\n",
    "![visual6](Output\\Part3_Chart2.png \"Exploreation Visualization2\")"
   ]
  },
  {
   "cell_type": "markdown",
   "metadata": {},
   "source": [
    "**Based on the charts above,** \n",
    "\n",
    "if we look at the markets with 90-100 walkscore, they generally have low vacancy, relative high rent price and small inventory. \n",
    "\n",
    "If we move to the markets with medium range of walkscore, the real estate features are varied. But the market with higher rent tend to have better walkscore. The vacancy start to varied and increase especially from the 80-90 walkscore group to 50-60 walkscore group.Addtionally, market with large inventory will start apprear in the medium range of walkscore group.\n",
    "\n",
    "For the market with walkscore (below 50), it tends to have low asking rent, high vacancy and varied inventory."
   ]
  },
  {
   "cell_type": "markdown",
   "metadata": {
    "collapsed": true
   },
   "source": [
    "### 3.4 Summary\n",
    "\n",
    "** Pattern **\n",
    "\n",
    "Based on the charts and statistics analysis, we could uncover some potential patterns among walkscore, vacancy, ask rent and total inventory.\n",
    "\n",
    "- If the markets'vacancy is extremely low, then the market tends to have higher walkscore.\n",
    "- If the market with extremely high asking rent, then the market tends to have higher walkscore.\n",
    "\n",
    "Based on the high/medium/low walks core group,\n",
    "\n",
    "- Usually the high walkscore group is well-developed region or market,and they generally have low vacancy, relative high rent price and small inventory. \n",
    "\n",
    "- On the other hand, for the low walkscore group,the markets tend to have low rent, high vacancy and varied inventory.\n",
    "\n",
    "- With the medium walkscore group, the markets varied in the real estate features. But in general,the higher rent with lower vacancy tend to have higher walkscore."
   ]
  },
  {
   "cell_type": "markdown",
   "metadata": {
    "collapsed": true
   },
   "source": [
    "** Plan **\n",
    "\n",
    "In order to either justify my thoughts above or dive deep to fully understand the walkscore with other real estate features, it might be a good idea to implement multivariant regression model. Through that we could understand how the real estate features will reflect the walkscore through the coefficient or the feature importance. During that process, we could change the walk score to a categorical variable if the small difference in the walk score doesn't imply much info.\n",
    "\n",
    "With the verification above, it will be helpful to us to evaluate our current market perfomance, as well as serve as an indicator for the potential market identification. "
   ]
  },
  {
   "cell_type": "code",
   "execution_count": null,
   "metadata": {
    "collapsed": true
   },
   "outputs": [],
   "source": []
  },
  {
   "cell_type": "code",
   "execution_count": null,
   "metadata": {
    "collapsed": true
   },
   "outputs": [],
   "source": []
  }
 ],
 "metadata": {
  "colab": {
   "default_view": {},
   "name": "Potential Market Analytics.ipynb",
   "provenance": [],
   "version": "0.3.2",
   "views": {}
  },
  "kernelspec": {
   "display_name": "Python [conda root]",
   "language": "python",
   "name": "conda-root-py"
  },
  "language_info": {
   "codemirror_mode": {
    "name": "ipython",
    "version": 3
   },
   "file_extension": ".py",
   "mimetype": "text/x-python",
   "name": "python",
   "nbconvert_exporter": "python",
   "pygments_lexer": "ipython3",
   "version": "3.6.1"
  }
 },
 "nbformat": 4,
 "nbformat_minor": 1
}
