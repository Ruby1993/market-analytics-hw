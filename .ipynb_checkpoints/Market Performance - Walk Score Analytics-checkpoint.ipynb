{
 "cells": [
  {
   "cell_type": "markdown",
   "metadata": {
    "colab_type": "text",
    "id": "6gh6mzRLDv4s"
   },
   "source": [
    "## Market Performance - Walk Score Analytics"
   ]
  },
  {
   "cell_type": "markdown",
   "metadata": {},
   "source": [
    "### Project Overview"
   ]
  },
  {
   "cell_type": "markdown",
   "metadata": {
    "colab": {
     "autoexec": {
      "startup": false,
      "wait_interval": 0
     }
    },
    "colab_type": "code",
    "collapsed": true,
    "id": "6279M3JADv4v"
   },
   "source": [
    "The project is focused on the exploration of walk score with real estate performance metrics of WeWork building. It will help us to understand our current performance as well as to uncover how the walk score relates to our current performance metrics."
   ]
  },
  {
   "cell_type": "markdown",
   "metadata": {},
   "source": [
    "### Table of Contents\n",
    "* [Part 1. Market Data Enrichment](#Part-1.-Market-Data-Enrichment)\n",
    "    * [1.1 Data Loading](#1.1-Data-Loading)\n",
    "    * [1.2 Dataset Transformation and Data Type Conversion](#1.2-Dataset-Transformation-and-Data-Type-Conversion)\n",
    "    * [1.3 Dataset Integration](#1.3-Dataset-Integration)\n",
    "    * [1.4 Nan Value Processing](#1.4-Nan-Value-Processing)\n",
    "    * [1.5 Dataset Export](#1.5-Dataset-Export)\n",
    "\n",
    "\n",
    "* [Part 2. Geospatial Visualization](#Part-2.-Geospatial-Visualization)\n",
    "    * [2.1 Feature Exploration](#2.1-Feature-Exploration)\n",
    "    * [2.2 Visualization](#2.1-Visualization)\n",
    "        * [2.2.1 Python Visualization](#2.2.1-Python-Visualization)\n",
    "        * [2.2.2 QGIS Visualization](#2.2.2-QGIS-Visualization)\n",
    "        * [2.2.3 WebGIS Portal Visualization](#2.2.3-WebGIS-Portal-Visualization)\n",
    "   \n",
    "   \n",
    "* [Part 3. Variable Relationships Exploration](#Part-3.-Variable-Relationships-Exploration)\n",
    "    * [3.1 Features Overview](#3.1-Features-Overview)\n",
    "    * [3.2 Correlation Exploration](#3.2-Correlation-Exploration)\n",
    "    * [3.3 Multivariants Plot](#3.3-Multivariants-Plot)\n",
    "    * [3.4 Summary](#3.4-Summary)\n",
    "    "
   ]
  },
  {
   "cell_type": "markdown",
   "metadata": {},
   "source": [
    "### Part 1. Market Data Enrichment"
   ]
  },
  {
   "cell_type": "markdown",
   "metadata": {},
   "source": [
    "### 1.1 Data Loading\n",
    "#### 1.1.1 Wework Market Data - CSV "
   ]
  },
  {
   "cell_type": "code",
   "execution_count": 266,
   "metadata": {
    "colab": {
     "autoexec": {
      "startup": false,
      "wait_interval": 0
     }
    },
    "colab_type": "code",
    "collapsed": true,
    "id": "Vsrx8rTIDv4z"
   },
   "outputs": [],
   "source": [
    "import pandas as pd\n",
    "import json\n",
    "from pprint import pprint"
   ]
  },
  {
   "cell_type": "code",
   "execution_count": 267,
   "metadata": {
    "colab": {
     "autoexec": {
      "startup": false,
      "wait_interval": 0
     },
     "base_uri": "https://localhost:8080/",
     "height": 837
    },
    "colab_type": "code",
    "executionInfo": {
     "elapsed": 627,
     "status": "error",
     "timestamp": 1531761742568,
     "user": {
      "displayName": "Rui Zhang",
      "photoUrl": "//lh6.googleusercontent.com/-TLTzgWgn6xo/AAAAAAAAAAI/AAAAAAAAAMo/kLtp8wBwXsE/s50-c-k-no/photo.jpg",
      "userId": "111194499100953101189"
     },
     "user_tz": 240
    },
    "id": "23t2RKU_Dv42",
    "outputId": "51741ba4-0488-457f-eb06-7d29d3fc161b"
   },
   "outputs": [
    {
     "name": "stdout",
     "output_type": "stream",
     "text": [
      "41\n"
     ]
    }
   ],
   "source": [
    "market=pd.read_csv('market_data.csv')\n",
    "print (len(market))"
   ]
  },
  {
   "cell_type": "code",
   "execution_count": 268,
   "metadata": {
    "colab": {
     "autoexec": {
      "startup": false,
      "wait_interval": 0
     }
    },
    "colab_type": "code",
    "id": "AOKXVGqnDv4-",
    "outputId": "acf66831-051f-4753-a96d-1ad1b85cb740"
   },
   "outputs": [
    {
     "data": {
      "text/plain": [
       "MARKET NAME             object\n",
       "Total Inventory (SF)    object\n",
       "Vacancy                 object\n",
       "Asking Rent (USD/SF)    object\n",
       "dtype: object"
      ]
     },
     "execution_count": 268,
     "metadata": {},
     "output_type": "execute_result"
    }
   ],
   "source": [
    "market.dtypes"
   ]
  },
  {
   "cell_type": "code",
   "execution_count": 269,
   "metadata": {
    "colab": {
     "autoexec": {
      "startup": false,
      "wait_interval": 0
     }
    },
    "colab_type": "code",
    "id": "VsXLXk6uDv5B",
    "outputId": "98c36da6-8397-42a0-eef4-3d7babc60bfa"
   },
   "outputs": [
    {
     "name": "stdout",
     "output_type": "stream",
     "text": [
      "       MARKET NAME Total Inventory (SF) Vacancy Asking Rent (USD/SF)\n",
      "0     Philadelphia          135,570,108  12.70%              $26.43 \n",
      "1  Washington D.C.          332,015,221  16.20%              $41.34 \n",
      "2          Chicago          245,753,058  16.40%              $33.94 \n",
      "3          Detroit           67,520,823  18.90%              $19.16 \n",
      "4      Minneapolis           72,718,254  16.60%              $26.33 \n"
     ]
    }
   ],
   "source": [
    "print (market.head())"
   ]
  },
  {
   "cell_type": "markdown",
   "metadata": {},
   "source": [
    "#### 1.1.2 Walkscore Dataset - JSON file"
   ]
  },
  {
   "cell_type": "code",
   "execution_count": 270,
   "metadata": {
    "colab": {
     "autoexec": {
      "startup": false,
      "wait_interval": 0
     }
    },
    "colab_type": "code",
    "id": "9xf7W2gEDv5S",
    "outputId": "1d61ff0e-429d-41f3-ef1c-bcda5561d1c5"
   },
   "outputs": [
    {
     "name": "stdout",
     "output_type": "stream",
     "text": [
      "{'date': 1528395746,\n",
      " 'key': '910f0582fb65de286b0311fcded31d37',\n",
      " 'lat': 38.9048,\n",
      " 'lng': -77.0163,\n",
      " 'page': 'c',\n",
      " 'path': '/DC/Washington_D.C.',\n",
      " 'price_range': [None, None],\n",
      " 'slug': 'DC/Washington_D.C.',\n",
      " 'sort_date': 1528395746,\n",
      " 'thumb': 'https://pp2.walk.sc/s225/p/0/000000.jpg',\n",
      " 'title': '1239-1259 16th Street Northwest',\n",
      " 'walkscore': 91}\n"
     ]
    }
   ],
   "source": [
    "with open('ws_data.json') as f:\n",
    "    walk_score = json.load(f)\n",
    "\n",
    "pprint(walk_score['Washington'])"
   ]
  },
  {
   "cell_type": "markdown",
   "metadata": {},
   "source": [
    "### 1.2 Dataset Transformation and Data Type Conversion\n",
    "#### 1.2.1 Wework Market Dataset - Data Type Conversion"
   ]
  },
  {
   "cell_type": "code",
   "execution_count": 271,
   "metadata": {
    "colab": {
     "autoexec": {
      "startup": false,
      "wait_interval": 0
     }
    },
    "colab_type": "code",
    "collapsed": true,
    "id": "BuicwE5VDv5F"
   },
   "outputs": [],
   "source": [
    "#String processing\n",
    "market['Total Inventory (SF)']=market['Total Inventory (SF)'].str.replace(',','')\n",
    "#Type conversion\n",
    "market[['Total Inventory (SF)']]=market[['Total Inventory (SF)']].astype(float)\n",
    "\n",
    "#String processing\n",
    "market['Vacancy']=market['Vacancy'].str.replace('%','')\n",
    "#Type conversion\n",
    "market[['Vacancy']]=market[['Vacancy']].astype(float)\n",
    "\n",
    "\n",
    "#String processing\n",
    "market['Asking Rent (USD/SF)']=market['Asking Rent (USD/SF)'].str.replace('$','')\n",
    "#Type conversion\n",
    "market[['Asking Rent (USD/SF)']]=market[['Asking Rent (USD/SF)']].astype(float)"
   ]
  },
  {
   "cell_type": "code",
   "execution_count": 272,
   "metadata": {
    "colab": {
     "autoexec": {
      "startup": false,
      "wait_interval": 0
     }
    },
    "colab_type": "code",
    "collapsed": true,
    "id": "vKQEAugjDv5G"
   },
   "outputs": [],
   "source": [
    "## Columns name update\n",
    "market.columns=['MARKET NAME','Total Inventory (SF)','Vacancy%','Asking Rent (USD/SF)' ]"
   ]
  },
  {
   "cell_type": "code",
   "execution_count": 273,
   "metadata": {
    "colab": {
     "autoexec": {
      "startup": false,
      "wait_interval": 0
     }
    },
    "colab_type": "code",
    "id": "RGx-ZqJADv5M"
   },
   "outputs": [
    {
     "data": {
      "text/html": [
       "<div>\n",
       "<style>\n",
       "    .dataframe thead tr:only-child th {\n",
       "        text-align: right;\n",
       "    }\n",
       "\n",
       "    .dataframe thead th {\n",
       "        text-align: left;\n",
       "    }\n",
       "\n",
       "    .dataframe tbody tr th {\n",
       "        vertical-align: top;\n",
       "    }\n",
       "</style>\n",
       "<table border=\"1\" class=\"dataframe\">\n",
       "  <thead>\n",
       "    <tr style=\"text-align: right;\">\n",
       "      <th></th>\n",
       "      <th>MARKET NAME</th>\n",
       "      <th>Total Inventory (SF)</th>\n",
       "      <th>Vacancy%</th>\n",
       "      <th>Asking Rent (USD/SF)</th>\n",
       "    </tr>\n",
       "  </thead>\n",
       "  <tbody>\n",
       "    <tr>\n",
       "      <th>0</th>\n",
       "      <td>Philadelphia</td>\n",
       "      <td>135570108.0</td>\n",
       "      <td>12.7</td>\n",
       "      <td>26.43</td>\n",
       "    </tr>\n",
       "    <tr>\n",
       "      <th>1</th>\n",
       "      <td>Washington D.C.</td>\n",
       "      <td>332015221.0</td>\n",
       "      <td>16.2</td>\n",
       "      <td>41.34</td>\n",
       "    </tr>\n",
       "    <tr>\n",
       "      <th>2</th>\n",
       "      <td>Chicago</td>\n",
       "      <td>245753058.0</td>\n",
       "      <td>16.4</td>\n",
       "      <td>33.94</td>\n",
       "    </tr>\n",
       "    <tr>\n",
       "      <th>3</th>\n",
       "      <td>Detroit</td>\n",
       "      <td>67520823.0</td>\n",
       "      <td>18.9</td>\n",
       "      <td>19.16</td>\n",
       "    </tr>\n",
       "    <tr>\n",
       "      <th>4</th>\n",
       "      <td>Minneapolis</td>\n",
       "      <td>72718254.0</td>\n",
       "      <td>16.6</td>\n",
       "      <td>26.33</td>\n",
       "    </tr>\n",
       "  </tbody>\n",
       "</table>\n",
       "</div>"
      ],
      "text/plain": [
       "       MARKET NAME  Total Inventory (SF)  Vacancy%  Asking Rent (USD/SF)\n",
       "0     Philadelphia           135570108.0      12.7                 26.43\n",
       "1  Washington D.C.           332015221.0      16.2                 41.34\n",
       "2          Chicago           245753058.0      16.4                 33.94\n",
       "3          Detroit            67520823.0      18.9                 19.16\n",
       "4      Minneapolis            72718254.0      16.6                 26.33"
      ]
     },
     "execution_count": 273,
     "metadata": {},
     "output_type": "execute_result"
    }
   ],
   "source": [
    "market.head()"
   ]
  },
  {
   "cell_type": "markdown",
   "metadata": {},
   "source": [
    "#### 1.2.2 Walkscore Dataset - JSON file transformation and special character exclusion"
   ]
  },
  {
   "cell_type": "code",
   "execution_count": 274,
   "metadata": {
    "colab": {
     "autoexec": {
      "startup": false,
      "wait_interval": 0
     }
    },
    "colab_type": "code",
    "collapsed": true,
    "id": "dTFNLvnlDv5p"
   },
   "outputs": [],
   "source": [
    "score_csv=pd.DataFrame()\n",
    "for key,item in walk_score.items():\n",
    "    #print (key)\n",
    "    score_csv=score_csv.append({'city':key,'lat':item['lat'],'lng':item['lng'],'walkscore':item['walkscore'],'path_state':item['path'].split('/')[1],'path_city':item['path'].split('/')[2].replace('_',' ')},ignore_index=True)\n",
    "\n",
    "score_csv_copy= score_csv  # Used for the fuzzy string matche"
   ]
  },
  {
   "cell_type": "code",
   "execution_count": 275,
   "metadata": {
    "colab": {
     "autoexec": {
      "startup": false,
      "wait_interval": 0
     }
    },
    "colab_type": "code",
    "id": "GR8r42jGDv5s",
    "outputId": "f8e6f60b-f46a-4a52-aaef-03b08aaa4a93"
   },
   "outputs": [
    {
     "name": "stdout",
     "output_type": "stream",
     "text": [
      "99\n"
     ]
    }
   ],
   "source": [
    "print (len(score_csv))"
   ]
  },
  {
   "cell_type": "code",
   "execution_count": 276,
   "metadata": {
    "colab": {
     "autoexec": {
      "startup": false,
      "wait_interval": 0
     }
    },
    "colab_type": "code",
    "id": "BHAwwQn9Dv5v",
    "outputId": "1ab0ccd6-07aa-45ad-ab42-9ff44bb9bc09"
   },
   "outputs": [
    {
     "data": {
      "text/plain": [
       "city           object\n",
       "lat           float64\n",
       "lng           float64\n",
       "path_city      object\n",
       "path_state     object\n",
       "walkscore     float64\n",
       "dtype: object"
      ]
     },
     "execution_count": 276,
     "metadata": {},
     "output_type": "execute_result"
    }
   ],
   "source": [
    "score_csv.dtypes"
   ]
  },
  {
   "cell_type": "code",
   "execution_count": 277,
   "metadata": {
    "colab": {
     "autoexec": {
      "startup": false,
      "wait_interval": 0
     }
    },
    "colab_type": "code",
    "id": "DWf6c1PrDv53",
    "outputId": "2c5904ca-fdb8-41a7-df94-61e84086b594"
   },
   "outputs": [
    {
     "data": {
      "text/html": [
       "<div>\n",
       "<style>\n",
       "    .dataframe thead tr:only-child th {\n",
       "        text-align: right;\n",
       "    }\n",
       "\n",
       "    .dataframe thead th {\n",
       "        text-align: left;\n",
       "    }\n",
       "\n",
       "    .dataframe tbody tr th {\n",
       "        vertical-align: top;\n",
       "    }\n",
       "</style>\n",
       "<table border=\"1\" class=\"dataframe\">\n",
       "  <thead>\n",
       "    <tr style=\"text-align: right;\">\n",
       "      <th></th>\n",
       "      <th>city</th>\n",
       "      <th>lat</th>\n",
       "      <th>lng</th>\n",
       "      <th>path_city</th>\n",
       "      <th>path_state</th>\n",
       "      <th>walkscore</th>\n",
       "    </tr>\n",
       "  </thead>\n",
       "  <tbody>\n",
       "    <tr>\n",
       "      <th>0</th>\n",
       "      <td>New York</td>\n",
       "      <td>40.7238</td>\n",
       "      <td>-73.9764</td>\n",
       "      <td>New York</td>\n",
       "      <td>NY</td>\n",
       "      <td>96.0</td>\n",
       "    </tr>\n",
       "    <tr>\n",
       "      <th>1</th>\n",
       "      <td>Los Angeles</td>\n",
       "      <td>34.1070</td>\n",
       "      <td>-118.4120</td>\n",
       "      <td>Los Angeles</td>\n",
       "      <td>CA</td>\n",
       "      <td>5.0</td>\n",
       "    </tr>\n",
       "    <tr>\n",
       "      <th>2</th>\n",
       "      <td>Chicago</td>\n",
       "      <td>41.8369</td>\n",
       "      <td>-87.6848</td>\n",
       "      <td>Chicago</td>\n",
       "      <td>IL</td>\n",
       "      <td>41.0</td>\n",
       "    </tr>\n",
       "    <tr>\n",
       "      <th>3</th>\n",
       "      <td>Houston</td>\n",
       "      <td>29.7807</td>\n",
       "      <td>-95.3860</td>\n",
       "      <td>Houston</td>\n",
       "      <td>TX</td>\n",
       "      <td>72.0</td>\n",
       "    </tr>\n",
       "    <tr>\n",
       "      <th>4</th>\n",
       "      <td>Philadelphia</td>\n",
       "      <td>40.0076</td>\n",
       "      <td>-75.1340</td>\n",
       "      <td>Philadelphia</td>\n",
       "      <td>PA</td>\n",
       "      <td>75.0</td>\n",
       "    </tr>\n",
       "  </tbody>\n",
       "</table>\n",
       "</div>"
      ],
      "text/plain": [
       "           city      lat       lng     path_city path_state  walkscore\n",
       "0      New York  40.7238  -73.9764      New York         NY       96.0\n",
       "1   Los Angeles  34.1070 -118.4120   Los Angeles         CA        5.0\n",
       "2       Chicago  41.8369  -87.6848       Chicago         IL       41.0\n",
       "3       Houston  29.7807  -95.3860       Houston         TX       72.0\n",
       "4  Philadelphia  40.0076  -75.1340  Philadelphia         PA       75.0"
      ]
     },
     "execution_count": 277,
     "metadata": {},
     "output_type": "execute_result"
    }
   ],
   "source": [
    "score_csv.head()"
   ]
  },
  {
   "cell_type": "markdown",
   "metadata": {},
   "source": [
    "##### Addtional Part  -  ** import module to process the json data [It is the replacement of 1.2.2]**\n",
    "\n",
    "Here I wrote the transform function in the module which is the python file.It could be reused and simplified the code in json transformation work in the future. The output is the dataframe."
   ]
  },
  {
   "cell_type": "code",
   "execution_count": 278,
   "metadata": {
    "colab": {
     "autoexec": {
      "startup": false,
      "wait_interval": 0
     }
    },
    "colab_type": "code",
    "collapsed": true,
    "id": "MIZwmrLLDv5d"
   },
   "outputs": [],
   "source": [
    "import Module_Process as mp\n",
    "test=mp.json_csv('ws_data.json','city','lat','lng','walkscore')\n",
    "#pprint(test)"
   ]
  },
  {
   "cell_type": "code",
   "execution_count": 279,
   "metadata": {
    "colab": {
     "autoexec": {
      "startup": false,
      "wait_interval": 0
     }
    },
    "colab_type": "code",
    "collapsed": true,
    "id": "Q_iWw_yfDv57",
    "outputId": "43644886-b985-4103-87f9-33c07e7acf17"
   },
   "outputs": [],
   "source": [
    "# how many distinct states in the walkability score dataset (in US, we have 50 statues in total)\n",
    "#score_csv['path_state'].nunique()  # 34 States\n",
    "#score_csv['path_state'].unique()"
   ]
  },
  {
   "cell_type": "markdown",
   "metadata": {},
   "source": [
    "### 1.3 Dataset Integration\n",
    "\n",
    "The merge process is undertook based on the market name and the city name in the two dataset. \n",
    "\n",
    "As the business concept and text varies in the market name and city name, in order to make full use the walk score dataset, I'm gonna using left join based on the market name provided in the wework market dataset."
   ]
  },
  {
   "cell_type": "code",
   "execution_count": 280,
   "metadata": {
    "colab": {
     "autoexec": {
      "startup": false,
      "wait_interval": 0
     }
    },
    "colab_type": "code",
    "collapsed": true,
    "id": "cYz_J5JGDv6A"
   },
   "outputs": [],
   "source": [
    "market_full=pd.merge(market,score_csv,left_on='MARKET NAME',right_on='city',how='left')\n",
    "market_full_copy=market_full # Used for the fuzzy string matches"
   ]
  },
  {
   "cell_type": "code",
   "execution_count": 281,
   "metadata": {
    "colab": {
     "autoexec": {
      "startup": false,
      "wait_interval": 0
     }
    },
    "colab_type": "code",
    "id": "F_HsVvakDv6C",
    "outputId": "40ec07c1-2747-4c43-bc5e-e408463a0846",
    "scrolled": true
   },
   "outputs": [
    {
     "data": {
      "text/html": [
       "<div>\n",
       "<style>\n",
       "    .dataframe thead tr:only-child th {\n",
       "        text-align: right;\n",
       "    }\n",
       "\n",
       "    .dataframe thead th {\n",
       "        text-align: left;\n",
       "    }\n",
       "\n",
       "    .dataframe tbody tr th {\n",
       "        vertical-align: top;\n",
       "    }\n",
       "</style>\n",
       "<table border=\"1\" class=\"dataframe\">\n",
       "  <thead>\n",
       "    <tr style=\"text-align: right;\">\n",
       "      <th></th>\n",
       "      <th>MARKET NAME</th>\n",
       "      <th>Total Inventory (SF)</th>\n",
       "      <th>Vacancy%</th>\n",
       "      <th>Asking Rent (USD/SF)</th>\n",
       "      <th>city</th>\n",
       "      <th>lat</th>\n",
       "      <th>lng</th>\n",
       "      <th>path_city</th>\n",
       "      <th>path_state</th>\n",
       "      <th>walkscore</th>\n",
       "    </tr>\n",
       "  </thead>\n",
       "  <tbody>\n",
       "    <tr>\n",
       "      <th>0</th>\n",
       "      <td>Philadelphia</td>\n",
       "      <td>135570108.0</td>\n",
       "      <td>12.7</td>\n",
       "      <td>26.43</td>\n",
       "      <td>Philadelphia</td>\n",
       "      <td>40.0076</td>\n",
       "      <td>-75.1340</td>\n",
       "      <td>Philadelphia</td>\n",
       "      <td>PA</td>\n",
       "      <td>75.0</td>\n",
       "    </tr>\n",
       "    <tr>\n",
       "      <th>1</th>\n",
       "      <td>Washington D.C.</td>\n",
       "      <td>332015221.0</td>\n",
       "      <td>16.2</td>\n",
       "      <td>41.34</td>\n",
       "      <td>NaN</td>\n",
       "      <td>NaN</td>\n",
       "      <td>NaN</td>\n",
       "      <td>NaN</td>\n",
       "      <td>NaN</td>\n",
       "      <td>NaN</td>\n",
       "    </tr>\n",
       "    <tr>\n",
       "      <th>2</th>\n",
       "      <td>Chicago</td>\n",
       "      <td>245753058.0</td>\n",
       "      <td>16.4</td>\n",
       "      <td>33.94</td>\n",
       "      <td>Chicago</td>\n",
       "      <td>41.8369</td>\n",
       "      <td>-87.6848</td>\n",
       "      <td>Chicago</td>\n",
       "      <td>IL</td>\n",
       "      <td>41.0</td>\n",
       "    </tr>\n",
       "    <tr>\n",
       "      <th>3</th>\n",
       "      <td>Detroit</td>\n",
       "      <td>67520823.0</td>\n",
       "      <td>18.9</td>\n",
       "      <td>19.16</td>\n",
       "      <td>Detroit</td>\n",
       "      <td>42.3834</td>\n",
       "      <td>-83.1024</td>\n",
       "      <td>Detroit</td>\n",
       "      <td>MI</td>\n",
       "      <td>37.0</td>\n",
       "    </tr>\n",
       "    <tr>\n",
       "      <th>4</th>\n",
       "      <td>Minneapolis</td>\n",
       "      <td>72718254.0</td>\n",
       "      <td>16.6</td>\n",
       "      <td>26.33</td>\n",
       "      <td>Minneapolis</td>\n",
       "      <td>44.9635</td>\n",
       "      <td>-93.2678</td>\n",
       "      <td>Minneapolis</td>\n",
       "      <td>MN</td>\n",
       "      <td>80.0</td>\n",
       "    </tr>\n",
       "  </tbody>\n",
       "</table>\n",
       "</div>"
      ],
      "text/plain": [
       "       MARKET NAME  Total Inventory (SF)  Vacancy%  Asking Rent (USD/SF)  \\\n",
       "0     Philadelphia           135570108.0      12.7                 26.43   \n",
       "1  Washington D.C.           332015221.0      16.2                 41.34   \n",
       "2          Chicago           245753058.0      16.4                 33.94   \n",
       "3          Detroit            67520823.0      18.9                 19.16   \n",
       "4      Minneapolis            72718254.0      16.6                 26.33   \n",
       "\n",
       "           city      lat      lng     path_city path_state  walkscore  \n",
       "0  Philadelphia  40.0076 -75.1340  Philadelphia         PA       75.0  \n",
       "1           NaN      NaN      NaN           NaN        NaN        NaN  \n",
       "2       Chicago  41.8369 -87.6848       Chicago         IL       41.0  \n",
       "3       Detroit  42.3834 -83.1024       Detroit         MI       37.0  \n",
       "4   Minneapolis  44.9635 -93.2678   Minneapolis         MN       80.0  "
      ]
     },
     "execution_count": 281,
     "metadata": {},
     "output_type": "execute_result"
    }
   ],
   "source": [
    "market_full.head()"
   ]
  },
  {
   "cell_type": "markdown",
   "metadata": {},
   "source": [
    "As what it is, there are some markets which didn't get the info from the walk score dataset, which I will deal with below in details. "
   ]
  },
  {
   "cell_type": "code",
   "execution_count": 282,
   "metadata": {
    "colab": {
     "autoexec": {
      "startup": false,
      "wait_interval": 0
     }
    },
    "colab_type": "code",
    "id": "0t6GMAMrDv6F",
    "outputId": "c7f258eb-766c-433a-cf70-c97df9ba22a6"
   },
   "outputs": [
    {
     "data": {
      "text/html": [
       "<div>\n",
       "<style>\n",
       "    .dataframe thead tr:only-child th {\n",
       "        text-align: right;\n",
       "    }\n",
       "\n",
       "    .dataframe thead th {\n",
       "        text-align: left;\n",
       "    }\n",
       "\n",
       "    .dataframe tbody tr th {\n",
       "        vertical-align: top;\n",
       "    }\n",
       "</style>\n",
       "<table border=\"1\" class=\"dataframe\">\n",
       "  <thead>\n",
       "    <tr style=\"text-align: right;\">\n",
       "      <th></th>\n",
       "      <th>MARKET NAME</th>\n",
       "      <th>Total Inventory (SF)</th>\n",
       "      <th>Vacancy%</th>\n",
       "      <th>Asking Rent (USD/SF)</th>\n",
       "      <th>city</th>\n",
       "      <th>lat</th>\n",
       "      <th>lng</th>\n",
       "      <th>path_city</th>\n",
       "      <th>path_state</th>\n",
       "      <th>walkscore</th>\n",
       "    </tr>\n",
       "  </thead>\n",
       "  <tbody>\n",
       "    <tr>\n",
       "      <th>1</th>\n",
       "      <td>Washington D.C.</td>\n",
       "      <td>332015221.0</td>\n",
       "      <td>16.2</td>\n",
       "      <td>41.34</td>\n",
       "      <td>NaN</td>\n",
       "      <td>NaN</td>\n",
       "      <td>NaN</td>\n",
       "      <td>NaN</td>\n",
       "      <td>NaN</td>\n",
       "      <td>NaN</td>\n",
       "    </tr>\n",
       "    <tr>\n",
       "      <th>10</th>\n",
       "      <td>Nashville</td>\n",
       "      <td>36281816.0</td>\n",
       "      <td>11.2</td>\n",
       "      <td>27.27</td>\n",
       "      <td>NaN</td>\n",
       "      <td>NaN</td>\n",
       "      <td>NaN</td>\n",
       "      <td>NaN</td>\n",
       "      <td>NaN</td>\n",
       "      <td>NaN</td>\n",
       "    </tr>\n",
       "    <tr>\n",
       "      <th>11</th>\n",
       "      <td>Raleigh-Durham</td>\n",
       "      <td>48150905.0</td>\n",
       "      <td>10.6</td>\n",
       "      <td>24.61</td>\n",
       "      <td>NaN</td>\n",
       "      <td>NaN</td>\n",
       "      <td>NaN</td>\n",
       "      <td>NaN</td>\n",
       "      <td>NaN</td>\n",
       "      <td>NaN</td>\n",
       "    </tr>\n",
       "    <tr>\n",
       "      <th>12</th>\n",
       "      <td>Brooklyn</td>\n",
       "      <td>47609232.0</td>\n",
       "      <td>20.0</td>\n",
       "      <td>46.92</td>\n",
       "      <td>NaN</td>\n",
       "      <td>NaN</td>\n",
       "      <td>NaN</td>\n",
       "      <td>NaN</td>\n",
       "      <td>NaN</td>\n",
       "      <td>NaN</td>\n",
       "    </tr>\n",
       "    <tr>\n",
       "      <th>13</th>\n",
       "      <td>Manhattan</td>\n",
       "      <td>23847963.0</td>\n",
       "      <td>8.5</td>\n",
       "      <td>72.48</td>\n",
       "      <td>NaN</td>\n",
       "      <td>NaN</td>\n",
       "      <td>NaN</td>\n",
       "      <td>NaN</td>\n",
       "      <td>NaN</td>\n",
       "      <td>NaN</td>\n",
       "    </tr>\n",
       "    <tr>\n",
       "      <th>18</th>\n",
       "      <td>Silicon Valley</td>\n",
       "      <td>70622781.0</td>\n",
       "      <td>19.4</td>\n",
       "      <td>49.92</td>\n",
       "      <td>NaN</td>\n",
       "      <td>NaN</td>\n",
       "      <td>NaN</td>\n",
       "      <td>NaN</td>\n",
       "      <td>NaN</td>\n",
       "      <td>NaN</td>\n",
       "    </tr>\n",
       "    <tr>\n",
       "      <th>20</th>\n",
       "      <td>Orange County</td>\n",
       "      <td>97702972.0</td>\n",
       "      <td>12.8</td>\n",
       "      <td>35.16</td>\n",
       "      <td>NaN</td>\n",
       "      <td>NaN</td>\n",
       "      <td>NaN</td>\n",
       "      <td>NaN</td>\n",
       "      <td>NaN</td>\n",
       "      <td>NaN</td>\n",
       "    </tr>\n",
       "    <tr>\n",
       "      <th>26</th>\n",
       "      <td>Salt Lake City</td>\n",
       "      <td>57606204.0</td>\n",
       "      <td>9.0</td>\n",
       "      <td>23.24</td>\n",
       "      <td>NaN</td>\n",
       "      <td>NaN</td>\n",
       "      <td>NaN</td>\n",
       "      <td>NaN</td>\n",
       "      <td>NaN</td>\n",
       "      <td>NaN</td>\n",
       "    </tr>\n",
       "    <tr>\n",
       "      <th>31</th>\n",
       "      <td>Tampa Bay</td>\n",
       "      <td>34893619.0</td>\n",
       "      <td>11.4</td>\n",
       "      <td>25.28</td>\n",
       "      <td>NaN</td>\n",
       "      <td>NaN</td>\n",
       "      <td>NaN</td>\n",
       "      <td>NaN</td>\n",
       "      <td>NaN</td>\n",
       "      <td>NaN</td>\n",
       "    </tr>\n",
       "  </tbody>\n",
       "</table>\n",
       "</div>"
      ],
      "text/plain": [
       "        MARKET NAME  Total Inventory (SF)  Vacancy%  Asking Rent (USD/SF)  \\\n",
       "1   Washington D.C.           332015221.0      16.2                 41.34   \n",
       "10        Nashville            36281816.0      11.2                 27.27   \n",
       "11   Raleigh-Durham            48150905.0      10.6                 24.61   \n",
       "12         Brooklyn            47609232.0      20.0                 46.92   \n",
       "13        Manhattan            23847963.0       8.5                 72.48   \n",
       "18   Silicon Valley            70622781.0      19.4                 49.92   \n",
       "20    Orange County            97702972.0      12.8                 35.16   \n",
       "26   Salt Lake City            57606204.0       9.0                 23.24   \n",
       "31        Tampa Bay            34893619.0      11.4                 25.28   \n",
       "\n",
       "   city  lat  lng path_city path_state  walkscore  \n",
       "1   NaN  NaN  NaN       NaN        NaN        NaN  \n",
       "10  NaN  NaN  NaN       NaN        NaN        NaN  \n",
       "11  NaN  NaN  NaN       NaN        NaN        NaN  \n",
       "12  NaN  NaN  NaN       NaN        NaN        NaN  \n",
       "13  NaN  NaN  NaN       NaN        NaN        NaN  \n",
       "18  NaN  NaN  NaN       NaN        NaN        NaN  \n",
       "20  NaN  NaN  NaN       NaN        NaN        NaN  \n",
       "26  NaN  NaN  NaN       NaN        NaN        NaN  \n",
       "31  NaN  NaN  NaN       NaN        NaN        NaN  "
      ]
     },
     "execution_count": 282,
     "metadata": {},
     "output_type": "execute_result"
    }
   ],
   "source": [
    "##  The 9 null records\n",
    "null_checks=market_full.loc[market_full['city'].isnull()]\n",
    "null_checks"
   ]
  },
  {
   "cell_type": "markdown",
   "metadata": {},
   "source": [
    "### 1.4 Nan Value Processing\n",
    "\n",
    "Basically, there are three different situations related to the Nan value.\n",
    "\n",
    "** 1). City names are slightly different from the market names.**\n",
    "\n",
    "For this case, it is necessary to make it consistent in order to bring the walk score into the market dataset.\n",
    "\n",
    "** 2). The market names didn't show up in the walk score json file. In this case, there are three different situations,**\n",
    "\n",
    "- a. If the market name is based on the city level but still cannot bring in the walk score info, then the market is missing in the walk score dataset;\n",
    "\n",
    "Here I tried to search that city in the walk score website. If it exists, we could manually bring the walk score info in. Otherwise, we will leave the walk score info as null.\n",
    "\n",
    "- b. If the market is based on the region level that includes more than one cities, then the market info is missing in the walk score dataset;\n",
    "  \n",
    "I tried to use the average estimation based on relevant cities info in the extra section.But it is just the estimation, and won't be included in the visualization and analysis part later. \n",
    "\n",
    "- c. If the market is within city, then we might could get the estimation based on the all the relevant cities walk score info.\n",
    "\n",
    "As the dataset doesn't contain that detailed info, I tried to use that city data to fill in the all the markets within that city. But it is just the estimation, and won't be considered in the visualization and analysis part."
   ]
  },
  {
   "cell_type": "markdown",
   "metadata": {},
   "source": [
    "#### 1.4.1 Deal with the Nans on similar market and city names [Situation 1]"
   ]
  },
  {
   "cell_type": "code",
   "execution_count": 283,
   "metadata": {
    "colab": {
     "autoexec": {
      "startup": false,
      "wait_interval": 0
     }
    },
    "colab_type": "code",
    "collapsed": true,
    "id": "Damzipc9Dv6I"
   },
   "outputs": [],
   "source": [
    "## 1. City name are slightly different from the market name\n",
    "#Washington -- Washington D.C.\n",
    "score_csv.loc[score_csv['city']=='Washington','city']='Washington D.C.'\n",
    "#Nashville-Davidson  --  Nashville\n",
    "score_csv.loc[score_csv['city']=='Nashville-Davidson','city']='Nashville'\n",
    "#Tampa --  Tampa Bay   as Tampa Bay is the part of the Tampa\n",
    "score_csv.loc[score_csv['city']=='Tampa','city']='Tampa Bay'\n",
    "\n",
    "# Brooklyn/Manhattan/Silicon Valley/Orange County/Salt Lake City"
   ]
  },
  {
   "cell_type": "markdown",
   "metadata": {},
   "source": [
    "##### Advanced Part -Match data based on text similarity [Replacement of Part 1.4.1]\n",
    "\n",
    "Since the flexibility is rooted in the text or string itself, in order to manually find the matched one, we could use fuzzy string matched method.\n",
    "\n",
    "Here I am gonna using this method to help identify the potential matched city info with walk score for that null 9 records. The result is the same as the output went through the Part 1.4.1."
   ]
  },
  {
   "cell_type": "code",
   "execution_count": 284,
   "metadata": {
    "collapsed": true
   },
   "outputs": [],
   "source": [
    "from fuzzywuzzy import fuzz\n",
    "from fuzzywuzzy import process"
   ]
  },
  {
   "cell_type": "code",
   "execution_count": 285,
   "metadata": {},
   "outputs": [
    {
     "data": {
      "text/plain": [
       "{'Brooklyn': ('Boston', 57, 23),\n",
       " 'Manhattan': ('Omaha', 72, 40),\n",
       " 'Nashville': ('Nashville', 100, 24),\n",
       " 'Orange County': ('Orlando', 53, 75),\n",
       " 'Raleigh-Durham': ('Raleigh', 90, 41),\n",
       " 'Salt Lake City': ('Mesa', 64, 36),\n",
       " 'Silicon Valley': ('Lincoln', 64, 70),\n",
       " 'Tampa Bay': ('Tampa Bay', 100, 51),\n",
       " 'Washington D.C.': ('Washington D.C.', 100, 22)}"
      ]
     },
     "execution_count": 285,
     "metadata": {},
     "output_type": "execute_result"
    }
   ],
   "source": [
    "market_name=null_checks['MARKET NAME']\n",
    "city_name=score_csv_copy['city']\n",
    "output={}\n",
    "score=[]\n",
    "for i in market_name:\n",
    "    output[i]=process.extractOne(i, city_name) # return the top matched string in the city_name list\n",
    "output"
   ]
  },
  {
   "cell_type": "code",
   "execution_count": 286,
   "metadata": {
    "collapsed": true
   },
   "outputs": [],
   "source": [
    "for key, item in output.items():\n",
    "    if item[1]>=90:\n",
    "        #print (item)\n",
    "        market_full_copy.loc[market_full_copy['MARKET NAME']==key,'walkscore']=score_csv_copy.loc[score_csv_copy['city']==item[0],'walkscore'].values[0]\n",
    "        market_full_copy.loc[market_full_copy['MARKET NAME']==key,'city']=item[0]\n",
    "        market_full_copy.loc[market_full_copy['MARKET NAME']==key,'lat']=score_csv_copy.loc[score_csv_copy['city']==item[0],'lat'].values[0]\n",
    "        market_full_copy.loc[market_full_copy['MARKET NAME']==key,'lng']=score_csv_copy.loc[score_csv_copy['city']==item[0],'lng'].values[0]\n",
    "        market_full_copy.loc[market_full_copy['MARKET NAME']==key,'path_city']=score_csv_copy.loc[score_csv_copy['city']==item[0],'path_city'].values[0]\n",
    "        market_full_copy.loc[market_full_copy['MARKET NAME']==key,'path_state']=score_csv_copy.loc[score_csv_copy['city']==item[0],'path_state'].values[0]\n",
    "       "
   ]
  },
  {
   "cell_type": "code",
   "execution_count": 287,
   "metadata": {},
   "outputs": [
    {
     "data": {
      "text/html": [
       "<div>\n",
       "<style>\n",
       "    .dataframe thead tr:only-child th {\n",
       "        text-align: right;\n",
       "    }\n",
       "\n",
       "    .dataframe thead th {\n",
       "        text-align: left;\n",
       "    }\n",
       "\n",
       "    .dataframe tbody tr th {\n",
       "        vertical-align: top;\n",
       "    }\n",
       "</style>\n",
       "<table border=\"1\" class=\"dataframe\">\n",
       "  <thead>\n",
       "    <tr style=\"text-align: right;\">\n",
       "      <th></th>\n",
       "      <th>MARKET NAME</th>\n",
       "      <th>Total Inventory (SF)</th>\n",
       "      <th>Vacancy%</th>\n",
       "      <th>Asking Rent (USD/SF)</th>\n",
       "      <th>city</th>\n",
       "      <th>lat</th>\n",
       "      <th>lng</th>\n",
       "      <th>path_city</th>\n",
       "      <th>path_state</th>\n",
       "      <th>walkscore</th>\n",
       "    </tr>\n",
       "  </thead>\n",
       "  <tbody>\n",
       "    <tr>\n",
       "      <th>12</th>\n",
       "      <td>Brooklyn</td>\n",
       "      <td>47609232.0</td>\n",
       "      <td>20.0</td>\n",
       "      <td>46.92</td>\n",
       "      <td>NaN</td>\n",
       "      <td>NaN</td>\n",
       "      <td>NaN</td>\n",
       "      <td>NaN</td>\n",
       "      <td>NaN</td>\n",
       "      <td>NaN</td>\n",
       "    </tr>\n",
       "    <tr>\n",
       "      <th>13</th>\n",
       "      <td>Manhattan</td>\n",
       "      <td>23847963.0</td>\n",
       "      <td>8.5</td>\n",
       "      <td>72.48</td>\n",
       "      <td>NaN</td>\n",
       "      <td>NaN</td>\n",
       "      <td>NaN</td>\n",
       "      <td>NaN</td>\n",
       "      <td>NaN</td>\n",
       "      <td>NaN</td>\n",
       "    </tr>\n",
       "    <tr>\n",
       "      <th>18</th>\n",
       "      <td>Silicon Valley</td>\n",
       "      <td>70622781.0</td>\n",
       "      <td>19.4</td>\n",
       "      <td>49.92</td>\n",
       "      <td>NaN</td>\n",
       "      <td>NaN</td>\n",
       "      <td>NaN</td>\n",
       "      <td>NaN</td>\n",
       "      <td>NaN</td>\n",
       "      <td>NaN</td>\n",
       "    </tr>\n",
       "    <tr>\n",
       "      <th>20</th>\n",
       "      <td>Orange County</td>\n",
       "      <td>97702972.0</td>\n",
       "      <td>12.8</td>\n",
       "      <td>35.16</td>\n",
       "      <td>NaN</td>\n",
       "      <td>NaN</td>\n",
       "      <td>NaN</td>\n",
       "      <td>NaN</td>\n",
       "      <td>NaN</td>\n",
       "      <td>NaN</td>\n",
       "    </tr>\n",
       "    <tr>\n",
       "      <th>26</th>\n",
       "      <td>Salt Lake City</td>\n",
       "      <td>57606204.0</td>\n",
       "      <td>9.0</td>\n",
       "      <td>23.24</td>\n",
       "      <td>NaN</td>\n",
       "      <td>NaN</td>\n",
       "      <td>NaN</td>\n",
       "      <td>NaN</td>\n",
       "      <td>NaN</td>\n",
       "      <td>NaN</td>\n",
       "    </tr>\n",
       "  </tbody>\n",
       "</table>\n",
       "</div>"
      ],
      "text/plain": [
       "       MARKET NAME  Total Inventory (SF)  Vacancy%  Asking Rent (USD/SF) city  \\\n",
       "12        Brooklyn            47609232.0      20.0                 46.92  NaN   \n",
       "13       Manhattan            23847963.0       8.5                 72.48  NaN   \n",
       "18  Silicon Valley            70622781.0      19.4                 49.92  NaN   \n",
       "20   Orange County            97702972.0      12.8                 35.16  NaN   \n",
       "26  Salt Lake City            57606204.0       9.0                 23.24  NaN   \n",
       "\n",
       "    lat  lng path_city path_state  walkscore  \n",
       "12  NaN  NaN       NaN        NaN        NaN  \n",
       "13  NaN  NaN       NaN        NaN        NaN  \n",
       "18  NaN  NaN       NaN        NaN        NaN  \n",
       "20  NaN  NaN       NaN        NaN        NaN  \n",
       "26  NaN  NaN       NaN        NaN        NaN  "
      ]
     },
     "execution_count": 287,
     "metadata": {},
     "output_type": "execute_result"
    }
   ],
   "source": [
    "market_full_copy.loc[market_full_copy['city'].isnull()]"
   ]
  },
  {
   "cell_type": "markdown",
   "metadata": {},
   "source": [
    "As we could see, some of the Nan records are fixed based on the similarity between the market name and the city name. \n",
    "All the other Nan records are within the second situation, which require manual work to fix."
   ]
  },
  {
   "cell_type": "markdown",
   "metadata": {},
   "source": [
    "#### 1.4.2 Deal with the Nans on various market and city names [Situation 2]\n",
    "##### Situation 2.a The market name is missing in the json file"
   ]
  },
  {
   "cell_type": "code",
   "execution_count": 288,
   "metadata": {
    "colab": {
     "autoexec": {
      "startup": false,
      "wait_interval": 0
     }
    },
    "colab_type": "code",
    "collapsed": true,
    "id": "eQ0OblBHDv6K"
   },
   "outputs": [],
   "source": [
    "# 2.a The city is missing in the json file\n",
    "# Salt Lake City is not in the json file, so I did the manual search in the walk score website\n",
    "\n",
    "#new_row=['Salt Lake City','40.7608','-111.8910','Salt Lake City','UT','57']\n",
    "score_csv=score_csv.append({'city':'Salt Lake City','lat':40.7608,'lng':-111.8910,'walkscore':57,'path_state':'UT','path_city':'Salt Lake City'},ignore_index=True)\n"
   ]
  },
  {
   "cell_type": "markdown",
   "metadata": {},
   "source": [
    "##### Situation 2.b The market is on the region level\n",
    "\n",
    "As we could see, Silicon valley, Orange County, and Raleigh-Durham include more than one city in its market scope.\n",
    "For Raleigh-Durham, I will simply estimate the walk score based on the average value of the two cities. For the other two, it is hard to get all the involved cities info, so I will not deal with it for now."
   ]
  },
  {
   "cell_type": "code",
   "execution_count": 289,
   "metadata": {
    "colab": {
     "autoexec": {
      "startup": false,
      "wait_interval": 0
     }
    },
    "colab_type": "code",
    "collapsed": true,
    "id": "e8-Ja2YYDv6M"
   },
   "outputs": [],
   "source": [
    "# Some markets are not in the city level, which can't bring the exact walk score info\n",
    "\n",
    "# Raleigh-Durham -- in walk score dataset, Raleigh and Durham are two cities appeared seperately\n",
    "#In order to bring the info based on the market Raleigh-Durham, I will bring average value of that two cities\n",
    "\n",
    "Raleigh_walkscore=score_csv.loc[score_csv['city']=='Raleigh']['walkscore'].values[0]\n",
    "Durham_walkscore=score_csv.loc[score_csv['city']=='Durham']['walkscore'].values[0]\n",
    "Raleigh_lat=score_csv.loc[score_csv['city']=='Raleigh']['lat'].values[0]\n",
    "Durham_lat=score_csv.loc[score_csv['city']=='Durham']['lat'].values[0]\n",
    "Raleigh_lng=score_csv.loc[score_csv['city']=='Raleigh']['lng'].values[0]\n",
    "Durham_lng=score_csv.loc[score_csv['city']=='Durham']['lng'].values[0]\n",
    "\n",
    "score_csv=score_csv.append({'city':'Raleigh-Durham','lat':(Raleigh_lat+Durham_lat)/2,'lng':(Raleigh_lng+Durham_lng)/2,'walkscore':(Raleigh_walkscore+Durham_walkscore)/2,'path_state':'NC','path_city':'Raleigh-Durham'},ignore_index=True)\n",
    "\n",
    "# Brooklyn/Manhattan/Silicon Valley/Orange County/Raleigh-Durham\n"
   ]
  },
  {
   "cell_type": "code",
   "execution_count": 290,
   "metadata": {
    "colab": {
     "autoexec": {
      "startup": false,
      "wait_interval": 0
     }
    },
    "colab_type": "code",
    "collapsed": true,
    "id": "rVBC7R6CDv6O"
   },
   "outputs": [],
   "source": [
    "market_full=pd.merge(market,score_csv,left_on='MARKET NAME',right_on='city',how='inner')"
   ]
  },
  {
   "cell_type": "markdown",
   "metadata": {
    "colab_type": "text",
    "id": "rlds4xs0Dv6b"
   },
   "source": [
    "##### Try out (Other special cases on the Nan value)\n",
    "\n",
    "I tried to deal with some left cases in the nan value section here. But the output won't be used for the analysis later as the estimated walkscore need to be cross checked ."
   ]
  },
  {
   "cell_type": "code",
   "execution_count": 291,
   "metadata": {
    "colab": {
     "autoexec": {
      "startup": false,
      "wait_interval": 0
     }
    },
    "colab_type": "code",
    "collapsed": true,
    "id": "QCkCuxn9Dv6S"
   },
   "outputs": [],
   "source": [
    "market_full2=pd.merge(market,score_csv,left_on='MARKET NAME',right_on='city',how='left')"
   ]
  },
  {
   "cell_type": "code",
   "execution_count": 292,
   "metadata": {
    "colab": {
     "autoexec": {
      "startup": false,
      "wait_interval": 0
     }
    },
    "colab_type": "code",
    "collapsed": true,
    "id": "oMcc2ZDXDv6c"
   },
   "outputs": [],
   "source": [
    "## Special Case\n",
    "# There is no detailed walk score for boroughs in New York, so using new york overall score to fill in instead of the null value.\n",
    "#score_csv.loc[score_csv['city']=='New York']\n",
    "market_full2.loc[market_full2['MARKET NAME']=='Brooklyn','city']='Brooklyn'\n",
    "market_full2.loc[market_full2['MARKET NAME']=='Brooklyn','lat']=40.6782\n",
    "market_full2.loc[market_full2['MARKET NAME']=='Brooklyn','lng']=-73.9442\n",
    "market_full2.loc[market_full2['MARKET NAME']=='Brooklyn','path_city']='New York'\n",
    "market_full2.loc[market_full2['MARKET NAME']=='Brooklyn','path_state']='NY'\n",
    "market_full2.loc[market_full2['MARKET NAME']=='Brooklyn','walkscore']=score_csv.loc[score_csv['city']=='New York']['walkscore'].values[0]\n",
    "\n",
    "market_full2.loc[market_full2['MARKET NAME']=='Manhattan','city']='Manhattan'\n",
    "market_full2.loc[market_full2['MARKET NAME']=='Manhattan','lat']=40.7831\n",
    "market_full2.loc[market_full2['MARKET NAME']=='Manhattan','lng']=-73.9712\n",
    "market_full2.loc[market_full2['MARKET NAME']=='Manhattan','path_city']='New York'\n",
    "market_full2.loc[market_full2['MARKET NAME']=='Manhattan','path_state']='NY'\n",
    "market_full2.loc[market_full2['MARKET NAME']=='Manhattan','walkscore']=score_csv.loc[score_csv['city']=='New York']['walkscore'].values[0]\n"
   ]
  },
  {
   "cell_type": "code",
   "execution_count": 293,
   "metadata": {
    "colab": {
     "autoexec": {
      "startup": false,
      "wait_interval": 0
     }
    },
    "colab_type": "code",
    "collapsed": true,
    "id": "jiELc-6vDv6e"
   },
   "outputs": [],
   "source": [
    "#Silicon Valley lies in the South Bay and the southern Peninsula of the San Francisco Bay Area, \n",
    "#which I will use the San Francisco info to fill in as the estimation.\n",
    "\n",
    "market_full2.loc[market_full2['MARKET NAME']=='Silicon Valley','city']='San Francisco'\n",
    "market_full2.loc[market_full2['MARKET NAME']=='Silicon Valley','lat']=37.3875\n",
    "market_full2.loc[market_full2['MARKET NAME']=='Silicon Valley','lng']=-122.0575\n",
    "market_full2.loc[market_full2['MARKET NAME']=='Silicon Valley','path_city']='San Francisco'\n",
    "market_full2.loc[market_full2['MARKET NAME']=='Silicon Valley','path_state']='CA'\n",
    "market_full2.loc[market_full2['MARKET NAME']=='Silicon Valley','walkscore']=score_csv.loc[score_csv['city']=='San Francisco']['walkscore'].values[0]\n",
    "\n",
    "#Orange County market includes multiple cities, which I used the orange city in to fill in as the estimation.\n",
    "\n",
    "market_full2.loc[market_full2['MARKET NAME']=='Orange County','city']='Orange'\n",
    "market_full2.loc[market_full2['MARKET NAME']=='Orange County','lat']=33.7175\n",
    "market_full2.loc[market_full2['MARKET NAME']=='Orange County','lng']=-117.8311\n",
    "market_full2.loc[market_full2['MARKET NAME']=='Orange County','path_city']='Orange'\n",
    "market_full2.loc[market_full2['MARKET NAME']=='Orange County','path_state']='CA'\n",
    "market_full2.loc[market_full2['MARKET NAME']=='Orange County','walkscore']=51\n"
   ]
  },
  {
   "cell_type": "markdown",
   "metadata": {},
   "source": [
    "### 1.5 Dataset Export"
   ]
  },
  {
   "cell_type": "code",
   "execution_count": 294,
   "metadata": {
    "colab": {
     "autoexec": {
      "startup": false,
      "wait_interval": 0
     }
    },
    "colab_type": "code",
    "id": "y52g9OBEDv6f",
    "outputId": "755be0bd-0490-41ad-deb2-851d71e2b069"
   },
   "outputs": [
    {
     "name": "stdout",
     "output_type": "stream",
     "text": [
      "<class 'pandas.core.frame.DataFrame'>\n",
      "Int64Index: 37 entries, 0 to 36\n",
      "Data columns (total 10 columns):\n",
      "MARKET NAME             37 non-null object\n",
      "Total Inventory (SF)    37 non-null float64\n",
      "Vacancy%                37 non-null float64\n",
      "Asking Rent (USD/SF)    37 non-null float64\n",
      "city                    37 non-null object\n",
      "lat                     37 non-null float64\n",
      "lng                     37 non-null float64\n",
      "path_city               37 non-null object\n",
      "path_state              37 non-null object\n",
      "walkscore               37 non-null float64\n",
      "dtypes: float64(6), object(4)\n",
      "memory usage: 3.2+ KB\n"
     ]
    }
   ],
   "source": [
    "market_full.info()"
   ]
  },
  {
   "cell_type": "code",
   "execution_count": 295,
   "metadata": {
    "colab": {
     "autoexec": {
      "startup": false,
      "wait_interval": 0
     }
    },
    "colab_type": "code",
    "id": "TYI4ZLLdDv6k",
    "outputId": "98a4fe9a-46ab-44b4-9a2f-aa8ae4bc97f2"
   },
   "outputs": [
    {
     "name": "stdout",
     "output_type": "stream",
     "text": [
      "<class 'pandas.core.frame.DataFrame'>\n",
      "Int64Index: 41 entries, 0 to 40\n",
      "Data columns (total 10 columns):\n",
      "MARKET NAME             41 non-null object\n",
      "Total Inventory (SF)    41 non-null float64\n",
      "Vacancy%                41 non-null float64\n",
      "Asking Rent (USD/SF)    41 non-null float64\n",
      "city                    41 non-null object\n",
      "lat                     41 non-null float64\n",
      "lng                     41 non-null float64\n",
      "path_city               41 non-null object\n",
      "path_state              41 non-null object\n",
      "walkscore               41 non-null float64\n",
      "dtypes: float64(6), object(4)\n",
      "memory usage: 3.5+ KB\n"
     ]
    }
   ],
   "source": [
    "market_full2.info()"
   ]
  },
  {
   "cell_type": "code",
   "execution_count": 296,
   "metadata": {
    "colab": {
     "autoexec": {
      "startup": false,
      "wait_interval": 0
     }
    },
    "colab_type": "code",
    "collapsed": true,
    "id": "d38PHLkFDv6o"
   },
   "outputs": [],
   "source": [
    "# Only including the matched records (It will be used for the visualization and analysis)\n",
    "market_full.to_csv('Market_Info_CityOnly.csv',sep=',',index = False,encoding='utf-8')\n",
    "# Including the matched records as well as the estimation records\n",
    "#market_full2.to_csv('Market_Info_full.csv',sep=',',index = False,encoding='utf-8')"
   ]
  },
  {
   "cell_type": "markdown",
   "metadata": {
    "colab_type": "text",
    "id": "1X4nL_rFDv6-"
   },
   "source": [
    "### Part 2. Geospatial Visualization"
   ]
  },
  {
   "cell_type": "markdown",
   "metadata": {
    "colab_type": "text",
    "id": "tSklim-DDv6_"
   },
   "source": [
    "For the geospatial visualization, I plan to use three different ways to visualize the market with the walkscore and vacancy info seperately.\n",
    "\n",
    "** Dimension: ** a. Walkscore b. Vacancy%\n",
    "\n",
    "** Visualization Method**\n",
    "\n",
    "- Python \n",
    "- GIS software (PostgreSQL+QGIS)\n",
    "- Web Map Portal (CartoDB)"
   ]
  },
  {
   "cell_type": "markdown",
   "metadata": {
    "colab_type": "text",
    "id": "zEmtPSBsDv6r"
   },
   "source": [
    "### 2.1 Feature Exploration"
   ]
  },
  {
   "cell_type": "markdown",
   "metadata": {},
   "source": [
    "Before visualizing walkscore or vacancy info,feature exploration would help us to set the class range on the map."
   ]
  },
  {
   "cell_type": "code",
   "execution_count": 297,
   "metadata": {
    "collapsed": true
   },
   "outputs": [],
   "source": [
    "import seaborn as sns\n",
    "%matplotlib inline"
   ]
  },
  {
   "cell_type": "code",
   "execution_count": 298,
   "metadata": {
    "scrolled": true
   },
   "outputs": [
    {
     "data": {
      "image/png": "[encoded data removed]",
      "text/plain": [
       "<matplotlib.figure.Figure at 0x117f99320>"
      ]
     },
     "metadata": {},
     "output_type": "display_data"
    }
   ],
   "source": [
    "sns.set(color_codes=True)\n",
    "sns.set_palette(sns.color_palette(\"muted\"))\n",
    "sns.distplot(market_full[\"walkscore\"].dropna()/5);"
   ]
  },
  {
   "cell_type": "code",
   "execution_count": 299,
   "metadata": {
    "scrolled": true
   },
   "outputs": [
    {
     "data": {
      "image/png": "[encoded data removed]",
      "text/plain": [
       "<matplotlib.figure.Figure at 0x11908ec18>"
      ]
     },
     "metadata": {},
     "output_type": "display_data"
    }
   ],
   "source": [
    "sns.set(color_codes=True)\n",
    "sns.set_palette(sns.color_palette(\"muted\"))\n",
    "sns.distplot(market_full[\"Vacancy%\"]);"
   ]
  },
  {
   "cell_type": "markdown",
   "metadata": {},
   "source": [
    "### 2.2 Visualization"
   ]
  },
  {
   "cell_type": "markdown",
   "metadata": {},
   "source": [
    "As the markets are based on the specific longitude and latitude, I plan to use the dot map with color-coded or the bubble map with size-coded.\n",
    "\n",
    "Actually the bubble map could incorporate two dimensions of the dataset, but in order to show it more clearly,I plotted seperately in two layers using dot map and bubble map."
   ]
  },
  {
   "cell_type": "markdown",
   "metadata": {},
   "source": [
    "#### 2.2.1 Python Visualization"
   ]
  },
  {
   "cell_type": "code",
   "execution_count": 300,
   "metadata": {
    "colab": {
     "autoexec": {
      "startup": false,
      "wait_interval": 0
     }
    },
    "colab_type": "code",
    "collapsed": true,
    "id": "3ty8V3RODv7B"
   },
   "outputs": [],
   "source": [
    "import folium\n",
    "from folium.plugins import MarkerCluster"
   ]
  },
  {
   "cell_type": "code",
   "execution_count": 301,
   "metadata": {
    "colab": {
     "autoexec": {
      "startup": false,
      "wait_interval": 0
     }
    },
    "colab_type": "code",
    "collapsed": true,
    "id": "0OPsE-7xDv7D"
   },
   "outputs": [],
   "source": [
    "folium_map = folium.Map(location=[37.0902, -95.7129],\n",
    "                        zoom_start=4)"
   ]
  },
  {
   "cell_type": "code",
   "execution_count": 302,
   "metadata": {
    "colab": {
     "autoexec": {
      "startup": false,
      "wait_interval": 0
     }
    },
    "colab_type": "code",
    "collapsed": true,
    "id": "98oXFWxRDv7L"
   },
   "outputs": [],
   "source": [
    "for index, row in market_full.iterrows():\n",
    "    #print (row['walkscore'])\n",
    "    value = row['Vacancy%']\n",
    "    radius = row['walkscore']/4\n",
    "    \n",
    "    if value<=12:\n",
    "        color=\"#DAF7A6\"\n",
    "    elif value>12 and value<=14 :\n",
    "        color=\"#FFC300\" \n",
    "    elif value>14 and value<=16 :\n",
    "        color=\"#F99002\" \n",
    "    elif value>16 and value<=18 :\n",
    "        color=\"#F95C02\" \n",
    "    else:\n",
    "        color=\"#F90202\" \n",
    "    \n",
    "    ## add marker\n",
    "    popup_text = \"Market Name: {}<br> Walk Score: {}<br> Vacancy%: {}\"\n",
    "    popup_text = popup_text.format(row[\"MARKET NAME\"],\n",
    "                               row[\"walkscore\"],\n",
    "                                  row['Vacancy%'])\n",
    "    \n",
    "    folium.CircleMarker(location=(row[\"lat\"],\n",
    "                                  row[\"lng\"]),\n",
    "                        radius=radius,\n",
    "                        fill=True,\n",
    "                       popup=popup_text).add_to(folium_map)\n",
    "    \n",
    "    folium.CircleMarker(location=(row[\"lat\"],\n",
    "                                  row[\"lng\"]),\n",
    "                        radius=1,\n",
    "                        color=color,\n",
    "                        fill=True,\n",
    "                       popup=popup_text).add_to(folium_map)\n",
    "    "
   ]
  },
  {
   "cell_type": "code",
   "execution_count": 303,
   "metadata": {
    "colab": {
     "autoexec": {
      "startup": false,
      "wait_interval": 0
     }
    },
    "colab_type": "code",
    "id": "OhXvOHTyDv7M",
    "outputId": "fdb13123-14be-4e34-e88e-7e467ea1e9c0",
    "scrolled": true
   },
   "outputs": [
    {
     "data": {
      "text/html": [
       "<div style=\"width:100%;\"><div style=\"position:relative;width:100%;height:0;padding-bottom:60%;\"><iframe src=\"data:text/html;charset=utf-8;base64,PCFET0NUWVBFIGh0bWw+CjxoZWFkPiAgICAKICAgIDxtZXRhIGh0dHAtZXF1aXY9ImNvbnRlbnQtdHlwZSIgY29udGVudD0idGV4dC9odG1sOyBjaGFyc2V0PVVURi04IiAvPgogICAgPHNjcmlwdD5MX1BSRUZFUl9DQU5WQVMgPSBmYWxzZTsgTF9OT19UT1VDSCA9IGZhbHNlOyBMX0RJU0FCTEVfM0QgPSBmYWxzZTs8L3NjcmlwdD4KICAgIDxzY3JpcHQgc3JjPSJodHRwczovL2Nkbi5qc2RlbGl2ci5uZXQvbnBtL2xlYWZsZXRAMS4yLjAvZGlzdC9sZWFmbGV0LmpzIj48L3NjcmlwdD4KICAgIDxzY3JpcHQgc3JjPSJodHRwczovL2FqYXguZ29vZ2xlYXBpcy5jb20vYWpheC9saWJzL2pxdWVyeS8xLjExLjEvanF1ZXJ5Lm1pbi5qcyI+PC9zY3JpcHQ+CiAgICA8c2NyaXB0IHNyYz0iaHR0cHM6Ly9tYXhjZG4uYm9vdHN0cmFwY2RuLmNvbS9ib290c3RyYXAvMy4yLjAvanMvYm9vdHN0cmFwLm1pbi5qcyI+PC9zY3JpcHQ+CiAgICA8c2NyaXB0IHNyYz0iaHR0cHM6Ly9jZG5qcy5jbG91ZGZsYXJlLmNvbS9hamF4L2xpYnMvTGVhZmxldC5hd2Vzb21lLW1hcmtlcnMvMi4wLjIvbGVhZmxldC5hd2Vzb21lLW1hcmtlcnMuanMiPjwvc2NyaXB0PgogICAgPGxpbmsgcmVsPSJzdHlsZXNoZWV0IiBocmVmPSJodHRwczovL2Nkbi5qc2RlbGl2ci5uZXQvbnBtL2xlYWZsZXRAMS4yLjAvZGlzdC9sZWFmbGV0LmNzcyIvPgogICAgPGxpbmsgcmVsPSJzdHlsZXNoZWV0IiBocmVmPSJodHRwczovL21heGNkbi5ib290c3RyYXBjZG4uY29tL2Jvb3RzdHJhcC8zLjIuMC9jc3MvYm9vdHN0cmFwLm1pbi5jc3MiLz4KICAgIDxsaW5rIHJlbD0ic3R5bGVzaGVldCIgaHJlZj0iaHR0cHM6Ly9tYXhjZG4uYm9vdHN0cmFwY2RuLmNvbS9ib290c3RyYXAvMy4yLjAvY3NzL2Jvb3RzdHJhcC10aGVtZS5taW4uY3NzIi8+CiAgICA8bGluayByZWw9InN0eWxlc2hlZXQiIGhyZWY9Imh0dHBzOi8vbWF4Y2RuLmJvb3RzdHJhcGNkbi5jb20vZm9udC1hd2Vzb21lLzQuNi4zL2Nzcy9mb250LWF3ZXNvbWUubWluLmNzcyIvPgogICAgPGxpbmsgcmVsPSJzdHlsZXNoZWV0IiBocmVmPSJodHRwczovL2NkbmpzLmNsb3VkZmxhcmUuY29tL2FqYXgvbGlicy9MZWFmbGV0LmF3ZXNvbWUtbWFya2Vycy8yLjAuMi9sZWFmbGV0LmF3ZXNvbWUtbWFya2Vycy5jc3MiLz4KICAgIDxsaW5rIHJlbD0ic3R5bGVzaGVldCIgaHJlZj0iaHR0cHM6Ly9yYXdnaXQuY29tL3B5dGhvbi12aXN1YWxpemF0aW9uL2ZvbGl1bS9tYXN0ZXIvZm9saXVtL3RlbXBsYXRlcy9sZWFmbGV0LmF3ZXNvbWUucm90YXRlLmNzcyIvPgogICAgPHN0eWxlPmh0bWwsIGJvZHkge3dpZHRoOiAxMDAlO2hlaWdodDogMTAwJTttYXJnaW46IDA7cGFkZGluZzogMDt9PC9zdHlsZT4KICAgIDxzdHlsZT4jbWFwIHtwb3NpdGlvbjphYnNvbHV0ZTt0b3A6MDtib3R0b206MDtyaWdodDowO2xlZnQ6MDt9PC9zdHlsZT4KICAgIAogICAgICAgICAgICA8c3R5bGU+ICNtYXBfNTlmMDI4ZTU3MjNiNDk1N2E1Y2YyYjY2MjQ0MWU3MzIgewogICAgICAgICAgICAgICAgcG9zaXRpb24gOiByZWxhdGl2ZTsKICAgICAgICAgICAgICAgIHdpZHRoIDogMTAwLjAlOwogICAgICAgICAgICAgICAgaGVpZ2h0OiAxMDAuMCU7CiAgICAgICAgICAgICAgICBsZWZ0OiAwLjAlOwogICAgICAgICAgICAgICAgdG9wOiAwLjAlOwogICAgICAgICAgICAgICAgfQogICAgICAgICAgICA8L3N0eWxlPgogICAgICAgIAo8L2hlYWQ+Cjxib2R5PiAgICAKICAgIAogICAgICAgICAgICA8ZGl2IGNsYXNzPSJmb2xpdW0tbWFwIiBpZD0ibWFwXzU5ZjAyOGU1NzIzYjQ5NTdhNWNmMmI2NjI0NDFlNzMyIiA+PC9kaXY+CiAgICAgICAgCjwvYm9keT4KPHNjcmlwdD4gICAgCiAgICAKCiAgICAgICAgICAgIAogICAgICAgICAgICAgICAgdmFyIGJvdW5kcyA9IG51bGw7CiAgICAgICAgICAgIAoKICAgICAgICAgICAgdmFyIG1hcF81OWYwMjhlNTcyM2I0OTU3YTVjZjJiNjYyNDQxZTczMiA9IEwubWFwKAogICAgICAgICAgICAgICAgICAgICAgICAgICAgICAgICAgJ21hcF81OWYwMjhlNTcyM2I0OTU3YTVjZjJiNjYyNDQxZTczMicsCiAgICAgICAgICAgICAgICAgICAgICAgICAgICAgICAgICB7Y2VudGVyOiBbMzcuMDkwMiwtOTUuNzEyOV0sCiAgICAgICAgICAgICAgICAgICAgICAgICAgICAgICAgICB6b29tOiA0LAogICAgICAgICAgICAgICAgICAgICAgICAgICAgICAgICAgbWF4Qm91bmRzOiBib3VuZHMsCiAgICAgICAgICAgICAgICAgICAgICAgICAgICAgICAgICBsYXllcnM6IFtdLAogICAgICAgICAgICAgICAgICAgICAgICAgICAgICAgICAgd29ybGRDb3B5SnVtcDogZmFsc2UsCiAgICAgICAgICAgICAgICAgICAgICAgICAgICAgICAgICBjcnM6IEwuQ1JTLkVQU0czODU3CiAgICAgICAgICAgICAgICAgICAgICAgICAgICAgICAgIH0pOwogICAgICAgICAgICAKICAgICAgICAKICAgIAogICAgICAgICAgICB2YXIgdGlsZV9sYXllcl8zNzljNDVmMTgxM2Y0NGYxOWMwNmQwY2IwY2JkZTVhMSA9IEwudGlsZUxheWVyKAogICAgICAgICAgICAgICAgJ2h0dHBzOi8ve3N9LnRpbGUub3BlbnN0cmVldG1hcC5vcmcve3p9L3t4fS97eX0ucG5nJywKICAgICAgICAgICAgICAgIHsKICAiYXR0cmlidXRpb24iOiBudWxsLAogICJkZXRlY3RSZXRpbmEiOiBmYWxzZSwKICAibWF4Wm9vbSI6IDE4LAogICJtaW5ab29tIjogMSwKICAibm9XcmFwIjogZmFsc2UsCiAgInN1YmRvbWFpbnMiOiAiYWJjIgp9CiAgICAgICAgICAgICAgICApLmFkZFRvKG1hcF81OWYwMjhlNTcyM2I0OTU3YTVjZjJiNjYyNDQxZTczMik7CiAgICAgICAgCiAgICAKICAgICAgICAgICAgdmFyIGNpcmNsZV9tYXJrZXJfNjY5Yzk4ODkyYjQ2NGMwMDk5MzVkMWYxMjgzMjY3MTUgPSBMLmNpcmNsZU1hcmtlcigKICAgICAgICAgICAgICAgIFs0MC4wMDc2LC03NS4xMzRdLAogICAgICAgICAgICAgICAgewogICJidWJibGluZ01vdXNlRXZlbnRzIjogdHJ1ZSwKICAiY29sb3IiOiAiIzMzODhmZiIsCiAgImRhc2hBcnJheSI6IG51bGwsCiAgImRhc2hPZmZzZXQiOiBudWxsLAogICJmaWxsIjogdHJ1ZSwKICAiZmlsbENvbG9yIjogIiMzMzg4ZmYiLAogICJmaWxsT3BhY2l0eSI6IDAuMiwKICAiZmlsbFJ1bGUiOiAiZXZlbm9kZCIsCiAgImxpbmVDYXAiOiAicm91bmQiLAogICJsaW5lSm9pbiI6ICJyb3VuZCIsCiAgIm9wYWNpdHkiOiAxLjAsCiAgInJhZGl1cyI6IDE4Ljc1LAogICJzdHJva2UiOiB0cnVlLAogICJ3ZWlnaHQiOiAzCn0KICAgICAgICAgICAgICAgICkuYWRkVG8obWFwXzU5ZjAyOGU1NzIzYjQ5NTdhNWNmMmI2NjI0NDFlNzMyKTsKICAgICAgICAgICAgCiAgICAKICAgICAgICAgICAgdmFyIHBvcHVwX2JiNjdkZGJmYmJmODQ1NmI4MDhhMjgwMDhhNjllZDAyID0gTC5wb3B1cCh7bWF4V2lkdGg6ICczMDAnfSk7CgogICAgICAgICAgICAKICAgICAgICAgICAgICAgIHZhciBodG1sXzliOWIxMDYzMWU0MDQ2MzU4ODBjYmMwNmZjNWQyMjA1ID0gJCgnPGRpdiBpZD0iaHRtbF85YjliMTA2MzFlNDA0NjM1ODgwY2JjMDZmYzVkMjIwNSIgc3R5bGU9IndpZHRoOiAxMDAuMCU7IGhlaWdodDogMTAwLjAlOyI+TWFya2V0IE5hbWU6IFBoaWxhZGVscGhpYTxicj4gV2FsayBTY29yZTogNzUuMDxicj4gVmFjYW5jeSU6IDEyLjc8L2Rpdj4nKVswXTsKICAgICAgICAgICAgICAgIHBvcHVwX2JiNjdkZGJmYmJmODQ1NmI4MDhhMjgwMDhhNjllZDAyLnNldENvbnRlbnQoaHRtbF85YjliMTA2MzFlNDA0NjM1ODgwY2JjMDZmYzVkMjIwNSk7CiAgICAgICAgICAgIAoKICAgICAgICAgICAgY2lyY2xlX21hcmtlcl82NjljOTg4OTJiNDY0YzAwOTkzNWQxZjEyODMyNjcxNS5iaW5kUG9wdXAocG9wdXBfYmI2N2RkYmZiYmY4NDU2YjgwOGEyODAwOGE2OWVkMDIpOwoKICAgICAgICAgICAgCiAgICAgICAgCiAgICAKICAgICAgICAgICAgdmFyIGNpcmNsZV9tYXJrZXJfMjBkMzEyOThjMDg3NGFhMWEyMmFmZWExNGE5OGIwOTIgPSBMLmNpcmNsZU1hcmtlcigKICAgICAgICAgICAgICAgIFs0MC4wMDc2LC03NS4xMzRdLAogICAgICAgICAgICAgICAgewogICJidWJibGluZ01vdXNlRXZlbnRzIjogdHJ1ZSwKICAiY29sb3IiOiAiI0ZGQzMwMCIsCiAgImRhc2hBcnJheSI6IG51bGwsCiAgImRhc2hPZmZzZXQiOiBudWxsLAogICJmaWxsIjogdHJ1ZSwKICAiZmlsbENvbG9yIjogIiNGRkMzMDAiLAogICJmaWxsT3BhY2l0eSI6IDAuMiwKICAiZmlsbFJ1bGUiOiAiZXZlbm9kZCIsCiAgImxpbmVDYXAiOiAicm91bmQiLAogICJsaW5lSm9pbiI6ICJyb3VuZCIsCiAgIm9wYWNpdHkiOiAxLjAsCiAgInJhZGl1cyI6IDEsCiAgInN0cm9rZSI6IHRydWUsCiAgIndlaWdodCI6IDMKfQogICAgICAgICAgICAgICAgKS5hZGRUbyhtYXBfNTlmMDI4ZTU3MjNiNDk1N2E1Y2YyYjY2MjQ0MWU3MzIpOwogICAgICAgICAgICAKICAgIAogICAgICAgICAgICB2YXIgcG9wdXBfNTgzNDJkODYzZjBkNDM1ZDk3OTg0MjgzYzBkZGUyYzggPSBMLnBvcHVwKHttYXhXaWR0aDogJzMwMCd9KTsKCiAgICAgICAgICAgIAogICAgICAgICAgICAgICAgdmFyIGh0bWxfNzgzOThiYjE0ZDI0NDUyZGE3YWM2OTk2MjU0MTJhZTkgPSAkKCc8ZGl2IGlkPSJodG1sXzc4Mzk4YmIxNGQyNDQ1MmRhN2FjNjk5NjI1NDEyYWU5IiBzdHlsZT0id2lkdGg6IDEwMC4wJTsgaGVpZ2h0OiAxMDAuMCU7Ij5NYXJrZXQgTmFtZTogUGhpbGFkZWxwaGlhPGJyPiBXYWxrIFNjb3JlOiA3NS4wPGJyPiBWYWNhbmN5JTogMTIuNzwvZGl2PicpWzBdOwogICAgICAgICAgICAgICAgcG9wdXBfNTgzNDJkODYzZjBkNDM1ZDk3OTg0MjgzYzBkZGUyYzguc2V0Q29udGVudChodG1sXzc4Mzk4YmIxNGQyNDQ1MmRhN2FjNjk5NjI1NDEyYWU5KTsKICAgICAgICAgICAgCgogICAgICAgICAgICBjaXJjbGVfbWFya2VyXzIwZDMxMjk4YzA4NzRhYTFhMjJhZmVhMTRhOThiMDkyLmJpbmRQb3B1cChwb3B1cF81ODM0MmQ4NjNmMGQ0MzVkOTc5ODQyODNjMGRkZTJjOCk7CgogICAgICAgICAgICAKICAgICAgICAKICAgIAogICAgICAgICAgICB2YXIgY2lyY2xlX21hcmtlcl9jNmQ0MTk2YzE4NTY0OWE0YTJlMTM5YWZjZDMwYmVmNiA9IEwuY2lyY2xlTWFya2VyKAogICAgICAgICAgICAgICAgWzM4LjkwNDgsLTc3LjAxNjNdLAogICAgICAgICAgICAgICAgewogICJidWJibGluZ01vdXNlRXZlbnRzIjogdHJ1ZSwKICAiY29sb3IiOiAiIzMzODhmZiIsCiAgImRhc2hBcnJheSI6IG51bGwsCiAgImRhc2hPZmZzZXQiOiBudWxsLAogICJmaWxsIjogdHJ1ZSwKICAiZmlsbENvbG9yIjogIiMzMzg4ZmYiLAogICJmaWxsT3BhY2l0eSI6IDAuMiwKICAiZmlsbFJ1bGUiOiAiZXZlbm9kZCIsCiAgImxpbmVDYXAiOiAicm91bmQiLAogICJsaW5lSm9pbiI6ICJyb3VuZCIsCiAgIm9wYWNpdHkiOiAxLjAsCiAgInJhZGl1cyI6IDIyLjc1LAogICJzdHJva2UiOiB0cnVlLAogICJ3ZWlnaHQiOiAzCn0KICAgICAgICAgICAgICAgICkuYWRkVG8obWFwXzU5ZjAyOGU1NzIzYjQ5NTdhNWNmMmI2NjI0NDFlNzMyKTsKICAgICAgICAgICAgCiAgICAKICAgICAgICAgICAgdmFyIHBvcHVwX2Y3OTdlMWNjMTBjMjQ5YzBhZjBlYWExYjI4YWUwNDdlID0gTC5wb3B1cCh7bWF4V2lkdGg6ICczMDAnfSk7CgogICAgICAgICAgICAKICAgICAgICAgICAgICAgIHZhciBodG1sX2Y1OGJjNmE3ZTgwZjQyNjg4MTQ4MDdiMTQ0NWRjODYzID0gJCgnPGRpdiBpZD0iaHRtbF9mNThiYzZhN2U4MGY0MjY4ODE0ODA3YjE0NDVkYzg2MyIgc3R5bGU9IndpZHRoOiAxMDAuMCU7IGhlaWdodDogMTAwLjAlOyI+TWFya2V0IE5hbWU6IFdhc2hpbmd0b24gRC5DLjxicj4gV2FsayBTY29yZTogOTEuMDxicj4gVmFjYW5jeSU6IDE2LjI8L2Rpdj4nKVswXTsKICAgICAgICAgICAgICAgIHBvcHVwX2Y3OTdlMWNjMTBjMjQ5YzBhZjBlYWExYjI4YWUwNDdlLnNldENvbnRlbnQoaHRtbF9mNThiYzZhN2U4MGY0MjY4ODE0ODA3YjE0NDVkYzg2Myk7CiAgICAgICAgICAgIAoKICAgICAgICAgICAgY2lyY2xlX21hcmtlcl9jNmQ0MTk2YzE4NTY0OWE0YTJlMTM5YWZjZDMwYmVmNi5iaW5kUG9wdXAocG9wdXBfZjc5N2UxY2MxMGMyNDljMGFmMGVhYTFiMjhhZTA0N2UpOwoKICAgICAgICAgICAgCiAgICAgICAgCiAgICAKICAgICAgICAgICAgdmFyIGNpcmNsZV9tYXJrZXJfZTIyNjA3ZDAzNmE1NDQxYjg2MDMzNzNhMzJhMTJhNGQgPSBMLmNpcmNsZU1hcmtlcigKICAgICAgICAgICAgICAgIFszOC45MDQ4LC03Ny4wMTYzXSwKICAgICAgICAgICAgICAgIHsKICAiYnViYmxpbmdNb3VzZUV2ZW50cyI6IHRydWUsCiAgImNvbG9yIjogIiNGOTVDMDIiLAogICJkYXNoQXJyYXkiOiBudWxsLAogICJkYXNoT2Zmc2V0IjogbnVsbCwKICAiZmlsbCI6IHRydWUsCiAgImZpbGxDb2xvciI6ICIjRjk1QzAyIiwKICAiZmlsbE9wYWNpdHkiOiAwLjIsCiAgImZpbGxSdWxlIjogImV2ZW5vZGQiLAogICJsaW5lQ2FwIjogInJvdW5kIiwKICAibGluZUpvaW4iOiAicm91bmQiLAogICJvcGFjaXR5IjogMS4wLAogICJyYWRpdXMiOiAxLAogICJzdHJva2UiOiB0cnVlLAogICJ3ZWlnaHQiOiAzCn0KICAgICAgICAgICAgICAgICkuYWRkVG8obWFwXzU5ZjAyOGU1NzIzYjQ5NTdhNWNmMmI2NjI0NDFlNzMyKTsKICAgICAgICAgICAgCiAgICAKICAgICAgICAgICAgdmFyIHBvcHVwXzk4ODIyOTNjYmUxMjRlYmViMWQ1YzYzZmFmZThmNmQ2ID0gTC5wb3B1cCh7bWF4V2lkdGg6ICczMDAnfSk7CgogICAgICAgICAgICAKICAgICAgICAgICAgICAgIHZhciBodG1sXzI2ZWFiZTFkMTA0ZjRkZDliNTE5YTk4YjUxMzRiZDgwID0gJCgnPGRpdiBpZD0iaHRtbF8yNmVhYmUxZDEwNGY0ZGQ5YjUxOWE5OGI1MTM0YmQ4MCIgc3R5bGU9IndpZHRoOiAxMDAuMCU7IGhlaWdodDogMTAwLjAlOyI+TWFya2V0IE5hbWU6IFdhc2hpbmd0b24gRC5DLjxicj4gV2FsayBTY29yZTogOTEuMDxicj4gVmFjYW5jeSU6IDE2LjI8L2Rpdj4nKVswXTsKICAgICAgICAgICAgICAgIHBvcHVwXzk4ODIyOTNjYmUxMjRlYmViMWQ1YzYzZmFmZThmNmQ2LnNldENvbnRlbnQoaHRtbF8yNmVhYmUxZDEwNGY0ZGQ5YjUxOWE5OGI1MTM0YmQ4MCk7CiAgICAgICAgICAgIAoKICAgICAgICAgICAgY2lyY2xlX21hcmtlcl9lMjI2MDdkMDM2YTU0NDFiODYwMzM3M2EzMmExMmE0ZC5iaW5kUG9wdXAocG9wdXBfOTg4MjI5M2NiZTEyNGViZWIxZDVjNjNmYWZlOGY2ZDYpOwoKICAgICAgICAgICAgCiAgICAgICAgCiAgICAKICAgICAgICAgICAgdmFyIGNpcmNsZV9tYXJrZXJfYmI3YzI1OWQyM2NiNDIxODk3ODE0MDc0ZmFiMzk0MGUgPSBMLmNpcmNsZU1hcmtlcigKICAgICAgICAgICAgICAgIFs0MS44MzY5LC04Ny42ODQ4XSwKICAgICAgICAgICAgICAgIHsKICAiYnViYmxpbmdNb3VzZUV2ZW50cyI6IHRydWUsCiAgImNvbG9yIjogIiMzMzg4ZmYiLAogICJkYXNoQXJyYXkiOiBudWxsLAogICJkYXNoT2Zmc2V0IjogbnVsbCwKICAiZmlsbCI6IHRydWUsCiAgImZpbGxDb2xvciI6ICIjMzM4OGZmIiwKICAiZmlsbE9wYWNpdHkiOiAwLjIsCiAgImZpbGxSdWxlIjogImV2ZW5vZGQiLAogICJsaW5lQ2FwIjogInJvdW5kIiwKICAibGluZUpvaW4iOiAicm91bmQiLAogICJvcGFjaXR5IjogMS4wLAogICJyYWRpdXMiOiAxMC4yNSwKICAic3Ryb2tlIjogdHJ1ZSwKICAid2VpZ2h0IjogMwp9CiAgICAgICAgICAgICAgICApLmFkZFRvKG1hcF81OWYwMjhlNTcyM2I0OTU3YTVjZjJiNjYyNDQxZTczMik7CiAgICAgICAgICAgIAogICAgCiAgICAgICAgICAgIHZhciBwb3B1cF9hOTc0Zjg3MjdmZTk0YmYxODRmZjk5NmNlNjhlNWNjNyA9IEwucG9wdXAoe21heFdpZHRoOiAnMzAwJ30pOwoKICAgICAgICAgICAgCiAgICAgICAgICAgICAgICB2YXIgaHRtbF85Mjg5YTQ1M2Y4ZWQ0Yzc3YTZkMTc3NTA2N2MxNWY1YyA9ICQoJzxkaXYgaWQ9Imh0bWxfOTI4OWE0NTNmOGVkNGM3N2E2ZDE3NzUwNjdjMTVmNWMiIHN0eWxlPSJ3aWR0aDogMTAwLjAlOyBoZWlnaHQ6IDEwMC4wJTsiPk1hcmtldCBOYW1lOiBDaGljYWdvPGJyPiBXYWxrIFNjb3JlOiA0MS4wPGJyPiBWYWNhbmN5JTogMTYuNDwvZGl2PicpWzBdOwogICAgICAgICAgICAgICAgcG9wdXBfYTk3NGY4NzI3ZmU5NGJmMTg0ZmY5OTZjZTY4ZTVjYzcuc2V0Q29udGVudChodG1sXzkyODlhNDUzZjhlZDRjNzdhNmQxNzc1MDY3YzE1ZjVjKTsKICAgICAgICAgICAgCgogICAgICAgICAgICBjaXJjbGVfbWFya2VyX2JiN2MyNTlkMjNjYjQyMTg5NzgxNDA3NGZhYjM5NDBlLmJpbmRQb3B1cChwb3B1cF9hOTc0Zjg3MjdmZTk0YmYxODRmZjk5NmNlNjhlNWNjNyk7CgogICAgICAgICAgICAKICAgICAgICAKICAgIAogICAgICAgICAgICB2YXIgY2lyY2xlX21hcmtlcl8zMGI1MDhiYjBkZmI0N2U2OGI4MGVmYmI3YjRjMDA0OCA9IEwuY2lyY2xlTWFya2VyKAogICAgICAgICAgICAgICAgWzQxLjgzNjksLTg3LjY4NDhdLAogICAgICAgICAgICAgICAgewogICJidWJibGluZ01vdXNlRXZlbnRzIjogdHJ1ZSwKICAiY29sb3IiOiAiI0Y5NUMwMiIsCiAgImRhc2hBcnJheSI6IG51bGwsCiAgImRhc2hPZmZzZXQiOiBudWxsLAogICJmaWxsIjogdHJ1ZSwKICAiZmlsbENvbG9yIjogIiNGOTVDMDIiLAogICJmaWxsT3BhY2l0eSI6IDAuMiwKICAiZmlsbFJ1bGUiOiAiZXZlbm9kZCIsCiAgImxpbmVDYXAiOiAicm91bmQiLAogICJsaW5lSm9pbiI6ICJyb3VuZCIsCiAgIm9wYWNpdHkiOiAxLjAsCiAgInJhZGl1cyI6IDEsCiAgInN0cm9rZSI6IHRydWUsCiAgIndlaWdodCI6IDMKfQogICAgICAgICAgICAgICAgKS5hZGRUbyhtYXBfNTlmMDI4ZTU3MjNiNDk1N2E1Y2YyYjY2MjQ0MWU3MzIpOwogICAgICAgICAgICAKICAgIAogICAgICAgICAgICB2YXIgcG9wdXBfZDIzMTIyOGQ5YjU4NDY4ZmExYjBmNzA4YzIyZDcwODUgPSBMLnBvcHVwKHttYXhXaWR0aDogJzMwMCd9KTsKCiAgICAgICAgICAgIAogICAgICAgICAgICAgICAgdmFyIGh0bWxfZDQzNDM2OTk5NmFmNGNmZTllOTMzOWVkNWYwN2E5ZmUgPSAkKCc8ZGl2IGlkPSJodG1sX2Q0MzQzNjk5OTZhZjRjZmU5ZTkzMzllZDVmMDdhOWZlIiBzdHlsZT0id2lkdGg6IDEwMC4wJTsgaGVpZ2h0OiAxMDAuMCU7Ij5NYXJrZXQgTmFtZTogQ2hpY2Fnbzxicj4gV2FsayBTY29yZTogNDEuMDxicj4gVmFjYW5jeSU6IDE2LjQ8L2Rpdj4nKVswXTsKICAgICAgICAgICAgICAgIHBvcHVwX2QyMzEyMjhkOWI1ODQ2OGZhMWIwZjcwOGMyMmQ3MDg1LnNldENvbnRlbnQoaHRtbF9kNDM0MzY5OTk2YWY0Y2ZlOWU5MzM5ZWQ1ZjA3YTlmZSk7CiAgICAgICAgICAgIAoKICAgICAgICAgICAgY2lyY2xlX21hcmtlcl8zMGI1MDhiYjBkZmI0N2U2OGI4MGVmYmI3YjRjMDA0OC5iaW5kUG9wdXAocG9wdXBfZDIzMTIyOGQ5YjU4NDY4ZmExYjBmNzA4YzIyZDcwODUpOwoKICAgICAgICAgICAgCiAgICAgICAgCiAgICAKICAgICAgICAgICAgdmFyIGNpcmNsZV9tYXJrZXJfMDU4MjIwMzgxZmFkNDczODhlZDdhNWZkNDdmY2QzMjggPSBMLmNpcmNsZU1hcmtlcigKICAgICAgICAgICAgICAgIFs0Mi4zODM0LC04My4xMDI0XSwKICAgICAgICAgICAgICAgIHsKICAiYnViYmxpbmdNb3VzZUV2ZW50cyI6IHRydWUsCiAgImNvbG9yIjogIiMzMzg4ZmYiLAogICJkYXNoQXJyYXkiOiBudWxsLAogICJkYXNoT2Zmc2V0IjogbnVsbCwKICAiZmlsbCI6IHRydWUsCiAgImZpbGxDb2xvciI6ICIjMzM4OGZmIiwKICAiZmlsbE9wYWNpdHkiOiAwLjIsCiAgImZpbGxSdWxlIjogImV2ZW5vZGQiLAogICJsaW5lQ2FwIjogInJvdW5kIiwKICAibGluZUpvaW4iOiAicm91bmQiLAogICJvcGFjaXR5IjogMS4wLAogICJyYWRpdXMiOiA5LjI1LAogICJzdHJva2UiOiB0cnVlLAogICJ3ZWlnaHQiOiAzCn0KICAgICAgICAgICAgICAgICkuYWRkVG8obWFwXzU5ZjAyOGU1NzIzYjQ5NTdhNWNmMmI2NjI0NDFlNzMyKTsKICAgICAgICAgICAgCiAgICAKICAgICAgICAgICAgdmFyIHBvcHVwXzQyOTFhMjkyMTRiNjRlODA4YTJiMjc0YzlmNTlhNWFlID0gTC5wb3B1cCh7bWF4V2lkdGg6ICczMDAnfSk7CgogICAgICAgICAgICAKICAgICAgICAgICAgICAgIHZhciBodG1sX2ZjYzRkYjYwYjZhNzRlMGI5MjU3YTk4ZDU3MGM3ZTAxID0gJCgnPGRpdiBpZD0iaHRtbF9mY2M0ZGI2MGI2YTc0ZTBiOTI1N2E5OGQ1NzBjN2UwMSIgc3R5bGU9IndpZHRoOiAxMDAuMCU7IGhlaWdodDogMTAwLjAlOyI+TWFya2V0IE5hbWU6IERldHJvaXQ8YnI+IFdhbGsgU2NvcmU6IDM3LjA8YnI+IFZhY2FuY3klOiAxOC45PC9kaXY+JylbMF07CiAgICAgICAgICAgICAgICBwb3B1cF80MjkxYTI5MjE0YjY0ZTgwOGEyYjI3NGM5ZjU5YTVhZS5zZXRDb250ZW50KGh0bWxfZmNjNGRiNjBiNmE3NGUwYjkyNTdhOThkNTcwYzdlMDEpOwogICAgICAgICAgICAKCiAgICAgICAgICAgIGNpcmNsZV9tYXJrZXJfMDU4MjIwMzgxZmFkNDczODhlZDdhNWZkNDdmY2QzMjguYmluZFBvcHVwKHBvcHVwXzQyOTFhMjkyMTRiNjRlODA4YTJiMjc0YzlmNTlhNWFlKTsKCiAgICAgICAgICAgIAogICAgICAgIAogICAgCiAgICAgICAgICAgIHZhciBjaXJjbGVfbWFya2VyXzk2ZDk3ODY4MzRlNDRjYTQ5MmM3MjY5YmVlNjc4NDlmID0gTC5jaXJjbGVNYXJrZXIoCiAgICAgICAgICAgICAgICBbNDIuMzgzNCwtODMuMTAyNF0sCiAgICAgICAgICAgICAgICB7CiAgImJ1YmJsaW5nTW91c2VFdmVudHMiOiB0cnVlLAogICJjb2xvciI6ICIjRjkwMjAyIiwKICAiZGFzaEFycmF5IjogbnVsbCwKICAiZGFzaE9mZnNldCI6IG51bGwsCiAgImZpbGwiOiB0cnVlLAogICJmaWxsQ29sb3IiOiAiI0Y5MDIwMiIsCiAgImZpbGxPcGFjaXR5IjogMC4yLAogICJmaWxsUnVsZSI6ICJldmVub2RkIiwKICAibGluZUNhcCI6ICJyb3VuZCIsCiAgImxpbmVKb2luIjogInJvdW5kIiwKICAib3BhY2l0eSI6IDEuMCwKICAicmFkaXVzIjogMSwKICAic3Ryb2tlIjogdHJ1ZSwKICAid2VpZ2h0IjogMwp9CiAgICAgICAgICAgICAgICApLmFkZFRvKG1hcF81OWYwMjhlNTcyM2I0OTU3YTVjZjJiNjYyNDQxZTczMik7CiAgICAgICAgICAgIAogICAgCiAgICAgICAgICAgIHZhciBwb3B1cF9iYzhjMGZiYjVkOTQ0N2Q0OTI5MmQxZjY0NmFhMzNjYSA9IEwucG9wdXAoe21heFdpZHRoOiAnMzAwJ30pOwoKICAgICAgICAgICAgCiAgICAgICAgICAgICAgICB2YXIgaHRtbF9kMjJhMDk0NmVhZTk0YmNiODA5ODBiMGM2ZTdmMjliNSA9ICQoJzxkaXYgaWQ9Imh0bWxfZDIyYTA5NDZlYWU5NGJjYjgwOTgwYjBjNmU3ZjI5YjUiIHN0eWxlPSJ3aWR0aDogMTAwLjAlOyBoZWlnaHQ6IDEwMC4wJTsiPk1hcmtldCBOYW1lOiBEZXRyb2l0PGJyPiBXYWxrIFNjb3JlOiAzNy4wPGJyPiBWYWNhbmN5JTogMTguOTwvZGl2PicpWzBdOwogICAgICAgICAgICAgICAgcG9wdXBfYmM4YzBmYmI1ZDk0NDdkNDkyOTJkMWY2NDZhYTMzY2Euc2V0Q29udGVudChodG1sX2QyMmEwOTQ2ZWFlOTRiY2I4MDk4MGIwYzZlN2YyOWI1KTsKICAgICAgICAgICAgCgogICAgICAgICAgICBjaXJjbGVfbWFya2VyXzk2ZDk3ODY4MzRlNDRjYTQ5MmM3MjY5YmVlNjc4NDlmLmJpbmRQb3B1cChwb3B1cF9iYzhjMGZiYjVkOTQ0N2Q0OTI5MmQxZjY0NmFhMzNjYSk7CgogICAgICAgICAgICAKICAgICAgICAKICAgIAogICAgICAgICAgICB2YXIgY2lyY2xlX21hcmtlcl8zMWE0OGZjZDNmNGQ0ZjMwYjFkZDUxY2U2NjBiMjJhYiA9IEwuY2lyY2xlTWFya2VyKAogICAgICAgICAgICAgICAgWzQ0Ljk2MzUsLTkzLjI2NzhdLAogICAgICAgICAgICAgICAgewogICJidWJibGluZ01vdXNlRXZlbnRzIjogdHJ1ZSwKICAiY29sb3IiOiAiIzMzODhmZiIsCiAgImRhc2hBcnJheSI6IG51bGwsCiAgImRhc2hPZmZzZXQiOiBudWxsLAogICJmaWxsIjogdHJ1ZSwKICAiZmlsbENvbG9yIjogIiMzMzg4ZmYiLAogICJmaWxsT3BhY2l0eSI6IDAuMiwKICAiZmlsbFJ1bGUiOiAiZXZlbm9kZCIsCiAgImxpbmVDYXAiOiAicm91bmQiLAogICJsaW5lSm9pbiI6ICJyb3VuZCIsCiAgIm9wYWNpdHkiOiAxLjAsCiAgInJhZGl1cyI6IDIwLjAsCiAgInN0cm9rZSI6IHRydWUsCiAgIndlaWdodCI6IDMKfQogICAgICAgICAgICAgICAgKS5hZGRUbyhtYXBfNTlmMDI4ZTU3MjNiNDk1N2E1Y2YyYjY2MjQ0MWU3MzIpOwogICAgICAgICAgICAKICAgIAogICAgICAgICAgICB2YXIgcG9wdXBfM2EzZmFkOTEyY2M2NGFkNTkzZmU5NmQ4ZmJjMDgzYzIgPSBMLnBvcHVwKHttYXhXaWR0aDogJzMwMCd9KTsKCiAgICAgICAgICAgIAogICAgICAgICAgICAgICAgdmFyIGh0bWxfMDYxMjA5MTUxNmU0NDdmODhiNmNmY2ZiZWQ4MjhmNWEgPSAkKCc8ZGl2IGlkPSJodG1sXzA2MTIwOTE1MTZlNDQ3Zjg4YjZjZmNmYmVkODI4ZjVhIiBzdHlsZT0id2lkdGg6IDEwMC4wJTsgaGVpZ2h0OiAxMDAuMCU7Ij5NYXJrZXQgTmFtZTogTWlubmVhcG9saXM8YnI+IFdhbGsgU2NvcmU6IDgwLjA8YnI+IFZhY2FuY3klOiAxNi42PC9kaXY+JylbMF07CiAgICAgICAgICAgICAgICBwb3B1cF8zYTNmYWQ5MTJjYzY0YWQ1OTNmZTk2ZDhmYmMwODNjMi5zZXRDb250ZW50KGh0bWxfMDYxMjA5MTUxNmU0NDdmODhiNmNmY2ZiZWQ4MjhmNWEpOwogICAgICAgICAgICAKCiAgICAgICAgICAgIGNpcmNsZV9tYXJrZXJfMzFhNDhmY2QzZjRkNGYzMGIxZGQ1MWNlNjYwYjIyYWIuYmluZFBvcHVwKHBvcHVwXzNhM2ZhZDkxMmNjNjRhZDU5M2ZlOTZkOGZiYzA4M2MyKTsKCiAgICAgICAgICAgIAogICAgICAgIAogICAgCiAgICAgICAgICAgIHZhciBjaXJjbGVfbWFya2VyXzZhMmRmNjE4ZDlkYzQ0Y2NiMWViNDc0ZDViZDcxMTg2ID0gTC5jaXJjbGVNYXJrZXIoCiAgICAgICAgICAgICAgICBbNDQuOTYzNSwtOTMuMjY3OF0sCiAgICAgICAgICAgICAgICB7CiAgImJ1YmJsaW5nTW91c2VFdmVudHMiOiB0cnVlLAogICJjb2xvciI6ICIjRjk1QzAyIiwKICAiZGFzaEFycmF5IjogbnVsbCwKICAiZGFzaE9mZnNldCI6IG51bGwsCiAgImZpbGwiOiB0cnVlLAogICJmaWxsQ29sb3IiOiAiI0Y5NUMwMiIsCiAgImZpbGxPcGFjaXR5IjogMC4yLAogICJmaWxsUnVsZSI6ICJldmVub2RkIiwKICAibGluZUNhcCI6ICJyb3VuZCIsCiAgImxpbmVKb2luIjogInJvdW5kIiwKICAib3BhY2l0eSI6IDEuMCwKICAicmFkaXVzIjogMSwKICAic3Ryb2tlIjogdHJ1ZSwKICAid2VpZ2h0IjogMwp9CiAgICAgICAgICAgICAgICApLmFkZFRvKG1hcF81OWYwMjhlNTcyM2I0OTU3YTVjZjJiNjYyNDQxZTczMik7CiAgICAgICAgICAgIAogICAgCiAgICAgICAgICAgIHZhciBwb3B1cF81YTMxOTQwYTJjMWY0ODA3OGY3NWEyMDk0ZGUwMzU5YyA9IEwucG9wdXAoe21heFdpZHRoOiAnMzAwJ30pOwoKICAgICAgICAgICAgCiAgICAgICAgICAgICAgICB2YXIgaHRtbF80NTIwMjIzMTc1YWM0Y2Y2YTM4MjJlZDMyMjFlYjc2MSA9ICQoJzxkaXYgaWQ9Imh0bWxfNDUyMDIyMzE3NWFjNGNmNmEzODIyZWQzMjIxZWI3NjEiIHN0eWxlPSJ3aWR0aDogMTAwLjAlOyBoZWlnaHQ6IDEwMC4wJTsiPk1hcmtldCBOYW1lOiBNaW5uZWFwb2xpczxicj4gV2FsayBTY29yZTogODAuMDxicj4gVmFjYW5jeSU6IDE2LjY8L2Rpdj4nKVswXTsKICAgICAgICAgICAgICAgIHBvcHVwXzVhMzE5NDBhMmMxZjQ4MDc4Zjc1YTIwOTRkZTAzNTljLnNldENvbnRlbnQoaHRtbF80NTIwMjIzMTc1YWM0Y2Y2YTM4MjJlZDMyMjFlYjc2MSk7CiAgICAgICAgICAgIAoKICAgICAgICAgICAgY2lyY2xlX21hcmtlcl82YTJkZjYxOGQ5ZGM0NGNjYjFlYjQ3NGQ1YmQ3MTE4Ni5iaW5kUG9wdXAocG9wdXBfNWEzMTk0MGEyYzFmNDgwNzhmNzVhMjA5NGRlMDM1OWMpOwoKICAgICAgICAgICAgCiAgICAgICAgCiAgICAKICAgICAgICAgICAgdmFyIGNpcmNsZV9tYXJrZXJfYTkzZDEzOGRjODk4NDA4NjkwM2JmNmEyMGNlMDYyMWQgPSBMLmNpcmNsZU1hcmtlcigKICAgICAgICAgICAgICAgIFs0Mi4zMzI3LC03MS4wODE1XSwKICAgICAgICAgICAgICAgIHsKICAiYnViYmxpbmdNb3VzZUV2ZW50cyI6IHRydWUsCiAgImNvbG9yIjogIiMzMzg4ZmYiLAogICJkYXNoQXJyYXkiOiBudWxsLAogICJkYXNoT2Zmc2V0IjogbnVsbCwKICAiZmlsbCI6IHRydWUsCiAgImZpbGxDb2xvciI6ICIjMzM4OGZmIiwKICAiZmlsbE9wYWNpdHkiOiAwLjIsCiAgImZpbGxSdWxlIjogImV2ZW5vZGQiLAogICJsaW5lQ2FwIjogInJvdW5kIiwKICAibGluZUpvaW4iOiAicm91bmQiLAogICJvcGFjaXR5IjogMS4wLAogICJyYWRpdXMiOiAyMS41LAogICJzdHJva2UiOiB0cnVlLAogICJ3ZWlnaHQiOiAzCn0KICAgICAgICAgICAgICAgICkuYWRkVG8obWFwXzU5ZjAyOGU1NzIzYjQ5NTdhNWNmMmI2NjI0NDFlNzMyKTsKICAgICAgICAgICAgCiAgICAKICAgICAgICAgICAgdmFyIHBvcHVwXzVmMjVlYmIxZTM2ZTRhYzNhZTE5YWJhZGU5YmI4ZGJjID0gTC5wb3B1cCh7bWF4V2lkdGg6ICczMDAnfSk7CgogICAgICAgICAgICAKICAgICAgICAgICAgICAgIHZhciBodG1sXzdjODcwYTE4OWY4NDRkYzBhZmE1Y2ZjMDllNmJjNjI0ID0gJCgnPGRpdiBpZD0iaHRtbF83Yzg3MGExODlmODQ0ZGMwYWZhNWNmYzA5ZTZiYzYyNCIgc3R5bGU9IndpZHRoOiAxMDAuMCU7IGhlaWdodDogMTAwLjAlOyI+TWFya2V0IE5hbWU6IEJvc3Rvbjxicj4gV2FsayBTY29yZTogODYuMDxicj4gVmFjYW5jeSU6IDEzLjI8L2Rpdj4nKVswXTsKICAgICAgICAgICAgICAgIHBvcHVwXzVmMjVlYmIxZTM2ZTRhYzNhZTE5YWJhZGU5YmI4ZGJjLnNldENvbnRlbnQoaHRtbF83Yzg3MGExODlmODQ0ZGMwYWZhNWNmYzA5ZTZiYzYyNCk7CiAgICAgICAgICAgIAoKICAgICAgICAgICAgY2lyY2xlX21hcmtlcl9hOTNkMTM4ZGM4OTg0MDg2OTAzYmY2YTIwY2UwNjIxZC5iaW5kUG9wdXAocG9wdXBfNWYyNWViYjFlMzZlNGFjM2FlMTlhYmFkZTliYjhkYmMpOwoKICAgICAgICAgICAgCiAgICAgICAgCiAgICAKICAgICAgICAgICAgdmFyIGNpcmNsZV9tYXJrZXJfY2ZkMzgwYzA3YTYzNGUyZTg1ZjljOTRlMzc4YjZkMzYgPSBMLmNpcmNsZU1hcmtlcigKICAgICAgICAgICAgICAgIFs0Mi4zMzI3LC03MS4wODE1XSwKICAgICAgICAgICAgICAgIHsKICAiYnViYmxpbmdNb3VzZUV2ZW50cyI6IHRydWUsCiAgImNvbG9yIjogIiNGRkMzMDAiLAogICJkYXNoQXJyYXkiOiBudWxsLAogICJkYXNoT2Zmc2V0IjogbnVsbCwKICAiZmlsbCI6IHRydWUsCiAgImZpbGxDb2xvciI6ICIjRkZDMzAwIiwKICAiZmlsbE9wYWNpdHkiOiAwLjIsCiAgImZpbGxSdWxlIjogImV2ZW5vZGQiLAogICJsaW5lQ2FwIjogInJvdW5kIiwKICAibGluZUpvaW4iOiAicm91bmQiLAogICJvcGFjaXR5IjogMS4wLAogICJyYWRpdXMiOiAxLAogICJzdHJva2UiOiB0cnVlLAogICJ3ZWlnaHQiOiAzCn0KICAgICAgICAgICAgICAgICkuYWRkVG8obWFwXzU5ZjAyOGU1NzIzYjQ5NTdhNWNmMmI2NjI0NDFlNzMyKTsKICAgICAgICAgICAgCiAgICAKICAgICAgICAgICAgdmFyIHBvcHVwX2QxNmIwOGUzMzY3MDQyZTRhNzc2OWIyZTI5Mzg1MmI1ID0gTC5wb3B1cCh7bWF4V2lkdGg6ICczMDAnfSk7CgogICAgICAgICAgICAKICAgICAgICAgICAgICAgIHZhciBodG1sXzdjNmRjNWUyMDQ5MTQxZjg5ZTdhMWI4OTljYzI2OGY0ID0gJCgnPGRpdiBpZD0iaHRtbF83YzZkYzVlMjA0OTE0MWY4OWU3YTFiODk5Y2MyNjhmNCIgc3R5bGU9IndpZHRoOiAxMDAuMCU7IGhlaWdodDogMTAwLjAlOyI+TWFya2V0IE5hbWU6IEJvc3Rvbjxicj4gV2FsayBTY29yZTogODYuMDxicj4gVmFjYW5jeSU6IDEzLjI8L2Rpdj4nKVswXTsKICAgICAgICAgICAgICAgIHBvcHVwX2QxNmIwOGUzMzY3MDQyZTRhNzc2OWIyZTI5Mzg1MmI1LnNldENvbnRlbnQoaHRtbF83YzZkYzVlMjA0OTE0MWY4OWU3YTFiODk5Y2MyNjhmNCk7CiAgICAgICAgICAgIAoKICAgICAgICAgICAgY2lyY2xlX21hcmtlcl9jZmQzODBjMDdhNjM0ZTJlODVmOWM5NGUzNzhiNmQzNi5iaW5kUG9wdXAocG9wdXBfZDE2YjA4ZTMzNjcwNDJlNGE3NzY5YjJlMjkzODUyYjUpOwoKICAgICAgICAgICAgCiAgICAgICAgCiAgICAKICAgICAgICAgICAgdmFyIGNpcmNsZV9tYXJrZXJfNTg4YTBlNDVmNGM1NGRkNjhjYWM1Y2ZlOGJjNDBhZDIgPSBMLmNpcmNsZU1hcmtlcigKICAgICAgICAgICAgICAgIFszMy43NjI3LC04NC40MjMxXSwKICAgICAgICAgICAgICAgIHsKICAiYnViYmxpbmdNb3VzZUV2ZW50cyI6IHRydWUsCiAgImNvbG9yIjogIiMzMzg4ZmYiLAogICJkYXNoQXJyYXkiOiBudWxsLAogICJkYXNoT2Zmc2V0IjogbnVsbCwKICAiZmlsbCI6IHRydWUsCiAgImZpbGxDb2xvciI6ICIjMzM4OGZmIiwKICAiZmlsbE9wYWNpdHkiOiAwLjIsCiAgImZpbGxSdWxlIjogImV2ZW5vZGQiLAogICJsaW5lQ2FwIjogInJvdW5kIiwKICAibGluZUpvaW4iOiAicm91bmQiLAogICJvcGFjaXR5IjogMS4wLAogICJyYWRpdXMiOiAxNS4wLAogICJzdHJva2UiOiB0cnVlLAogICJ3ZWlnaHQiOiAzCn0KICAgICAgICAgICAgICAgICkuYWRkVG8obWFwXzU5ZjAyOGU1NzIzYjQ5NTdhNWNmMmI2NjI0NDFlNzMyKTsKICAgICAgICAgICAgCiAgICAKICAgICAgICAgICAgdmFyIHBvcHVwXzRlMmIyMWUyMjFkNjRmMmI5Njg5YWVlMGU5Y2IwYzBlID0gTC5wb3B1cCh7bWF4V2lkdGg6ICczMDAnfSk7CgogICAgICAgICAgICAKICAgICAgICAgICAgICAgIHZhciBodG1sXzU3YWM3NTM0ZmJjNzRjODk5NmUyMjRjYjEwMmRjOWZlID0gJCgnPGRpdiBpZD0iaHRtbF81N2FjNzUzNGZiYzc0Yzg5OTZlMjI0Y2IxMDJkYzlmZSIgc3R5bGU9IndpZHRoOiAxMDAuMCU7IGhlaWdodDogMTAwLjAlOyI+TWFya2V0IE5hbWU6IEF0bGFudGE8YnI+IFdhbGsgU2NvcmU6IDYwLjA8YnI+IFZhY2FuY3klOiAxNy45PC9kaXY+JylbMF07CiAgICAgICAgICAgICAgICBwb3B1cF80ZTJiMjFlMjIxZDY0ZjJiOTY4OWFlZTBlOWNiMGMwZS5zZXRDb250ZW50KGh0bWxfNTdhYzc1MzRmYmM3NGM4OTk2ZTIyNGNiMTAyZGM5ZmUpOwogICAgICAgICAgICAKCiAgICAgICAgICAgIGNpcmNsZV9tYXJrZXJfNTg4YTBlNDVmNGM1NGRkNjhjYWM1Y2ZlOGJjNDBhZDIuYmluZFBvcHVwKHBvcHVwXzRlMmIyMWUyMjFkNjRmMmI5Njg5YWVlMGU5Y2IwYzBlKTsKCiAgICAgICAgICAgIAogICAgICAgIAogICAgCiAgICAgICAgICAgIHZhciBjaXJjbGVfbWFya2VyX2UwN2NiNWYzMTllOTQzOTJhNzZmNGU4YjRjZWU2MDBjID0gTC5jaXJjbGVNYXJrZXIoCiAgICAgICAgICAgICAgICBbMzMuNzYyNywtODQuNDIzMV0sCiAgICAgICAgICAgICAgICB7CiAgImJ1YmJsaW5nTW91c2VFdmVudHMiOiB0cnVlLAogICJjb2xvciI6ICIjRjk1QzAyIiwKICAiZGFzaEFycmF5IjogbnVsbCwKICAiZGFzaE9mZnNldCI6IG51bGwsCiAgImZpbGwiOiB0cnVlLAogICJmaWxsQ29sb3IiOiAiI0Y5NUMwMiIsCiAgImZpbGxPcGFjaXR5IjogMC4yLAogICJmaWxsUnVsZSI6ICJldmVub2RkIiwKICAibGluZUNhcCI6ICJyb3VuZCIsCiAgImxpbmVKb2luIjogInJvdW5kIiwKICAib3BhY2l0eSI6IDEuMCwKICAicmFkaXVzIjogMSwKICAic3Ryb2tlIjogdHJ1ZSwKICAid2VpZ2h0IjogMwp9CiAgICAgICAgICAgICAgICApLmFkZFRvKG1hcF81OWYwMjhlNTcyM2I0OTU3YTVjZjJiNjYyNDQxZTczMik7CiAgICAgICAgICAgIAogICAgCiAgICAgICAgICAgIHZhciBwb3B1cF81NzM0NjUyOTZlZDM0ZjE3ODBkMTQ3NzlhYzM1YWQ5NCA9IEwucG9wdXAoe21heFdpZHRoOiAnMzAwJ30pOwoKICAgICAgICAgICAgCiAgICAgICAgICAgICAgICB2YXIgaHRtbF83NDRkNzExNTE4ZTg0Yjg0OTlkMDVlMTEzOGVjMjBjNiA9ICQoJzxkaXYgaWQ9Imh0bWxfNzQ0ZDcxMTUxOGU4NGI4NDk5ZDA1ZTExMzhlYzIwYzYiIHN0eWxlPSJ3aWR0aDogMTAwLjAlOyBoZWlnaHQ6IDEwMC4wJTsiPk1hcmtldCBOYW1lOiBBdGxhbnRhPGJyPiBXYWxrIFNjb3JlOiA2MC4wPGJyPiBWYWNhbmN5JTogMTcuOTwvZGl2PicpWzBdOwogICAgICAgICAgICAgICAgcG9wdXBfNTczNDY1Mjk2ZWQzNGYxNzgwZDE0Nzc5YWMzNWFkOTQuc2V0Q29udGVudChodG1sXzc0NGQ3MTE1MThlODRiODQ5OWQwNWUxMTM4ZWMyMGM2KTsKICAgICAgICAgICAgCgogICAgICAgICAgICBjaXJjbGVfbWFya2VyX2UwN2NiNWYzMTllOTQzOTJhNzZmNGU4YjRjZWU2MDBjLmJpbmRQb3B1cChwb3B1cF81NzM0NjUyOTZlZDM0ZjE3ODBkMTQ3NzlhYzM1YWQ5NCk7CgogICAgICAgICAgICAKICAgICAgICAKICAgIAogICAgICAgICAgICB2YXIgY2lyY2xlX21hcmtlcl81YmUzOGE2ZDdhNzc0NDRlYTlmMjJmNmYyN2I2YWJlYiA9IEwuY2lyY2xlTWFya2VyKAogICAgICAgICAgICAgICAgWzM1LjIwNzksLTgwLjgzMDFdLAogICAgICAgICAgICAgICAgewogICJidWJibGluZ01vdXNlRXZlbnRzIjogdHJ1ZSwKICAiY29sb3IiOiAiIzMzODhmZiIsCiAgImRhc2hBcnJheSI6IG51bGwsCiAgImRhc2hPZmZzZXQiOiBudWxsLAogICJmaWxsIjogdHJ1ZSwKICAiZmlsbENvbG9yIjogIiMzMzg4ZmYiLAogICJmaWxsT3BhY2l0eSI6IDAuMiwKICAiZmlsbFJ1bGUiOiAiZXZlbm9kZCIsCiAgImxpbmVDYXAiOiAicm91bmQiLAogICJsaW5lSm9pbiI6ICJyb3VuZCIsCiAgIm9wYWNpdHkiOiAxLjAsCiAgInJhZGl1cyI6IDE5LjAsCiAgInN0cm9rZSI6IHRydWUsCiAgIndlaWdodCI6IDMKfQogICAgICAgICAgICAgICAgKS5hZGRUbyhtYXBfNTlmMDI4ZTU3MjNiNDk1N2E1Y2YyYjY2MjQ0MWU3MzIpOwogICAgICAgICAgICAKICAgIAogICAgICAgICAgICB2YXIgcG9wdXBfM2E2MWZiZTE4MmI1NDY3YmIyOTE1Nzc1NmUzMGQ0NjQgPSBMLnBvcHVwKHttYXhXaWR0aDogJzMwMCd9KTsKCiAgICAgICAgICAgIAogICAgICAgICAgICAgICAgdmFyIGh0bWxfYmU2MzVhMmRiYmFjNDUyYWI5MTJmMDZmMzQxZmM1YTIgPSAkKCc8ZGl2IGlkPSJodG1sX2JlNjM1YTJkYmJhYzQ1MmFiOTEyZjA2ZjM0MWZjNWEyIiBzdHlsZT0id2lkdGg6IDEwMC4wJTsgaGVpZ2h0OiAxMDAuMCU7Ij5NYXJrZXQgTmFtZTogQ2hhcmxvdHRlPGJyPiBXYWxrIFNjb3JlOiA3Ni4wPGJyPiBWYWNhbmN5JTogMTIuMjwvZGl2PicpWzBdOwogICAgICAgICAgICAgICAgcG9wdXBfM2E2MWZiZTE4MmI1NDY3YmIyOTE1Nzc1NmUzMGQ0NjQuc2V0Q29udGVudChodG1sX2JlNjM1YTJkYmJhYzQ1MmFiOTEyZjA2ZjM0MWZjNWEyKTsKICAgICAgICAgICAgCgogICAgICAgICAgICBjaXJjbGVfbWFya2VyXzViZTM4YTZkN2E3NzQ0NGVhOWYyMmY2ZjI3YjZhYmViLmJpbmRQb3B1cChwb3B1cF8zYTYxZmJlMTgyYjU0NjdiYjI5MTU3NzU2ZTMwZDQ2NCk7CgogICAgICAgICAgICAKICAgICAgICAKICAgIAogICAgICAgICAgICB2YXIgY2lyY2xlX21hcmtlcl8yMmNhZmY3ZjU3MjU0NjUyODY2OTM0MGE5ZmY4ZmE2ZiA9IEwuY2lyY2xlTWFya2VyKAogICAgICAgICAgICAgICAgWzM1LjIwNzksLTgwLjgzMDFdLAogICAgICAgICAgICAgICAgewogICJidWJibGluZ01vdXNlRXZlbnRzIjogdHJ1ZSwKICAiY29sb3IiOiAiI0ZGQzMwMCIsCiAgImRhc2hBcnJheSI6IG51bGwsCiAgImRhc2hPZmZzZXQiOiBudWxsLAogICJmaWxsIjogdHJ1ZSwKICAiZmlsbENvbG9yIjogIiNGRkMzMDAiLAogICJmaWxsT3BhY2l0eSI6IDAuMiwKICAiZmlsbFJ1bGUiOiAiZXZlbm9kZCIsCiAgImxpbmVDYXAiOiAicm91bmQiLAogICJsaW5lSm9pbiI6ICJyb3VuZCIsCiAgIm9wYWNpdHkiOiAxLjAsCiAgInJhZGl1cyI6IDEsCiAgInN0cm9rZSI6IHRydWUsCiAgIndlaWdodCI6IDMKfQogICAgICAgICAgICAgICAgKS5hZGRUbyhtYXBfNTlmMDI4ZTU3MjNiNDk1N2E1Y2YyYjY2MjQ0MWU3MzIpOwogICAgICAgICAgICAKICAgIAogICAgICAgICAgICB2YXIgcG9wdXBfMDQ1NmY3YTA4NTlkNDA3YzgwOGFiZTIyYTA2NmVkZjYgPSBMLnBvcHVwKHttYXhXaWR0aDogJzMwMCd9KTsKCiAgICAgICAgICAgIAogICAgICAgICAgICAgICAgdmFyIGh0bWxfYTJkYTBkN2U1ZmU1NGRiOGI5MGU0ZTQwYTQzMzM0NDQgPSAkKCc8ZGl2IGlkPSJodG1sX2EyZGEwZDdlNWZlNTRkYjhiOTBlNGU0MGE0MzMzNDQ0IiBzdHlsZT0id2lkdGg6IDEwMC4wJTsgaGVpZ2h0OiAxMDAuMCU7Ij5NYXJrZXQgTmFtZTogQ2hhcmxvdHRlPGJyPiBXYWxrIFNjb3JlOiA3Ni4wPGJyPiBWYWNhbmN5JTogMTIuMjwvZGl2PicpWzBdOwogICAgICAgICAgICAgICAgcG9wdXBfMDQ1NmY3YTA4NTlkNDA3YzgwOGFiZTIyYTA2NmVkZjYuc2V0Q29udGVudChodG1sX2EyZGEwZDdlNWZlNTRkYjhiOTBlNGU0MGE0MzMzNDQ0KTsKICAgICAgICAgICAgCgogICAgICAgICAgICBjaXJjbGVfbWFya2VyXzIyY2FmZjdmNTcyNTQ2NTI4NjY5MzQwYTlmZjhmYTZmLmJpbmRQb3B1cChwb3B1cF8wNDU2ZjdhMDg1OWQ0MDdjODA4YWJlMjJhMDY2ZWRmNik7CgogICAgICAgICAgICAKICAgICAgICAKICAgIAogICAgICAgICAgICB2YXIgY2lyY2xlX21hcmtlcl82MmM3NTNkNTBiOGY0YzliYjYxYWE2YjM5NGFhNTczYyA9IEwuY2lyY2xlTWFya2VyKAogICAgICAgICAgICAgICAgWzM5LjEyMzksLTk0LjU1NDFdLAogICAgICAgICAgICAgICAgewogICJidWJibGluZ01vdXNlRXZlbnRzIjogdHJ1ZSwKICAiY29sb3IiOiAiIzMzODhmZiIsCiAgImRhc2hBcnJheSI6IG51bGwsCiAgImRhc2hPZmZzZXQiOiBudWxsLAogICJmaWxsIjogdHJ1ZSwKICAiZmlsbENvbG9yIjogIiMzMzg4ZmYiLAogICJmaWxsT3BhY2l0eSI6IDAuMiwKICAiZmlsbFJ1bGUiOiAiZXZlbm9kZCIsCiAgImxpbmVDYXAiOiAicm91bmQiLAogICJsaW5lSm9pbiI6ICJyb3VuZCIsCiAgIm9wYWNpdHkiOiAxLjAsCiAgInJhZGl1cyI6IDUuMCwKICAic3Ryb2tlIjogdHJ1ZSwKICAid2VpZ2h0IjogMwp9CiAgICAgICAgICAgICAgICApLmFkZFRvKG1hcF81OWYwMjhlNTcyM2I0OTU3YTVjZjJiNjYyNDQxZTczMik7CiAgICAgICAgICAgIAogICAgCiAgICAgICAgICAgIHZhciBwb3B1cF85YjVjMjZjZTQwYjQ0YzE1OTE5NjhkYmZjMmM5NjQzYSA9IEwucG9wdXAoe21heFdpZHRoOiAnMzAwJ30pOwoKICAgICAgICAgICAgCiAgICAgICAgICAgICAgICB2YXIgaHRtbF9lYTNmYTA3N2VmZTE0OTY5YmJhYzQxMTFjMDNmNmY2MCA9ICQoJzxkaXYgaWQ9Imh0bWxfZWEzZmEwNzdlZmUxNDk2OWJiYWM0MTExYzAzZjZmNjAiIHN0eWxlPSJ3aWR0aDogMTAwLjAlOyBoZWlnaHQ6IDEwMC4wJTsiPk1hcmtldCBOYW1lOiBLYW5zYXMgQ2l0eTxicj4gV2FsayBTY29yZTogMjAuMDxicj4gVmFjYW5jeSU6IDIwLjA8L2Rpdj4nKVswXTsKICAgICAgICAgICAgICAgIHBvcHVwXzliNWMyNmNlNDBiNDRjMTU5MTk2OGRiZmMyYzk2NDNhLnNldENvbnRlbnQoaHRtbF9lYTNmYTA3N2VmZTE0OTY5YmJhYzQxMTFjMDNmNmY2MCk7CiAgICAgICAgICAgIAoKICAgICAgICAgICAgY2lyY2xlX21hcmtlcl82MmM3NTNkNTBiOGY0YzliYjYxYWE2YjM5NGFhNTczYy5iaW5kUG9wdXAocG9wdXBfOWI1YzI2Y2U0MGI0NGMxNTkxOTY4ZGJmYzJjOTY0M2EpOwoKICAgICAgICAgICAgCiAgICAgICAgCiAgICAKICAgICAgICAgICAgdmFyIGNpcmNsZV9tYXJrZXJfN2M0ZjU2Y2E2ODMwNDRjOTliODUxNTcxNzllMGVmY2YgPSBMLmNpcmNsZU1hcmtlcigKICAgICAgICAgICAgICAgIFszOS4xMjM5LC05NC41NTQxXSwKICAgICAgICAgICAgICAgIHsKICAiYnViYmxpbmdNb3VzZUV2ZW50cyI6IHRydWUsCiAgImNvbG9yIjogIiNGOTAyMDIiLAogICJkYXNoQXJyYXkiOiBudWxsLAogICJkYXNoT2Zmc2V0IjogbnVsbCwKICAiZmlsbCI6IHRydWUsCiAgImZpbGxDb2xvciI6ICIjRjkwMjAyIiwKICAiZmlsbE9wYWNpdHkiOiAwLjIsCiAgImZpbGxSdWxlIjogImV2ZW5vZGQiLAogICJsaW5lQ2FwIjogInJvdW5kIiwKICAibGluZUpvaW4iOiAicm91bmQiLAogICJvcGFjaXR5IjogMS4wLAogICJyYWRpdXMiOiAxLAogICJzdHJva2UiOiB0cnVlLAogICJ3ZWlnaHQiOiAzCn0KICAgICAgICAgICAgICAgICkuYWRkVG8obWFwXzU5ZjAyOGU1NzIzYjQ5NTdhNWNmMmI2NjI0NDFlNzMyKTsKICAgICAgICAgICAgCiAgICAKICAgICAgICAgICAgdmFyIHBvcHVwXzEyZWM3MWQwNGQ3NjQ3YTQ4MDg5ZTIxM2M2ZDFlODZmID0gTC5wb3B1cCh7bWF4V2lkdGg6ICczMDAnfSk7CgogICAgICAgICAgICAKICAgICAgICAgICAgICAgIHZhciBodG1sX2RhNDM0ODE1ZWQ3MTRmMGFiMDE2N2RiYzM0YmYxMGU1ID0gJCgnPGRpdiBpZD0iaHRtbF9kYTQzNDgxNWVkNzE0ZjBhYjAxNjdkYmMzNGJmMTBlNSIgc3R5bGU9IndpZHRoOiAxMDAuMCU7IGhlaWdodDogMTAwLjAlOyI+TWFya2V0IE5hbWU6IEthbnNhcyBDaXR5PGJyPiBXYWxrIFNjb3JlOiAyMC4wPGJyPiBWYWNhbmN5JTogMjAuMDwvZGl2PicpWzBdOwogICAgICAgICAgICAgICAgcG9wdXBfMTJlYzcxZDA0ZDc2NDdhNDgwODllMjEzYzZkMWU4NmYuc2V0Q29udGVudChodG1sX2RhNDM0ODE1ZWQ3MTRmMGFiMDE2N2RiYzM0YmYxMGU1KTsKICAgICAgICAgICAgCgogICAgICAgICAgICBjaXJjbGVfbWFya2VyXzdjNGY1NmNhNjgzMDQ0Yzk5Yjg1MTU3MTc5ZTBlZmNmLmJpbmRQb3B1cChwb3B1cF8xMmVjNzFkMDRkNzY0N2E0ODA4OWUyMTNjNmQxZTg2Zik7CgogICAgICAgICAgICAKICAgICAgICAKICAgIAogICAgICAgICAgICB2YXIgY2lyY2xlX21hcmtlcl81NWU4Yzg4Mjg5ZTA0ZWQwYTIxODcxM2RlM2FkOTM4YSA9IEwuY2lyY2xlTWFya2VyKAogICAgICAgICAgICAgICAgWzI1Ljc3NTMsLTgwLjIwODldLAogICAgICAgICAgICAgICAgewogICJidWJibGluZ01vdXNlRXZlbnRzIjogdHJ1ZSwKICAiY29sb3IiOiAiIzMzODhmZiIsCiAgImRhc2hBcnJheSI6IG51bGwsCiAgImRhc2hPZmZzZXQiOiBudWxsLAogICJmaWxsIjogdHJ1ZSwKICAiZmlsbENvbG9yIjogIiMzMzg4ZmYiLAogICJmaWxsT3BhY2l0eSI6IDAuMiwKICAiZmlsbFJ1bGUiOiAiZXZlbm9kZCIsCiAgImxpbmVDYXAiOiAicm91bmQiLAogICJsaW5lSm9pbiI6ICJyb3VuZCIsCiAgIm9wYWNpdHkiOiAxLjAsCiAgInJhZGl1cyI6IDIxLjc1LAogICJzdHJva2UiOiB0cnVlLAogICJ3ZWlnaHQiOiAzCn0KICAgICAgICAgICAgICAgICkuYWRkVG8obWFwXzU5ZjAyOGU1NzIzYjQ5NTdhNWNmMmI2NjI0NDFlNzMyKTsKICAgICAgICAgICAgCiAgICAKICAgICAgICAgICAgdmFyIHBvcHVwXzNiMWEyYTFiY2M0MDQzYTdhZmU2OTkxYThkZDhiYWFjID0gTC5wb3B1cCh7bWF4V2lkdGg6ICczMDAnfSk7CgogICAgICAgICAgICAKICAgICAgICAgICAgICAgIHZhciBodG1sXzkyMTIyODkwOTgyNzQ2M2U4ZTM1M2Y2MjA0YjY0OGNkID0gJCgnPGRpdiBpZD0iaHRtbF85MjEyMjg5MDk4Mjc0NjNlOGUzNTNmNjIwNGI2NDhjZCIgc3R5bGU9IndpZHRoOiAxMDAuMCU7IGhlaWdodDogMTAwLjAlOyI+TWFya2V0IE5hbWU6IE1pYW1pPGJyPiBXYWxrIFNjb3JlOiA4Ny4wPGJyPiBWYWNhbmN5JTogMTMuNTwvZGl2PicpWzBdOwogICAgICAgICAgICAgICAgcG9wdXBfM2IxYTJhMWJjYzQwNDNhN2FmZTY5OTFhOGRkOGJhYWMuc2V0Q29udGVudChodG1sXzkyMTIyODkwOTgyNzQ2M2U4ZTM1M2Y2MjA0YjY0OGNkKTsKICAgICAgICAgICAgCgogICAgICAgICAgICBjaXJjbGVfbWFya2VyXzU1ZThjODgyODllMDRlZDBhMjE4NzEzZGUzYWQ5MzhhLmJpbmRQb3B1cChwb3B1cF8zYjFhMmExYmNjNDA0M2E3YWZlNjk5MWE4ZGQ4YmFhYyk7CgogICAgICAgICAgICAKICAgICAgICAKICAgIAogICAgICAgICAgICB2YXIgY2lyY2xlX21hcmtlcl80OTk3NzUxNzBhMzE0OTY3YWM2NmYzZWU4OTkxODY5MiA9IEwuY2lyY2xlTWFya2VyKAogICAgICAgICAgICAgICAgWzI1Ljc3NTMsLTgwLjIwODldLAogICAgICAgICAgICAgICAgewogICJidWJibGluZ01vdXNlRXZlbnRzIjogdHJ1ZSwKICAiY29sb3IiOiAiI0ZGQzMwMCIsCiAgImRhc2hBcnJheSI6IG51bGwsCiAgImRhc2hPZmZzZXQiOiBudWxsLAogICJmaWxsIjogdHJ1ZSwKICAiZmlsbENvbG9yIjogIiNGRkMzMDAiLAogICJmaWxsT3BhY2l0eSI6IDAuMiwKICAiZmlsbFJ1bGUiOiAiZXZlbm9kZCIsCiAgImxpbmVDYXAiOiAicm91bmQiLAogICJsaW5lSm9pbiI6ICJyb3VuZCIsCiAgIm9wYWNpdHkiOiAxLjAsCiAgInJhZGl1cyI6IDEsCiAgInN0cm9rZSI6IHRydWUsCiAgIndlaWdodCI6IDMKfQogICAgICAgICAgICAgICAgKS5hZGRUbyhtYXBfNTlmMDI4ZTU3MjNiNDk1N2E1Y2YyYjY2MjQ0MWU3MzIpOwogICAgICAgICAgICAKICAgIAogICAgICAgICAgICB2YXIgcG9wdXBfOWViYzUwNDkyMDRhNDYxNzkzMjRjYmZjNzliNmJhNTcgPSBMLnBvcHVwKHttYXhXaWR0aDogJzMwMCd9KTsKCiAgICAgICAgICAgIAogICAgICAgICAgICAgICAgdmFyIGh0bWxfZDIyZjg2MzMxNWNkNGRmYWFjZDBkN2ZiYmYyY2E1YjkgPSAkKCc8ZGl2IGlkPSJodG1sX2QyMmY4NjMzMTVjZDRkZmFhY2QwZDdmYmJmMmNhNWI5IiBzdHlsZT0id2lkdGg6IDEwMC4wJTsgaGVpZ2h0OiAxMDAuMCU7Ij5NYXJrZXQgTmFtZTogTWlhbWk8YnI+IFdhbGsgU2NvcmU6IDg3LjA8YnI+IFZhY2FuY3klOiAxMy41PC9kaXY+JylbMF07CiAgICAgICAgICAgICAgICBwb3B1cF85ZWJjNTA0OTIwNGE0NjE3OTMyNGNiZmM3OWI2YmE1Ny5zZXRDb250ZW50KGh0bWxfZDIyZjg2MzMxNWNkNGRmYWFjZDBkN2ZiYmYyY2E1YjkpOwogICAgICAgICAgICAKCiAgICAgICAgICAgIGNpcmNsZV9tYXJrZXJfNDk5Nzc1MTcwYTMxNDk2N2FjNjZmM2VlODk5MTg2OTIuYmluZFBvcHVwKHBvcHVwXzllYmM1MDQ5MjA0YTQ2MTc5MzI0Y2JmYzc5YjZiYTU3KTsKCiAgICAgICAgICAgIAogICAgICAgIAogICAgCiAgICAgICAgICAgIHZhciBjaXJjbGVfbWFya2VyXzcxMDY2MGVlZWZiNzQyMzRhZDRlOWU0ODI0OTJmNDAyID0gTC5jaXJjbGVNYXJrZXIoCiAgICAgICAgICAgICAgICBbMzYuMTcxMiwtODYuNzg0Nl0sCiAgICAgICAgICAgICAgICB7CiAgImJ1YmJsaW5nTW91c2VFdmVudHMiOiB0cnVlLAogICJjb2xvciI6ICIjMzM4OGZmIiwKICAiZGFzaEFycmF5IjogbnVsbCwKICAiZGFzaE9mZnNldCI6IG51bGwsCiAgImZpbGwiOiB0cnVlLAogICJmaWxsQ29sb3IiOiAiIzMzODhmZiIsCiAgImZpbGxPcGFjaXR5IjogMC4yLAogICJmaWxsUnVsZSI6ICJldmVub2RkIiwKICAibGluZUNhcCI6ICJyb3VuZCIsCiAgImxpbmVKb2luIjogInJvdW5kIiwKICAib3BhY2l0eSI6IDEuMCwKICAicmFkaXVzIjogMjAuMjUsCiAgInN0cm9rZSI6IHRydWUsCiAgIndlaWdodCI6IDMKfQogICAgICAgICAgICAgICAgKS5hZGRUbyhtYXBfNTlmMDI4ZTU3MjNiNDk1N2E1Y2YyYjY2MjQ0MWU3MzIpOwogICAgICAgICAgICAKICAgIAogICAgICAgICAgICB2YXIgcG9wdXBfNTdlMTM5NTc0MmU4NDNhOGIzMGM1NDY0YTBmY2YyYWIgPSBMLnBvcHVwKHttYXhXaWR0aDogJzMwMCd9KTsKCiAgICAgICAgICAgIAogICAgICAgICAgICAgICAgdmFyIGh0bWxfMWMwZGIwMjBiYjgyNGQyOTk4Njg0YjA0OTJmNjk4OWQgPSAkKCc8ZGl2IGlkPSJodG1sXzFjMGRiMDIwYmI4MjRkMjk5ODY4NGIwNDkyZjY5ODlkIiBzdHlsZT0id2lkdGg6IDEwMC4wJTsgaGVpZ2h0OiAxMDAuMCU7Ij5NYXJrZXQgTmFtZTogTmFzaHZpbGxlPGJyPiBXYWxrIFNjb3JlOiA4MS4wPGJyPiBWYWNhbmN5JTogMTEuMjwvZGl2PicpWzBdOwogICAgICAgICAgICAgICAgcG9wdXBfNTdlMTM5NTc0MmU4NDNhOGIzMGM1NDY0YTBmY2YyYWIuc2V0Q29udGVudChodG1sXzFjMGRiMDIwYmI4MjRkMjk5ODY4NGIwNDkyZjY5ODlkKTsKICAgICAgICAgICAgCgogICAgICAgICAgICBjaXJjbGVfbWFya2VyXzcxMDY2MGVlZWZiNzQyMzRhZDRlOWU0ODI0OTJmNDAyLmJpbmRQb3B1cChwb3B1cF81N2UxMzk1NzQyZTg0M2E4YjMwYzU0NjRhMGZjZjJhYik7CgogICAgICAgICAgICAKICAgICAgICAKICAgIAogICAgICAgICAgICB2YXIgY2lyY2xlX21hcmtlcl8yYTk2MTc1ODVkOTM0ZDYxYTQzYzA1NmMzM2U1Y2QyNCA9IEwuY2lyY2xlTWFya2VyKAogICAgICAgICAgICAgICAgWzM2LjE3MTIsLTg2Ljc4NDZdLAogICAgICAgICAgICAgICAgewogICJidWJibGluZ01vdXNlRXZlbnRzIjogdHJ1ZSwKICAiY29sb3IiOiAiI0RBRjdBNiIsCiAgImRhc2hBcnJheSI6IG51bGwsCiAgImRhc2hPZmZzZXQiOiBudWxsLAogICJmaWxsIjogdHJ1ZSwKICAiZmlsbENvbG9yIjogIiNEQUY3QTYiLAogICJmaWxsT3BhY2l0eSI6IDAuMiwKICAiZmlsbFJ1bGUiOiAiZXZlbm9kZCIsCiAgImxpbmVDYXAiOiAicm91bmQiLAogICJsaW5lSm9pbiI6ICJyb3VuZCIsCiAgIm9wYWNpdHkiOiAxLjAsCiAgInJhZGl1cyI6IDEsCiAgInN0cm9rZSI6IHRydWUsCiAgIndlaWdodCI6IDMKfQogICAgICAgICAgICAgICAgKS5hZGRUbyhtYXBfNTlmMDI4ZTU3MjNiNDk1N2E1Y2YyYjY2MjQ0MWU3MzIpOwogICAgICAgICAgICAKICAgIAogICAgICAgICAgICB2YXIgcG9wdXBfNzZiYjNlMzIxYjBkNDc4ZjkwYmQ3NDgwYTA5NWFhZDMgPSBMLnBvcHVwKHttYXhXaWR0aDogJzMwMCd9KTsKCiAgICAgICAgICAgIAogICAgICAgICAgICAgICAgdmFyIGh0bWxfNDNlNDEyMWY5OTI1NDExNThkMzE0OGZhZWZhNjBiMjEgPSAkKCc8ZGl2IGlkPSJodG1sXzQzZTQxMjFmOTkyNTQxMTU4ZDMxNDhmYWVmYTYwYjIxIiBzdHlsZT0id2lkdGg6IDEwMC4wJTsgaGVpZ2h0OiAxMDAuMCU7Ij5NYXJrZXQgTmFtZTogTmFzaHZpbGxlPGJyPiBXYWxrIFNjb3JlOiA4MS4wPGJyPiBWYWNhbmN5JTogMTEuMjwvZGl2PicpWzBdOwogICAgICAgICAgICAgICAgcG9wdXBfNzZiYjNlMzIxYjBkNDc4ZjkwYmQ3NDgwYTA5NWFhZDMuc2V0Q29udGVudChodG1sXzQzZTQxMjFmOTkyNTQxMTU4ZDMxNDhmYWVmYTYwYjIxKTsKICAgICAgICAgICAgCgogICAgICAgICAgICBjaXJjbGVfbWFya2VyXzJhOTYxNzU4NWQ5MzRkNjFhNDNjMDU2YzMzZTVjZDI0LmJpbmRQb3B1cChwb3B1cF83NmJiM2UzMjFiMGQ0NzhmOTBiZDc0ODBhMDk1YWFkMyk7CgogICAgICAgICAgICAKICAgICAgICAKICAgIAogICAgICAgICAgICB2YXIgY2lyY2xlX21hcmtlcl9kZGQwOGEyYWJjZDk0YTFmYjFjODk5NTg1YTg1NjZlYiA9IEwuY2lyY2xlTWFya2VyKAogICAgICAgICAgICAgICAgWzM1LjkwNjU0OTk5OTk5OTk5NiwtNzguNzc0OTVdLAogICAgICAgICAgICAgICAgewogICJidWJibGluZ01vdXNlRXZlbnRzIjogdHJ1ZSwKICAiY29sb3IiOiAiIzMzODhmZiIsCiAgImRhc2hBcnJheSI6IG51bGwsCiAgImRhc2hPZmZzZXQiOiBudWxsLAogICJmaWxsIjogdHJ1ZSwKICAiZmlsbENvbG9yIjogIiMzMzg4ZmYiLAogICJmaWxsT3BhY2l0eSI6IDAuMiwKICAiZmlsbFJ1bGUiOiAiZXZlbm9kZCIsCiAgImxpbmVDYXAiOiAicm91bmQiLAogICJsaW5lSm9pbiI6ICJyb3VuZCIsCiAgIm9wYWNpdHkiOiAxLjAsCiAgInJhZGl1cyI6IDkuMzc1LAogICJzdHJva2UiOiB0cnVlLAogICJ3ZWlnaHQiOiAzCn0KICAgICAgICAgICAgICAgICkuYWRkVG8obWFwXzU5ZjAyOGU1NzIzYjQ5NTdhNWNmMmI2NjI0NDFlNzMyKTsKICAgICAgICAgICAgCiAgICAKICAgICAgICAgICAgdmFyIHBvcHVwX2E2NDE0Y2UzYmQwMDQwM2Q4ZGEwNzAzNGEzOWFlZDFkID0gTC5wb3B1cCh7bWF4V2lkdGg6ICczMDAnfSk7CgogICAgICAgICAgICAKICAgICAgICAgICAgICAgIHZhciBodG1sX2ZlMzMyNjlhM2NmODQ3YjZhZGFkYjQ4ZDNjMDQ0NTYxID0gJCgnPGRpdiBpZD0iaHRtbF9mZTMzMjY5YTNjZjg0N2I2YWRhZGI0OGQzYzA0NDU2MSIgc3R5bGU9IndpZHRoOiAxMDAuMCU7IGhlaWdodDogMTAwLjAlOyI+TWFya2V0IE5hbWU6IFJhbGVpZ2gtRHVyaGFtPGJyPiBXYWxrIFNjb3JlOiAzNy41PGJyPiBWYWNhbmN5JTogMTAuNjwvZGl2PicpWzBdOwogICAgICAgICAgICAgICAgcG9wdXBfYTY0MTRjZTNiZDAwNDAzZDhkYTA3MDM0YTM5YWVkMWQuc2V0Q29udGVudChodG1sX2ZlMzMyNjlhM2NmODQ3YjZhZGFkYjQ4ZDNjMDQ0NTYxKTsKICAgICAgICAgICAgCgogICAgICAgICAgICBjaXJjbGVfbWFya2VyX2RkZDA4YTJhYmNkOTRhMWZiMWM4OTk1ODVhODU2NmViLmJpbmRQb3B1cChwb3B1cF9hNjQxNGNlM2JkMDA0MDNkOGRhMDcwMzRhMzlhZWQxZCk7CgogICAgICAgICAgICAKICAgICAgICAKICAgIAogICAgICAgICAgICB2YXIgY2lyY2xlX21hcmtlcl9iMjM3ODcxYjA5ZDg0Y2FkYjg1YjI4MzJiNGNhODJiMCA9IEwuY2lyY2xlTWFya2VyKAogICAgICAgICAgICAgICAgWzM1LjkwNjU0OTk5OTk5OTk5NiwtNzguNzc0OTVdLAogICAgICAgICAgICAgICAgewogICJidWJibGluZ01vdXNlRXZlbnRzIjogdHJ1ZSwKICAiY29sb3IiOiAiI0RBRjdBNiIsCiAgImRhc2hBcnJheSI6IG51bGwsCiAgImRhc2hPZmZzZXQiOiBudWxsLAogICJmaWxsIjogdHJ1ZSwKICAiZmlsbENvbG9yIjogIiNEQUY3QTYiLAogICJmaWxsT3BhY2l0eSI6IDAuMiwKICAiZmlsbFJ1bGUiOiAiZXZlbm9kZCIsCiAgImxpbmVDYXAiOiAicm91bmQiLAogICJsaW5lSm9pbiI6ICJyb3VuZCIsCiAgIm9wYWNpdHkiOiAxLjAsCiAgInJhZGl1cyI6IDEsCiAgInN0cm9rZSI6IHRydWUsCiAgIndlaWdodCI6IDMKfQogICAgICAgICAgICAgICAgKS5hZGRUbyhtYXBfNTlmMDI4ZTU3MjNiNDk1N2E1Y2YyYjY2MjQ0MWU3MzIpOwogICAgICAgICAgICAKICAgIAogICAgICAgICAgICB2YXIgcG9wdXBfOTAxYmNhMWE3OGM1NGRhZWI3YWViYThmZWQzN2ExOTggPSBMLnBvcHVwKHttYXhXaWR0aDogJzMwMCd9KTsKCiAgICAgICAgICAgIAogICAgICAgICAgICAgICAgdmFyIGh0bWxfMGJjNDcwZDE0YzdhNDMzMWE0MjA1ZWVmNjZmOWE3MDQgPSAkKCc8ZGl2IGlkPSJodG1sXzBiYzQ3MGQxNGM3YTQzMzFhNDIwNWVlZjY2ZjlhNzA0IiBzdHlsZT0id2lkdGg6IDEwMC4wJTsgaGVpZ2h0OiAxMDAuMCU7Ij5NYXJrZXQgTmFtZTogUmFsZWlnaC1EdXJoYW08YnI+IFdhbGsgU2NvcmU6IDM3LjU8YnI+IFZhY2FuY3klOiAxMC42PC9kaXY+JylbMF07CiAgICAgICAgICAgICAgICBwb3B1cF85MDFiY2ExYTc4YzU0ZGFlYjdhZWJhOGZlZDM3YTE5OC5zZXRDb250ZW50KGh0bWxfMGJjNDcwZDE0YzdhNDMzMWE0MjA1ZWVmNjZmOWE3MDQpOwogICAgICAgICAgICAKCiAgICAgICAgICAgIGNpcmNsZV9tYXJrZXJfYjIzNzg3MWIwOWQ4NGNhZGI4NWIyODMyYjRjYTgyYjAuYmluZFBvcHVwKHBvcHVwXzkwMWJjYTFhNzhjNTRkYWViN2FlYmE4ZmVkMzdhMTk4KTsKCiAgICAgICAgICAgIAogICAgICAgIAogICAgCiAgICAgICAgICAgIHZhciBjaXJjbGVfbWFya2VyXzdkM2IxZmQxMWQ4ZDQwOGU4MDYzZDkyMjdjMjI0YTA5ID0gTC5jaXJjbGVNYXJrZXIoCiAgICAgICAgICAgICAgICBbMzkuNzYyLC0xMDQuODc2XSwKICAgICAgICAgICAgICAgIHsKICAiYnViYmxpbmdNb3VzZUV2ZW50cyI6IHRydWUsCiAgImNvbG9yIjogIiMzMzg4ZmYiLAogICJkYXNoQXJyYXkiOiBudWxsLAogICJkYXNoT2Zmc2V0IjogbnVsbCwKICAiZmlsbCI6IHRydWUsCiAgImZpbGxDb2xvciI6ICIjMzM4OGZmIiwKICAiZmlsbE9wYWNpdHkiOiAwLjIsCiAgImZpbGxSdWxlIjogImV2ZW5vZGQiLAogICJsaW5lQ2FwIjogInJvdW5kIiwKICAibGluZUpvaW4iOiAicm91bmQiLAogICJvcGFjaXR5IjogMS4wLAogICJyYWRpdXMiOiA3LjUsCiAgInN0cm9rZSI6IHRydWUsCiAgIndlaWdodCI6IDMKfQogICAgICAgICAgICAgICAgKS5hZGRUbyhtYXBfNTlmMDI4ZTU3MjNiNDk1N2E1Y2YyYjY2MjQ0MWU3MzIpOwogICAgICAgICAgICAKICAgIAogICAgICAgICAgICB2YXIgcG9wdXBfMjE3NDNmYTM0MTUyNDM1YmE2Yzc5ODM0MjI4YTZhM2QgPSBMLnBvcHVwKHttYXhXaWR0aDogJzMwMCd9KTsKCiAgICAgICAgICAgIAogICAgICAgICAgICAgICAgdmFyIGh0bWxfNjQ1NWRhMjQ4Y2EzNDNhNGE5YWExYTA3YTQyMzczNzIgPSAkKCc8ZGl2IGlkPSJodG1sXzY0NTVkYTI0OGNhMzQzYTRhOWFhMWEwN2E0MjM3MzcyIiBzdHlsZT0id2lkdGg6IDEwMC4wJTsgaGVpZ2h0OiAxMDAuMCU7Ij5NYXJrZXQgTmFtZTogRGVudmVyPGJyPiBXYWxrIFNjb3JlOiAzMC4wPGJyPiBWYWNhbmN5JTogMTUuMjwvZGl2PicpWzBdOwogICAgICAgICAgICAgICAgcG9wdXBfMjE3NDNmYTM0MTUyNDM1YmE2Yzc5ODM0MjI4YTZhM2Quc2V0Q29udGVudChodG1sXzY0NTVkYTI0OGNhMzQzYTRhOWFhMWEwN2E0MjM3MzcyKTsKICAgICAgICAgICAgCgogICAgICAgICAgICBjaXJjbGVfbWFya2VyXzdkM2IxZmQxMWQ4ZDQwOGU4MDYzZDkyMjdjMjI0YTA5LmJpbmRQb3B1cChwb3B1cF8yMTc0M2ZhMzQxNTI0MzViYTZjNzk4MzQyMjhhNmEzZCk7CgogICAgICAgICAgICAKICAgICAgICAKICAgIAogICAgICAgICAgICB2YXIgY2lyY2xlX21hcmtlcl8wOGVhMWZiYzJkYWU0YWJhOGFjNTJiYWQ5YzdkMTZhYSA9IEwuY2lyY2xlTWFya2VyKAogICAgICAgICAgICAgICAgWzM5Ljc2MiwtMTA0Ljg3Nl0sCiAgICAgICAgICAgICAgICB7CiAgImJ1YmJsaW5nTW91c2VFdmVudHMiOiB0cnVlLAogICJjb2xvciI6ICIjRjk5MDAyIiwKICAiZGFzaEFycmF5IjogbnVsbCwKICAiZGFzaE9mZnNldCI6IG51bGwsCiAgImZpbGwiOiB0cnVlLAogICJmaWxsQ29sb3IiOiAiI0Y5OTAwMiIsCiAgImZpbGxPcGFjaXR5IjogMC4yLAogICJmaWxsUnVsZSI6ICJldmVub2RkIiwKICAibGluZUNhcCI6ICJyb3VuZCIsCiAgImxpbmVKb2luIjogInJvdW5kIiwKICAib3BhY2l0eSI6IDEuMCwKICAicmFkaXVzIjogMSwKICAic3Ryb2tlIjogdHJ1ZSwKICAid2VpZ2h0IjogMwp9CiAgICAgICAgICAgICAgICApLmFkZFRvKG1hcF81OWYwMjhlNTcyM2I0OTU3YTVjZjJiNjYyNDQxZTczMik7CiAgICAgICAgICAgIAogICAgCiAgICAgICAgICAgIHZhciBwb3B1cF80YzgyYjYyZDQzYTg0MTAwOGNjODZkNjk1M2ExZjYzMiA9IEwucG9wdXAoe21heFdpZHRoOiAnMzAwJ30pOwoKICAgICAgICAgICAgCiAgICAgICAgICAgICAgICB2YXIgaHRtbF84MDhlNjIzYWJjMWE0NjM4OGQ2MzIwYmZkNGJjNmU2YiA9ICQoJzxkaXYgaWQ9Imh0bWxfODA4ZTYyM2FiYzFhNDYzODhkNjMyMGJmZDRiYzZlNmIiIHN0eWxlPSJ3aWR0aDogMTAwLjAlOyBoZWlnaHQ6IDEwMC4wJTsiPk1hcmtldCBOYW1lOiBEZW52ZXI8YnI+IFdhbGsgU2NvcmU6IDMwLjA8YnI+IFZhY2FuY3klOiAxNS4yPC9kaXY+JylbMF07CiAgICAgICAgICAgICAgICBwb3B1cF80YzgyYjYyZDQzYTg0MTAwOGNjODZkNjk1M2ExZjYzMi5zZXRDb250ZW50KGh0bWxfODA4ZTYyM2FiYzFhNDYzODhkNjMyMGJmZDRiYzZlNmIpOwogICAgICAgICAgICAKCiAgICAgICAgICAgIGNpcmNsZV9tYXJrZXJfMDhlYTFmYmMyZGFlNGFiYThhYzUyYmFkOWM3ZDE2YWEuYmluZFBvcHVwKHBvcHVwXzRjODJiNjJkNDNhODQxMDA4Y2M4NmQ2OTUzYTFmNjMyKTsKCiAgICAgICAgICAgIAogICAgICAgIAogICAgCiAgICAgICAgICAgIHZhciBjaXJjbGVfbWFya2VyXzg0MTgwYTI0ZWQwYzQ4NjNiNThiYWFhZDA2ZTA0YTk1ID0gTC5jaXJjbGVNYXJrZXIoCiAgICAgICAgICAgICAgICBbNDUuNTM3MiwtMTIyLjY1XSwKICAgICAgICAgICAgICAgIHsKICAiYnViYmxpbmdNb3VzZUV2ZW50cyI6IHRydWUsCiAgImNvbG9yIjogIiMzMzg4ZmYiLAogICJkYXNoQXJyYXkiOiBudWxsLAogICJkYXNoT2Zmc2V0IjogbnVsbCwKICAiZmlsbCI6IHRydWUsCiAgImZpbGxDb2xvciI6ICIjMzM4OGZmIiwKICAiZmlsbE9wYWNpdHkiOiAwLjIsCiAgImZpbGxSdWxlIjogImV2ZW5vZGQiLAogICJsaW5lQ2FwIjogInJvdW5kIiwKICAibGluZUpvaW4iOiAicm91bmQiLAogICJvcGFjaXR5IjogMS4wLAogICJyYWRpdXMiOiAyMi4wLAogICJzdHJva2UiOiB0cnVlLAogICJ3ZWlnaHQiOiAzCn0KICAgICAgICAgICAgICAgICkuYWRkVG8obWFwXzU5ZjAyOGU1NzIzYjQ5NTdhNWNmMmI2NjI0NDFlNzMyKTsKICAgICAgICAgICAgCiAgICAKICAgICAgICAgICAgdmFyIHBvcHVwXzM5MGRjYTVmZTc2NDRmODRhZmM1ZDQzMThlOGFiMmQzID0gTC5wb3B1cCh7bWF4V2lkdGg6ICczMDAnfSk7CgogICAgICAgICAgICAKICAgICAgICAgICAgICAgIHZhciBodG1sXzcxMzJkNDMxMzYyZTQ4Y2FhOGM3ZTU4OWFlZjRkOWI4ID0gJCgnPGRpdiBpZD0iaHRtbF83MTMyZDQzMTM2MmU0OGNhYThjN2U1ODlhZWY0ZDliOCIgc3R5bGU9IndpZHRoOiAxMDAuMCU7IGhlaWdodDogMTAwLjAlOyI+TWFya2V0IE5hbWU6IFBvcnRsYW5kPGJyPiBXYWxrIFNjb3JlOiA4OC4wPGJyPiBWYWNhbmN5JTogMTAuNzwvZGl2PicpWzBdOwogICAgICAgICAgICAgICAgcG9wdXBfMzkwZGNhNWZlNzY0NGY4NGFmYzVkNDMxOGU4YWIyZDMuc2V0Q29udGVudChodG1sXzcxMzJkNDMxMzYyZTQ4Y2FhOGM3ZTU4OWFlZjRkOWI4KTsKICAgICAgICAgICAgCgogICAgICAgICAgICBjaXJjbGVfbWFya2VyXzg0MTgwYTI0ZWQwYzQ4NjNiNThiYWFhZDA2ZTA0YTk1LmJpbmRQb3B1cChwb3B1cF8zOTBkY2E1ZmU3NjQ0Zjg0YWZjNWQ0MzE4ZThhYjJkMyk7CgogICAgICAgICAgICAKICAgICAgICAKICAgIAogICAgICAgICAgICB2YXIgY2lyY2xlX21hcmtlcl9lZTE2NGVlMzZkMjA0NTk5YTQ3YjhhZGE2YTAyODUyOCA9IEwuY2lyY2xlTWFya2VyKAogICAgICAgICAgICAgICAgWzQ1LjUzNzIsLTEyMi42NV0sCiAgICAgICAgICAgICAgICB7CiAgImJ1YmJsaW5nTW91c2VFdmVudHMiOiB0cnVlLAogICJjb2xvciI6ICIjREFGN0E2IiwKICAiZGFzaEFycmF5IjogbnVsbCwKICAiZGFzaE9mZnNldCI6IG51bGwsCiAgImZpbGwiOiB0cnVlLAogICJmaWxsQ29sb3IiOiAiI0RBRjdBNiIsCiAgImZpbGxPcGFjaXR5IjogMC4yLAogICJmaWxsUnVsZSI6ICJldmVub2RkIiwKICAibGluZUNhcCI6ICJyb3VuZCIsCiAgImxpbmVKb2luIjogInJvdW5kIiwKICAib3BhY2l0eSI6IDEuMCwKICAicmFkaXVzIjogMSwKICAic3Ryb2tlIjogdHJ1ZSwKICAid2VpZ2h0IjogMwp9CiAgICAgICAgICAgICAgICApLmFkZFRvKG1hcF81OWYwMjhlNTcyM2I0OTU3YTVjZjJiNjYyNDQxZTczMik7CiAgICAgICAgICAgIAogICAgCiAgICAgICAgICAgIHZhciBwb3B1cF9jMDMyYzYzM2RjYWU0YzMxOTQ3ZWQ1ZDEwNmM2NzQ4MiA9IEwucG9wdXAoe21heFdpZHRoOiAnMzAwJ30pOwoKICAgICAgICAgICAgCiAgICAgICAgICAgICAgICB2YXIgaHRtbF85YzAwMDMwNWE5YjU0ODg4YjdlYzBhYWY2MWI5ZDA1OCA9ICQoJzxkaXYgaWQ9Imh0bWxfOWMwMDAzMDVhOWI1NDg4OGI3ZWMwYWFmNjFiOWQwNTgiIHN0eWxlPSJ3aWR0aDogMTAwLjAlOyBoZWlnaHQ6IDEwMC4wJTsiPk1hcmtldCBOYW1lOiBQb3J0bGFuZDxicj4gV2FsayBTY29yZTogODguMDxicj4gVmFjYW5jeSU6IDEwLjc8L2Rpdj4nKVswXTsKICAgICAgICAgICAgICAgIHBvcHVwX2MwMzJjNjMzZGNhZTRjMzE5NDdlZDVkMTA2YzY3NDgyLnNldENvbnRlbnQoaHRtbF85YzAwMDMwNWE5YjU0ODg4YjdlYzBhYWY2MWI5ZDA1OCk7CiAgICAgICAgICAgIAoKICAgICAgICAgICAgY2lyY2xlX21hcmtlcl9lZTE2NGVlMzZkMjA0NTk5YTQ3YjhhZGE2YTAyODUyOC5iaW5kUG9wdXAocG9wdXBfYzAzMmM2MzNkY2FlNGMzMTk0N2VkNWQxMDZjNjc0ODIpOwoKICAgICAgICAgICAgCiAgICAgICAgCiAgICAKICAgICAgICAgICAgdmFyIGNpcmNsZV9tYXJrZXJfZjgwYjI0NzNhNzc5NGQ1Nzk5NzkwMGM4M2IyYWFmMDAgPSBMLmNpcmNsZU1hcmtlcigKICAgICAgICAgICAgICAgIFs0Ny42MjAyLC0xMjIuMzUxXSwKICAgICAgICAgICAgICAgIHsKICAiYnViYmxpbmdNb3VzZUV2ZW50cyI6IHRydWUsCiAgImNvbG9yIjogIiMzMzg4ZmYiLAogICJkYXNoQXJyYXkiOiBudWxsLAogICJkYXNoT2Zmc2V0IjogbnVsbCwKICAiZmlsbCI6IHRydWUsCiAgImZpbGxDb2xvciI6ICIjMzM4OGZmIiwKICAiZmlsbE9wYWNpdHkiOiAwLjIsCiAgImZpbGxSdWxlIjogImV2ZW5vZGQiLAogICJsaW5lQ2FwIjogInJvdW5kIiwKICAibGluZUpvaW4iOiAicm91bmQiLAogICJvcGFjaXR5IjogMS4wLAogICJyYWRpdXMiOiAyMy4wLAogICJzdHJva2UiOiB0cnVlLAogICJ3ZWlnaHQiOiAzCn0KICAgICAgICAgICAgICAgICkuYWRkVG8obWFwXzU5ZjAyOGU1NzIzYjQ5NTdhNWNmMmI2NjI0NDFlNzMyKTsKICAgICAgICAgICAgCiAgICAKICAgICAgICAgICAgdmFyIHBvcHVwX2M4ZjFlODBmZjY2ZjQzMWFhZGRlYjY4OTQwM2EwNDFmID0gTC5wb3B1cCh7bWF4V2lkdGg6ICczMDAnfSk7CgogICAgICAgICAgICAKICAgICAgICAgICAgICAgIHZhciBodG1sX2M4NjRkMDQ1NTM5MTRhMWI5ODY3NWZkY2E0ODEyY2IzID0gJCgnPGRpdiBpZD0iaHRtbF9jODY0ZDA0NTUzOTE0YTFiOTg2NzVmZGNhNDgxMmNiMyIgc3R5bGU9IndpZHRoOiAxMDAuMCU7IGhlaWdodDogMTAwLjAlOyI+TWFya2V0IE5hbWU6IFNlYXR0bGU8YnI+IFdhbGsgU2NvcmU6IDkyLjA8YnI+IFZhY2FuY3klOiA5LjY8L2Rpdj4nKVswXTsKICAgICAgICAgICAgICAgIHBvcHVwX2M4ZjFlODBmZjY2ZjQzMWFhZGRlYjY4OTQwM2EwNDFmLnNldENvbnRlbnQoaHRtbF9jODY0ZDA0NTUzOTE0YTFiOTg2NzVmZGNhNDgxMmNiMyk7CiAgICAgICAgICAgIAoKICAgICAgICAgICAgY2lyY2xlX21hcmtlcl9mODBiMjQ3M2E3Nzk0ZDU3OTk3OTAwYzgzYjJhYWYwMC5iaW5kUG9wdXAocG9wdXBfYzhmMWU4MGZmNjZmNDMxYWFkZGViNjg5NDAzYTA0MWYpOwoKICAgICAgICAgICAgCiAgICAgICAgCiAgICAKICAgICAgICAgICAgdmFyIGNpcmNsZV9tYXJrZXJfZWUwYTFlNjg2MDc2NGQ4YzllNGM1Mzk1YzYzM2M1MDEgPSBMLmNpcmNsZU1hcmtlcigKICAgICAgICAgICAgICAgIFs0Ny42MjAyLC0xMjIuMzUxXSwKICAgICAgICAgICAgICAgIHsKICAiYnViYmxpbmdNb3VzZUV2ZW50cyI6IHRydWUsCiAgImNvbG9yIjogIiNEQUY3QTYiLAogICJkYXNoQXJyYXkiOiBudWxsLAogICJkYXNoT2Zmc2V0IjogbnVsbCwKICAiZmlsbCI6IHRydWUsCiAgImZpbGxDb2xvciI6ICIjREFGN0E2IiwKICAiZmlsbE9wYWNpdHkiOiAwLjIsCiAgImZpbGxSdWxlIjogImV2ZW5vZGQiLAogICJsaW5lQ2FwIjogInJvdW5kIiwKICAibGluZUpvaW4iOiAicm91bmQiLAogICJvcGFjaXR5IjogMS4wLAogICJyYWRpdXMiOiAxLAogICJzdHJva2UiOiB0cnVlLAogICJ3ZWlnaHQiOiAzCn0KICAgICAgICAgICAgICAgICkuYWRkVG8obWFwXzU5ZjAyOGU1NzIzYjQ5NTdhNWNmMmI2NjI0NDFlNzMyKTsKICAgICAgICAgICAgCiAgICAKICAgICAgICAgICAgdmFyIHBvcHVwX2ZiYWRiZTMxNTY4MzQyMjE4YjUxNTA4NTY2Yjg2MzA5ID0gTC5wb3B1cCh7bWF4V2lkdGg6ICczMDAnfSk7CgogICAgICAgICAgICAKICAgICAgICAgICAgICAgIHZhciBodG1sX2Y2NjNiMjAzOWQzMzQ4ODI4MGI3YjdiNjE0M2ZiMmE4ID0gJCgnPGRpdiBpZD0iaHRtbF9mNjYzYjIwMzlkMzM0ODgyODBiN2I3YjYxNDNmYjJhOCIgc3R5bGU9IndpZHRoOiAxMDAuMCU7IGhlaWdodDogMTAwLjAlOyI+TWFya2V0IE5hbWU6IFNlYXR0bGU8YnI+IFdhbGsgU2NvcmU6IDkyLjA8YnI+IFZhY2FuY3klOiA5LjY8L2Rpdj4nKVswXTsKICAgICAgICAgICAgICAgIHBvcHVwX2ZiYWRiZTMxNTY4MzQyMjE4YjUxNTA4NTY2Yjg2MzA5LnNldENvbnRlbnQoaHRtbF9mNjYzYjIwMzlkMzM0ODgyODBiN2I3YjYxNDNmYjJhOCk7CiAgICAgICAgICAgIAoKICAgICAgICAgICAgY2lyY2xlX21hcmtlcl9lZTBhMWU2ODYwNzY0ZDhjOWU0YzUzOTVjNjMzYzUwMS5iaW5kUG9wdXAocG9wdXBfZmJhZGJlMzE1NjgzNDIyMThiNTE1MDg1NjZiODYzMDkpOwoKICAgICAgICAgICAgCiAgICAgICAgCiAgICAKICAgICAgICAgICAgdmFyIGNpcmNsZV9tYXJrZXJfN2Q0YjVlNGY3YmNhNGJkYjllOWFlMDk5NDIyZjMwNzcgPSBMLmNpcmNsZU1hcmtlcigKICAgICAgICAgICAgICAgIFszNy43NjQyLC0xMjIuNDUxXSwKICAgICAgICAgICAgICAgIHsKICAiYnViYmxpbmdNb3VzZUV2ZW50cyI6IHRydWUsCiAgImNvbG9yIjogIiMzMzg4ZmYiLAogICJkYXNoQXJyYXkiOiBudWxsLAogICJkYXNoT2Zmc2V0IjogbnVsbCwKICAiZmlsbCI6IHRydWUsCiAgImZpbGxDb2xvciI6ICIjMzM4OGZmIiwKICAiZmlsbE9wYWNpdHkiOiAwLjIsCiAgImZpbGxSdWxlIjogImV2ZW5vZGQiLAogICJsaW5lQ2FwIjogInJvdW5kIiwKICAibGluZUpvaW4iOiAicm91bmQiLAogICJvcGFjaXR5IjogMS4wLAogICJyYWRpdXMiOiAyMy43NSwKICAic3Ryb2tlIjogdHJ1ZSwKICAid2VpZ2h0IjogMwp9CiAgICAgICAgICAgICAgICApLmFkZFRvKG1hcF81OWYwMjhlNTcyM2I0OTU3YTVjZjJiNjYyNDQxZTczMik7CiAgICAgICAgICAgIAogICAgCiAgICAgICAgICAgIHZhciBwb3B1cF9lMjVkMGZmMzI4N2U0MTIyOGIxODNkNDhkMzc1NGNhNCA9IEwucG9wdXAoe21heFdpZHRoOiAnMzAwJ30pOwoKICAgICAgICAgICAgCiAgICAgICAgICAgICAgICB2YXIgaHRtbF9iYWJkZTkyMzI1NDA0ZmM4OGM3MDQ5YWI2ODkzOWUxNCA9ICQoJzxkaXYgaWQ9Imh0bWxfYmFiZGU5MjMyNTQwNGZjODhjNzA0OWFiNjg5MzllMTQiIHN0eWxlPSJ3aWR0aDogMTAwLjAlOyBoZWlnaHQ6IDEwMC4wJTsiPk1hcmtldCBOYW1lOiBTYW4gRnJhbmNpc2NvPGJyPiBXYWxrIFNjb3JlOiA5NS4wPGJyPiBWYWNhbmN5JTogOS4xPC9kaXY+JylbMF07CiAgICAgICAgICAgICAgICBwb3B1cF9lMjVkMGZmMzI4N2U0MTIyOGIxODNkNDhkMzc1NGNhNC5zZXRDb250ZW50KGh0bWxfYmFiZGU5MjMyNTQwNGZjODhjNzA0OWFiNjg5MzllMTQpOwogICAgICAgICAgICAKCiAgICAgICAgICAgIGNpcmNsZV9tYXJrZXJfN2Q0YjVlNGY3YmNhNGJkYjllOWFlMDk5NDIyZjMwNzcuYmluZFBvcHVwKHBvcHVwX2UyNWQwZmYzMjg3ZTQxMjI4YjE4M2Q0OGQzNzU0Y2E0KTsKCiAgICAgICAgICAgIAogICAgICAgIAogICAgCiAgICAgICAgICAgIHZhciBjaXJjbGVfbWFya2VyX2YxMzYyODY3OGEyMDQ1OTA4OTdiODc3YWNlODVkNDA3ID0gTC5jaXJjbGVNYXJrZXIoCiAgICAgICAgICAgICAgICBbMzcuNzY0MiwtMTIyLjQ1MV0sCiAgICAgICAgICAgICAgICB7CiAgImJ1YmJsaW5nTW91c2VFdmVudHMiOiB0cnVlLAogICJjb2xvciI6ICIjREFGN0E2IiwKICAiZGFzaEFycmF5IjogbnVsbCwKICAiZGFzaE9mZnNldCI6IG51bGwsCiAgImZpbGwiOiB0cnVlLAogICJmaWxsQ29sb3IiOiAiI0RBRjdBNiIsCiAgImZpbGxPcGFjaXR5IjogMC4yLAogICJmaWxsUnVsZSI6ICJldmVub2RkIiwKICAibGluZUNhcCI6ICJyb3VuZCIsCiAgImxpbmVKb2luIjogInJvdW5kIiwKICAib3BhY2l0eSI6IDEuMCwKICAicmFkaXVzIjogMSwKICAic3Ryb2tlIjogdHJ1ZSwKICAid2VpZ2h0IjogMwp9CiAgICAgICAgICAgICAgICApLmFkZFRvKG1hcF81OWYwMjhlNTcyM2I0OTU3YTVjZjJiNjYyNDQxZTczMik7CiAgICAgICAgICAgIAogICAgCiAgICAgICAgICAgIHZhciBwb3B1cF82ZWNlODMzNTU2MGU0ZWE3YjdhODM0ZDY4ZGQ1MTcwMyA9IEwucG9wdXAoe21heFdpZHRoOiAnMzAwJ30pOwoKICAgICAgICAgICAgCiAgICAgICAgICAgICAgICB2YXIgaHRtbF83MWI1MDI2ZTM3ZWU0ZDliYjE2OTZkZGQzMjg0YmZiYyA9ICQoJzxkaXYgaWQ9Imh0bWxfNzFiNTAyNmUzN2VlNGQ5YmIxNjk2ZGRkMzI4NGJmYmMiIHN0eWxlPSJ3aWR0aDogMTAwLjAlOyBoZWlnaHQ6IDEwMC4wJTsiPk1hcmtldCBOYW1lOiBTYW4gRnJhbmNpc2NvPGJyPiBXYWxrIFNjb3JlOiA5NS4wPGJyPiBWYWNhbmN5JTogOS4xPC9kaXY+JylbMF07CiAgICAgICAgICAgICAgICBwb3B1cF82ZWNlODMzNTU2MGU0ZWE3YjdhODM0ZDY4ZGQ1MTcwMy5zZXRDb250ZW50KGh0bWxfNzFiNTAyNmUzN2VlNGQ5YmIxNjk2ZGRkMzI4NGJmYmMpOwogICAgICAgICAgICAKCiAgICAgICAgICAgIGNpcmNsZV9tYXJrZXJfZjEzNjI4Njc4YTIwNDU5MDg5N2I4NzdhY2U4NWQ0MDcuYmluZFBvcHVwKHBvcHVwXzZlY2U4MzM1NTYwZTRlYTdiN2E4MzRkNjhkZDUxNzAzKTsKCiAgICAgICAgICAgIAogICAgICAgIAogICAgCiAgICAgICAgICAgIHZhciBjaXJjbGVfbWFya2VyXzAwYjEyNGI0ZjZhNTRiNjY5YzM4N2I4NmRiYzNjMWU0ID0gTC5jaXJjbGVNYXJrZXIoCiAgICAgICAgICAgICAgICBbMzQuMTA3LC0xMTguNDEyXSwKICAgICAgICAgICAgICAgIHsKICAiYnViYmxpbmdNb3VzZUV2ZW50cyI6IHRydWUsCiAgImNvbG9yIjogIiMzMzg4ZmYiLAogICJkYXNoQXJyYXkiOiBudWxsLAogICJkYXNoT2Zmc2V0IjogbnVsbCwKICAiZmlsbCI6IHRydWUsCiAgImZpbGxDb2xvciI6ICIjMzM4OGZmIiwKICAiZmlsbE9wYWNpdHkiOiAwLjIsCiAgImZpbGxSdWxlIjogImV2ZW5vZGQiLAogICJsaW5lQ2FwIjogInJvdW5kIiwKICAibGluZUpvaW4iOiAicm91bmQiLAogICJvcGFjaXR5IjogMS4wLAogICJyYWRpdXMiOiAxLjI1LAogICJzdHJva2UiOiB0cnVlLAogICJ3ZWlnaHQiOiAzCn0KICAgICAgICAgICAgICAgICkuYWRkVG8obWFwXzU5ZjAyOGU1NzIzYjQ5NTdhNWNmMmI2NjI0NDFlNzMyKTsKICAgICAgICAgICAgCiAgICAKICAgICAgICAgICAgdmFyIHBvcHVwXzAzMzQ0Y2EyMTk4MDQ4OWViNDQ1N2RmOTEzMmEyYzQyID0gTC5wb3B1cCh7bWF4V2lkdGg6ICczMDAnfSk7CgogICAgICAgICAgICAKICAgICAgICAgICAgICAgIHZhciBodG1sXzY0MDg2ZWMyZmI2OTQxNjBiN2FiMzNhZWM2NDg5ZTE5ID0gJCgnPGRpdiBpZD0iaHRtbF82NDA4NmVjMmZiNjk0MTYwYjdhYjMzYWVjNjQ4OWUxOSIgc3R5bGU9IndpZHRoOiAxMDAuMCU7IGhlaWdodDogMTAwLjAlOyI+TWFya2V0IE5hbWU6IExvcyBBbmdlbGVzPGJyPiBXYWxrIFNjb3JlOiA1LjA8YnI+IFZhY2FuY3klOiAxNC4yPC9kaXY+JylbMF07CiAgICAgICAgICAgICAgICBwb3B1cF8wMzM0NGNhMjE5ODA0ODllYjQ0NTdkZjkxMzJhMmM0Mi5zZXRDb250ZW50KGh0bWxfNjQwODZlYzJmYjY5NDE2MGI3YWIzM2FlYzY0ODllMTkpOwogICAgICAgICAgICAKCiAgICAgICAgICAgIGNpcmNsZV9tYXJrZXJfMDBiMTI0YjRmNmE1NGI2NjljMzg3Yjg2ZGJjM2MxZTQuYmluZFBvcHVwKHBvcHVwXzAzMzQ0Y2EyMTk4MDQ4OWViNDQ1N2RmOTEzMmEyYzQyKTsKCiAgICAgICAgICAgIAogICAgICAgIAogICAgCiAgICAgICAgICAgIHZhciBjaXJjbGVfbWFya2VyX2FmMGRmYmMwY2QyZjRlZjM5YjU0ODE0ZGIyNzc0YmJkID0gTC5jaXJjbGVNYXJrZXIoCiAgICAgICAgICAgICAgICBbMzQuMTA3LC0xMTguNDEyXSwKICAgICAgICAgICAgICAgIHsKICAiYnViYmxpbmdNb3VzZUV2ZW50cyI6IHRydWUsCiAgImNvbG9yIjogIiNGOTkwMDIiLAogICJkYXNoQXJyYXkiOiBudWxsLAogICJkYXNoT2Zmc2V0IjogbnVsbCwKICAiZmlsbCI6IHRydWUsCiAgImZpbGxDb2xvciI6ICIjRjk5MDAyIiwKICAiZmlsbE9wYWNpdHkiOiAwLjIsCiAgImZpbGxSdWxlIjogImV2ZW5vZGQiLAogICJsaW5lQ2FwIjogInJvdW5kIiwKICAibGluZUpvaW4iOiAicm91bmQiLAogICJvcGFjaXR5IjogMS4wLAogICJyYWRpdXMiOiAxLAogICJzdHJva2UiOiB0cnVlLAogICJ3ZWlnaHQiOiAzCn0KICAgICAgICAgICAgICAgICkuYWRkVG8obWFwXzU5ZjAyOGU1NzIzYjQ5NTdhNWNmMmI2NjI0NDFlNzMyKTsKICAgICAgICAgICAgCiAgICAKICAgICAgICAgICAgdmFyIHBvcHVwXzYwMTEzOTUzODFkODQ0MTI5N2YyYTFlZTU4NDc3NTYzID0gTC5wb3B1cCh7bWF4V2lkdGg6ICczMDAnfSk7CgogICAgICAgICAgICAKICAgICAgICAgICAgICAgIHZhciBodG1sX2U1MDQ5MTA0ZjE0ZjQyMzE4Nzc1YmJiOWE5M2E2MjE4ID0gJCgnPGRpdiBpZD0iaHRtbF9lNTA0OTEwNGYxNGY0MjMxODc3NWJiYjlhOTNhNjIxOCIgc3R5bGU9IndpZHRoOiAxMDAuMCU7IGhlaWdodDogMTAwLjAlOyI+TWFya2V0IE5hbWU6IExvcyBBbmdlbGVzPGJyPiBXYWxrIFNjb3JlOiA1LjA8YnI+IFZhY2FuY3klOiAxNC4yPC9kaXY+JylbMF07CiAgICAgICAgICAgICAgICBwb3B1cF82MDExMzk1MzgxZDg0NDEyOTdmMmExZWU1ODQ3NzU2My5zZXRDb250ZW50KGh0bWxfZTUwNDkxMDRmMTRmNDIzMTg3NzViYmI5YTkzYTYyMTgpOwogICAgICAgICAgICAKCiAgICAgICAgICAgIGNpcmNsZV9tYXJrZXJfYWYwZGZiYzBjZDJmNGVmMzliNTQ4MTRkYjI3NzRiYmQuYmluZFBvcHVwKHBvcHVwXzYwMTEzOTUzODFkODQ0MTI5N2YyYTFlZTU4NDc3NTYzKTsKCiAgICAgICAgICAgIAogICAgICAgIAogICAgCiAgICAgICAgICAgIHZhciBjaXJjbGVfbWFya2VyXzBlY2NhODQyZjhmMjQ4OGZhOWE1NzIzODQ0MDU3YzgyID0gTC5jaXJjbGVNYXJrZXIoCiAgICAgICAgICAgICAgICBbMzIuODE2OSwtMTE3LjEzM10sCiAgICAgICAgICAgICAgICB7CiAgImJ1YmJsaW5nTW91c2VFdmVudHMiOiB0cnVlLAogICJjb2xvciI6ICIjMzM4OGZmIiwKICAiZGFzaEFycmF5IjogbnVsbCwKICAiZGFzaE9mZnNldCI6IG51bGwsCiAgImZpbGwiOiB0cnVlLAogICJmaWxsQ29sb3IiOiAiIzMzODhmZiIsCiAgImZpbGxPcGFjaXR5IjogMC4yLAogICJmaWxsUnVsZSI6ICJldmVub2RkIiwKICAibGluZUNhcCI6ICJyb3VuZCIsCiAgImxpbmVKb2luIjogInJvdW5kIiwKICAib3BhY2l0eSI6IDEuMCwKICAicmFkaXVzIjogNC43NSwKICAic3Ryb2tlIjogdHJ1ZSwKICAid2VpZ2h0IjogMwp9CiAgICAgICAgICAgICAgICApLmFkZFRvKG1hcF81OWYwMjhlNTcyM2I0OTU3YTVjZjJiNjYyNDQxZTczMik7CiAgICAgICAgICAgIAogICAgCiAgICAgICAgICAgIHZhciBwb3B1cF8yY2ZmZTFiNzlhYzg0MWE1ODQ4NTZlYzNiN2MxNWQwNCA9IEwucG9wdXAoe21heFdpZHRoOiAnMzAwJ30pOwoKICAgICAgICAgICAgCiAgICAgICAgICAgICAgICB2YXIgaHRtbF9hOWU1OTRhZWIxNjg0NzYwOWRhYTQ1MDczOTMyOTRjMSA9ICQoJzxkaXYgaWQ9Imh0bWxfYTllNTk0YWViMTY4NDc2MDlkYWE0NTA3MzkzMjk0YzEiIHN0eWxlPSJ3aWR0aDogMTAwLjAlOyBoZWlnaHQ6IDEwMC4wJTsiPk1hcmtldCBOYW1lOiBTYW4gRGllZ288YnI+IFdhbGsgU2NvcmU6IDE5LjA8YnI+IFZhY2FuY3klOiAxMi42PC9kaXY+JylbMF07CiAgICAgICAgICAgICAgICBwb3B1cF8yY2ZmZTFiNzlhYzg0MWE1ODQ4NTZlYzNiN2MxNWQwNC5zZXRDb250ZW50KGh0bWxfYTllNTk0YWViMTY4NDc2MDlkYWE0NTA3MzkzMjk0YzEpOwogICAgICAgICAgICAKCiAgICAgICAgICAgIGNpcmNsZV9tYXJrZXJfMGVjY2E4NDJmOGYyNDg4ZmE5YTU3MjM4NDQwNTdjODIuYmluZFBvcHVwKHBvcHVwXzJjZmZlMWI3OWFjODQxYTU4NDg1NmVjM2I3YzE1ZDA0KTsKCiAgICAgICAgICAgIAogICAgICAgIAogICAgCiAgICAgICAgICAgIHZhciBjaXJjbGVfbWFya2VyXzJjOWExMGY0NDAzYjQzMDY4MTY3ODBiNTJjMmRlZmVmID0gTC5jaXJjbGVNYXJrZXIoCiAgICAgICAgICAgICAgICBbMzIuODE2OSwtMTE3LjEzM10sCiAgICAgICAgICAgICAgICB7CiAgImJ1YmJsaW5nTW91c2VFdmVudHMiOiB0cnVlLAogICJjb2xvciI6ICIjRkZDMzAwIiwKICAiZGFzaEFycmF5IjogbnVsbCwKICAiZGFzaE9mZnNldCI6IG51bGwsCiAgImZpbGwiOiB0cnVlLAogICJmaWxsQ29sb3IiOiAiI0ZGQzMwMCIsCiAgImZpbGxPcGFjaXR5IjogMC4yLAogICJmaWxsUnVsZSI6ICJldmVub2RkIiwKICAibGluZUNhcCI6ICJyb3VuZCIsCiAgImxpbmVKb2luIjogInJvdW5kIiwKICAib3BhY2l0eSI6IDEuMCwKICAicmFkaXVzIjogMSwKICAic3Ryb2tlIjogdHJ1ZSwKICAid2VpZ2h0IjogMwp9CiAgICAgICAgICAgICAgICApLmFkZFRvKG1hcF81OWYwMjhlNTcyM2I0OTU3YTVjZjJiNjYyNDQxZTczMik7CiAgICAgICAgICAgIAogICAgCiAgICAgICAgICAgIHZhciBwb3B1cF80ZTdkNTllOThjMjA0NWM5YjhkYTRiZjYyMGJhOWZjOCA9IEwucG9wdXAoe21heFdpZHRoOiAnMzAwJ30pOwoKICAgICAgICAgICAgCiAgICAgICAgICAgICAgICB2YXIgaHRtbF82OGFhYmQ4ZTk0MDU0ZjMyYmI1Njc1NGI1ZDhlMzJlNCA9ICQoJzxkaXYgaWQ9Imh0bWxfNjhhYWJkOGU5NDA1NGYzMmJiNTY3NTRiNWQ4ZTMyZTQiIHN0eWxlPSJ3aWR0aDogMTAwLjAlOyBoZWlnaHQ6IDEwMC4wJTsiPk1hcmtldCBOYW1lOiBTYW4gRGllZ288YnI+IFdhbGsgU2NvcmU6IDE5LjA8YnI+IFZhY2FuY3klOiAxMi42PC9kaXY+JylbMF07CiAgICAgICAgICAgICAgICBwb3B1cF80ZTdkNTllOThjMjA0NWM5YjhkYTRiZjYyMGJhOWZjOC5zZXRDb250ZW50KGh0bWxfNjhhYWJkOGU5NDA1NGYzMmJiNTY3NTRiNWQ4ZTMyZTQpOwogICAgICAgICAgICAKCiAgICAgICAgICAgIGNpcmNsZV9tYXJrZXJfMmM5YTEwZjQ0MDNiNDMwNjgxNjc4MGI1MmMyZGVmZWYuYmluZFBvcHVwKHBvcHVwXzRlN2Q1OWU5OGMyMDQ1YzliOGRhNGJmNjIwYmE5ZmM4KTsKCiAgICAgICAgICAgIAogICAgICAgIAogICAgCiAgICAgICAgICAgIHZhciBjaXJjbGVfbWFya2VyX2E0MzViOGM4N2MxNTQ1Zjg5NWJkZDY4OWJmM2ZjMmI2ID0gTC5jaXJjbGVNYXJrZXIoCiAgICAgICAgICAgICAgICBbMzAuMzA2OSwtOTcuNzU1NV0sCiAgICAgICAgICAgICAgICB7CiAgImJ1YmJsaW5nTW91c2VFdmVudHMiOiB0cnVlLAogICJjb2xvciI6ICIjMzM4OGZmIiwKICAiZGFzaEFycmF5IjogbnVsbCwKICAiZGFzaE9mZnNldCI6IG51bGwsCiAgImZpbGwiOiB0cnVlLAogICJmaWxsQ29sb3IiOiAiIzMzODhmZiIsCiAgImZpbGxPcGFjaXR5IjogMC4yLAogICJmaWxsUnVsZSI6ICJldmVub2RkIiwKICAibGluZUNhcCI6ICJyb3VuZCIsCiAgImxpbmVKb2luIjogInJvdW5kIiwKICAib3BhY2l0eSI6IDEuMCwKICAicmFkaXVzIjogMTkuMjUsCiAgInN0cm9rZSI6IHRydWUsCiAgIndlaWdodCI6IDMKfQogICAgICAgICAgICAgICAgKS5hZGRUbyhtYXBfNTlmMDI4ZTU3MjNiNDk1N2E1Y2YyYjY2MjQ0MWU3MzIpOwogICAgICAgICAgICAKICAgIAogICAgICAgICAgICB2YXIgcG9wdXBfZjQxMzFjMjM5NmU0NDE3Mjg3MjVlMTk0YmE4MjE1YTkgPSBMLnBvcHVwKHttYXhXaWR0aDogJzMwMCd9KTsKCiAgICAgICAgICAgIAogICAgICAgICAgICAgICAgdmFyIGh0bWxfYzMwZTYwMDg1Y2Y1NDZiMzhkNGVlYjc0NmY4M2FkZjEgPSAkKCc8ZGl2IGlkPSJodG1sX2MzMGU2MDA4NWNmNTQ2YjM4ZDRlZWI3NDZmODNhZGYxIiBzdHlsZT0id2lkdGg6IDEwMC4wJTsgaGVpZ2h0OiAxMDAuMCU7Ij5NYXJrZXQgTmFtZTogQXVzdGluPGJyPiBXYWxrIFNjb3JlOiA3Ny4wPGJyPiBWYWNhbmN5JTogMTAuNzwvZGl2PicpWzBdOwogICAgICAgICAgICAgICAgcG9wdXBfZjQxMzFjMjM5NmU0NDE3Mjg3MjVlMTk0YmE4MjE1YTkuc2V0Q29udGVudChodG1sX2MzMGU2MDA4NWNmNTQ2YjM4ZDRlZWI3NDZmODNhZGYxKTsKICAgICAgICAgICAgCgogICAgICAgICAgICBjaXJjbGVfbWFya2VyX2E0MzViOGM4N2MxNTQ1Zjg5NWJkZDY4OWJmM2ZjMmI2LmJpbmRQb3B1cChwb3B1cF9mNDEzMWMyMzk2ZTQ0MTcyODcyNWUxOTRiYTgyMTVhOSk7CgogICAgICAgICAgICAKICAgICAgICAKICAgIAogICAgICAgICAgICB2YXIgY2lyY2xlX21hcmtlcl82YzA4OGE5NGU5ZGM0N2M4ODg3Y2IxNmJlYjdkYTcyMyA9IEwuY2lyY2xlTWFya2VyKAogICAgICAgICAgICAgICAgWzMwLjMwNjksLTk3Ljc1NTVdLAogICAgICAgICAgICAgICAgewogICJidWJibGluZ01vdXNlRXZlbnRzIjogdHJ1ZSwKICAiY29sb3IiOiAiI0RBRjdBNiIsCiAgImRhc2hBcnJheSI6IG51bGwsCiAgImRhc2hPZmZzZXQiOiBudWxsLAogICJmaWxsIjogdHJ1ZSwKICAiZmlsbENvbG9yIjogIiNEQUY3QTYiLAogICJmaWxsT3BhY2l0eSI6IDAuMiwKICAiZmlsbFJ1bGUiOiAiZXZlbm9kZCIsCiAgImxpbmVDYXAiOiAicm91bmQiLAogICJsaW5lSm9pbiI6ICJyb3VuZCIsCiAgIm9wYWNpdHkiOiAxLjAsCiAgInJhZGl1cyI6IDEsCiAgInN0cm9rZSI6IHRydWUsCiAgIndlaWdodCI6IDMKfQogICAgICAgICAgICAgICAgKS5hZGRUbyhtYXBfNTlmMDI4ZTU3MjNiNDk1N2E1Y2YyYjY2MjQ0MWU3MzIpOwogICAgICAgICAgICAKICAgIAogICAgICAgICAgICB2YXIgcG9wdXBfZDU1OGNlYjdjZmQwNDAxZGJiNDk4NjYxMWZkYTdmOWIgPSBMLnBvcHVwKHttYXhXaWR0aDogJzMwMCd9KTsKCiAgICAgICAgICAgIAogICAgICAgICAgICAgICAgdmFyIGh0bWxfZDNlMzAxOGFiOTI5NDA3YzgwZmY5ZjU3MWIxMjAxOTkgPSAkKCc8ZGl2IGlkPSJodG1sX2QzZTMwMThhYjkyOTQwN2M4MGZmOWY1NzFiMTIwMTk5IiBzdHlsZT0id2lkdGg6IDEwMC4wJTsgaGVpZ2h0OiAxMDAuMCU7Ij5NYXJrZXQgTmFtZTogQXVzdGluPGJyPiBXYWxrIFNjb3JlOiA3Ny4wPGJyPiBWYWNhbmN5JTogMTAuNzwvZGl2PicpWzBdOwogICAgICAgICAgICAgICAgcG9wdXBfZDU1OGNlYjdjZmQwNDAxZGJiNDk4NjYxMWZkYTdmOWIuc2V0Q29udGVudChodG1sX2QzZTMwMThhYjkyOTQwN2M4MGZmOWY1NzFiMTIwMTk5KTsKICAgICAgICAgICAgCgogICAgICAgICAgICBjaXJjbGVfbWFya2VyXzZjMDg4YTk0ZTlkYzQ3Yzg4ODdjYjE2YmViN2RhNzIzLmJpbmRQb3B1cChwb3B1cF9kNTU4Y2ViN2NmZDA0MDFkYmI0OTg2NjExZmRhN2Y5Yik7CgogICAgICAgICAgICAKICAgICAgICAKICAgIAogICAgICAgICAgICB2YXIgY2lyY2xlX21hcmtlcl8yYTNjOTVlMzZlMjg0NzIxOTkyMzYyNWRkZmNjZGM0NSA9IEwuY2lyY2xlTWFya2VyKAogICAgICAgICAgICAgICAgWzMyLjc5NCwtOTYuNzY1N10sCiAgICAgICAgICAgICAgICB7CiAgImJ1YmJsaW5nTW91c2VFdmVudHMiOiB0cnVlLAogICJjb2xvciI6ICIjMzM4OGZmIiwKICAiZGFzaEFycmF5IjogbnVsbCwKICAiZGFzaE9mZnNldCI6IG51bGwsCiAgImZpbGwiOiB0cnVlLAogICJmaWxsQ29sb3IiOiAiIzMzODhmZiIsCiAgImZpbGxPcGFjaXR5IjogMC4yLAogICJmaWxsUnVsZSI6ICJldmVub2RkIiwKICAibGluZUNhcCI6ICJyb3VuZCIsCiAgImxpbmVKb2luIjogInJvdW5kIiwKICAib3BhY2l0eSI6IDEuMCwKICAicmFkaXVzIjogMTcuNSwKICAic3Ryb2tlIjogdHJ1ZSwKICAid2VpZ2h0IjogMwp9CiAgICAgICAgICAgICAgICApLmFkZFRvKG1hcF81OWYwMjhlNTcyM2I0OTU3YTVjZjJiNjYyNDQxZTczMik7CiAgICAgICAgICAgIAogICAgCiAgICAgICAgICAgIHZhciBwb3B1cF82ZWVlMzVjYzU4YjQ0MGM1YTA2YjY5ZDM4NWIwODhkMyA9IEwucG9wdXAoe21heFdpZHRoOiAnMzAwJ30pOwoKICAgICAgICAgICAgCiAgICAgICAgICAgICAgICB2YXIgaHRtbF9iYTllNzM1NjUyYzY0YjUyYTZmODI1NjUzYTMyYWViMSA9ICQoJzxkaXYgaWQ9Imh0bWxfYmE5ZTczNTY1MmM2NGI1MmE2ZjgyNTY1M2EzMmFlYjEiIHN0eWxlPSJ3aWR0aDogMTAwLjAlOyBoZWlnaHQ6IDEwMC4wJTsiPk1hcmtldCBOYW1lOiBEYWxsYXM8YnI+IFdhbGsgU2NvcmU6IDcwLjA8YnI+IFZhY2FuY3klOiAxOC43PC9kaXY+JylbMF07CiAgICAgICAgICAgICAgICBwb3B1cF82ZWVlMzVjYzU4YjQ0MGM1YTA2YjY5ZDM4NWIwODhkMy5zZXRDb250ZW50KGh0bWxfYmE5ZTczNTY1MmM2NGI1MmE2ZjgyNTY1M2EzMmFlYjEpOwogICAgICAgICAgICAKCiAgICAgICAgICAgIGNpcmNsZV9tYXJrZXJfMmEzYzk1ZTM2ZTI4NDcyMTk5MjM2MjVkZGZjY2RjNDUuYmluZFBvcHVwKHBvcHVwXzZlZWUzNWNjNThiNDQwYzVhMDZiNjlkMzg1YjA4OGQzKTsKCiAgICAgICAgICAgIAogICAgICAgIAogICAgCiAgICAgICAgICAgIHZhciBjaXJjbGVfbWFya2VyXzA1NDIyZDZlYWFjMjQ1NGE4NGRmZDViODljMmM0OGQ0ID0gTC5jaXJjbGVNYXJrZXIoCiAgICAgICAgICAgICAgICBbMzIuNzk0LC05Ni43NjU3XSwKICAgICAgICAgICAgICAgIHsKICAiYnViYmxpbmdNb3VzZUV2ZW50cyI6IHRydWUsCiAgImNvbG9yIjogIiNGOTAyMDIiLAogICJkYXNoQXJyYXkiOiBudWxsLAogICJkYXNoT2Zmc2V0IjogbnVsbCwKICAiZmlsbCI6IHRydWUsCiAgImZpbGxDb2xvciI6ICIjRjkwMjAyIiwKICAiZmlsbE9wYWNpdHkiOiAwLjIsCiAgImZpbGxSdWxlIjogImV2ZW5vZGQiLAogICJsaW5lQ2FwIjogInJvdW5kIiwKICAibGluZUpvaW4iOiAicm91bmQiLAogICJvcGFjaXR5IjogMS4wLAogICJyYWRpdXMiOiAxLAogICJzdHJva2UiOiB0cnVlLAogICJ3ZWlnaHQiOiAzCn0KICAgICAgICAgICAgICAgICkuYWRkVG8obWFwXzU5ZjAyOGU1NzIzYjQ5NTdhNWNmMmI2NjI0NDFlNzMyKTsKICAgICAgICAgICAgCiAgICAKICAgICAgICAgICAgdmFyIHBvcHVwX2JmNDEyMDYyMzJkOTQyMDM4OGE4OTFjMjcwZDBjN2JiID0gTC5wb3B1cCh7bWF4V2lkdGg6ICczMDAnfSk7CgogICAgICAgICAgICAKICAgICAgICAgICAgICAgIHZhciBodG1sXzRkNjBjZTdiNTY2OTRjNGRhZTZiMzU1MTk3MmEyNjUxID0gJCgnPGRpdiBpZD0iaHRtbF80ZDYwY2U3YjU2Njk0YzRkYWU2YjM1NTE5NzJhMjY1MSIgc3R5bGU9IndpZHRoOiAxMDAuMCU7IGhlaWdodDogMTAwLjAlOyI+TWFya2V0IE5hbWU6IERhbGxhczxicj4gV2FsayBTY29yZTogNzAuMDxicj4gVmFjYW5jeSU6IDE4Ljc8L2Rpdj4nKVswXTsKICAgICAgICAgICAgICAgIHBvcHVwX2JmNDEyMDYyMzJkOTQyMDM4OGE4OTFjMjcwZDBjN2JiLnNldENvbnRlbnQoaHRtbF80ZDYwY2U3YjU2Njk0YzRkYWU2YjM1NTE5NzJhMjY1MSk7CiAgICAgICAgICAgIAoKICAgICAgICAgICAgY2lyY2xlX21hcmtlcl8wNTQyMmQ2ZWFhYzI0NTRhODRkZmQ1Yjg5YzJjNDhkNC5iaW5kUG9wdXAocG9wdXBfYmY0MTIwNjIzMmQ5NDIwMzg4YTg5MWMyNzBkMGM3YmIpOwoKICAgICAgICAgICAgCiAgICAgICAgCiAgICAKICAgICAgICAgICAgdmFyIGNpcmNsZV9tYXJrZXJfOTk5MmQ0ZTY5MDc4NGFiM2ExZWMyODhjZWZlMjI5M2QgPSBMLmNpcmNsZU1hcmtlcigKICAgICAgICAgICAgICAgIFsyOS43ODA3LC05NS4zODZdLAogICAgICAgICAgICAgICAgewogICJidWJibGluZ01vdXNlRXZlbnRzIjogdHJ1ZSwKICAiY29sb3IiOiAiIzMzODhmZiIsCiAgImRhc2hBcnJheSI6IG51bGwsCiAgImRhc2hPZmZzZXQiOiBudWxsLAogICJmaWxsIjogdHJ1ZSwKICAiZmlsbENvbG9yIjogIiMzMzg4ZmYiLAogICJmaWxsT3BhY2l0eSI6IDAuMiwKICAiZmlsbFJ1bGUiOiAiZXZlbm9kZCIsCiAgImxpbmVDYXAiOiAicm91bmQiLAogICJsaW5lSm9pbiI6ICJyb3VuZCIsCiAgIm9wYWNpdHkiOiAxLjAsCiAgInJhZGl1cyI6IDE4LjAsCiAgInN0cm9rZSI6IHRydWUsCiAgIndlaWdodCI6IDMKfQogICAgICAgICAgICAgICAgKS5hZGRUbyhtYXBfNTlmMDI4ZTU3MjNiNDk1N2E1Y2YyYjY2MjQ0MWU3MzIpOwogICAgICAgICAgICAKICAgIAogICAgICAgICAgICB2YXIgcG9wdXBfZTRhODQ0NGMwMDMyNGVjMWFkOGRiODgzZDVmZDBhMmEgPSBMLnBvcHVwKHttYXhXaWR0aDogJzMwMCd9KTsKCiAgICAgICAgICAgIAogICAgICAgICAgICAgICAgdmFyIGh0bWxfOWFlOTU5NDViNGUyNGUxYjlmZWUwNWEwZjMyYzc3MDYgPSAkKCc8ZGl2IGlkPSJodG1sXzlhZTk1OTQ1YjRlMjRlMWI5ZmVlMDVhMGYzMmM3NzA2IiBzdHlsZT0id2lkdGg6IDEwMC4wJTsgaGVpZ2h0OiAxMDAuMCU7Ij5NYXJrZXQgTmFtZTogSG91c3Rvbjxicj4gV2FsayBTY29yZTogNzIuMDxicj4gVmFjYW5jeSU6IDIzLjg8L2Rpdj4nKVswXTsKICAgICAgICAgICAgICAgIHBvcHVwX2U0YTg0NDRjMDAzMjRlYzFhZDhkYjg4M2Q1ZmQwYTJhLnNldENvbnRlbnQoaHRtbF85YWU5NTk0NWI0ZTI0ZTFiOWZlZTA1YTBmMzJjNzcwNik7CiAgICAgICAgICAgIAoKICAgICAgICAgICAgY2lyY2xlX21hcmtlcl85OTkyZDRlNjkwNzg0YWIzYTFlYzI4OGNlZmUyMjkzZC5iaW5kUG9wdXAocG9wdXBfZTRhODQ0NGMwMDMyNGVjMWFkOGRiODgzZDVmZDBhMmEpOwoKICAgICAgICAgICAgCiAgICAgICAgCiAgICAKICAgICAgICAgICAgdmFyIGNpcmNsZV9tYXJrZXJfMDU2Y2IxYzA2YWQ2NDJkMWI3ZDk0ODdiMzVhY2I5NDEgPSBMLmNpcmNsZU1hcmtlcigKICAgICAgICAgICAgICAgIFsyOS43ODA3LC05NS4zODZdLAogICAgICAgICAgICAgICAgewogICJidWJibGluZ01vdXNlRXZlbnRzIjogdHJ1ZSwKICAiY29sb3IiOiAiI0Y5MDIwMiIsCiAgImRhc2hBcnJheSI6IG51bGwsCiAgImRhc2hPZmZzZXQiOiBudWxsLAogICJmaWxsIjogdHJ1ZSwKICAiZmlsbENvbG9yIjogIiNGOTAyMDIiLAogICJmaWxsT3BhY2l0eSI6IDAuMiwKICAiZmlsbFJ1bGUiOiAiZXZlbm9kZCIsCiAgImxpbmVDYXAiOiAicm91bmQiLAogICJsaW5lSm9pbiI6ICJyb3VuZCIsCiAgIm9wYWNpdHkiOiAxLjAsCiAgInJhZGl1cyI6IDEsCiAgInN0cm9rZSI6IHRydWUsCiAgIndlaWdodCI6IDMKfQogICAgICAgICAgICAgICAgKS5hZGRUbyhtYXBfNTlmMDI4ZTU3MjNiNDk1N2E1Y2YyYjY2MjQ0MWU3MzIpOwogICAgICAgICAgICAKICAgIAogICAgICAgICAgICB2YXIgcG9wdXBfNjM3YzlhMDJhYTAwNGUwOWFlMDRhODkwNjFjZTM5NTYgPSBMLnBvcHVwKHttYXhXaWR0aDogJzMwMCd9KTsKCiAgICAgICAgICAgIAogICAgICAgICAgICAgICAgdmFyIGh0bWxfMTY5ZjU1ZDgzMzZjNDZjYzkwYzM2OWQ4MTkwODVjZDUgPSAkKCc8ZGl2IGlkPSJodG1sXzE2OWY1NWQ4MzM2YzQ2Y2M5MGMzNjlkODE5MDg1Y2Q1IiBzdHlsZT0id2lkdGg6IDEwMC4wJTsgaGVpZ2h0OiAxMDAuMCU7Ij5NYXJrZXQgTmFtZTogSG91c3Rvbjxicj4gV2FsayBTY29yZTogNzIuMDxicj4gVmFjYW5jeSU6IDIzLjg8L2Rpdj4nKVswXTsKICAgICAgICAgICAgICAgIHBvcHVwXzYzN2M5YTAyYWEwMDRlMDlhZTA0YTg5MDYxY2UzOTU2LnNldENvbnRlbnQoaHRtbF8xNjlmNTVkODMzNmM0NmNjOTBjMzY5ZDgxOTA4NWNkNSk7CiAgICAgICAgICAgIAoKICAgICAgICAgICAgY2lyY2xlX21hcmtlcl8wNTZjYjFjMDZhZDY0MmQxYjdkOTQ4N2IzNWFjYjk0MS5iaW5kUG9wdXAocG9wdXBfNjM3YzlhMDJhYTAwNGUwOWFlMDRhODkwNjFjZTM5NTYpOwoKICAgICAgICAgICAgCiAgICAgICAgCiAgICAKICAgICAgICAgICAgdmFyIGNpcmNsZV9tYXJrZXJfN2EwYjE1NWQ2NmNiNGZkY2JiYWVlZmMwYzI5ZTE0Y2EgPSBMLmNpcmNsZU1hcmtlcigKICAgICAgICAgICAgICAgIFszOS4zMDEsLTc2LjYxMDZdLAogICAgICAgICAgICAgICAgewogICJidWJibGluZ01vdXNlRXZlbnRzIjogdHJ1ZSwKICAiY29sb3IiOiAiIzMzODhmZiIsCiAgImRhc2hBcnJheSI6IG51bGwsCiAgImRhc2hPZmZzZXQiOiBudWxsLAogICJmaWxsIjogdHJ1ZSwKICAiZmlsbENvbG9yIjogIiMzMzg4ZmYiLAogICJmaWxsT3BhY2l0eSI6IDAuMiwKICAiZmlsbFJ1bGUiOiAiZXZlbm9kZCIsCiAgImxpbmVDYXAiOiAicm91bmQiLAogICJsaW5lSm9pbiI6ICJyb3VuZCIsCiAgIm9wYWNpdHkiOiAxLjAsCiAgInJhZGl1cyI6IDIyLjI1LAogICJzdHJva2UiOiB0cnVlLAogICJ3ZWlnaHQiOiAzCn0KICAgICAgICAgICAgICAgICkuYWRkVG8obWFwXzU5ZjAyOGU1NzIzYjQ5NTdhNWNmMmI2NjI0NDFlNzMyKTsKICAgICAgICAgICAgCiAgICAKICAgICAgICAgICAgdmFyIHBvcHVwXzZiM2Y0N2M1YjM5MTQ4YTg5MmQ2NDI5NzkxOTQ5NTVhID0gTC5wb3B1cCh7bWF4V2lkdGg6ICczMDAnfSk7CgogICAgICAgICAgICAKICAgICAgICAgICAgICAgIHZhciBodG1sXzU4NDUyZmUwOWViOTRhYWRiN2I2MDcyZjc3NTJlNmQxID0gJCgnPGRpdiBpZD0iaHRtbF81ODQ1MmZlMDllYjk0YWFkYjdiNjA3MmY3NzUyZTZkMSIgc3R5bGU9IndpZHRoOiAxMDAuMCU7IGhlaWdodDogMTAwLjAlOyI+TWFya2V0IE5hbWU6IEJhbHRpbW9yZTxicj4gV2FsayBTY29yZTogODkuMDxicj4gVmFjYW5jeSU6IDE0LjM8L2Rpdj4nKVswXTsKICAgICAgICAgICAgICAgIHBvcHVwXzZiM2Y0N2M1YjM5MTQ4YTg5MmQ2NDI5NzkxOTQ5NTVhLnNldENvbnRlbnQoaHRtbF81ODQ1MmZlMDllYjk0YWFkYjdiNjA3MmY3NzUyZTZkMSk7CiAgICAgICAgICAgIAoKICAgICAgICAgICAgY2lyY2xlX21hcmtlcl83YTBiMTU1ZDY2Y2I0ZmRjYmJhZWVmYzBjMjllMTRjYS5iaW5kUG9wdXAocG9wdXBfNmIzZjQ3YzViMzkxNDhhODkyZDY0Mjk3OTE5NDk1NWEpOwoKICAgICAgICAgICAgCiAgICAgICAgCiAgICAKICAgICAgICAgICAgdmFyIGNpcmNsZV9tYXJrZXJfYjhmNTQzNzgxZTM2NGY1NTgwMWQ5YWMwZDA2ZjJhNmMgPSBMLmNpcmNsZU1hcmtlcigKICAgICAgICAgICAgICAgIFszOS4zMDEsLTc2LjYxMDZdLAogICAgICAgICAgICAgICAgewogICJidWJibGluZ01vdXNlRXZlbnRzIjogdHJ1ZSwKICAiY29sb3IiOiAiI0Y5OTAwMiIsCiAgImRhc2hBcnJheSI6IG51bGwsCiAgImRhc2hPZmZzZXQiOiBudWxsLAogICJmaWxsIjogdHJ1ZSwKICAiZmlsbENvbG9yIjogIiNGOTkwMDIiLAogICJmaWxsT3BhY2l0eSI6IDAuMiwKICAiZmlsbFJ1bGUiOiAiZXZlbm9kZCIsCiAgImxpbmVDYXAiOiAicm91bmQiLAogICJsaW5lSm9pbiI6ICJyb3VuZCIsCiAgIm9wYWNpdHkiOiAxLjAsCiAgInJhZGl1cyI6IDEsCiAgInN0cm9rZSI6IHRydWUsCiAgIndlaWdodCI6IDMKfQogICAgICAgICAgICAgICAgKS5hZGRUbyhtYXBfNTlmMDI4ZTU3MjNiNDk1N2E1Y2YyYjY2MjQ0MWU3MzIpOwogICAgICAgICAgICAKICAgIAogICAgICAgICAgICB2YXIgcG9wdXBfNDY5MjAzZDgyOWZhNDkxOGFhZDIyNDBhNDVjYWY3NmQgPSBMLnBvcHVwKHttYXhXaWR0aDogJzMwMCd9KTsKCiAgICAgICAgICAgIAogICAgICAgICAgICAgICAgdmFyIGh0bWxfZTIwMDNkMDdmYWNiNGZkZTg4MDc1MTQ5ODBiNjcyZDggPSAkKCc8ZGl2IGlkPSJodG1sX2UyMDAzZDA3ZmFjYjRmZGU4ODA3NTE0OTgwYjY3MmQ4IiBzdHlsZT0id2lkdGg6IDEwMC4wJTsgaGVpZ2h0OiAxMDAuMCU7Ij5NYXJrZXQgTmFtZTogQmFsdGltb3JlPGJyPiBXYWxrIFNjb3JlOiA4OS4wPGJyPiBWYWNhbmN5JTogMTQuMzwvZGl2PicpWzBdOwogICAgICAgICAgICAgICAgcG9wdXBfNDY5MjAzZDgyOWZhNDkxOGFhZDIyNDBhNDVjYWY3NmQuc2V0Q29udGVudChodG1sX2UyMDAzZDA3ZmFjYjRmZGU4ODA3NTE0OTgwYjY3MmQ4KTsKICAgICAgICAgICAgCgogICAgICAgICAgICBjaXJjbGVfbWFya2VyX2I4ZjU0Mzc4MWUzNjRmNTU4MDFkOWFjMGQwNmYyYTZjLmJpbmRQb3B1cChwb3B1cF80NjkyMDNkODI5ZmE0OTE4YWFkMjI0MGE0NWNhZjc2ZCk7CgogICAgICAgICAgICAKICAgICAgICAKICAgIAogICAgICAgICAgICB2YXIgY2lyY2xlX21hcmtlcl81ZTVlNzEyZjFmYjE0NzY4YTlhMTgzZTBlZTY2NGMwZiA9IEwuY2lyY2xlTWFya2VyKAogICAgICAgICAgICAgICAgWzQwLjc2MDgsLTExMS44OTFdLAogICAgICAgICAgICAgICAgewogICJidWJibGluZ01vdXNlRXZlbnRzIjogdHJ1ZSwKICAiY29sb3IiOiAiIzMzODhmZiIsCiAgImRhc2hBcnJheSI6IG51bGwsCiAgImRhc2hPZmZzZXQiOiBudWxsLAogICJmaWxsIjogdHJ1ZSwKICAiZmlsbENvbG9yIjogIiMzMzg4ZmYiLAogICJmaWxsT3BhY2l0eSI6IDAuMiwKICAiZmlsbFJ1bGUiOiAiZXZlbm9kZCIsCiAgImxpbmVDYXAiOiAicm91bmQiLAogICJsaW5lSm9pbiI6ICJyb3VuZCIsCiAgIm9wYWNpdHkiOiAxLjAsCiAgInJhZGl1cyI6IDE0LjI1LAogICJzdHJva2UiOiB0cnVlLAogICJ3ZWlnaHQiOiAzCn0KICAgICAgICAgICAgICAgICkuYWRkVG8obWFwXzU5ZjAyOGU1NzIzYjQ5NTdhNWNmMmI2NjI0NDFlNzMyKTsKICAgICAgICAgICAgCiAgICAKICAgICAgICAgICAgdmFyIHBvcHVwX2JiYjNjZmJkYjllMzRjNjViYWFhYWU0NDg1MzY5NzM5ID0gTC5wb3B1cCh7bWF4V2lkdGg6ICczMDAnfSk7CgogICAgICAgICAgICAKICAgICAgICAgICAgICAgIHZhciBodG1sXzU1OGExYWM2NmNkYTQ3MmVhZTZlNjM1YTJjZDA4NDQ5ID0gJCgnPGRpdiBpZD0iaHRtbF81NThhMWFjNjZjZGE0NzJlYWU2ZTYzNWEyY2QwODQ0OSIgc3R5bGU9IndpZHRoOiAxMDAuMCU7IGhlaWdodDogMTAwLjAlOyI+TWFya2V0IE5hbWU6IFNhbHQgTGFrZSBDaXR5PGJyPiBXYWxrIFNjb3JlOiA1Ny4wPGJyPiBWYWNhbmN5JTogOS4wPC9kaXY+JylbMF07CiAgICAgICAgICAgICAgICBwb3B1cF9iYmIzY2ZiZGI5ZTM0YzY1YmFhYWFlNDQ4NTM2OTczOS5zZXRDb250ZW50KGh0bWxfNTU4YTFhYzY2Y2RhNDcyZWFlNmU2MzVhMmNkMDg0NDkpOwogICAgICAgICAgICAKCiAgICAgICAgICAgIGNpcmNsZV9tYXJrZXJfNWU1ZTcxMmYxZmIxNDc2OGE5YTE4M2UwZWU2NjRjMGYuYmluZFBvcHVwKHBvcHVwX2JiYjNjZmJkYjllMzRjNjViYWFhYWU0NDg1MzY5NzM5KTsKCiAgICAgICAgICAgIAogICAgICAgIAogICAgCiAgICAgICAgICAgIHZhciBjaXJjbGVfbWFya2VyXzBhNGMyY2I0ZWQ0MDRiNDY5NjUwNWNjNTlhNzU2ZTU1ID0gTC5jaXJjbGVNYXJrZXIoCiAgICAgICAgICAgICAgICBbNDAuNzYwOCwtMTExLjg5MV0sCiAgICAgICAgICAgICAgICB7CiAgImJ1YmJsaW5nTW91c2VFdmVudHMiOiB0cnVlLAogICJjb2xvciI6ICIjREFGN0E2IiwKICAiZGFzaEFycmF5IjogbnVsbCwKICAiZGFzaE9mZnNldCI6IG51bGwsCiAgImZpbGwiOiB0cnVlLAogICJmaWxsQ29sb3IiOiAiI0RBRjdBNiIsCiAgImZpbGxPcGFjaXR5IjogMC4yLAogICJmaWxsUnVsZSI6ICJldmVub2RkIiwKICAibGluZUNhcCI6ICJyb3VuZCIsCiAgImxpbmVKb2luIjogInJvdW5kIiwKICAib3BhY2l0eSI6IDEuMCwKICAicmFkaXVzIjogMSwKICAic3Ryb2tlIjogdHJ1ZSwKICAid2VpZ2h0IjogMwp9CiAgICAgICAgICAgICAgICApLmFkZFRvKG1hcF81OWYwMjhlNTcyM2I0OTU3YTVjZjJiNjYyNDQxZTczMik7CiAgICAgICAgICAgIAogICAgCiAgICAgICAgICAgIHZhciBwb3B1cF83YWNhOGQ4MjUyOGY0NGRkYTZkY2E5NzBiOTkzYmU0ZiA9IEwucG9wdXAoe21heFdpZHRoOiAnMzAwJ30pOwoKICAgICAgICAgICAgCiAgICAgICAgICAgICAgICB2YXIgaHRtbF81NzkzY2RkMTBkOTg0YzEwYjQ5NmNhZDFhMzBiMjMyOCA9ICQoJzxkaXYgaWQ9Imh0bWxfNTc5M2NkZDEwZDk4NGMxMGI0OTZjYWQxYTMwYjIzMjgiIHN0eWxlPSJ3aWR0aDogMTAwLjAlOyBoZWlnaHQ6IDEwMC4wJTsiPk1hcmtldCBOYW1lOiBTYWx0IExha2UgQ2l0eTxicj4gV2FsayBTY29yZTogNTcuMDxicj4gVmFjYW5jeSU6IDkuMDwvZGl2PicpWzBdOwogICAgICAgICAgICAgICAgcG9wdXBfN2FjYThkODI1MjhmNDRkZGE2ZGNhOTcwYjk5M2JlNGYuc2V0Q29udGVudChodG1sXzU3OTNjZGQxMGQ5ODRjMTBiNDk2Y2FkMWEzMGIyMzI4KTsKICAgICAgICAgICAgCgogICAgICAgICAgICBjaXJjbGVfbWFya2VyXzBhNGMyY2I0ZWQ0MDRiNDY5NjUwNWNjNTlhNzU2ZTU1LmJpbmRQb3B1cChwb3B1cF83YWNhOGQ4MjUyOGY0NGRkYTZkY2E5NzBiOTkzYmU0Zik7CgogICAgICAgICAgICAKICAgICAgICAKICAgIAogICAgICAgICAgICB2YXIgY2lyY2xlX21hcmtlcl8zMGMxN2RhNjYwMWM0OTkxOGEwZmNiMmMzYTIzYmZkNyA9IEwuY2lyY2xlTWFya2VyKAogICAgICAgICAgICAgICAgWzI5LjQ3MjEsLTk4LjUyNDddLAogICAgICAgICAgICAgICAgewogICJidWJibGluZ01vdXNlRXZlbnRzIjogdHJ1ZSwKICAiY29sb3IiOiAiIzMzODhmZiIsCiAgImRhc2hBcnJheSI6IG51bGwsCiAgImRhc2hPZmZzZXQiOiBudWxsLAogICJmaWxsIjogdHJ1ZSwKICAiZmlsbENvbG9yIjogIiMzMzg4ZmYiLAogICJmaWxsT3BhY2l0eSI6IDAuMiwKICAiZmlsbFJ1bGUiOiAiZXZlbm9kZCIsCiAgImxpbmVDYXAiOiAicm91bmQiLAogICJsaW5lSm9pbiI6ICJyb3VuZCIsCiAgIm9wYWNpdHkiOiAxLjAsCiAgInJhZGl1cyI6IDE3LjAsCiAgInN0cm9rZSI6IHRydWUsCiAgIndlaWdodCI6IDMKfQogICAgICAgICAgICAgICAgKS5hZGRUbyhtYXBfNTlmMDI4ZTU3MjNiNDk1N2E1Y2YyYjY2MjQ0MWU3MzIpOwogICAgICAgICAgICAKICAgIAogICAgICAgICAgICB2YXIgcG9wdXBfZjA3NTVhMzgxMmMzNGYzMjlhOTMzZjY1NDJjNmEyZDggPSBMLnBvcHVwKHttYXhXaWR0aDogJzMwMCd9KTsKCiAgICAgICAgICAgIAogICAgICAgICAgICAgICAgdmFyIGh0bWxfNDEwODg0NmY4NTM2NDM3MTlkOTM2OTAyMjQ0MWViZmEgPSAkKCc8ZGl2IGlkPSJodG1sXzQxMDg4NDZmODUzNjQzNzE5ZDkzNjkwMjI0NDFlYmZhIiBzdHlsZT0id2lkdGg6IDEwMC4wJTsgaGVpZ2h0OiAxMDAuMCU7Ij5NYXJrZXQgTmFtZTogU2FuIEFudG9uaW88YnI+IFdhbGsgU2NvcmU6IDY4LjA8YnI+IFZhY2FuY3klOiAxNS4zPC9kaXY+JylbMF07CiAgICAgICAgICAgICAgICBwb3B1cF9mMDc1NWEzODEyYzM0ZjMyOWE5MzNmNjU0MmM2YTJkOC5zZXRDb250ZW50KGh0bWxfNDEwODg0NmY4NTM2NDM3MTlkOTM2OTAyMjQ0MWViZmEpOwogICAgICAgICAgICAKCiAgICAgICAgICAgIGNpcmNsZV9tYXJrZXJfMzBjMTdkYTY2MDFjNDk5MThhMGZjYjJjM2EyM2JmZDcuYmluZFBvcHVwKHBvcHVwX2YwNzU1YTM4MTJjMzRmMzI5YTkzM2Y2NTQyYzZhMmQ4KTsKCiAgICAgICAgICAgIAogICAgICAgIAogICAgCiAgICAgICAgICAgIHZhciBjaXJjbGVfbWFya2VyXzU0YjMxOWM3MGM1MzQ3YmE5ZGVlZDI1Y2I5ZGM5OGY2ID0gTC5jaXJjbGVNYXJrZXIoCiAgICAgICAgICAgICAgICBbMjkuNDcyMSwtOTguNTI0N10sCiAgICAgICAgICAgICAgICB7CiAgImJ1YmJsaW5nTW91c2VFdmVudHMiOiB0cnVlLAogICJjb2xvciI6ICIjRjk5MDAyIiwKICAiZGFzaEFycmF5IjogbnVsbCwKICAiZGFzaE9mZnNldCI6IG51bGwsCiAgImZpbGwiOiB0cnVlLAogICJmaWxsQ29sb3IiOiAiI0Y5OTAwMiIsCiAgImZpbGxPcGFjaXR5IjogMC4yLAogICJmaWxsUnVsZSI6ICJldmVub2RkIiwKICAibGluZUNhcCI6ICJyb3VuZCIsCiAgImxpbmVKb2luIjogInJvdW5kIiwKICAib3BhY2l0eSI6IDEuMCwKICAicmFkaXVzIjogMSwKICAic3Ryb2tlIjogdHJ1ZSwKICAid2VpZ2h0IjogMwp9CiAgICAgICAgICAgICAgICApLmFkZFRvKG1hcF81OWYwMjhlNTcyM2I0OTU3YTVjZjJiNjYyNDQxZTczMik7CiAgICAgICAgICAgIAogICAgCiAgICAgICAgICAgIHZhciBwb3B1cF9lNjM1YzE4YWY5YjY0ZTM3OTY1Njc0NTEyZGMzNmUwOSA9IEwucG9wdXAoe21heFdpZHRoOiAnMzAwJ30pOwoKICAgICAgICAgICAgCiAgICAgICAgICAgICAgICB2YXIgaHRtbF9hZGM5NmVjM2I4MGU0Y2Y0YTMxZjE0MzI5NjJhN2NlMiA9ICQoJzxkaXYgaWQ9Imh0bWxfYWRjOTZlYzNiODBlNGNmNGEzMWYxNDMyOTYyYTdjZTIiIHN0eWxlPSJ3aWR0aDogMTAwLjAlOyBoZWlnaHQ6IDEwMC4wJTsiPk1hcmtldCBOYW1lOiBTYW4gQW50b25pbzxicj4gV2FsayBTY29yZTogNjguMDxicj4gVmFjYW5jeSU6IDE1LjM8L2Rpdj4nKVswXTsKICAgICAgICAgICAgICAgIHBvcHVwX2U2MzVjMThhZjliNjRlMzc5NjU2NzQ1MTJkYzM2ZTA5LnNldENvbnRlbnQoaHRtbF9hZGM5NmVjM2I4MGU0Y2Y0YTMxZjE0MzI5NjJhN2NlMik7CiAgICAgICAgICAgIAoKICAgICAgICAgICAgY2lyY2xlX21hcmtlcl81NGIzMTljNzBjNTM0N2JhOWRlZWQyNWNiOWRjOThmNi5iaW5kUG9wdXAocG9wdXBfZTYzNWMxOGFmOWI2NGUzNzk2NTY3NDUxMmRjMzZlMDkpOwoKICAgICAgICAgICAgCiAgICAgICAgCiAgICAKICAgICAgICAgICAgdmFyIGNpcmNsZV9tYXJrZXJfNWM1OGE1MGUyYzZjNDRmMWI3ZDRlN2QyYTdkOWQ2ZmQgPSBMLmNpcmNsZU1hcmtlcigKICAgICAgICAgICAgICAgIFszMy41NzI0LC0xMTIuMDg5XSwKICAgICAgICAgICAgICAgIHsKICAiYnViYmxpbmdNb3VzZUV2ZW50cyI6IHRydWUsCiAgImNvbG9yIjogIiMzMzg4ZmYiLAogICJkYXNoQXJyYXkiOiBudWxsLAogICJkYXNoT2Zmc2V0IjogbnVsbCwKICAiZmlsbCI6IHRydWUsCiAgImZpbGxDb2xvciI6ICIjMzM4OGZmIiwKICAiZmlsbE9wYWNpdHkiOiAwLjIsCiAgImZpbGxSdWxlIjogImV2ZW5vZGQiLAogICJsaW5lQ2FwIjogInJvdW5kIiwKICAibGluZUpvaW4iOiAicm91bmQiLAogICJvcGFjaXR5IjogMS4wLAogICJyYWRpdXMiOiAxNS43NSwKICAic3Ryb2tlIjogdHJ1ZSwKICAid2VpZ2h0IjogMwp9CiAgICAgICAgICAgICAgICApLmFkZFRvKG1hcF81OWYwMjhlNTcyM2I0OTU3YTVjZjJiNjYyNDQxZTczMik7CiAgICAgICAgICAgIAogICAgCiAgICAgICAgICAgIHZhciBwb3B1cF9iOTAzNDc0NTk2YTA0YWI5OWZhNjZiZGQ0NDc0OGZlMCA9IEwucG9wdXAoe21heFdpZHRoOiAnMzAwJ30pOwoKICAgICAgICAgICAgCiAgICAgICAgICAgICAgICB2YXIgaHRtbF9hOTMyNDc0ZjM0MTg0OTZjOWJjMDM3MzI0NDY1YmZjYyA9ICQoJzxkaXYgaWQ9Imh0bWxfYTkzMjQ3NGYzNDE4NDk2YzliYzAzNzMyNDQ2NWJmY2MiIHN0eWxlPSJ3aWR0aDogMTAwLjAlOyBoZWlnaHQ6IDEwMC4wJTsiPk1hcmtldCBOYW1lOiBQaG9lbml4PGJyPiBXYWxrIFNjb3JlOiA2My4wPGJyPiBWYWNhbmN5JTogMjIuMTwvZGl2PicpWzBdOwogICAgICAgICAgICAgICAgcG9wdXBfYjkwMzQ3NDU5NmEwNGFiOTlmYTY2YmRkNDQ3NDhmZTAuc2V0Q29udGVudChodG1sX2E5MzI0NzRmMzQxODQ5NmM5YmMwMzczMjQ0NjViZmNjKTsKICAgICAgICAgICAgCgogICAgICAgICAgICBjaXJjbGVfbWFya2VyXzVjNThhNTBlMmM2YzQ0ZjFiN2Q0ZTdkMmE3ZDlkNmZkLmJpbmRQb3B1cChwb3B1cF9iOTAzNDc0NTk2YTA0YWI5OWZhNjZiZGQ0NDc0OGZlMCk7CgogICAgICAgICAgICAKICAgICAgICAKICAgIAogICAgICAgICAgICB2YXIgY2lyY2xlX21hcmtlcl85MGNlZDY4ZWU3MzI0ZWI1YmMzOWU2OTk3NWIxM2E2ZCA9IEwuY2lyY2xlTWFya2VyKAogICAgICAgICAgICAgICAgWzMzLjU3MjQsLTExMi4wODldLAogICAgICAgICAgICAgICAgewogICJidWJibGluZ01vdXNlRXZlbnRzIjogdHJ1ZSwKICAiY29sb3IiOiAiI0Y5MDIwMiIsCiAgImRhc2hBcnJheSI6IG51bGwsCiAgImRhc2hPZmZzZXQiOiBudWxsLAogICJmaWxsIjogdHJ1ZSwKICAiZmlsbENvbG9yIjogIiNGOTAyMDIiLAogICJmaWxsT3BhY2l0eSI6IDAuMiwKICAiZmlsbFJ1bGUiOiAiZXZlbm9kZCIsCiAgImxpbmVDYXAiOiAicm91bmQiLAogICJsaW5lSm9pbiI6ICJyb3VuZCIsCiAgIm9wYWNpdHkiOiAxLjAsCiAgInJhZGl1cyI6IDEsCiAgInN0cm9rZSI6IHRydWUsCiAgIndlaWdodCI6IDMKfQogICAgICAgICAgICAgICAgKS5hZGRUbyhtYXBfNTlmMDI4ZTU3MjNiNDk1N2E1Y2YyYjY2MjQ0MWU3MzIpOwogICAgICAgICAgICAKICAgIAogICAgICAgICAgICB2YXIgcG9wdXBfM2JkODJmN2JmMjYxNGVkOGI0MjJiNzZlMDVkZGE0ZWQgPSBMLnBvcHVwKHttYXhXaWR0aDogJzMwMCd9KTsKCiAgICAgICAgICAgIAogICAgICAgICAgICAgICAgdmFyIGh0bWxfZjgxZTY1YTMwMTAyNGY3M2EyOTBjYjU5ZTEyZmI0ZjMgPSAkKCc8ZGl2IGlkPSJodG1sX2Y4MWU2NWEzMDEwMjRmNzNhMjkwY2I1OWUxMmZiNGYzIiBzdHlsZT0id2lkdGg6IDEwMC4wJTsgaGVpZ2h0OiAxMDAuMCU7Ij5NYXJrZXQgTmFtZTogUGhvZW5peDxicj4gV2FsayBTY29yZTogNjMuMDxicj4gVmFjYW5jeSU6IDIyLjE8L2Rpdj4nKVswXTsKICAgICAgICAgICAgICAgIHBvcHVwXzNiZDgyZjdiZjI2MTRlZDhiNDIyYjc2ZTA1ZGRhNGVkLnNldENvbnRlbnQoaHRtbF9mODFlNjVhMzAxMDI0ZjczYTI5MGNiNTllMTJmYjRmMyk7CiAgICAgICAgICAgIAoKICAgICAgICAgICAgY2lyY2xlX21hcmtlcl85MGNlZDY4ZWU3MzI0ZWI1YmMzOWU2OTk3NWIxM2E2ZC5iaW5kUG9wdXAocG9wdXBfM2JkODJmN2JmMjYxNGVkOGI0MjJiNzZlMDVkZGE0ZWQpOwoKICAgICAgICAgICAgCiAgICAgICAgCiAgICAKICAgICAgICAgICAgdmFyIGNpcmNsZV9tYXJrZXJfYWIzMDliNTYxMWMzNGE3NWJlYzk3YjBhOTFiYTFjYmQgPSBMLmNpcmNsZU1hcmtlcigKICAgICAgICAgICAgICAgIFszOC42MzU4LC05MC4yNDUxXSwKICAgICAgICAgICAgICAgIHsKICAiYnViYmxpbmdNb3VzZUV2ZW50cyI6IHRydWUsCiAgImNvbG9yIjogIiMzMzg4ZmYiLAogICJkYXNoQXJyYXkiOiBudWxsLAogICJkYXNoT2Zmc2V0IjogbnVsbCwKICAiZmlsbCI6IHRydWUsCiAgImZpbGxDb2xvciI6ICIjMzM4OGZmIiwKICAiZmlsbE9wYWNpdHkiOiAwLjIsCiAgImZpbGxSdWxlIjogImV2ZW5vZGQiLAogICJsaW5lQ2FwIjogInJvdW5kIiwKICAibGluZUpvaW4iOiAicm91bmQiLAogICJvcGFjaXR5IjogMS4wLAogICJyYWRpdXMiOiAxNi43NSwKICAic3Ryb2tlIjogdHJ1ZSwKICAid2VpZ2h0IjogMwp9CiAgICAgICAgICAgICAgICApLmFkZFRvKG1hcF81OWYwMjhlNTcyM2I0OTU3YTVjZjJiNjYyNDQxZTczMik7CiAgICAgICAgICAgIAogICAgCiAgICAgICAgICAgIHZhciBwb3B1cF9jZmRhY2I3MGQyYzA0MTViOTZhNjgyZGFhMDNjZTNjMyA9IEwucG9wdXAoe21heFdpZHRoOiAnMzAwJ30pOwoKICAgICAgICAgICAgCiAgICAgICAgICAgICAgICB2YXIgaHRtbF9lNmJlNDEwM2JiYjY0M2I2YWEzYjUwMzViZTI5ZTU4OCA9ICQoJzxkaXYgaWQ9Imh0bWxfZTZiZTQxMDNiYmI2NDNiNmFhM2I1MDM1YmUyOWU1ODgiIHN0eWxlPSJ3aWR0aDogMTAwLjAlOyBoZWlnaHQ6IDEwMC4wJTsiPk1hcmtldCBOYW1lOiBTdC4gTG91aXM8YnI+IFdhbGsgU2NvcmU6IDY3LjA8YnI+IFZhY2FuY3klOiAxMi4zPC9kaXY+JylbMF07CiAgICAgICAgICAgICAgICBwb3B1cF9jZmRhY2I3MGQyYzA0MTViOTZhNjgyZGFhMDNjZTNjMy5zZXRDb250ZW50KGh0bWxfZTZiZTQxMDNiYmI2NDNiNmFhM2I1MDM1YmUyOWU1ODgpOwogICAgICAgICAgICAKCiAgICAgICAgICAgIGNpcmNsZV9tYXJrZXJfYWIzMDliNTYxMWMzNGE3NWJlYzk3YjBhOTFiYTFjYmQuYmluZFBvcHVwKHBvcHVwX2NmZGFjYjcwZDJjMDQxNWI5NmE2ODJkYWEwM2NlM2MzKTsKCiAgICAgICAgICAgIAogICAgICAgIAogICAgCiAgICAgICAgICAgIHZhciBjaXJjbGVfbWFya2VyX2Q5NzcwNjMxMzEwOTQ5ZjI5NjAxNGIxMmNiODRjYTMyID0gTC5jaXJjbGVNYXJrZXIoCiAgICAgICAgICAgICAgICBbMzguNjM1OCwtOTAuMjQ1MV0sCiAgICAgICAgICAgICAgICB7CiAgImJ1YmJsaW5nTW91c2VFdmVudHMiOiB0cnVlLAogICJjb2xvciI6ICIjRkZDMzAwIiwKICAiZGFzaEFycmF5IjogbnVsbCwKICAiZGFzaE9mZnNldCI6IG51bGwsCiAgImZpbGwiOiB0cnVlLAogICJmaWxsQ29sb3IiOiAiI0ZGQzMwMCIsCiAgImZpbGxPcGFjaXR5IjogMC4yLAogICJmaWxsUnVsZSI6ICJldmVub2RkIiwKICAibGluZUNhcCI6ICJyb3VuZCIsCiAgImxpbmVKb2luIjogInJvdW5kIiwKICAib3BhY2l0eSI6IDEuMCwKICAicmFkaXVzIjogMSwKICAic3Ryb2tlIjogdHJ1ZSwKICAid2VpZ2h0IjogMwp9CiAgICAgICAgICAgICAgICApLmFkZFRvKG1hcF81OWYwMjhlNTcyM2I0OTU3YTVjZjJiNjYyNDQxZTczMik7CiAgICAgICAgICAgIAogICAgCiAgICAgICAgICAgIHZhciBwb3B1cF81Mzc0NmQyZDA5Y2E0YjI3YTA5MzYwODVjNTYwZjU0ZCA9IEwucG9wdXAoe21heFdpZHRoOiAnMzAwJ30pOwoKICAgICAgICAgICAgCiAgICAgICAgICAgICAgICB2YXIgaHRtbF8wM2UzZDMxMDFkNDI0MTA5YjI3YWUxN2MyZDJmNDc4ZSA9ICQoJzxkaXYgaWQ9Imh0bWxfMDNlM2QzMTAxZDQyNDEwOWIyN2FlMTdjMmQyZjQ3OGUiIHN0eWxlPSJ3aWR0aDogMTAwLjAlOyBoZWlnaHQ6IDEwMC4wJTsiPk1hcmtldCBOYW1lOiBTdC4gTG91aXM8YnI+IFdhbGsgU2NvcmU6IDY3LjA8YnI+IFZhY2FuY3klOiAxMi4zPC9kaXY+JylbMF07CiAgICAgICAgICAgICAgICBwb3B1cF81Mzc0NmQyZDA5Y2E0YjI3YTA5MzYwODVjNTYwZjU0ZC5zZXRDb250ZW50KGh0bWxfMDNlM2QzMTAxZDQyNDEwOWIyN2FlMTdjMmQyZjQ3OGUpOwogICAgICAgICAgICAKCiAgICAgICAgICAgIGNpcmNsZV9tYXJrZXJfZDk3NzA2MzEzMTA5NDlmMjk2MDE0YjEyY2I4NGNhMzIuYmluZFBvcHVwKHBvcHVwXzUzNzQ2ZDJkMDljYTRiMjdhMDkzNjA4NWM1NjBmNTRkKTsKCiAgICAgICAgICAgIAogICAgICAgIAogICAgCiAgICAgICAgICAgIHZhciBjaXJjbGVfbWFya2VyXzA0NDQ2ZDQxZTc1MzQwYjJhNTI4ZGY0MmZlZTJjMzhiID0gTC5jaXJjbGVNYXJrZXIoCiAgICAgICAgICAgICAgICBbNDAuNDM5NiwtNzkuOTc2M10sCiAgICAgICAgICAgICAgICB7CiAgImJ1YmJsaW5nTW91c2VFdmVudHMiOiB0cnVlLAogICJjb2xvciI6ICIjMzM4OGZmIiwKICAiZGFzaEFycmF5IjogbnVsbCwKICAiZGFzaE9mZnNldCI6IG51bGwsCiAgImZpbGwiOiB0cnVlLAogICJmaWxsQ29sb3IiOiAiIzMzODhmZiIsCiAgImZpbGxPcGFjaXR5IjogMC4yLAogICJmaWxsUnVsZSI6ICJldmVub2RkIiwKICAibGluZUNhcCI6ICJyb3VuZCIsCiAgImxpbmVKb2luIjogInJvdW5kIiwKICAib3BhY2l0eSI6IDEuMCwKICAicmFkaXVzIjogMTUuNzUsCiAgInN0cm9rZSI6IHRydWUsCiAgIndlaWdodCI6IDMKfQogICAgICAgICAgICAgICAgKS5hZGRUbyhtYXBfNTlmMDI4ZTU3MjNiNDk1N2E1Y2YyYjY2MjQ0MWU3MzIpOwogICAgICAgICAgICAKICAgIAogICAgICAgICAgICB2YXIgcG9wdXBfOGU5NTBhNDRjNDQ4NDcxNmFhY2M2YWQzZDg3MDkxYTkgPSBMLnBvcHVwKHttYXhXaWR0aDogJzMwMCd9KTsKCiAgICAgICAgICAgIAogICAgICAgICAgICAgICAgdmFyIGh0bWxfZmE1YjVhNDI3NTA4NDViOTg1ZGU5NTBjZTM1ODE0NTIgPSAkKCc8ZGl2IGlkPSJodG1sX2ZhNWI1YTQyNzUwODQ1Yjk4NWRlOTUwY2UzNTgxNDUyIiBzdHlsZT0id2lkdGg6IDEwMC4wJTsgaGVpZ2h0OiAxMDAuMCU7Ij5NYXJrZXQgTmFtZTogUGl0dHNidXJnaDxicj4gV2FsayBTY29yZTogNjMuMDxicj4gVmFjYW5jeSU6IDE3LjY8L2Rpdj4nKVswXTsKICAgICAgICAgICAgICAgIHBvcHVwXzhlOTUwYTQ0YzQ0ODQ3MTZhYWNjNmFkM2Q4NzA5MWE5LnNldENvbnRlbnQoaHRtbF9mYTViNWE0Mjc1MDg0NWI5ODVkZTk1MGNlMzU4MTQ1Mik7CiAgICAgICAgICAgIAoKICAgICAgICAgICAgY2lyY2xlX21hcmtlcl8wNDQ0NmQ0MWU3NTM0MGIyYTUyOGRmNDJmZWUyYzM4Yi5iaW5kUG9wdXAocG9wdXBfOGU5NTBhNDRjNDQ4NDcxNmFhY2M2YWQzZDg3MDkxYTkpOwoKICAgICAgICAgICAgCiAgICAgICAgCiAgICAKICAgICAgICAgICAgdmFyIGNpcmNsZV9tYXJrZXJfYjg0Mzg5YzU2MjM2NDY3NDlhNmMxNmIwMjIxY2JhNWYgPSBMLmNpcmNsZU1hcmtlcigKICAgICAgICAgICAgICAgIFs0MC40Mzk2LC03OS45NzYzXSwKICAgICAgICAgICAgICAgIHsKICAiYnViYmxpbmdNb3VzZUV2ZW50cyI6IHRydWUsCiAgImNvbG9yIjogIiNGOTVDMDIiLAogICJkYXNoQXJyYXkiOiBudWxsLAogICJkYXNoT2Zmc2V0IjogbnVsbCwKICAiZmlsbCI6IHRydWUsCiAgImZpbGxDb2xvciI6ICIjRjk1QzAyIiwKICAiZmlsbE9wYWNpdHkiOiAwLjIsCiAgImZpbGxSdWxlIjogImV2ZW5vZGQiLAogICJsaW5lQ2FwIjogInJvdW5kIiwKICAibGluZUpvaW4iOiAicm91bmQiLAogICJvcGFjaXR5IjogMS4wLAogICJyYWRpdXMiOiAxLAogICJzdHJva2UiOiB0cnVlLAogICJ3ZWlnaHQiOiAzCn0KICAgICAgICAgICAgICAgICkuYWRkVG8obWFwXzU5ZjAyOGU1NzIzYjQ5NTdhNWNmMmI2NjI0NDFlNzMyKTsKICAgICAgICAgICAgCiAgICAKICAgICAgICAgICAgdmFyIHBvcHVwX2IxNjAyZGRhYWQ5MDQ1NTI4YTVjODYxZTZmY2M4NjI0ID0gTC5wb3B1cCh7bWF4V2lkdGg6ICczMDAnfSk7CgogICAgICAgICAgICAKICAgICAgICAgICAgICAgIHZhciBodG1sXzBhNGUwNGZlNjhiYzRkYzNhODc2YmFhMmU2MzUzZmFiID0gJCgnPGRpdiBpZD0iaHRtbF8wYTRlMDRmZTY4YmM0ZGMzYTg3NmJhYTJlNjM1M2ZhYiIgc3R5bGU9IndpZHRoOiAxMDAuMCU7IGhlaWdodDogMTAwLjAlOyI+TWFya2V0IE5hbWU6IFBpdHRzYnVyZ2g8YnI+IFdhbGsgU2NvcmU6IDYzLjA8YnI+IFZhY2FuY3klOiAxNy42PC9kaXY+JylbMF07CiAgICAgICAgICAgICAgICBwb3B1cF9iMTYwMmRkYWFkOTA0NTUyOGE1Yzg2MWU2ZmNjODYyNC5zZXRDb250ZW50KGh0bWxfMGE0ZTA0ZmU2OGJjNGRjM2E4NzZiYWEyZTYzNTNmYWIpOwogICAgICAgICAgICAKCiAgICAgICAgICAgIGNpcmNsZV9tYXJrZXJfYjg0Mzg5YzU2MjM2NDY3NDlhNmMxNmIwMjIxY2JhNWYuYmluZFBvcHVwKHBvcHVwX2IxNjAyZGRhYWQ5MDQ1NTI4YTVjODYxZTZmY2M4NjI0KTsKCiAgICAgICAgICAgIAogICAgICAgIAogICAgCiAgICAgICAgICAgIHZhciBjaXJjbGVfbWFya2VyXzFhZmIwOGU3ZDU4MTQ4MmFiYWI0N2Y0ZDQ5YTE2ZWZhID0gTC5jaXJjbGVNYXJrZXIoCiAgICAgICAgICAgICAgICBbMjcuOTY4LC04Mi40NzY0XSwKICAgICAgICAgICAgICAgIHsKICAiYnViYmxpbmdNb3VzZUV2ZW50cyI6IHRydWUsCiAgImNvbG9yIjogIiMzMzg4ZmYiLAogICJkYXNoQXJyYXkiOiBudWxsLAogICJkYXNoT2Zmc2V0IjogbnVsbCwKICAiZmlsbCI6IHRydWUsCiAgImZpbGxDb2xvciI6ICIjMzM4OGZmIiwKICAiZmlsbE9wYWNpdHkiOiAwLjIsCiAgImZpbGxSdWxlIjogImV2ZW5vZGQiLAogICJsaW5lQ2FwIjogInJvdW5kIiwKICAibGluZUpvaW4iOiAicm91bmQiLAogICJvcGFjaXR5IjogMS4wLAogICJyYWRpdXMiOiAxMi43NSwKICAic3Ryb2tlIjogdHJ1ZSwKICAid2VpZ2h0IjogMwp9CiAgICAgICAgICAgICAgICApLmFkZFRvKG1hcF81OWYwMjhlNTcyM2I0OTU3YTVjZjJiNjYyNDQxZTczMik7CiAgICAgICAgICAgIAogICAgCiAgICAgICAgICAgIHZhciBwb3B1cF9hZjMyOTQyNzYwYjY0YWRmYWZjZWJkMTkzZmE4NTA5NyA9IEwucG9wdXAoe21heFdpZHRoOiAnMzAwJ30pOwoKICAgICAgICAgICAgCiAgICAgICAgICAgICAgICB2YXIgaHRtbF9jNTFmY2JiZmU4ZWM0OTFlYWY5ZTNiZmU2OWZlODBhNSA9ICQoJzxkaXYgaWQ9Imh0bWxfYzUxZmNiYmZlOGVjNDkxZWFmOWUzYmZlNjlmZTgwYTUiIHN0eWxlPSJ3aWR0aDogMTAwLjAlOyBoZWlnaHQ6IDEwMC4wJTsiPk1hcmtldCBOYW1lOiBUYW1wYSBCYXk8YnI+IFdhbGsgU2NvcmU6IDUxLjA8YnI+IFZhY2FuY3klOiAxMS40PC9kaXY+JylbMF07CiAgICAgICAgICAgICAgICBwb3B1cF9hZjMyOTQyNzYwYjY0YWRmYWZjZWJkMTkzZmE4NTA5Ny5zZXRDb250ZW50KGh0bWxfYzUxZmNiYmZlOGVjNDkxZWFmOWUzYmZlNjlmZTgwYTUpOwogICAgICAgICAgICAKCiAgICAgICAgICAgIGNpcmNsZV9tYXJrZXJfMWFmYjA4ZTdkNTgxNDgyYWJhYjQ3ZjRkNDlhMTZlZmEuYmluZFBvcHVwKHBvcHVwX2FmMzI5NDI3NjBiNjRhZGZhZmNlYmQxOTNmYTg1MDk3KTsKCiAgICAgICAgICAgIAogICAgICAgIAogICAgCiAgICAgICAgICAgIHZhciBjaXJjbGVfbWFya2VyXzAyNDFlY2ExYjg2ODQ4ZmNhN2JjM2Q1ZjZlYmQwYmRhID0gTC5jaXJjbGVNYXJrZXIoCiAgICAgICAgICAgICAgICBbMjcuOTY4LC04Mi40NzY0XSwKICAgICAgICAgICAgICAgIHsKICAiYnViYmxpbmdNb3VzZUV2ZW50cyI6IHRydWUsCiAgImNvbG9yIjogIiNEQUY3QTYiLAogICJkYXNoQXJyYXkiOiBudWxsLAogICJkYXNoT2Zmc2V0IjogbnVsbCwKICAiZmlsbCI6IHRydWUsCiAgImZpbGxDb2xvciI6ICIjREFGN0E2IiwKICAiZmlsbE9wYWNpdHkiOiAwLjIsCiAgImZpbGxSdWxlIjogImV2ZW5vZGQiLAogICJsaW5lQ2FwIjogInJvdW5kIiwKICAibGluZUpvaW4iOiAicm91bmQiLAogICJvcGFjaXR5IjogMS4wLAogICJyYWRpdXMiOiAxLAogICJzdHJva2UiOiB0cnVlLAogICJ3ZWlnaHQiOiAzCn0KICAgICAgICAgICAgICAgICkuYWRkVG8obWFwXzU5ZjAyOGU1NzIzYjQ5NTdhNWNmMmI2NjI0NDFlNzMyKTsKICAgICAgICAgICAgCiAgICAKICAgICAgICAgICAgdmFyIHBvcHVwXzU5NTQzNjJiYzM1NTRhYjVhYzQ3NmUyY2FlZTRmMTE5ID0gTC5wb3B1cCh7bWF4V2lkdGg6ICczMDAnfSk7CgogICAgICAgICAgICAKICAgICAgICAgICAgICAgIHZhciBodG1sXzMxZjc2ODllMGJlOTQwOTM4ZjAxODJiYmJmZTg3YWFmID0gJCgnPGRpdiBpZD0iaHRtbF8zMWY3Njg5ZTBiZTk0MDkzOGYwMTgyYmJiZmU4N2FhZiIgc3R5bGU9IndpZHRoOiAxMDAuMCU7IGhlaWdodDogMTAwLjAlOyI+TWFya2V0IE5hbWU6IFRhbXBhIEJheTxicj4gV2FsayBTY29yZTogNTEuMDxicj4gVmFjYW5jeSU6IDExLjQ8L2Rpdj4nKVswXTsKICAgICAgICAgICAgICAgIHBvcHVwXzU5NTQzNjJiYzM1NTRhYjVhYzQ3NmUyY2FlZTRmMTE5LnNldENvbnRlbnQoaHRtbF8zMWY3Njg5ZTBiZTk0MDkzOGYwMTgyYmJiZmU4N2FhZik7CiAgICAgICAgICAgIAoKICAgICAgICAgICAgY2lyY2xlX21hcmtlcl8wMjQxZWNhMWI4Njg0OGZjYTdiYzNkNWY2ZWJkMGJkYS5iaW5kUG9wdXAocG9wdXBfNTk1NDM2MmJjMzU1NGFiNWFjNDc2ZTJjYWVlNGYxMTkpOwoKICAgICAgICAgICAgCiAgICAgICAgCiAgICAKICAgICAgICAgICAgdmFyIGNpcmNsZV9tYXJrZXJfNzc4ZjM0YmNhODE1NDAyNzhlZDZkMWViYmYxZjAxYzYgPSBMLmNpcmNsZU1hcmtlcigKICAgICAgICAgICAgICAgIFszOS43NzcxLC04Ni4xNDU4XSwKICAgICAgICAgICAgICAgIHsKICAiYnViYmxpbmdNb3VzZUV2ZW50cyI6IHRydWUsCiAgImNvbG9yIjogIiMzMzg4ZmYiLAogICJkYXNoQXJyYXkiOiBudWxsLAogICJkYXNoT2Zmc2V0IjogbnVsbCwKICAiZmlsbCI6IHRydWUsCiAgImZpbGxDb2xvciI6ICIjMzM4OGZmIiwKICAiZmlsbE9wYWNpdHkiOiAwLjIsCiAgImZpbGxSdWxlIjogImV2ZW5vZGQiLAogICJsaW5lQ2FwIjogInJvdW5kIiwKICAibGluZUpvaW4iOiAicm91bmQiLAogICJvcGFjaXR5IjogMS4wLAogICJyYWRpdXMiOiAyMi43NSwKICAic3Ryb2tlIjogdHJ1ZSwKICAid2VpZ2h0IjogMwp9CiAgICAgICAgICAgICAgICApLmFkZFRvKG1hcF81OWYwMjhlNTcyM2I0OTU3YTVjZjJiNjYyNDQxZTczMik7CiAgICAgICAgICAgIAogICAgCiAgICAgICAgICAgIHZhciBwb3B1cF81ZGFjOTlhN2ZlMmM0M2IxODU3MGI0ODkwNDAxMzNkMCA9IEwucG9wdXAoe21heFdpZHRoOiAnMzAwJ30pOwoKICAgICAgICAgICAgCiAgICAgICAgICAgICAgICB2YXIgaHRtbF83MzhhODg1N2EwODc0MjNiYTYzMDk4MThhZDcwZWIxOSA9ICQoJzxkaXYgaWQ9Imh0bWxfNzM4YTg4NTdhMDg3NDIzYmE2MzA5ODE4YWQ3MGViMTkiIHN0eWxlPSJ3aWR0aDogMTAwLjAlOyBoZWlnaHQ6IDEwMC4wJTsiPk1hcmtldCBOYW1lOiBJbmRpYW5hcG9saXM8YnI+IFdhbGsgU2NvcmU6IDkxLjA8YnI+IFZhY2FuY3klOiAxNy40PC9kaXY+JylbMF07CiAgICAgICAgICAgICAgICBwb3B1cF81ZGFjOTlhN2ZlMmM0M2IxODU3MGI0ODkwNDAxMzNkMC5zZXRDb250ZW50KGh0bWxfNzM4YTg4NTdhMDg3NDIzYmE2MzA5ODE4YWQ3MGViMTkpOwogICAgICAgICAgICAKCiAgICAgICAgICAgIGNpcmNsZV9tYXJrZXJfNzc4ZjM0YmNhODE1NDAyNzhlZDZkMWViYmYxZjAxYzYuYmluZFBvcHVwKHBvcHVwXzVkYWM5OWE3ZmUyYzQzYjE4NTcwYjQ4OTA0MDEzM2QwKTsKCiAgICAgICAgICAgIAogICAgICAgIAogICAgCiAgICAgICAgICAgIHZhciBjaXJjbGVfbWFya2VyX2E4YzE0NmUyOTk3NzQzM2JiMWRmYTQ5ODg4YWNkZmJhID0gTC5jaXJjbGVNYXJrZXIoCiAgICAgICAgICAgICAgICBbMzkuNzc3MSwtODYuMTQ1OF0sCiAgICAgICAgICAgICAgICB7CiAgImJ1YmJsaW5nTW91c2VFdmVudHMiOiB0cnVlLAogICJjb2xvciI6ICIjRjk1QzAyIiwKICAiZGFzaEFycmF5IjogbnVsbCwKICAiZGFzaE9mZnNldCI6IG51bGwsCiAgImZpbGwiOiB0cnVlLAogICJmaWxsQ29sb3IiOiAiI0Y5NUMwMiIsCiAgImZpbGxPcGFjaXR5IjogMC4yLAogICJmaWxsUnVsZSI6ICJldmVub2RkIiwKICAibGluZUNhcCI6ICJyb3VuZCIsCiAgImxpbmVKb2luIjogInJvdW5kIiwKICAib3BhY2l0eSI6IDEuMCwKICAicmFkaXVzIjogMSwKICAic3Ryb2tlIjogdHJ1ZSwKICAid2VpZ2h0IjogMwp9CiAgICAgICAgICAgICAgICApLmFkZFRvKG1hcF81OWYwMjhlNTcyM2I0OTU3YTVjZjJiNjYyNDQxZTczMik7CiAgICAgICAgICAgIAogICAgCiAgICAgICAgICAgIHZhciBwb3B1cF85NjQyMGEyM2M0YTA0ZTMzYTFlNjEyOGMwNzhkNzBmMSA9IEwucG9wdXAoe21heFdpZHRoOiAnMzAwJ30pOwoKICAgICAgICAgICAgCiAgICAgICAgICAgICAgICB2YXIgaHRtbF9kNTBhMTBmZmM1ZDQ0ZjYzOGY1ODM3NDlmMTkyOWQ5MCA9ICQoJzxkaXYgaWQ9Imh0bWxfZDUwYTEwZmZjNWQ0NGY2MzhmNTgzNzQ5ZjE5MjlkOTAiIHN0eWxlPSJ3aWR0aDogMTAwLjAlOyBoZWlnaHQ6IDEwMC4wJTsiPk1hcmtldCBOYW1lOiBJbmRpYW5hcG9saXM8YnI+IFdhbGsgU2NvcmU6IDkxLjA8YnI+IFZhY2FuY3klOiAxNy40PC9kaXY+JylbMF07CiAgICAgICAgICAgICAgICBwb3B1cF85NjQyMGEyM2M0YTA0ZTMzYTFlNjEyOGMwNzhkNzBmMS5zZXRDb250ZW50KGh0bWxfZDUwYTEwZmZjNWQ0NGY2MzhmNTgzNzQ5ZjE5MjlkOTApOwogICAgICAgICAgICAKCiAgICAgICAgICAgIGNpcmNsZV9tYXJrZXJfYThjMTQ2ZTI5OTc3NDMzYmIxZGZhNDk4ODhhY2RmYmEuYmluZFBvcHVwKHBvcHVwXzk2NDIwYTIzYzRhMDRlMzNhMWU2MTI4YzA3OGQ3MGYxKTsKCiAgICAgICAgICAgIAogICAgICAgIAogICAgCiAgICAgICAgICAgIHZhciBjaXJjbGVfbWFya2VyX2JmYjdkNDRmNjk3ZjQ3M2E5MTQ5ZmE3ZmVlOWFkNzczID0gTC5jaXJjbGVNYXJrZXIoCiAgICAgICAgICAgICAgICBbMzkuMTQxMiwtODQuNTA2XSwKICAgICAgICAgICAgICAgIHsKICAiYnViYmxpbmdNb3VzZUV2ZW50cyI6IHRydWUsCiAgImNvbG9yIjogIiMzMzg4ZmYiLAogICJkYXNoQXJyYXkiOiBudWxsLAogICJkYXNoT2Zmc2V0IjogbnVsbCwKICAiZmlsbCI6IHRydWUsCiAgImZpbGxDb2xvciI6ICIjMzM4OGZmIiwKICAiZmlsbE9wYWNpdHkiOiAwLjIsCiAgImZpbGxSdWxlIjogImV2ZW5vZGQiLAogICJsaW5lQ2FwIjogInJvdW5kIiwKICAibGluZUpvaW4iOiAicm91bmQiLAogICJvcGFjaXR5IjogMS4wLAogICJyYWRpdXMiOiAxMS4yNSwKICAic3Ryb2tlIjogdHJ1ZSwKICAid2VpZ2h0IjogMwp9CiAgICAgICAgICAgICAgICApLmFkZFRvKG1hcF81OWYwMjhlNTcyM2I0OTU3YTVjZjJiNjYyNDQxZTczMik7CiAgICAgICAgICAgIAogICAgCiAgICAgICAgICAgIHZhciBwb3B1cF80MzIxZDBiODUyZjk0MDk5OTgxM2ZlNjBlYTRiMjFiMCA9IEwucG9wdXAoe21heFdpZHRoOiAnMzAwJ30pOwoKICAgICAgICAgICAgCiAgICAgICAgICAgICAgICB2YXIgaHRtbF8xY2JmMGZmYzM4MjE0ZmQ3YmQwOTczYzI5ZDEyN2I1YSA9ICQoJzxkaXYgaWQ9Imh0bWxfMWNiZjBmZmMzODIxNGZkN2JkMDk3M2MyOWQxMjdiNWEiIHN0eWxlPSJ3aWR0aDogMTAwLjAlOyBoZWlnaHQ6IDEwMC4wJTsiPk1hcmtldCBOYW1lOiBDaW5jaW5uYXRpPGJyPiBXYWxrIFNjb3JlOiA0NS4wPGJyPiBWYWNhbmN5JTogMjAuMzwvZGl2PicpWzBdOwogICAgICAgICAgICAgICAgcG9wdXBfNDMyMWQwYjg1MmY5NDA5OTk4MTNmZTYwZWE0YjIxYjAuc2V0Q29udGVudChodG1sXzFjYmYwZmZjMzgyMTRmZDdiZDA5NzNjMjlkMTI3YjVhKTsKICAgICAgICAgICAgCgogICAgICAgICAgICBjaXJjbGVfbWFya2VyX2JmYjdkNDRmNjk3ZjQ3M2E5MTQ5ZmE3ZmVlOWFkNzczLmJpbmRQb3B1cChwb3B1cF80MzIxZDBiODUyZjk0MDk5OTgxM2ZlNjBlYTRiMjFiMCk7CgogICAgICAgICAgICAKICAgICAgICAKICAgIAogICAgICAgICAgICB2YXIgY2lyY2xlX21hcmtlcl81M2NlYmE3MDUwM2E0OWU2YWI5ZGY4MTJkODY0YzkzYyA9IEwuY2lyY2xlTWFya2VyKAogICAgICAgICAgICAgICAgWzM5LjE0MTIsLTg0LjUwNl0sCiAgICAgICAgICAgICAgICB7CiAgImJ1YmJsaW5nTW91c2VFdmVudHMiOiB0cnVlLAogICJjb2xvciI6ICIjRjkwMjAyIiwKICAiZGFzaEFycmF5IjogbnVsbCwKICAiZGFzaE9mZnNldCI6IG51bGwsCiAgImZpbGwiOiB0cnVlLAogICJmaWxsQ29sb3IiOiAiI0Y5MDIwMiIsCiAgImZpbGxPcGFjaXR5IjogMC4yLAogICJmaWxsUnVsZSI6ICJldmVub2RkIiwKICAibGluZUNhcCI6ICJyb3VuZCIsCiAgImxpbmVKb2luIjogInJvdW5kIiwKICAib3BhY2l0eSI6IDEuMCwKICAicmFkaXVzIjogMSwKICAic3Ryb2tlIjogdHJ1ZSwKICAid2VpZ2h0IjogMwp9CiAgICAgICAgICAgICAgICApLmFkZFRvKG1hcF81OWYwMjhlNTcyM2I0OTU3YTVjZjJiNjYyNDQxZTczMik7CiAgICAgICAgICAgIAogICAgCiAgICAgICAgICAgIHZhciBwb3B1cF8wMDE1MWVjM2U4Njk0YmY1YTc0MjU0NDUzNGFlZmY4OSA9IEwucG9wdXAoe21heFdpZHRoOiAnMzAwJ30pOwoKICAgICAgICAgICAgCiAgICAgICAgICAgICAgICB2YXIgaHRtbF81YjNkN2RkZWQ4ZDc0MjdiOGUxNTc5Mzg2NzI1ZDhmNyA9ICQoJzxkaXYgaWQ9Imh0bWxfNWIzZDdkZGVkOGQ3NDI3YjhlMTU3OTM4NjcyNWQ4ZjciIHN0eWxlPSJ3aWR0aDogMTAwLjAlOyBoZWlnaHQ6IDEwMC4wJTsiPk1hcmtldCBOYW1lOiBDaW5jaW5uYXRpPGJyPiBXYWxrIFNjb3JlOiA0NS4wPGJyPiBWYWNhbmN5JTogMjAuMzwvZGl2PicpWzBdOwogICAgICAgICAgICAgICAgcG9wdXBfMDAxNTFlYzNlODY5NGJmNWE3NDI1NDQ1MzRhZWZmODkuc2V0Q29udGVudChodG1sXzViM2Q3ZGRlZDhkNzQyN2I4ZTE1NzkzODY3MjVkOGY3KTsKICAgICAgICAgICAgCgogICAgICAgICAgICBjaXJjbGVfbWFya2VyXzUzY2ViYTcwNTAzYTQ5ZTZhYjlkZjgxMmQ4NjRjOTNjLmJpbmRQb3B1cChwb3B1cF8wMDE1MWVjM2U4Njk0YmY1YTc0MjU0NDUzNGFlZmY4OSk7CgogICAgICAgICAgICAKICAgICAgICAKICAgIAogICAgICAgICAgICB2YXIgY2lyY2xlX21hcmtlcl9lNjMwN2NkYjI3MWU0N2EzODkzZjViZDYxMmEwNzc3NyA9IEwuY2lyY2xlTWFya2VyKAogICAgICAgICAgICAgICAgWzQxLjQ3OTMsLTgxLjY4MDJdLAogICAgICAgICAgICAgICAgewogICJidWJibGluZ01vdXNlRXZlbnRzIjogdHJ1ZSwKICAiY29sb3IiOiAiIzMzODhmZiIsCiAgImRhc2hBcnJheSI6IG51bGwsCiAgImRhc2hPZmZzZXQiOiBudWxsLAogICJmaWxsIjogdHJ1ZSwKICAiZmlsbENvbG9yIjogIiMzMzg4ZmYiLAogICJmaWxsT3BhY2l0eSI6IDAuMiwKICAiZmlsbFJ1bGUiOiAiZXZlbm9kZCIsCiAgImxpbmVDYXAiOiAicm91bmQiLAogICJsaW5lSm9pbiI6ICJyb3VuZCIsCiAgIm9wYWNpdHkiOiAxLjAsCiAgInJhZGl1cyI6IDE0LjUsCiAgInN0cm9rZSI6IHRydWUsCiAgIndlaWdodCI6IDMKfQogICAgICAgICAgICAgICAgKS5hZGRUbyhtYXBfNTlmMDI4ZTU3MjNiNDk1N2E1Y2YyYjY2MjQ0MWU3MzIpOwogICAgICAgICAgICAKICAgIAogICAgICAgICAgICB2YXIgcG9wdXBfZDllOTU5YWE5ZjQ4NDdmYzhiYTI3MGViMmI3YWU4M2IgPSBMLnBvcHVwKHttYXhXaWR0aDogJzMwMCd9KTsKCiAgICAgICAgICAgIAogICAgICAgICAgICAgICAgdmFyIGh0bWxfNzQ5MzVlYWYwMjViNDBmNWEzY2Y0NjZmZmEzNzFhYzggPSAkKCc8ZGl2IGlkPSJodG1sXzc0OTM1ZWFmMDI1YjQwZjVhM2NmNDY2ZmZhMzcxYWM4IiBzdHlsZT0id2lkdGg6IDEwMC4wJTsgaGVpZ2h0OiAxMDAuMCU7Ij5NYXJrZXQgTmFtZTogQ2xldmVsYW5kPGJyPiBXYWxrIFNjb3JlOiA1OC4wPGJyPiBWYWNhbmN5JTogMTkuMzwvZGl2PicpWzBdOwogICAgICAgICAgICAgICAgcG9wdXBfZDllOTU5YWE5ZjQ4NDdmYzhiYTI3MGViMmI3YWU4M2Iuc2V0Q29udGVudChodG1sXzc0OTM1ZWFmMDI1YjQwZjVhM2NmNDY2ZmZhMzcxYWM4KTsKICAgICAgICAgICAgCgogICAgICAgICAgICBjaXJjbGVfbWFya2VyX2U2MzA3Y2RiMjcxZTQ3YTM4OTNmNWJkNjEyYTA3Nzc3LmJpbmRQb3B1cChwb3B1cF9kOWU5NTlhYTlmNDg0N2ZjOGJhMjcwZWIyYjdhZTgzYik7CgogICAgICAgICAgICAKICAgICAgICAKICAgIAogICAgICAgICAgICB2YXIgY2lyY2xlX21hcmtlcl84Y2RmMDBhOTc5NmY0MzBkYjRjOGRkMGU5Mjc3NGZkMCA9IEwuY2lyY2xlTWFya2VyKAogICAgICAgICAgICAgICAgWzQxLjQ3OTMsLTgxLjY4MDJdLAogICAgICAgICAgICAgICAgewogICJidWJibGluZ01vdXNlRXZlbnRzIjogdHJ1ZSwKICAiY29sb3IiOiAiI0Y5MDIwMiIsCiAgImRhc2hBcnJheSI6IG51bGwsCiAgImRhc2hPZmZzZXQiOiBudWxsLAogICJmaWxsIjogdHJ1ZSwKICAiZmlsbENvbG9yIjogIiNGOTAyMDIiLAogICJmaWxsT3BhY2l0eSI6IDAuMiwKICAiZmlsbFJ1bGUiOiAiZXZlbm9kZCIsCiAgImxpbmVDYXAiOiAicm91bmQiLAogICJsaW5lSm9pbiI6ICJyb3VuZCIsCiAgIm9wYWNpdHkiOiAxLjAsCiAgInJhZGl1cyI6IDEsCiAgInN0cm9rZSI6IHRydWUsCiAgIndlaWdodCI6IDMKfQogICAgICAgICAgICAgICAgKS5hZGRUbyhtYXBfNTlmMDI4ZTU3MjNiNDk1N2E1Y2YyYjY2MjQ0MWU3MzIpOwogICAgICAgICAgICAKICAgIAogICAgICAgICAgICB2YXIgcG9wdXBfNThlZGUxMTgxNDEyNDE1ZmI3ZTAxMGVmZmM5YWE4ZjAgPSBMLnBvcHVwKHttYXhXaWR0aDogJzMwMCd9KTsKCiAgICAgICAgICAgIAogICAgICAgICAgICAgICAgdmFyIGh0bWxfMDRlYWE1YTU4Y2ZjNGVlNDk2MmNmOGEzOGYyYjY1MDQgPSAkKCc8ZGl2IGlkPSJodG1sXzA0ZWFhNWE1OGNmYzRlZTQ5NjJjZjhhMzhmMmI2NTA0IiBzdHlsZT0id2lkdGg6IDEwMC4wJTsgaGVpZ2h0OiAxMDAuMCU7Ij5NYXJrZXQgTmFtZTogQ2xldmVsYW5kPGJyPiBXYWxrIFNjb3JlOiA1OC4wPGJyPiBWYWNhbmN5JTogMTkuMzwvZGl2PicpWzBdOwogICAgICAgICAgICAgICAgcG9wdXBfNThlZGUxMTgxNDEyNDE1ZmI3ZTAxMGVmZmM5YWE4ZjAuc2V0Q29udGVudChodG1sXzA0ZWFhNWE1OGNmYzRlZTQ5NjJjZjhhMzhmMmI2NTA0KTsKICAgICAgICAgICAgCgogICAgICAgICAgICBjaXJjbGVfbWFya2VyXzhjZGYwMGE5Nzk2ZjQzMGRiNGM4ZGQwZTkyNzc0ZmQwLmJpbmRQb3B1cChwb3B1cF81OGVkZTExODE0MTI0MTVmYjdlMDEwZWZmYzlhYThmMCk7CgogICAgICAgICAgICAKICAgICAgICAKICAgIAogICAgICAgICAgICB2YXIgY2lyY2xlX21hcmtlcl80YzNhYmU0YjY2MTM0NmEyOTAzYzBiZTI5Y2FiZWEyNiA9IEwuY2lyY2xlTWFya2VyKAogICAgICAgICAgICAgICAgWzM5Ljk4NiwtODIuOTg1Ml0sCiAgICAgICAgICAgICAgICB7CiAgImJ1YmJsaW5nTW91c2VFdmVudHMiOiB0cnVlLAogICJjb2xvciI6ICIjMzM4OGZmIiwKICAiZGFzaEFycmF5IjogbnVsbCwKICAiZGFzaE9mZnNldCI6IG51bGwsCiAgImZpbGwiOiB0cnVlLAogICJmaWxsQ29sb3IiOiAiIzMzODhmZiIsCiAgImZpbGxPcGFjaXR5IjogMC4yLAogICJmaWxsUnVsZSI6ICJldmVub2RkIiwKICAibGluZUNhcCI6ICJyb3VuZCIsCiAgImxpbmVKb2luIjogInJvdW5kIiwKICAib3BhY2l0eSI6IDEuMCwKICAicmFkaXVzIjogMTEuNzUsCiAgInN0cm9rZSI6IHRydWUsCiAgIndlaWdodCI6IDMKfQogICAgICAgICAgICAgICAgKS5hZGRUbyhtYXBfNTlmMDI4ZTU3MjNiNDk1N2E1Y2YyYjY2MjQ0MWU3MzIpOwogICAgICAgICAgICAKICAgIAogICAgICAgICAgICB2YXIgcG9wdXBfNjlhYmRkZmZhNDRhNGQ4YTliMWY5NjY3OTI0YWY0YzUgPSBMLnBvcHVwKHttYXhXaWR0aDogJzMwMCd9KTsKCiAgICAgICAgICAgIAogICAgICAgICAgICAgICAgdmFyIGh0bWxfMjVmNTIwOGE5YTg3NGFiMWE0MWE0NzI1Mzg4NTg0NmIgPSAkKCc8ZGl2IGlkPSJodG1sXzI1ZjUyMDhhOWE4NzRhYjFhNDFhNDcyNTM4ODU4NDZiIiBzdHlsZT0id2lkdGg6IDEwMC4wJTsgaGVpZ2h0OiAxMDAuMCU7Ij5NYXJrZXQgTmFtZTogQ29sdW1idXM8YnI+IFdhbGsgU2NvcmU6IDQ3LjA8YnI+IFZhY2FuY3klOiAxNC4zPC9kaXY+JylbMF07CiAgICAgICAgICAgICAgICBwb3B1cF82OWFiZGRmZmE0NGE0ZDhhOWIxZjk2Njc5MjRhZjRjNS5zZXRDb250ZW50KGh0bWxfMjVmNTIwOGE5YTg3NGFiMWE0MWE0NzI1Mzg4NTg0NmIpOwogICAgICAgICAgICAKCiAgICAgICAgICAgIGNpcmNsZV9tYXJrZXJfNGMzYWJlNGI2NjEzNDZhMjkwM2MwYmUyOWNhYmVhMjYuYmluZFBvcHVwKHBvcHVwXzY5YWJkZGZmYTQ0YTRkOGE5YjFmOTY2NzkyNGFmNGM1KTsKCiAgICAgICAgICAgIAogICAgICAgIAogICAgCiAgICAgICAgICAgIHZhciBjaXJjbGVfbWFya2VyXzAxOGNmMzVhODcxNDRiOGI5OTZjZTgwODFmY2Q4NTZlID0gTC5jaXJjbGVNYXJrZXIoCiAgICAgICAgICAgICAgICBbMzkuOTg2LC04Mi45ODUyXSwKICAgICAgICAgICAgICAgIHsKICAiYnViYmxpbmdNb3VzZUV2ZW50cyI6IHRydWUsCiAgImNvbG9yIjogIiNGOTkwMDIiLAogICJkYXNoQXJyYXkiOiBudWxsLAogICJkYXNoT2Zmc2V0IjogbnVsbCwKICAiZmlsbCI6IHRydWUsCiAgImZpbGxDb2xvciI6ICIjRjk5MDAyIiwKICAiZmlsbE9wYWNpdHkiOiAwLjIsCiAgImZpbGxSdWxlIjogImV2ZW5vZGQiLAogICJsaW5lQ2FwIjogInJvdW5kIiwKICAibGluZUpvaW4iOiAicm91bmQiLAogICJvcGFjaXR5IjogMS4wLAogICJyYWRpdXMiOiAxLAogICJzdHJva2UiOiB0cnVlLAogICJ3ZWlnaHQiOiAzCn0KICAgICAgICAgICAgICAgICkuYWRkVG8obWFwXzU5ZjAyOGU1NzIzYjQ5NTdhNWNmMmI2NjI0NDFlNzMyKTsKICAgICAgICAgICAgCiAgICAKICAgICAgICAgICAgdmFyIHBvcHVwXzY0YWE1YTJhMzNmNzQzMmU5ZDI3ODM0NzFlZmFkMTg3ID0gTC5wb3B1cCh7bWF4V2lkdGg6ICczMDAnfSk7CgogICAgICAgICAgICAKICAgICAgICAgICAgICAgIHZhciBodG1sX2M3YTk3NWM2NzA0YjQ2ZWI4NDU1ZTk5ZmZhYjAzMDdiID0gJCgnPGRpdiBpZD0iaHRtbF9jN2E5NzVjNjcwNGI0NmViODQ1NWU5OWZmYWIwMzA3YiIgc3R5bGU9IndpZHRoOiAxMDAuMCU7IGhlaWdodDogMTAwLjAlOyI+TWFya2V0IE5hbWU6IENvbHVtYnVzPGJyPiBXYWxrIFNjb3JlOiA0Ny4wPGJyPiBWYWNhbmN5JTogMTQuMzwvZGl2PicpWzBdOwogICAgICAgICAgICAgICAgcG9wdXBfNjRhYTVhMmEzM2Y3NDMyZTlkMjc4MzQ3MWVmYWQxODcuc2V0Q29udGVudChodG1sX2M3YTk3NWM2NzA0YjQ2ZWI4NDU1ZTk5ZmZhYjAzMDdiKTsKICAgICAgICAgICAgCgogICAgICAgICAgICBjaXJjbGVfbWFya2VyXzAxOGNmMzVhODcxNDRiOGI5OTZjZTgwODFmY2Q4NTZlLmJpbmRQb3B1cChwb3B1cF82NGFhNWEyYTMzZjc0MzJlOWQyNzgzNDcxZWZhZDE4Nyk7CgogICAgICAgICAgICAKICAgICAgICAKICAgIAogICAgICAgICAgICB2YXIgY2lyY2xlX21hcmtlcl81ZDg1NmI3ZDM4NDE0NWUyYjYxODg2OGU2ZmE2Y2Q2MiA9IEwuY2lyY2xlTWFya2VyKAogICAgICAgICAgICAgICAgWzM4LjU2NjYsLTEyMS40NjhdLAogICAgICAgICAgICAgICAgewogICJidWJibGluZ01vdXNlRXZlbnRzIjogdHJ1ZSwKICAiY29sb3IiOiAiIzMzODhmZiIsCiAgImRhc2hBcnJheSI6IG51bGwsCiAgImRhc2hPZmZzZXQiOiBudWxsLAogICJmaWxsIjogdHJ1ZSwKICAiZmlsbENvbG9yIjogIiMzMzg4ZmYiLAogICJmaWxsT3BhY2l0eSI6IDAuMiwKICAiZmlsbFJ1bGUiOiAiZXZlbm9kZCIsCiAgImxpbmVDYXAiOiAicm91bmQiLAogICJsaW5lSm9pbiI6ICJyb3VuZCIsCiAgIm9wYWNpdHkiOiAxLjAsCiAgInJhZGl1cyI6IDIxLjUsCiAgInN0cm9rZSI6IHRydWUsCiAgIndlaWdodCI6IDMKfQogICAgICAgICAgICAgICAgKS5hZGRUbyhtYXBfNTlmMDI4ZTU3MjNiNDk1N2E1Y2YyYjY2MjQ0MWU3MzIpOwogICAgICAgICAgICAKICAgIAogICAgICAgICAgICB2YXIgcG9wdXBfOWRjYjI3MWEyN2U2NDYyZDkxOGFkY2ExZGZlNGMyMzEgPSBMLnBvcHVwKHttYXhXaWR0aDogJzMwMCd9KTsKCiAgICAgICAgICAgIAogICAgICAgICAgICAgICAgdmFyIGh0bWxfNjZkY2Q0NDM0ZGM4NDBlZjlmMGU2ZGUwODg0NjZhNjQgPSAkKCc8ZGl2IGlkPSJodG1sXzY2ZGNkNDQzNGRjODQwZWY5ZjBlNmRlMDg4NDY2YTY0IiBzdHlsZT0id2lkdGg6IDEwMC4wJTsgaGVpZ2h0OiAxMDAuMCU7Ij5NYXJrZXQgTmFtZTogU2FjcmFtZW50bzxicj4gV2FsayBTY29yZTogODYuMDxicj4gVmFjYW5jeSU6IDExLjY8L2Rpdj4nKVswXTsKICAgICAgICAgICAgICAgIHBvcHVwXzlkY2IyNzFhMjdlNjQ2MmQ5MThhZGNhMWRmZTRjMjMxLnNldENvbnRlbnQoaHRtbF82NmRjZDQ0MzRkYzg0MGVmOWYwZTZkZTA4ODQ2NmE2NCk7CiAgICAgICAgICAgIAoKICAgICAgICAgICAgY2lyY2xlX21hcmtlcl81ZDg1NmI3ZDM4NDE0NWUyYjYxODg2OGU2ZmE2Y2Q2Mi5iaW5kUG9wdXAocG9wdXBfOWRjYjI3MWEyN2U2NDYyZDkxOGFkY2ExZGZlNGMyMzEpOwoKICAgICAgICAgICAgCiAgICAgICAgCiAgICAKICAgICAgICAgICAgdmFyIGNpcmNsZV9tYXJrZXJfODgwZjE2NzU4ZTZjNDRjNmJlOWMzOWQwYzkzMGNkMjMgPSBMLmNpcmNsZU1hcmtlcigKICAgICAgICAgICAgICAgIFszOC41NjY2LC0xMjEuNDY4XSwKICAgICAgICAgICAgICAgIHsKICAiYnViYmxpbmdNb3VzZUV2ZW50cyI6IHRydWUsCiAgImNvbG9yIjogIiNEQUY3QTYiLAogICJkYXNoQXJyYXkiOiBudWxsLAogICJkYXNoT2Zmc2V0IjogbnVsbCwKICAiZmlsbCI6IHRydWUsCiAgImZpbGxDb2xvciI6ICIjREFGN0E2IiwKICAiZmlsbE9wYWNpdHkiOiAwLjIsCiAgImZpbGxSdWxlIjogImV2ZW5vZGQiLAogICJsaW5lQ2FwIjogInJvdW5kIiwKICAibGluZUpvaW4iOiAicm91bmQiLAogICJvcGFjaXR5IjogMS4wLAogICJyYWRpdXMiOiAxLAogICJzdHJva2UiOiB0cnVlLAogICJ3ZWlnaHQiOiAzCn0KICAgICAgICAgICAgICAgICkuYWRkVG8obWFwXzU5ZjAyOGU1NzIzYjQ5NTdhNWNmMmI2NjI0NDFlNzMyKTsKICAgICAgICAgICAgCiAgICAKICAgICAgICAgICAgdmFyIHBvcHVwXzlkNGVjNDA5YWY1ZjRiNmFiOTM4MzMyMGRhYWIwMGI3ID0gTC5wb3B1cCh7bWF4V2lkdGg6ICczMDAnfSk7CgogICAgICAgICAgICAKICAgICAgICAgICAgICAgIHZhciBodG1sXzE2Y2YxZDA1ZDdmMDQ0NGE5MDlkNjI0MWQ5YzI0MjQyID0gJCgnPGRpdiBpZD0iaHRtbF8xNmNmMWQwNWQ3ZjA0NDRhOTA5ZDYyNDFkOWMyNDI0MiIgc3R5bGU9IndpZHRoOiAxMDAuMCU7IGhlaWdodDogMTAwLjAlOyI+TWFya2V0IE5hbWU6IFNhY3JhbWVudG88YnI+IFdhbGsgU2NvcmU6IDg2LjA8YnI+IFZhY2FuY3klOiAxMS42PC9kaXY+JylbMF07CiAgICAgICAgICAgICAgICBwb3B1cF85ZDRlYzQwOWFmNWY0YjZhYjkzODMzMjBkYWFiMDBiNy5zZXRDb250ZW50KGh0bWxfMTZjZjFkMDVkN2YwNDQ0YTkwOWQ2MjQxZDljMjQyNDIpOwogICAgICAgICAgICAKCiAgICAgICAgICAgIGNpcmNsZV9tYXJrZXJfODgwZjE2NzU4ZTZjNDRjNmJlOWMzOWQwYzkzMGNkMjMuYmluZFBvcHVwKHBvcHVwXzlkNGVjNDA5YWY1ZjRiNmFiOTM4MzMyMGRhYWIwMGI3KTsKCiAgICAgICAgICAgIAogICAgICAgIAogICAgCiAgICAgICAgICAgIHZhciBjaXJjbGVfbWFya2VyXzkyOTkzMzAyOTdlYzQwNDA4ZGEyMjU5NmU1M2NmOTk5ID0gTC5jaXJjbGVNYXJrZXIoCiAgICAgICAgICAgICAgICBbNDMuMDY0MSwtODcuOTY3Ml0sCiAgICAgICAgICAgICAgICB7CiAgImJ1YmJsaW5nTW91c2VFdmVudHMiOiB0cnVlLAogICJjb2xvciI6ICIjMzM4OGZmIiwKICAiZGFzaEFycmF5IjogbnVsbCwKICAiZGFzaE9mZnNldCI6IG51bGwsCiAgImZpbGwiOiB0cnVlLAogICJmaWxsQ29sb3IiOiAiIzMzODhmZiIsCiAgImZpbGxPcGFjaXR5IjogMC4yLAogICJmaWxsUnVsZSI6ICJldmVub2RkIiwKICAibGluZUNhcCI6ICJyb3VuZCIsCiAgImxpbmVKb2luIjogInJvdW5kIiwKICAib3BhY2l0eSI6IDEuMCwKICAicmFkaXVzIjogMTguMCwKICAic3Ryb2tlIjogdHJ1ZSwKICAid2VpZ2h0IjogMwp9CiAgICAgICAgICAgICAgICApLmFkZFRvKG1hcF81OWYwMjhlNTcyM2I0OTU3YTVjZjJiNjYyNDQxZTczMik7CiAgICAgICAgICAgIAogICAgCiAgICAgICAgICAgIHZhciBwb3B1cF84NjhiMzk4NDE0ZWI0YzlmODhlZTRkZGE0MjA4MzFlYyA9IEwucG9wdXAoe21heFdpZHRoOiAnMzAwJ30pOwoKICAgICAgICAgICAgCiAgICAgICAgICAgICAgICB2YXIgaHRtbF8wYWJjNDQ1MzMzZTA0ZmVjOWY1MTYzN2NmMWVhOTM0NSA9ICQoJzxkaXYgaWQ9Imh0bWxfMGFiYzQ0NTMzM2UwNGZlYzlmNTE2MzdjZjFlYTkzNDUiIHN0eWxlPSJ3aWR0aDogMTAwLjAlOyBoZWlnaHQ6IDEwMC4wJTsiPk1hcmtldCBOYW1lOiBNaWx3YXVrZWU8YnI+IFdhbGsgU2NvcmU6IDcyLjA8YnI+IFZhY2FuY3klOiAxNy44PC9kaXY+JylbMF07CiAgICAgICAgICAgICAgICBwb3B1cF84NjhiMzk4NDE0ZWI0YzlmODhlZTRkZGE0MjA4MzFlYy5zZXRDb250ZW50KGh0bWxfMGFiYzQ0NTMzM2UwNGZlYzlmNTE2MzdjZjFlYTkzNDUpOwogICAgICAgICAgICAKCiAgICAgICAgICAgIGNpcmNsZV9tYXJrZXJfOTI5OTMzMDI5N2VjNDA0MDhkYTIyNTk2ZTUzY2Y5OTkuYmluZFBvcHVwKHBvcHVwXzg2OGIzOTg0MTRlYjRjOWY4OGVlNGRkYTQyMDgzMWVjKTsKCiAgICAgICAgICAgIAogICAgICAgIAogICAgCiAgICAgICAgICAgIHZhciBjaXJjbGVfbWFya2VyXzI5Mjc5N2VkM2JiOTQ1YWU4Y2M1MjJiNGVmOTYwNDM1ID0gTC5jaXJjbGVNYXJrZXIoCiAgICAgICAgICAgICAgICBbNDMuMDY0MSwtODcuOTY3Ml0sCiAgICAgICAgICAgICAgICB7CiAgImJ1YmJsaW5nTW91c2VFdmVudHMiOiB0cnVlLAogICJjb2xvciI6ICIjRjk1QzAyIiwKICAiZGFzaEFycmF5IjogbnVsbCwKICAiZGFzaE9mZnNldCI6IG51bGwsCiAgImZpbGwiOiB0cnVlLAogICJmaWxsQ29sb3IiOiAiI0Y5NUMwMiIsCiAgImZpbGxPcGFjaXR5IjogMC4yLAogICJmaWxsUnVsZSI6ICJldmVub2RkIiwKICAibGluZUNhcCI6ICJyb3VuZCIsCiAgImxpbmVKb2luIjogInJvdW5kIiwKICAib3BhY2l0eSI6IDEuMCwKICAicmFkaXVzIjogMSwKICAic3Ryb2tlIjogdHJ1ZSwKICAid2VpZ2h0IjogMwp9CiAgICAgICAgICAgICAgICApLmFkZFRvKG1hcF81OWYwMjhlNTcyM2I0OTU3YTVjZjJiNjYyNDQxZTczMik7CiAgICAgICAgICAgIAogICAgCiAgICAgICAgICAgIHZhciBwb3B1cF85NzIxZTJlNTBkZDA0YTI3OGRmY2NhOGZmNjlkYTY3YSA9IEwucG9wdXAoe21heFdpZHRoOiAnMzAwJ30pOwoKICAgICAgICAgICAgCiAgICAgICAgICAgICAgICB2YXIgaHRtbF9jODhhZWZhNjVlNzM0NTQyOWU1ZmVkYWNjZWNjMmRmMCA9ICQoJzxkaXYgaWQ9Imh0bWxfYzg4YWVmYTY1ZTczNDU0MjllNWZlZGFjY2VjYzJkZjAiIHN0eWxlPSJ3aWR0aDogMTAwLjAlOyBoZWlnaHQ6IDEwMC4wJTsiPk1hcmtldCBOYW1lOiBNaWx3YXVrZWU8YnI+IFdhbGsgU2NvcmU6IDcyLjA8YnI+IFZhY2FuY3klOiAxNy44PC9kaXY+JylbMF07CiAgICAgICAgICAgICAgICBwb3B1cF85NzIxZTJlNTBkZDA0YTI3OGRmY2NhOGZmNjlkYTY3YS5zZXRDb250ZW50KGh0bWxfYzg4YWVmYTY1ZTczNDU0MjllNWZlZGFjY2VjYzJkZjApOwogICAgICAgICAgICAKCiAgICAgICAgICAgIGNpcmNsZV9tYXJrZXJfMjkyNzk3ZWQzYmI5NDVhZThjYzUyMmI0ZWY5NjA0MzUuYmluZFBvcHVwKHBvcHVwXzk3MjFlMmU1MGRkMDRhMjc4ZGZjY2E4ZmY2OWRhNjdhKTsKCiAgICAgICAgICAgIAogICAgICAgIAogICAgCiAgICAgICAgICAgIHZhciBjaXJjbGVfbWFya2VyXzA4NzIxNjRmNmUxZjQ3ODg4NmY1OGJjYTYzY2I0ZmQwID0gTC5jaXJjbGVNYXJrZXIoCiAgICAgICAgICAgICAgICBbMjkuOTYzMywtOTAuMDQ5NF0sCiAgICAgICAgICAgICAgICB7CiAgImJ1YmJsaW5nTW91c2VFdmVudHMiOiB0cnVlLAogICJjb2xvciI6ICIjMzM4OGZmIiwKICAiZGFzaEFycmF5IjogbnVsbCwKICAiZGFzaE9mZnNldCI6IG51bGwsCiAgImZpbGwiOiB0cnVlLAogICJmaWxsQ29sb3IiOiAiIzMzODhmZiIsCiAgImZpbGxPcGFjaXR5IjogMC4yLAogICJmaWxsUnVsZSI6ICJldmVub2RkIiwKICAibGluZUNhcCI6ICJyb3VuZCIsCiAgImxpbmVKb2luIjogInJvdW5kIiwKICAib3BhY2l0eSI6IDEuMCwKICAicmFkaXVzIjogMjEuNSwKICAic3Ryb2tlIjogdHJ1ZSwKICAid2VpZ2h0IjogMwp9CiAgICAgICAgICAgICAgICApLmFkZFRvKG1hcF81OWYwMjhlNTcyM2I0OTU3YTVjZjJiNjYyNDQxZTczMik7CiAgICAgICAgICAgIAogICAgCiAgICAgICAgICAgIHZhciBwb3B1cF9hMjllNmY5NDVmZjU0ZThiYmE0Yjc2MDE1ZjIyZTIzZCA9IEwucG9wdXAoe21heFdpZHRoOiAnMzAwJ30pOwoKICAgICAgICAgICAgCiAgICAgICAgICAgICAgICB2YXIgaHRtbF80NDFlYTkyOWY2OTc0MDFjOWM3MWQyZDhlY2Q1MTEyNCA9ICQoJzxkaXYgaWQ9Imh0bWxfNDQxZWE5MjlmNjk3NDAxYzljNzFkMmQ4ZWNkNTExMjQiIHN0eWxlPSJ3aWR0aDogMTAwLjAlOyBoZWlnaHQ6IDEwMC4wJTsiPk1hcmtldCBOYW1lOiBOZXcgT3JsZWFuczxicj4gV2FsayBTY29yZTogODYuMDxicj4gVmFjYW5jeSU6IDExLjA8L2Rpdj4nKVswXTsKICAgICAgICAgICAgICAgIHBvcHVwX2EyOWU2Zjk0NWZmNTRlOGJiYTRiNzYwMTVmMjJlMjNkLnNldENvbnRlbnQoaHRtbF80NDFlYTkyOWY2OTc0MDFjOWM3MWQyZDhlY2Q1MTEyNCk7CiAgICAgICAgICAgIAoKICAgICAgICAgICAgY2lyY2xlX21hcmtlcl8wODcyMTY0ZjZlMWY0Nzg4ODZmNThiY2E2M2NiNGZkMC5iaW5kUG9wdXAocG9wdXBfYTI5ZTZmOTQ1ZmY1NGU4YmJhNGI3NjAxNWYyMmUyM2QpOwoKICAgICAgICAgICAgCiAgICAgICAgCiAgICAKICAgICAgICAgICAgdmFyIGNpcmNsZV9tYXJrZXJfZGFlYmM1YjMyZTQ5NDc1Yjk2OTI2YTA1NWMxZDIyZjYgPSBMLmNpcmNsZU1hcmtlcigKICAgICAgICAgICAgICAgIFsyOS45NjMzLC05MC4wNDk0XSwKICAgICAgICAgICAgICAgIHsKICAiYnViYmxpbmdNb3VzZUV2ZW50cyI6IHRydWUsCiAgImNvbG9yIjogIiNEQUY3QTYiLAogICJkYXNoQXJyYXkiOiBudWxsLAogICJkYXNoT2Zmc2V0IjogbnVsbCwKICAiZmlsbCI6IHRydWUsCiAgImZpbGxDb2xvciI6ICIjREFGN0E2IiwKICAiZmlsbE9wYWNpdHkiOiAwLjIsCiAgImZpbGxSdWxlIjogImV2ZW5vZGQiLAogICJsaW5lQ2FwIjogInJvdW5kIiwKICAibGluZUpvaW4iOiAicm91bmQiLAogICJvcGFjaXR5IjogMS4wLAogICJyYWRpdXMiOiAxLAogICJzdHJva2UiOiB0cnVlLAogICJ3ZWlnaHQiOiAzCn0KICAgICAgICAgICAgICAgICkuYWRkVG8obWFwXzU5ZjAyOGU1NzIzYjQ5NTdhNWNmMmI2NjI0NDFlNzMyKTsKICAgICAgICAgICAgCiAgICAKICAgICAgICAgICAgdmFyIHBvcHVwX2YwMjc5MTVmNWJkZDRkNzU4YjNmMjUxYjNkZjNjM2E0ID0gTC5wb3B1cCh7bWF4V2lkdGg6ICczMDAnfSk7CgogICAgICAgICAgICAKICAgICAgICAgICAgICAgIHZhciBodG1sX2Y2NDY5ZGQ2ZDZhZTQ2NjU4MzJhY2UzYjQ0M2NkMjk3ID0gJCgnPGRpdiBpZD0iaHRtbF9mNjQ2OWRkNmQ2YWU0NjY1ODMyYWNlM2I0NDNjZDI5NyIgc3R5bGU9IndpZHRoOiAxMDAuMCU7IGhlaWdodDogMTAwLjAlOyI+TWFya2V0IE5hbWU6IE5ldyBPcmxlYW5zPGJyPiBXYWxrIFNjb3JlOiA4Ni4wPGJyPiBWYWNhbmN5JTogMTEuMDwvZGl2PicpWzBdOwogICAgICAgICAgICAgICAgcG9wdXBfZjAyNzkxNWY1YmRkNGQ3NThiM2YyNTFiM2RmM2MzYTQuc2V0Q29udGVudChodG1sX2Y2NDY5ZGQ2ZDZhZTQ2NjU4MzJhY2UzYjQ0M2NkMjk3KTsKICAgICAgICAgICAgCgogICAgICAgICAgICBjaXJjbGVfbWFya2VyX2RhZWJjNWIzMmU0OTQ3NWI5NjkyNmEwNTVjMWQyMmY2LmJpbmRQb3B1cChwb3B1cF9mMDI3OTE1ZjViZGQ0ZDc1OGIzZjI1MWIzZGYzYzNhNCk7CgogICAgICAgICAgICAKICAgICAgICAKICAgIAogICAgICAgICAgICB2YXIgY2lyY2xlX21hcmtlcl9iMzE5MmM5ZGI3ZTE0NzU0YWZhMTBjZGNiZTAzNDg0NCA9IEwuY2lyY2xlTWFya2VyKAogICAgICAgICAgICAgICAgWzM3LjUyOTQsLTc3LjQ3NTZdLAogICAgICAgICAgICAgICAgewogICJidWJibGluZ01vdXNlRXZlbnRzIjogdHJ1ZSwKICAiY29sb3IiOiAiIzMzODhmZiIsCiAgImRhc2hBcnJheSI6IG51bGwsCiAgImRhc2hPZmZzZXQiOiBudWxsLAogICJmaWxsIjogdHJ1ZSwKICAiZmlsbENvbG9yIjogIiMzMzg4ZmYiLAogICJmaWxsT3BhY2l0eSI6IDAuMiwKICAiZmlsbFJ1bGUiOiAiZXZlbm9kZCIsCiAgImxpbmVDYXAiOiAicm91bmQiLAogICJsaW5lSm9pbiI6ICJyb3VuZCIsCiAgIm9wYWNpdHkiOiAxLjAsCiAgInJhZGl1cyI6IDAuMjUsCiAgInN0cm9rZSI6IHRydWUsCiAgIndlaWdodCI6IDMKfQogICAgICAgICAgICAgICAgKS5hZGRUbyhtYXBfNTlmMDI4ZTU3MjNiNDk1N2E1Y2YyYjY2MjQ0MWU3MzIpOwogICAgICAgICAgICAKICAgIAogICAgICAgICAgICB2YXIgcG9wdXBfYWQzODE0Yjg2ZmI4NGFhMjlkM2I0YjNjMDhlZTdiOGIgPSBMLnBvcHVwKHttYXhXaWR0aDogJzMwMCd9KTsKCiAgICAgICAgICAgIAogICAgICAgICAgICAgICAgdmFyIGh0bWxfZWQzODg2Y2NjNzE3NDNjMzg1ZDYzNGJkYTE0MGU2YjMgPSAkKCc8ZGl2IGlkPSJodG1sX2VkMzg4NmNjYzcxNzQzYzM4NWQ2MzRiZGExNDBlNmIzIiBzdHlsZT0id2lkdGg6IDEwMC4wJTsgaGVpZ2h0OiAxMDAuMCU7Ij5NYXJrZXQgTmFtZTogUmljaG1vbmQ8YnI+IFdhbGsgU2NvcmU6IDEuMDxicj4gVmFjYW5jeSU6IDExLjM8L2Rpdj4nKVswXTsKICAgICAgICAgICAgICAgIHBvcHVwX2FkMzgxNGI4NmZiODRhYTI5ZDNiNGIzYzA4ZWU3YjhiLnNldENvbnRlbnQoaHRtbF9lZDM4ODZjY2M3MTc0M2MzODVkNjM0YmRhMTQwZTZiMyk7CiAgICAgICAgICAgIAoKICAgICAgICAgICAgY2lyY2xlX21hcmtlcl9iMzE5MmM5ZGI3ZTE0NzU0YWZhMTBjZGNiZTAzNDg0NC5iaW5kUG9wdXAocG9wdXBfYWQzODE0Yjg2ZmI4NGFhMjlkM2I0YjNjMDhlZTdiOGIpOwoKICAgICAgICAgICAgCiAgICAgICAgCiAgICAKICAgICAgICAgICAgdmFyIGNpcmNsZV9tYXJrZXJfMDdkMDBmNTg0ZDgwNDI0ODg0YjA4YTBjNDUyYTA3NjIgPSBMLmNpcmNsZU1hcmtlcigKICAgICAgICAgICAgICAgIFszNy41Mjk0LC03Ny40NzU2XSwKICAgICAgICAgICAgICAgIHsKICAiYnViYmxpbmdNb3VzZUV2ZW50cyI6IHRydWUsCiAgImNvbG9yIjogIiNEQUY3QTYiLAogICJkYXNoQXJyYXkiOiBudWxsLAogICJkYXNoT2Zmc2V0IjogbnVsbCwKICAiZmlsbCI6IHRydWUsCiAgImZpbGxDb2xvciI6ICIjREFGN0E2IiwKICAiZmlsbE9wYWNpdHkiOiAwLjIsCiAgImZpbGxSdWxlIjogImV2ZW5vZGQiLAogICJsaW5lQ2FwIjogInJvdW5kIiwKICAibGluZUpvaW4iOiAicm91bmQiLAogICJvcGFjaXR5IjogMS4wLAogICJyYWRpdXMiOiAxLAogICJzdHJva2UiOiB0cnVlLAogICJ3ZWlnaHQiOiAzCn0KICAgICAgICAgICAgICAgICkuYWRkVG8obWFwXzU5ZjAyOGU1NzIzYjQ5NTdhNWNmMmI2NjI0NDFlNzMyKTsKICAgICAgICAgICAgCiAgICAKICAgICAgICAgICAgdmFyIHBvcHVwX2MwYWNiYWI2Mjc5MTQwNDZiNDQzZjU2YWU1MjlhMTBiID0gTC5wb3B1cCh7bWF4V2lkdGg6ICczMDAnfSk7CgogICAgICAgICAgICAKICAgICAgICAgICAgICAgIHZhciBodG1sX2ZjMmVmNTQ4MjQ0ZDQ3NTU5ZDViNzY2YWJiYTY2OGU3ID0gJCgnPGRpdiBpZD0iaHRtbF9mYzJlZjU0ODI0NGQ0NzU1OWQ1Yjc2NmFiYmE2NjhlNyIgc3R5bGU9IndpZHRoOiAxMDAuMCU7IGhlaWdodDogMTAwLjAlOyI+TWFya2V0IE5hbWU6IFJpY2htb25kPGJyPiBXYWxrIFNjb3JlOiAxLjA8YnI+IFZhY2FuY3klOiAxMS4zPC9kaXY+JylbMF07CiAgICAgICAgICAgICAgICBwb3B1cF9jMGFjYmFiNjI3OTE0MDQ2YjQ0M2Y1NmFlNTI5YTEwYi5zZXRDb250ZW50KGh0bWxfZmMyZWY1NDgyNDRkNDc1NTlkNWI3NjZhYmJhNjY4ZTcpOwogICAgICAgICAgICAKCiAgICAgICAgICAgIGNpcmNsZV9tYXJrZXJfMDdkMDBmNTg0ZDgwNDI0ODg0YjA4YTBjNDUyYTA3NjIuYmluZFBvcHVwKHBvcHVwX2MwYWNiYWI2Mjc5MTQwNDZiNDQzZjU2YWU1MjlhMTBiKTsKCiAgICAgICAgICAgIAogICAgICAgIAogICAgCiAgICAgICAgICAgIHZhciBjaXJjbGVfbWFya2VyXzNlNDY1YWU4YjZhMjQ2OWM4YTliODJhYzhmZWVmZWJlID0gTC5jaXJjbGVNYXJrZXIoCiAgICAgICAgICAgICAgICBbMzAuMzM3LC04MS42NjAyXSwKICAgICAgICAgICAgICAgIHsKICAiYnViYmxpbmdNb3VzZUV2ZW50cyI6IHRydWUsCiAgImNvbG9yIjogIiMzMzg4ZmYiLAogICJkYXNoQXJyYXkiOiBudWxsLAogICJkYXNoT2Zmc2V0IjogbnVsbCwKICAiZmlsbCI6IHRydWUsCiAgImZpbGxDb2xvciI6ICIjMzM4OGZmIiwKICAiZmlsbE9wYWNpdHkiOiAwLjIsCiAgImZpbGxSdWxlIjogImV2ZW5vZGQiLAogICJsaW5lQ2FwIjogInJvdW5kIiwKICAibGluZUpvaW4iOiAicm91bmQiLAogICJvcGFjaXR5IjogMS4wLAogICJyYWRpdXMiOiAxNS4wLAogICJzdHJva2UiOiB0cnVlLAogICJ3ZWlnaHQiOiAzCn0KICAgICAgICAgICAgICAgICkuYWRkVG8obWFwXzU5ZjAyOGU1NzIzYjQ5NTdhNWNmMmI2NjI0NDFlNzMyKTsKICAgICAgICAgICAgCiAgICAKICAgICAgICAgICAgdmFyIHBvcHVwXzJmMjhiNWQyZTkyOTQyNWE5NmVjMmNkYjBiYjIyMWE0ID0gTC5wb3B1cCh7bWF4V2lkdGg6ICczMDAnfSk7CgogICAgICAgICAgICAKICAgICAgICAgICAgICAgIHZhciBodG1sXzkxYTA1ODEzYzI5OTRmZWM4MGMyMGFjMTI3M2ZmZWNhID0gJCgnPGRpdiBpZD0iaHRtbF85MWEwNTgxM2MyOTk0ZmVjODBjMjBhYzEyNzNmZmVjYSIgc3R5bGU9IndpZHRoOiAxMDAuMCU7IGhlaWdodDogMTAwLjAlOyI+TWFya2V0IE5hbWU6IEphY2tzb252aWxsZTxicj4gV2FsayBTY29yZTogNjAuMDxicj4gVmFjYW5jeSU6IDEyLjM8L2Rpdj4nKVswXTsKICAgICAgICAgICAgICAgIHBvcHVwXzJmMjhiNWQyZTkyOTQyNWE5NmVjMmNkYjBiYjIyMWE0LnNldENvbnRlbnQoaHRtbF85MWEwNTgxM2MyOTk0ZmVjODBjMjBhYzEyNzNmZmVjYSk7CiAgICAgICAgICAgIAoKICAgICAgICAgICAgY2lyY2xlX21hcmtlcl8zZTQ2NWFlOGI2YTI0NjljOGE5YjgyYWM4ZmVlZmViZS5iaW5kUG9wdXAocG9wdXBfMmYyOGI1ZDJlOTI5NDI1YTk2ZWMyY2RiMGJiMjIxYTQpOwoKICAgICAgICAgICAgCiAgICAgICAgCiAgICAKICAgICAgICAgICAgdmFyIGNpcmNsZV9tYXJrZXJfOGY2OTY5NTBjZWUyNGIwYTkzMWNiMGI4NWQyYjM4NTYgPSBMLmNpcmNsZU1hcmtlcigKICAgICAgICAgICAgICAgIFszMC4zMzcsLTgxLjY2MDJdLAogICAgICAgICAgICAgICAgewogICJidWJibGluZ01vdXNlRXZlbnRzIjogdHJ1ZSwKICAiY29sb3IiOiAiI0ZGQzMwMCIsCiAgImRhc2hBcnJheSI6IG51bGwsCiAgImRhc2hPZmZzZXQiOiBudWxsLAogICJmaWxsIjogdHJ1ZSwKICAiZmlsbENvbG9yIjogIiNGRkMzMDAiLAogICJmaWxsT3BhY2l0eSI6IDAuMiwKICAiZmlsbFJ1bGUiOiAiZXZlbm9kZCIsCiAgImxpbmVDYXAiOiAicm91bmQiLAogICJsaW5lSm9pbiI6ICJyb3VuZCIsCiAgIm9wYWNpdHkiOiAxLjAsCiAgInJhZGl1cyI6IDEsCiAgInN0cm9rZSI6IHRydWUsCiAgIndlaWdodCI6IDMKfQogICAgICAgICAgICAgICAgKS5hZGRUbyhtYXBfNTlmMDI4ZTU3MjNiNDk1N2E1Y2YyYjY2MjQ0MWU3MzIpOwogICAgICAgICAgICAKICAgIAogICAgICAgICAgICB2YXIgcG9wdXBfZTgxZWM1MzFiNzRlNGM3ZWI0MTNmMDVlZjFjNzFkOTUgPSBMLnBvcHVwKHttYXhXaWR0aDogJzMwMCd9KTsKCiAgICAgICAgICAgIAogICAgICAgICAgICAgICAgdmFyIGh0bWxfZTEzOTZlNmI2YTQ2NDdhYWI0NzY0MTdlODliOTdiZWUgPSAkKCc8ZGl2IGlkPSJodG1sX2UxMzk2ZTZiNmE0NjQ3YWFiNDc2NDE3ZTg5Yjk3YmVlIiBzdHlsZT0id2lkdGg6IDEwMC4wJTsgaGVpZ2h0OiAxMDAuMCU7Ij5NYXJrZXQgTmFtZTogSmFja3NvbnZpbGxlPGJyPiBXYWxrIFNjb3JlOiA2MC4wPGJyPiBWYWNhbmN5JTogMTIuMzwvZGl2PicpWzBdOwogICAgICAgICAgICAgICAgcG9wdXBfZTgxZWM1MzFiNzRlNGM3ZWI0MTNmMDVlZjFjNzFkOTUuc2V0Q29udGVudChodG1sX2UxMzk2ZTZiNmE0NjQ3YWFiNDc2NDE3ZTg5Yjk3YmVlKTsKICAgICAgICAgICAgCgogICAgICAgICAgICBjaXJjbGVfbWFya2VyXzhmNjk2OTUwY2VlMjRiMGE5MzFjYjBiODVkMmIzODU2LmJpbmRQb3B1cChwb3B1cF9lODFlYzUzMWI3NGU0YzdlYjQxM2YwNWVmMWM3MWQ5NSk7CgogICAgICAgICAgICAKICAgICAgICAKPC9zY3JpcHQ+\" style=\"position:absolute;width:100%;height:100%;left:0;top:0;border:none !important;\" allowfullscreen webkitallowfullscreen mozallowfullscreen></iframe></div></div>"
      ],
      "text/plain": [
       "<folium.folium.Map at 0x1193be940>"
      ]
     },
     "execution_count": 303,
     "metadata": {},
     "output_type": "execute_result"
    }
   ],
   "source": [
    "folium_map"
   ]
  },
  {
   "cell_type": "markdown",
   "metadata": {
    "colab": {
     "autoexec": {
      "startup": false,
      "wait_interval": 0
     }
    },
    "colab_type": "code",
    "collapsed": true,
    "id": "0SBAUWm1Dv7P"
   },
   "source": [
    "#### 2.2.2 QGIS Visualization\n",
    "\n",
    "The visualization is done through PostgreSQL and QGIS. The detailed process is below,\n",
    "- Import the csv data into the postgreSQL.\n",
    "- Import the dataset into QGIS based on the connection with postgreSQL.\n",
    "- Define coordinate system using EPSG:4326 - WGS 84.\n",
    "- Define symbology and display and design the thematic map."
   ]
  },
  {
   "cell_type": "markdown",
   "metadata": {
    "colab": {
     "autoexec": {
      "startup": false,
      "wait_interval": 0
     }
    },
    "colab_type": "code",
    "collapsed": true,
    "id": "rYEW-A8fDv7Q"
   },
   "source": [
    "Below is the QGIS Visualization.\n",
    "\n",
    "![alt text](Market_Visualization_2.png \"Geospatial Visualization\")"
   ]
  },
  {
   "cell_type": "markdown",
   "metadata": {},
   "source": [
    "#### 2.2.3 WebGIS Portal Visualization\n",
    "\n",
    "Here I choose the CartoDB to directly visualize it. The process is straight forward and visualization is very dynamic.\n",
    "\n",
    "You could check the online visualization [here][].\n",
    "\n",
    "[here]: https://rz992.carto.com/builder/26302c14-ceda-494c-ac11-2028dfbd7ae0/embed \"WebGIS Visualization\"\n"
   ]
  },
  {
   "cell_type": "markdown",
   "metadata": {},
   "source": [
    "Below is the screenshot.\n",
    "\n",
    "![visual3](Output\\Market Analytics Visualization3.png \"Geospatial Visualization3\")"
   ]
  },
  {
   "cell_type": "markdown",
   "metadata": {
    "colab": {
     "autoexec": {
      "startup": false,
      "wait_interval": 0
     }
    },
    "colab_type": "code",
    "collapsed": true,
    "id": "Rv2Srcw1Dv7T"
   },
   "source": [
    "#### 2.2.4 Observation"
   ]
  },
  {
   "cell_type": "markdown",
   "metadata": {},
   "source": [
    "Based on the walkscore and vacancy geo visual, \n",
    "\n",
    "- The market vacancy spread within 24%, and usually the markets along the sea (especially eastern and western coast) have the lower rate than the markets inland. Great Lakes Region is the cluster of the markets with high vacancy.\n",
    "\n",
    "- The walk score in general is relative lower in the inland market than its in the coastal market. The markets which are clustered or nearby have the higher walk score compared to the standing-alone market.\n",
    "\n",
    "- Usually the markets clustered have the similarity in the vacancy dimension. One exception I identified is Austin-San Antonio-Huston which might be the potential to dive deep into for the market investment.\n",
    "\n",
    "- Usually the market with higher walk score will have the lower market vacancy.\n",
    "\n"
   ]
  },
  {
   "cell_type": "markdown",
   "metadata": {},
   "source": [
    "#### Extra"
   ]
  },
  {
   "cell_type": "markdown",
   "metadata": {},
   "source": [
    "Based on the three dimensions - Vacancy%, Total Inventory (SF), Asking Rent (USD/SF), we could estimate the potential supply and potential revenue in each market, which could help the company to identify and target the potentially beneficial market.\n",
    "\n",
    "                    Potential Revenue = Vacancy%*Total Inventory (SF)*Asking Rent (USD/SF)\n",
    "\n",
    "Below is the visualization for the potential revenue in each market. As what we could identify, the potential revenue is color coded and the vacancy is size coded. \n",
    "\n",
    "In order to understand our current markets, we could seperate the markets into three groups,\n",
    "- High potential Revenue with high vacancy, such as Austin, Atlanta, and Dallas\n",
    "- High potential Revenue with low vacancy, such as San Diego, Los Angeles,Boston\n",
    "- Low potential Revenue, such as Columbus,St. Louis,Milwaukee\n",
    "\n",
    "For the markets with high potential revenue and low vacancy, they are the markets that we built up and put efforts in  the past. They still could bring the potential revenue to us as the rent is relatively high, and we need to re-evaluate the market demand and consider to expand the capacity or not.\n",
    "\n",
    "For the markets with high potential revenue and high vacancy, they are the second tier or the markets we should target and put more efforts on. We should do more campaigns in those cities in order to get more revenue as well as try to reduce the cost based on the vacancy.\n"
   ]
  },
  {
   "cell_type": "markdown",
   "metadata": {},
   "source": [
    "![visual4](Output\\Market Analytics Visualization4.png \"Geospatial Visualization4\")"
   ]
  },
  {
   "cell_type": "markdown",
   "metadata": {},
   "source": [
    "### Part 3. Variable Relationships Exploration"
   ]
  },
  {
   "cell_type": "markdown",
   "metadata": {},
   "source": [
    "Plot the relationship between walk score and three real estate variables: inventory, vacancy, and asking rent (again using the tool of your choice). Discuss what patterns you see, if any, and briefly explain further steps you might take to explore this data."
   ]
  },
  {
   "cell_type": "code",
   "execution_count": 304,
   "metadata": {
    "collapsed": true
   },
   "outputs": [],
   "source": [
    "import matplotlib.pyplot as plt"
   ]
  },
  {
   "cell_type": "markdown",
   "metadata": {},
   "source": [
    "### 3.1 Features Overview"
   ]
  },
  {
   "cell_type": "code",
   "execution_count": 305,
   "metadata": {},
   "outputs": [
    {
     "data": {
      "text/html": [
       "<div>\n",
       "<style>\n",
       "    .dataframe thead tr:only-child th {\n",
       "        text-align: right;\n",
       "    }\n",
       "\n",
       "    .dataframe thead th {\n",
       "        text-align: left;\n",
       "    }\n",
       "\n",
       "    .dataframe tbody tr th {\n",
       "        vertical-align: top;\n",
       "    }\n",
       "</style>\n",
       "<table border=\"1\" class=\"dataframe\">\n",
       "  <thead>\n",
       "    <tr style=\"text-align: right;\">\n",
       "      <th></th>\n",
       "      <th>MARKET NAME</th>\n",
       "      <th>Total Inventory (SF)</th>\n",
       "      <th>Vacancy%</th>\n",
       "      <th>Asking Rent (USD/SF)</th>\n",
       "      <th>city</th>\n",
       "      <th>lat</th>\n",
       "      <th>lng</th>\n",
       "      <th>path_city</th>\n",
       "      <th>path_state</th>\n",
       "      <th>walkscore</th>\n",
       "    </tr>\n",
       "  </thead>\n",
       "  <tbody>\n",
       "    <tr>\n",
       "      <th>0</th>\n",
       "      <td>Philadelphia</td>\n",
       "      <td>135570108.0</td>\n",
       "      <td>12.7</td>\n",
       "      <td>26.43</td>\n",
       "      <td>Philadelphia</td>\n",
       "      <td>40.0076</td>\n",
       "      <td>-75.1340</td>\n",
       "      <td>Philadelphia</td>\n",
       "      <td>PA</td>\n",
       "      <td>75.0</td>\n",
       "    </tr>\n",
       "    <tr>\n",
       "      <th>1</th>\n",
       "      <td>Washington D.C.</td>\n",
       "      <td>332015221.0</td>\n",
       "      <td>16.2</td>\n",
       "      <td>41.34</td>\n",
       "      <td>Washington D.C.</td>\n",
       "      <td>38.9048</td>\n",
       "      <td>-77.0163</td>\n",
       "      <td>Washington D.C.</td>\n",
       "      <td>DC</td>\n",
       "      <td>91.0</td>\n",
       "    </tr>\n",
       "    <tr>\n",
       "      <th>2</th>\n",
       "      <td>Chicago</td>\n",
       "      <td>245753058.0</td>\n",
       "      <td>16.4</td>\n",
       "      <td>33.94</td>\n",
       "      <td>Chicago</td>\n",
       "      <td>41.8369</td>\n",
       "      <td>-87.6848</td>\n",
       "      <td>Chicago</td>\n",
       "      <td>IL</td>\n",
       "      <td>41.0</td>\n",
       "    </tr>\n",
       "    <tr>\n",
       "      <th>3</th>\n",
       "      <td>Detroit</td>\n",
       "      <td>67520823.0</td>\n",
       "      <td>18.9</td>\n",
       "      <td>19.16</td>\n",
       "      <td>Detroit</td>\n",
       "      <td>42.3834</td>\n",
       "      <td>-83.1024</td>\n",
       "      <td>Detroit</td>\n",
       "      <td>MI</td>\n",
       "      <td>37.0</td>\n",
       "    </tr>\n",
       "    <tr>\n",
       "      <th>4</th>\n",
       "      <td>Minneapolis</td>\n",
       "      <td>72718254.0</td>\n",
       "      <td>16.6</td>\n",
       "      <td>26.33</td>\n",
       "      <td>Minneapolis</td>\n",
       "      <td>44.9635</td>\n",
       "      <td>-93.2678</td>\n",
       "      <td>Minneapolis</td>\n",
       "      <td>MN</td>\n",
       "      <td>80.0</td>\n",
       "    </tr>\n",
       "  </tbody>\n",
       "</table>\n",
       "</div>"
      ],
      "text/plain": [
       "       MARKET NAME  Total Inventory (SF)  Vacancy%  Asking Rent (USD/SF)  \\\n",
       "0     Philadelphia           135570108.0      12.7                 26.43   \n",
       "1  Washington D.C.           332015221.0      16.2                 41.34   \n",
       "2          Chicago           245753058.0      16.4                 33.94   \n",
       "3          Detroit            67520823.0      18.9                 19.16   \n",
       "4      Minneapolis            72718254.0      16.6                 26.33   \n",
       "\n",
       "              city      lat      lng        path_city path_state  walkscore  \n",
       "0     Philadelphia  40.0076 -75.1340     Philadelphia         PA       75.0  \n",
       "1  Washington D.C.  38.9048 -77.0163  Washington D.C.         DC       91.0  \n",
       "2          Chicago  41.8369 -87.6848          Chicago         IL       41.0  \n",
       "3          Detroit  42.3834 -83.1024          Detroit         MI       37.0  \n",
       "4      Minneapolis  44.9635 -93.2678      Minneapolis         MN       80.0  "
      ]
     },
     "execution_count": 305,
     "metadata": {},
     "output_type": "execute_result"
    }
   ],
   "source": [
    "#import pandas_profiling\n",
    "#profile=pandas_profiling.ProfileReport(market_full)\n",
    "#profile.to_file(outputfile=\"myoutputfile.html\")\n",
    "\n",
    "market_full.head()"
   ]
  },
  {
   "cell_type": "code",
   "execution_count": 306,
   "metadata": {},
   "outputs": [
    {
     "data": {
      "text/html": [
       "<div>\n",
       "<style>\n",
       "    .dataframe thead tr:only-child th {\n",
       "        text-align: right;\n",
       "    }\n",
       "\n",
       "    .dataframe thead th {\n",
       "        text-align: left;\n",
       "    }\n",
       "\n",
       "    .dataframe tbody tr th {\n",
       "        vertical-align: top;\n",
       "    }\n",
       "</style>\n",
       "<table border=\"1\" class=\"dataframe\">\n",
       "  <thead>\n",
       "    <tr style=\"text-align: right;\">\n",
       "      <th></th>\n",
       "      <th>Total Inventory (SF)</th>\n",
       "      <th>Vacancy%</th>\n",
       "      <th>Asking Rent (USD/SF)</th>\n",
       "      <th>lat</th>\n",
       "      <th>lng</th>\n",
       "      <th>walkscore</th>\n",
       "    </tr>\n",
       "  </thead>\n",
       "  <tbody>\n",
       "    <tr>\n",
       "      <th>count</th>\n",
       "      <td>3.700000e+01</td>\n",
       "      <td>37.000000</td>\n",
       "      <td>37.000000</td>\n",
       "      <td>37.000000</td>\n",
       "      <td>37.000000</td>\n",
       "      <td>37.000000</td>\n",
       "    </tr>\n",
       "    <tr>\n",
       "      <th>mean</th>\n",
       "      <td>8.126841e+07</td>\n",
       "      <td>14.629730</td>\n",
       "      <td>27.897568</td>\n",
       "      <td>37.212412</td>\n",
       "      <td>-92.875499</td>\n",
       "      <td>62.797297</td>\n",
       "    </tr>\n",
       "    <tr>\n",
       "      <th>std</th>\n",
       "      <td>7.301468e+07</td>\n",
       "      <td>3.813927</td>\n",
       "      <td>10.345803</td>\n",
       "      <td>5.255447</td>\n",
       "      <td>15.544845</td>\n",
       "      <td>25.256864</td>\n",
       "    </tr>\n",
       "    <tr>\n",
       "      <th>min</th>\n",
       "      <td>1.520419e+07</td>\n",
       "      <td>9.000000</td>\n",
       "      <td>18.990000</td>\n",
       "      <td>25.775300</td>\n",
       "      <td>-122.650000</td>\n",
       "      <td>1.000000</td>\n",
       "    </tr>\n",
       "    <tr>\n",
       "      <th>25%</th>\n",
       "      <td>3.288863e+07</td>\n",
       "      <td>11.400000</td>\n",
       "      <td>20.110000</td>\n",
       "      <td>33.572400</td>\n",
       "      <td>-98.524700</td>\n",
       "      <td>47.000000</td>\n",
       "    </tr>\n",
       "    <tr>\n",
       "      <th>50%</th>\n",
       "      <td>5.186842e+07</td>\n",
       "      <td>14.200000</td>\n",
       "      <td>25.280000</td>\n",
       "      <td>38.635800</td>\n",
       "      <td>-87.684800</td>\n",
       "      <td>68.000000</td>\n",
       "    </tr>\n",
       "    <tr>\n",
       "      <th>75%</th>\n",
       "      <td>9.883481e+07</td>\n",
       "      <td>17.600000</td>\n",
       "      <td>30.800000</td>\n",
       "      <td>40.439600</td>\n",
       "      <td>-81.660200</td>\n",
       "      <td>86.000000</td>\n",
       "    </tr>\n",
       "    <tr>\n",
       "      <th>max</th>\n",
       "      <td>3.320152e+08</td>\n",
       "      <td>23.800000</td>\n",
       "      <td>74.640000</td>\n",
       "      <td>47.620200</td>\n",
       "      <td>-71.081500</td>\n",
       "      <td>95.000000</td>\n",
       "    </tr>\n",
       "  </tbody>\n",
       "</table>\n",
       "</div>"
      ],
      "text/plain": [
       "       Total Inventory (SF)   Vacancy%  Asking Rent (USD/SF)        lat  \\\n",
       "count          3.700000e+01  37.000000             37.000000  37.000000   \n",
       "mean           8.126841e+07  14.629730             27.897568  37.212412   \n",
       "std            7.301468e+07   3.813927             10.345803   5.255447   \n",
       "min            1.520419e+07   9.000000             18.990000  25.775300   \n",
       "25%            3.288863e+07  11.400000             20.110000  33.572400   \n",
       "50%            5.186842e+07  14.200000             25.280000  38.635800   \n",
       "75%            9.883481e+07  17.600000             30.800000  40.439600   \n",
       "max            3.320152e+08  23.800000             74.640000  47.620200   \n",
       "\n",
       "              lng  walkscore  \n",
       "count   37.000000  37.000000  \n",
       "mean   -92.875499  62.797297  \n",
       "std     15.544845  25.256864  \n",
       "min   -122.650000   1.000000  \n",
       "25%    -98.524700  47.000000  \n",
       "50%    -87.684800  68.000000  \n",
       "75%    -81.660200  86.000000  \n",
       "max    -71.081500  95.000000  "
      ]
     },
     "execution_count": 306,
     "metadata": {},
     "output_type": "execute_result"
    }
   ],
   "source": [
    "market_full.describe()"
   ]
  },
  {
   "cell_type": "code",
   "execution_count": 307,
   "metadata": {},
   "outputs": [
    {
     "data": {
      "image/png": "[encoded data removed]",
      "text/plain": [
       "<matplotlib.figure.Figure at 0x1195cb278>"
      ]
     },
     "metadata": {},
     "output_type": "display_data"
    }
   ],
   "source": [
    "fig=market_full.hist(figsize=(50, 40))\n",
    "draw=[x.title.set_size(36)for x in fig.ravel()]"
   ]
  },
  {
   "cell_type": "markdown",
   "metadata": {},
   "source": [
    "__Observation:__\n",
    "From the distribution on each varaible, we could see the total inventory and asking rent are right-skewed distributed and the walkscore is more left-skewed distributed. \n",
    "\n",
    "Other than showing each distribution seperately, I brought our targeted variables into the same histgram below, which provide the feeling on how they potentially impact each other."
   ]
  },
  {
   "cell_type": "code",
   "execution_count": 308,
   "metadata": {},
   "outputs": [
    {
     "data": {
      "image/png": "[encoded data removed]",
      "text/plain": [
       "<matplotlib.figure.Figure at 0x1198b6cf8>"
      ]
     },
     "metadata": {},
     "output_type": "display_data"
    }
   ],
   "source": [
    "plt.hist(market_full['Total Inventory (SF)']/5000000, alpha=0.4, label='Total Inventory (5*10^6 SF)')\n",
    "plt.hist(market_full['Vacancy%'], alpha=0.4, label='Vacancy%')\n",
    "plt.hist(market_full['walkscore'], alpha=0.4, label='walkscore')\n",
    "plt.hist(market_full['Asking Rent (USD/SF)'], alpha=0.4, label='Asking Rent (USD/SF)')\n",
    "plt.legend(loc='upper right')\n",
    "plt.title('Histogram of the Market Attributes')\n",
    "plt.show()"
   ]
  },
  {
   "cell_type": "markdown",
   "metadata": {},
   "source": [
    "### 3.2 Correlation Exploration"
   ]
  },
  {
   "cell_type": "code",
   "execution_count": 309,
   "metadata": {
    "scrolled": true
   },
   "outputs": [
    {
     "data": {
      "text/plain": [
       "<seaborn.axisgrid.PairGrid at 0x11c1335c0>"
      ]
     },
     "execution_count": 309,
     "metadata": {},
     "output_type": "execute_result"
    },
    {
     "data": {
      "image/png": "[encoded data removed]",
      "text/plain": [
       "<matplotlib.figure.Figure at 0x1197eec50>"
      ]
     },
     "metadata": {},
     "output_type": "display_data"
    }
   ],
   "source": [
    "sns.set(color_codes=True)\n",
    "sns.pairplot(market_full,size=2)"
   ]
  },
  {
   "cell_type": "markdown",
   "metadata": {},
   "source": [
    "From the dot charts above with the walkscore, there is not a clear trend bewteen walkscore and any other variables. But in general, there are more markets within 50-100 in walkscore. \n",
    "\n",
    "So, I will check out the correlation between variables and bring the heatmap in."
   ]
  },
  {
   "cell_type": "code",
   "execution_count": 310,
   "metadata": {},
   "outputs": [
    {
     "data": {
      "text/html": [
       "<div>\n",
       "<style>\n",
       "    .dataframe thead tr:only-child th {\n",
       "        text-align: right;\n",
       "    }\n",
       "\n",
       "    .dataframe thead th {\n",
       "        text-align: left;\n",
       "    }\n",
       "\n",
       "    .dataframe tbody tr th {\n",
       "        vertical-align: top;\n",
       "    }\n",
       "</style>\n",
       "<table border=\"1\" class=\"dataframe\">\n",
       "  <thead>\n",
       "    <tr style=\"text-align: right;\">\n",
       "      <th></th>\n",
       "      <th>Total Inventory (SF)</th>\n",
       "      <th>Vacancy%</th>\n",
       "      <th>Asking Rent (USD/SF)</th>\n",
       "      <th>lat</th>\n",
       "      <th>lng</th>\n",
       "      <th>walkscore</th>\n",
       "    </tr>\n",
       "  </thead>\n",
       "  <tbody>\n",
       "    <tr>\n",
       "      <th>Total Inventory (SF)</th>\n",
       "      <td>1.000000</td>\n",
       "      <td>0.185507</td>\n",
       "      <td>0.404653</td>\n",
       "      <td>0.097935</td>\n",
       "      <td>0.026946</td>\n",
       "      <td>0.031136</td>\n",
       "    </tr>\n",
       "    <tr>\n",
       "      <th>Vacancy%</th>\n",
       "      <td>0.185507</td>\n",
       "      <td>1.000000</td>\n",
       "      <td>-0.295993</td>\n",
       "      <td>0.002146</td>\n",
       "      <td>0.211827</td>\n",
       "      <td>-0.159287</td>\n",
       "    </tr>\n",
       "    <tr>\n",
       "      <th>Asking Rent (USD/SF)</th>\n",
       "      <td>0.404653</td>\n",
       "      <td>-0.295993</td>\n",
       "      <td>1.000000</td>\n",
       "      <td>-0.064046</td>\n",
       "      <td>-0.392661</td>\n",
       "      <td>0.244557</td>\n",
       "    </tr>\n",
       "    <tr>\n",
       "      <th>lat</th>\n",
       "      <td>0.097935</td>\n",
       "      <td>0.002146</td>\n",
       "      <td>-0.064046</td>\n",
       "      <td>1.000000</td>\n",
       "      <td>-0.094325</td>\n",
       "      <td>0.075193</td>\n",
       "    </tr>\n",
       "    <tr>\n",
       "      <th>lng</th>\n",
       "      <td>0.026946</td>\n",
       "      <td>0.211827</td>\n",
       "      <td>-0.392661</td>\n",
       "      <td>-0.094325</td>\n",
       "      <td>1.000000</td>\n",
       "      <td>0.000185</td>\n",
       "    </tr>\n",
       "    <tr>\n",
       "      <th>walkscore</th>\n",
       "      <td>0.031136</td>\n",
       "      <td>-0.159287</td>\n",
       "      <td>0.244557</td>\n",
       "      <td>0.075193</td>\n",
       "      <td>0.000185</td>\n",
       "      <td>1.000000</td>\n",
       "    </tr>\n",
       "  </tbody>\n",
       "</table>\n",
       "</div>"
      ],
      "text/plain": [
       "                      Total Inventory (SF)  Vacancy%  Asking Rent (USD/SF)  \\\n",
       "Total Inventory (SF)              1.000000  0.185507              0.404653   \n",
       "Vacancy%                          0.185507  1.000000             -0.295993   \n",
       "Asking Rent (USD/SF)              0.404653 -0.295993              1.000000   \n",
       "lat                               0.097935  0.002146             -0.064046   \n",
       "lng                               0.026946  0.211827             -0.392661   \n",
       "walkscore                         0.031136 -0.159287              0.244557   \n",
       "\n",
       "                           lat       lng  walkscore  \n",
       "Total Inventory (SF)  0.097935  0.026946   0.031136  \n",
       "Vacancy%              0.002146  0.211827  -0.159287  \n",
       "Asking Rent (USD/SF) -0.064046 -0.392661   0.244557  \n",
       "lat                   1.000000 -0.094325   0.075193  \n",
       "lng                  -0.094325  1.000000   0.000185  \n",
       "walkscore             0.075193  0.000185   1.000000  "
      ]
     },
     "execution_count": 310,
     "metadata": {},
     "output_type": "execute_result"
    }
   ],
   "source": [
    "corr=market_full.corr()\n",
    "corr"
   ]
  },
  {
   "cell_type": "code",
   "execution_count": null,
   "metadata": {},
   "outputs": [
    {
     "data": {
      "text/plain": [
       "<matplotlib.axes._subplots.AxesSubplot at 0x1190794a8>"
      ]
     },
     "execution_count": 311,
     "metadata": {},
     "output_type": "execute_result"
    },
    {
     "data": {
      "image/png": "[encoded data removed]",
      "text/plain": [
       "<matplotlib.figure.Figure at 0x110690550>"
      ]
     },
     "metadata": {},
     "output_type": "display_data"
    }
   ],
   "source": [
    "sns.heatmap(corr)"
   ]
  },
  {
   "cell_type": "markdown",
   "metadata": {},
   "source": [
    "__Observation:__\n",
    "As the heatmap represents, the pattern beween walkscore and other variables are more obvious. The walkscore is positively correlated with the asking rent, which means the rent is higher, the walkscore is higher. On the other hand, Vacancy is slightly and negatively related to the walkscore, which means that if the vacancy is higher, the walkscore will be lower. The total inventory here is not that relevant to the walkscore."
   ]
  },
  {
   "cell_type": "markdown",
   "metadata": {},
   "source": [
    "In order to represent and justify it visually, I tried the linear regression model below to visualize how each variable correlated with walkscore."
   ]
  },
  {
   "cell_type": "code",
   "execution_count": null,
   "metadata": {
    "collapsed": true
   },
   "outputs": [],
   "source": [
    "sns.set_style('whitegrid')\n",
    "sns.regplot(x='walkscore',y='Asking Rent (USD/SF)',data=market_full,ci =95,robust=True)"
   ]
  },
  {
   "cell_type": "code",
   "execution_count": null,
   "metadata": {
    "collapsed": true
   },
   "outputs": [],
   "source": [
    "sns.set_style('whitegrid')\n",
    "sns.regplot(x='walkscore',y='Vacancy%',data=market_full)"
   ]
  },
  {
   "cell_type": "code",
   "execution_count": null,
   "metadata": {
    "collapsed": true
   },
   "outputs": [],
   "source": [
    "sns.set_style('whitegrid')\n",
    "sns.regplot(x='walkscore',y='Total Inventory (SF)',data=market_full)"
   ]
  },
  {
   "cell_type": "markdown",
   "metadata": {},
   "source": [
    "### 3.3 Multivariants Plot"
   ]
  },
  {
   "cell_type": "markdown",
   "metadata": {},
   "source": [
    "Below instead of looking at two vairables, I plan to check out the multivariables charts in order to identify more patterns. \n",
    "\n",
    "(Tool: Tableau)\n",
    "![visual5](Output\\Part3_Chart1.png \"Exploreation Visualization\")\n"
   ]
  },
  {
   "cell_type": "markdown",
   "metadata": {},
   "source": [
    "At the same time, rather than showing all the markets in one plot, I group the market based on the walkscore in order to identify any potential pattern.\n",
    "\n",
    "![visual6](Output\\Part3_Chart2.png \"Exploreation Visualization2\")"
   ]
  },
  {
   "cell_type": "markdown",
   "metadata": {},
   "source": [
    "**Based on the chart above,** \n",
    "\n",
    "if we look at the markets with 90-100 walkscore, they generally have low vacancy, relative high rent price and small inventory. \n",
    "\n",
    "If we move to the markets with medium range of walkscore, the real estate features are varied. But the market with higher rent tend to have better walkscore. The vacancy start to varied and increase especially from the 80-90 walkscore group to 50-60 walkscore group.Addtionally, market with large inventory will start apprear in the medium range of walkscore group.\n",
    "\n",
    "For the market with walkscore (below 50), it tends to have low rent, high vacancy and varied inventory."
   ]
  },
  {
   "cell_type": "markdown",
   "metadata": {
    "collapsed": true
   },
   "source": [
    "### 3.4 Summary\n",
    "\n",
    "** Pattern **\n",
    "\n",
    "Based on the charts and statistics analysis, we could uncover some potential patterns among walkscore, vacancy, ask rent and total inventory.\n",
    "\n",
    "- If the markets'vacancy is extremely low, then the market tends to have higher walkscore.\n",
    "- If the market with extremely high asking rent, then the market tends to have higher walkscore.\n",
    "\n",
    "Based on the high/medium/low walkscore group,\n",
    "\n",
    "- Usually the high walkscore group is well-developed region or market,and they generally have low vacancy, relative high rent price and small inventory. \n",
    "\n",
    "- On the other hand, for the low walkscore group,the markets tend to have low rent, high vacancy and varied inventory.\n",
    "\n",
    "- With the medium walkscore group, the markets varied in the real estate features. But in general,the higher rent with lower vacancy tend to have higher walkscore."
   ]
  },
  {
   "cell_type": "markdown",
   "metadata": {
    "collapsed": true
   },
   "source": [
    "** Plan **\n",
    "\n",
    "In order to either justify my thoughts above or dive deep to fully understand the walkscore with other real estate features, it might be a good idea to implement multivariant regression model. Through that we could understand how the real estate features will reflect the walkscore through the coefficient or the feature importance. Also, it might be helpful for us to get the estimated walkscore based on the real estate features.\n"
   ]
  },
  {
   "cell_type": "code",
   "execution_count": null,
   "metadata": {
    "collapsed": true
   },
   "outputs": [],
   "source": []
  },
  {
   "cell_type": "code",
   "execution_count": null,
   "metadata": {
    "collapsed": true
   },
   "outputs": [],
   "source": []
  }
 ],
 "metadata": {
  "colab": {
   "default_view": {},
   "name": "Potential Market Analytics.ipynb",
   "provenance": [],
   "version": "0.3.2",
   "views": {}
  },
  "kernelspec": {
   "display_name": "Python [conda root]",
   "language": "python",
   "name": "conda-root-py"
  },
  "language_info": {
   "codemirror_mode": {
    "name": "ipython",
    "version": 3
   },
   "file_extension": ".py",
   "mimetype": "text/x-python",
   "name": "python",
   "nbconvert_exporter": "python",
   "pygments_lexer": "ipython3",
   "version": "3.6.1"
  }
 },
 "nbformat": 4,
 "nbformat_minor": 1
}
